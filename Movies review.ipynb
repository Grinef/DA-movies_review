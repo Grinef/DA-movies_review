{
 "cells": [
  {
   "cell_type": "markdown",
   "metadata": {
    "id": "sIfNaMOxgFyK"
   },
   "source": [
    "## Исследование данных о российском кинопрокате\n",
    "\n"
   ]
  },
  {
   "cell_type": "markdown",
   "metadata": {},
   "source": [
    "Целью исследования данных является обработка информации из двух источников: данных министерства культуры РФ и данных кинопоиска. Для выявления трендов на Российском рынке проката кино.\n",
    "\n",
    "Для выполнения цели необходимо выполнить следующий комплекс задач:\n",
    "    \n",
    "    1) Создать дата-фрейм с пригодными для предобработки данными\n",
    "    \n",
    "    2) Соединить данные, выполнить предобработку (преобразовать типы данных, заполнить пропуски, проработать дубликаты (явные и неявные), изучить числовые и категориальные данные, выявить аномальные значения);\n",
    "        \n",
    "        2.1) Добавить новые столбцы необходимые для дальнейшего анализа данных (столбец с информацией о годе проката, а именно, выделите год из даты премьеры фильма, столбцы с именем и фамилией главного режиссёра и основным жанром фильма, включающие первое значение в данных, столбец с долей государственной поддержки от общего бюджета фильма);\n",
    "        \n",
    "    3) Провести анализ получившихся данных, ответить на основные вопросы:\n",
    "        \n",
    "        3.1) Сколько фильмов выходило в прокат каждый год?\n",
    "        3.2) Какая долю составляют фильмы с указанной информацией о прокате в кинотеатрах? \n",
    "        3.3) Как эта доля менялась по годам?\n",
    "        3.4) Как менялась динамика проката по годам.\n",
    "        3.5) В каком году сумма сборов была минимальной? А максимальной?\n",
    "        3.6) Какова среднюю и медианная сумму сборов для каждого года? \n",
    "        3.7) Влияет ли возрастное ограничение аудитории («6+», «12+», «16+», «18+» и т. д.) на сборы фильма в прокате в период с 2015 по 2019 год? \n",
    "        3.8) Фильмы с каким возрастным ограничением собрали больше всего денег в прокате? \n",
    "        3.9) Меняется ли картина в зависимости от года? \n",
    "\n",
    "    4) Исследовать фильмы, которые получили гос. поддержку.\n",
    "    5) Сформировать общие выводы."
   ]
  },
  {
   "cell_type": "markdown",
   "metadata": {
    "id": "3bSlkCsbgFyL"
   },
   "source": [
    "### Шаг 1. Откройте файлы с данными и объедините их в один датафрейм. \n",
    "\n",
    "Объедините данные таким образом, чтобы все объекты из датасета `mkrf_movies` обязательно вошли в получившийся датафрейм. \n",
    "\n",
    "<div id=\"accordion\">\n",
    "    <div class=\"card\">\n",
    "        <div class=\"card-header\" id=\"headingThree\">\n",
    "            <button class=\"btn btn-link collapsed\" data-toggle=\"collapse\" data-target=\"#collapseHint_0\" aria-expanded=\"false\" aria-controls=\"collapseHint_0\">Подсказка</button>\n",
    "        </div>\n",
    "        <div id=\"collapseHint_0\" class=\"collapse\" aria-labelledby=\"headingThree\" data-parent=\"#accordion\">\n",
    "            <div class=\"card-body\">\n",
    "Обратите внимание на тип данных столбца, по которому будете соединять датафреймы. Тип данных этих столбцов должен быть одинаковым в обоих датафреймах.\n",
    "            </div>\n",
    "        </div>\n",
    "    </div>\n",
    "</div>"
   ]
  },
  {
   "cell_type": "code",
   "execution_count": 60,
   "metadata": {},
   "outputs": [],
   "source": [
    "import pandas as pd\n",
    "import matplotlib.pyplot as plt\n",
    "import re\n",
    "\n",
    "import os\n",
    "import warnings\n",
    "\n",
    "warnings.filterwarnings('ignore')\n",
    "os.chdir(r'C:\\Users\\Grine\\Desktop\\GitHub\\project_to_upload\\2. СБОРНЫЙ ПРОЕКТ 1')"
   ]
  },
  {
   "cell_type": "code",
   "execution_count": 61,
   "metadata": {
    "id": "dw87FlzMgFyM"
   },
   "outputs": [],
   "source": [
    "data_movies = pd.read_csv('mkrf_movies.csv') \n",
    "data_shows = pd.read_csv('mkrf_shows.csv')  "
   ]
  },
  {
   "cell_type": "code",
   "execution_count": 62,
   "metadata": {},
   "outputs": [
    {
     "name": "stdout",
     "output_type": "stream",
     "text": [
      "<class 'pandas.core.frame.DataFrame'>\n",
      "RangeIndex: 7486 entries, 0 to 7485\n",
      "Data columns (total 15 columns):\n",
      " #   Column                 Non-Null Count  Dtype  \n",
      "---  ------                 --------------  -----  \n",
      " 0   title                  7486 non-null   object \n",
      " 1   puNumber               7486 non-null   object \n",
      " 2   show_start_date        7486 non-null   object \n",
      " 3   type                   7486 non-null   object \n",
      " 4   film_studio            7468 non-null   object \n",
      " 5   production_country     7484 non-null   object \n",
      " 6   director               7477 non-null   object \n",
      " 7   producer               6918 non-null   object \n",
      " 8   age_restriction        7486 non-null   object \n",
      " 9   refundable_support     332 non-null    float64\n",
      " 10  nonrefundable_support  332 non-null    float64\n",
      " 11  budget                 332 non-null    float64\n",
      " 12  financing_source       332 non-null    object \n",
      " 13  ratings                6519 non-null   object \n",
      " 14  genres                 6510 non-null   object \n",
      "dtypes: float64(3), object(12)\n",
      "memory usage: 877.4+ KB\n",
      "<class 'pandas.core.frame.DataFrame'>\n",
      "RangeIndex: 3158 entries, 0 to 3157\n",
      "Data columns (total 2 columns):\n",
      " #   Column      Non-Null Count  Dtype  \n",
      "---  ------      --------------  -----  \n",
      " 0   puNumber    3158 non-null   int64  \n",
      " 1   box_office  3158 non-null   float64\n",
      "dtypes: float64(1), int64(1)\n",
      "memory usage: 49.5 KB\n"
     ]
    }
   ],
   "source": [
    "data_movies.info()\n",
    "data_shows.info()"
   ]
  },
  {
   "cell_type": "markdown",
   "metadata": {},
   "source": [
    "Совпадением является столбец \"puNumber\" - являющийся номером прокатного удостоврения. Однако есть 2 проблемы:\n",
    "    \n",
    "    1) дата-фреймы разных размеров;\n",
    "    2) у этих столбцов в разных таблицах разные типы данных;\n",
    "Необходимо изучить данные более подробно."
   ]
  },
  {
   "cell_type": "code",
   "execution_count": 63,
   "metadata": {},
   "outputs": [
    {
     "name": "stdout",
     "output_type": "stream",
     "text": [
      "Кол-во уникальных прокатных удостоверений в data_movies 7484\n",
      "Кол-во уникальных прокатных удостоверений в data_shows 3158\n"
     ]
    }
   ],
   "source": [
    "print('Кол-во уникальных прокатных удостоверений в data_movies', len(data_movies['puNumber'].unique()))\n",
    "print('Кол-во уникальных прокатных удостоверений в data_shows', len(data_shows['puNumber'].unique()))"
   ]
  },
  {
   "cell_type": "markdown",
   "metadata": {},
   "source": [
    "*Вероятно, при соединение методом через inner join будут наблюдаться потери данных. Поэтому необходимо прибегнуть к другому методу. Предлагается использовать метод .merge() с параметрами: on='puNumber', how='left', где левой таблицей будет таблица с бОльшим количество записей. Однако, перед тем как начать, необходимо преобразовать типы данных.*"
   ]
  },
  {
   "cell_type": "code",
   "execution_count": 64,
   "metadata": {
    "scrolled": false
   },
   "outputs": [
    {
     "name": "stdout",
     "output_type": "stream",
     "text": [
      "<class 'pandas.core.frame.DataFrame'>\n",
      "RangeIndex: 7486 entries, 0 to 7485\n",
      "Data columns (total 16 columns):\n",
      " #   Column                 Non-Null Count  Dtype  \n",
      "---  ------                 --------------  -----  \n",
      " 0   title                  7486 non-null   object \n",
      " 1   puNumber               7485 non-null   float64\n",
      " 2   show_start_date        7486 non-null   object \n",
      " 3   type                   7486 non-null   object \n",
      " 4   film_studio            7468 non-null   object \n",
      " 5   production_country     7484 non-null   object \n",
      " 6   director               7477 non-null   object \n",
      " 7   producer               6918 non-null   object \n",
      " 8   age_restriction        7486 non-null   object \n",
      " 9   refundable_support     332 non-null    float64\n",
      " 10  nonrefundable_support  332 non-null    float64\n",
      " 11  budget                 332 non-null    float64\n",
      " 12  financing_source       332 non-null    object \n",
      " 13  ratings                6519 non-null   object \n",
      " 14  genres                 6510 non-null   object \n",
      " 15  box_office             3158 non-null   float64\n",
      "dtypes: float64(5), object(11)\n",
      "memory usage: 935.9+ KB\n"
     ]
    }
   ],
   "source": [
    "data_movies['puNumber'] = pd.to_numeric(data_movies['puNumber'], errors='coerce')\n",
    "data_shows['puNumber'] = pd.to_numeric(data_shows['puNumber'], errors='coerce')\n",
    "\n",
    "df = data_movies.merge(data_shows, on='puNumber', how='left') \n",
    "df.info()"
   ]
  },
  {
   "cell_type": "code",
   "execution_count": 65,
   "metadata": {},
   "outputs": [
    {
     "name": "stdout",
     "output_type": "stream",
     "text": [
      "Данные подтянулись в полном размере\n"
     ]
    }
   ],
   "source": [
    "# создадим переменную, которая будет хранить кол-во уникальных записей (без Nan) в новом дата-фрейме\n",
    "count_not_null_df = len(df[df['box_office'].notna()]['box_office'].unique())\n",
    "\n",
    "# если кол-во значений в переменной count_not_null_df = кол-ву значений в исходной таблице, тогда\n",
    "if count_not_null_df - len(data_shows['box_office'].unique()) == 0:\n",
    "    print('Данные подтянулись в полном размере')"
   ]
  },
  {
   "cell_type": "markdown",
   "metadata": {},
   "source": [
    "__Дата-фрейм к работе готов. Количество данных не уменьшилось, нужный столбец подтянулся в полном размере.__"
   ]
  },
  {
   "cell_type": "markdown",
   "metadata": {
    "id": "KLDGpPG0gFyM"
   },
   "source": [
    "### Шаг 2. Предобработка данных"
   ]
  },
  {
   "cell_type": "markdown",
   "metadata": {
    "id": "ssWwKXsxgFyO"
   },
   "source": [
    "#### Шаг 2.1. Проверьте типы данных\n",
    "\n",
    "- Проверьте типы данных в датафрейме и преобразуйте их там, где это необходимо."
   ]
  },
  {
   "cell_type": "code",
   "execution_count": 66,
   "metadata": {
    "id": "kVGSplJOgFyO"
   },
   "outputs": [
    {
     "name": "stdout",
     "output_type": "stream",
     "text": [
      "<class 'pandas.core.frame.DataFrame'>\n",
      "RangeIndex: 7486 entries, 0 to 7485\n",
      "Data columns (total 16 columns):\n",
      " #   Column                 Non-Null Count  Dtype  \n",
      "---  ------                 --------------  -----  \n",
      " 0   title                  7486 non-null   object \n",
      " 1   puNumber               7485 non-null   float64\n",
      " 2   show_start_date        7486 non-null   object \n",
      " 3   type                   7486 non-null   object \n",
      " 4   film_studio            7468 non-null   object \n",
      " 5   production_country     7484 non-null   object \n",
      " 6   director               7477 non-null   object \n",
      " 7   producer               6918 non-null   object \n",
      " 8   age_restriction        7486 non-null   object \n",
      " 9   refundable_support     332 non-null    float64\n",
      " 10  nonrefundable_support  332 non-null    float64\n",
      " 11  budget                 332 non-null    float64\n",
      " 12  financing_source       332 non-null    object \n",
      " 13  ratings                6519 non-null   object \n",
      " 14  genres                 6510 non-null   object \n",
      " 15  box_office             3158 non-null   float64\n",
      "dtypes: float64(5), object(11)\n",
      "memory usage: 935.9+ KB\n"
     ]
    }
   ],
   "source": [
    "df.info()"
   ]
  },
  {
   "cell_type": "code",
   "execution_count": 67,
   "metadata": {},
   "outputs": [],
   "source": [
    "df['show_start_date'] = pd.to_datetime(df['show_start_date'], infer_datetime_format=True)"
   ]
  },
  {
   "cell_type": "code",
   "execution_count": 68,
   "metadata": {},
   "outputs": [],
   "source": [
    "df['ratings'] = df['ratings'].str.replace(r\"[^\\d\\.]\", \"\", regex=True) # уберём все лишние символы\n",
    "df['ratings'] = pd.to_numeric(df['ratings']) # переведём в формат float64"
   ]
  },
  {
   "cell_type": "code",
   "execution_count": 69,
   "metadata": {},
   "outputs": [],
   "source": [
    "# напишем функицю, которая переведёт рейтинг из % системы в 10 бальную\n",
    "def rating(row):\n",
    "    rate = row['ratings']\n",
    "    if rate > 10:\n",
    "        return rate/10\n",
    "    return rate\n",
    "\n",
    "df['ratings'] = df.apply(rating, axis=1)"
   ]
  },
  {
   "cell_type": "code",
   "execution_count": 70,
   "metadata": {},
   "outputs": [],
   "source": [
    "#заменим типы данных float 64 на float32 сразу во всех столбцах\n",
    "float64_cols = list(df.select_dtypes(include='float64'))\n",
    "df[float64_cols] = df[float64_cols].astype('float32')"
   ]
  },
  {
   "cell_type": "markdown",
   "metadata": {
    "id": "i0MOLbF-gFyP"
   },
   "source": [
    "#### Шаг 2.2. Изучите пропуски в датафрейме\n",
    "\n",
    "- Объясните, почему заполнили пропуски определённым образом или почему не стали этого делать."
   ]
  },
  {
   "cell_type": "code",
   "execution_count": 71,
   "metadata": {
    "id": "8MJD_lkngFyP",
    "scrolled": true
   },
   "outputs": [
    {
     "data": {
      "text/plain": [
       "refundable_support      95.57\n",
       "nonrefundable_support   95.57\n",
       "budget                  95.57\n",
       "financing_source        95.57\n",
       "box_office              57.81\n",
       "genres                  13.04\n",
       "ratings                 12.92\n",
       "producer                 7.59\n",
       "film_studio              0.24\n",
       "director                 0.12\n",
       "production_country       0.03\n",
       "puNumber                 0.01\n",
       "title                    0.00\n",
       "show_start_date          0.00\n",
       "type                     0.00\n",
       "age_restriction          0.00\n",
       "dtype: float64"
      ]
     },
     "execution_count": 71,
     "metadata": {},
     "output_type": "execute_result"
    }
   ],
   "source": [
    "df.isna().mean().sort_values(ascending=False)*100 # посмотрим процент пропущенных значений"
   ]
  },
  {
   "cell_type": "markdown",
   "metadata": {},
   "source": [
    "Столбцы refundable_support и nonrefundable_support содержат информацию о объёме возрватных и невозврастных средствах государственной поддержки. Пропуски в таких данных не случайны и могут быть вызваны отсутсвием государственной поддержки. Заменять пропуски в таких данных - не корректно;\n",
    "\n",
    "Столбец financing_sourse  - означает источник гос. финансирования. Если финансирования нет, то и источника нет;\n",
    "\n",
    "Столбцы budget и box_office - содержат информацию о бюджете и сборах фильма. Заменить такие данные невозможно, потому что бюджет и кассовые сборы фильма - могут быть пропущены не случайно. \n",
    "\n",
    "ratings - средний рейтинг фильма. Значние, которое невозможно прогнозировать. Всё зависит от конкретного фильма, также и с столбцами: film_studio, director, production_country, puNumber, genre.\n",
    "\n",
    "В данной выборке нет пропущенных значений, которые пропущены абсолютно случайным образом. Каждая строка, каждый фильм - это набор уникальных характеристик, параметров, данных, заполненение пропусков в которых может привести к ряду статистический и фактических ошибок. Видимо, иногда, работая с данными стоит пренебрегать правилом избавления от пропусков.\n",
    "\n",
    "Все пропуски соотвествуют типу: MNAR (Missing Not At Random / Отсутствует не случайно) или MAR (Missing At Random / Отсутствует случайно). Пропусков с типом: MCAR (Missing Completely At Random / Отсутствует совершенно случайно) - нет.\n"
   ]
  },
  {
   "cell_type": "markdown",
   "metadata": {
    "id": "4c6k1t9ygFyQ"
   },
   "source": [
    "#### Шаг 2.3. Изучите дубликаты в датафрейме\n",
    "- Проверьте, есть ли в данных дубликаты. Опишите причины, которые могли повлиять на появление дублей."
   ]
  },
  {
   "cell_type": "code",
   "execution_count": 72,
   "metadata": {
    "id": "aKck8RIdgFyQ"
   },
   "outputs": [
    {
     "data": {
      "text/plain": [
       "0"
      ]
     },
     "execution_count": 72,
     "metadata": {},
     "output_type": "execute_result"
    }
   ],
   "source": [
    "df.duplicated().sum() # явных дубликатов по всем строкам в выборке нет"
   ]
  },
  {
   "cell_type": "markdown",
   "metadata": {},
   "source": [
    "__Необходимо изучить также и информацию о неявных дубликатов, вероятно, что неявные дубликаты могут возникнуть в таких столбцах, как:__\n",
    "\n",
    "type, production_country, genres, age_restriction\n"
   ]
  },
  {
   "cell_type": "code",
   "execution_count": 73,
   "metadata": {},
   "outputs": [
    {
     "name": "stdout",
     "output_type": "stream",
     "text": [
      "['Художественный' 'Анимационный' 'Прочие' 'Документальный'\n",
      " 'Научно-популярный' ' Художественный' ' Анимационный'\n",
      " 'Музыкально-развлекательный']\n"
     ]
    }
   ],
   "source": [
    "print(df['type'].unique())\n",
    "df['type'] = df['type'].replace(' Художественный', 'Художественный')\n",
    "df['type'] = df['type'].replace(' Анимационный', 'Анимационный')"
   ]
  },
  {
   "cell_type": "code",
   "execution_count": 74,
   "metadata": {},
   "outputs": [
    {
     "name": "stdout",
     "output_type": "stream",
     "text": [
      "Кол-во дубликатов до: 951\n",
      "Кол-во дубликатов после: 935\n"
     ]
    }
   ],
   "source": [
    "print('Кол-во дубликатов до:', len(df['production_country'].unique()))\n",
    "df['production_country'] = df['production_country'].str.strip() \n",
    "print('Кол-во дубликатов после:', len(df['production_country'].unique()))"
   ]
  },
  {
   "cell_type": "code",
   "execution_count": 75,
   "metadata": {},
   "outputs": [],
   "source": [
    "df['title'] = df['title'].drop_duplicates()\n",
    "df['puNumber'] = df['puNumber'].drop_duplicates()"
   ]
  },
  {
   "cell_type": "markdown",
   "metadata": {},
   "source": [
    "Данные очищены от неявных дубликатов. Вероятно, что дубликаты возникли из-за того, что данные получены из разных источников, а, следовательно, и формат заполнения данных может отличаться. "
   ]
  },
  {
   "cell_type": "markdown",
   "metadata": {
    "id": "52fOPrEBgFyQ"
   },
   "source": [
    "#### Шаг 2.4. Изучите категориальные значения\n",
    "\n",
    "- Посмотрите, какая общая проблема встречается почти во всех категориальных столбцах;\n",
    "- Исправьте проблемные значения в поле `type`.\n",
    "\n",
    "<div id=\"accordion\">\n",
    "    <div class=\"card\">\n",
    "        <div class=\"card-header\" id=\"headingThree\">\n",
    "            <button class=\"btn btn-link collapsed\" data-toggle=\"collapse\" data-target=\"#collapseHint_1\" aria-expanded=\"false\" aria-controls=\"collapseHint_1\">Подсказка</button>\n",
    "        </div>\n",
    "        <div id=\"collapseHint_1\" class=\"collapse\" aria-labelledby=\"headingThree\" data-parent=\"#accordion\">\n",
    "            <div class=\"card-body\">\n",
    "В поле <code>type</code> есть несколько значений, у которых появился пробел в начале строки. Самый простой способ их «починить» -- использовать метод <a href=\"https://pandas.pydata.org/docs/reference/api/pandas.Series.str.strip.html#pandas.Series.str.strip\">.str.strip</a>. Этот метод удаляет все пробелы, которые встречаются в начале и в конце строки. Применяют его таким образом:<br>\n",
    "<code>df['type'].str.strip()</code>\n",
    "            </div>\n",
    "        </div>\n",
    "    </div>\n",
    "</div>"
   ]
  },
  {
   "cell_type": "markdown",
   "metadata": {
    "id": "PnXKIVdFgFyR"
   },
   "source": [
    "    1) Общие проблемы, которые присутсвуют в большинстве категориальных значений это наличие пробелов в тексе. На этапе предобработке мы очистили самые важные для анализа столбцы от них. Также важной проблемой в категориальных данных является разный порядок одинаково текста. Где-то может быть написана одна последовательнось слов, а где-то другая. Однако, на \n",
    "    анализе это не должно отразиться.\n",
    "\n",
    "    2) Данные в поле type были исправлены на предыдущем этапе."
   ]
  },
  {
   "cell_type": "code",
   "execution_count": 76,
   "metadata": {},
   "outputs": [
    {
     "name": "stdout",
     "output_type": "stream",
     "text": [
      "<class 'pandas.core.frame.DataFrame'>\n",
      "RangeIndex: 7486 entries, 0 to 7485\n",
      "Data columns (total 16 columns):\n",
      " #   Column                 Non-Null Count  Dtype              \n",
      "---  ------                 --------------  -----              \n",
      " 0   title                  6772 non-null   object             \n",
      " 1   puNumber               2891 non-null   float32            \n",
      " 2   show_start_date        7486 non-null   datetime64[ns, UTC]\n",
      " 3   type                   7486 non-null   object             \n",
      " 4   film_studio            7468 non-null   object             \n",
      " 5   production_country     7484 non-null   object             \n",
      " 6   director               7477 non-null   object             \n",
      " 7   producer               6918 non-null   object             \n",
      " 8   age_restriction        7486 non-null   object             \n",
      " 9   refundable_support     332 non-null    float32            \n",
      " 10  nonrefundable_support  332 non-null    float32            \n",
      " 11  budget                 332 non-null    float32            \n",
      " 12  financing_source       332 non-null    object             \n",
      " 13  ratings                6519 non-null   float32            \n",
      " 14  genres                 6510 non-null   object             \n",
      " 15  box_office             3158 non-null   float32            \n",
      "dtypes: datetime64[ns, UTC](1), float32(6), object(9)\n",
      "memory usage: 760.4+ KB\n"
     ]
    }
   ],
   "source": [
    "df.info()"
   ]
  },
  {
   "cell_type": "code",
   "execution_count": 77,
   "metadata": {},
   "outputs": [],
   "source": [
    "name_of_cetegorial_data = df.select_dtypes('object').columns.tolist()\n",
    "\n",
    "# по каждой колонке проведём анализ и избавимся от лишнего\n",
    "for c_n in name_of_cetegorial_data:\n",
    "    tech_list = [] \n",
    "    for mean in df[c_n].tolist(): \n",
    "        new_mean_1 = re.findall(r'[а-яА-ЯёЁa-zA-Z,0-9 \",\" \"«\" \"»\" \"№\" \"+\"]', str(mean)) # создадим новое значение \n",
    "        new_mean = ''.join(new_mean_1) \n",
    "        tech_list.append(new_mean) \n",
    "        \n",
    "    df[c_n] = tech_list "
   ]
  },
  {
   "cell_type": "markdown",
   "metadata": {
    "id": "XFSN5lrEgFyR"
   },
   "source": [
    "#### Шаг 2.5. Проверьте количественные значения\n",
    "\n",
    "- Проверьте, обнаружились ли в таких столбцах подозрительные данные. Как с такими данными лучше поступить?\n",
    "\n",
    "<div id=\"accordion\">\n",
    "    <div class=\"card\">\n",
    "        <div class=\"card-header\" id=\"headingThree\">\n",
    "            <button class=\"btn btn-link collapsed\" data-toggle=\"collapse\" data-target=\"#collapseHint_budget\" aria-expanded=\"false\" aria-controls=\"collapseHint_budget\">Подсказка</button>\n",
    "        </div>\n",
    "        <div id=\"collapseHint_budget\" class=\"collapse\" aria-labelledby=\"headingThree\" data-parent=\"#accordion\">\n",
    "            <div class=\"card-body\">\n",
    "Обратите внимание на описание столбца <code>budget</code>. Как этот столбец соотносится с двумя другими: <code>refundable_support</code> и <code>nonrefundable_support</code>?\n",
    "            </div>\n",
    "        </div>\n",
    "    </div>\n",
    "</div>"
   ]
  },
  {
   "cell_type": "code",
   "execution_count": 78,
   "metadata": {
    "scrolled": true
   },
   "outputs": [],
   "source": [
    "df[df['budget'] < df['nonrefundable_support']]\n",
    "df.loc[df['budget'] == 0, 'budget'] = df['nonrefundable_support'] + df['refundable_support']"
   ]
  },
  {
   "cell_type": "code",
   "execution_count": 79,
   "metadata": {},
   "outputs": [
    {
     "data": {
      "text/html": [
       "<div>\n",
       "<style scoped>\n",
       "    .dataframe tbody tr th:only-of-type {\n",
       "        vertical-align: middle;\n",
       "    }\n",
       "\n",
       "    .dataframe tbody tr th {\n",
       "        vertical-align: top;\n",
       "    }\n",
       "\n",
       "    .dataframe thead th {\n",
       "        text-align: right;\n",
       "    }\n",
       "</style>\n",
       "<table border=\"1\" class=\"dataframe\">\n",
       "  <thead>\n",
       "    <tr style=\"text-align: right;\">\n",
       "      <th></th>\n",
       "      <th>puNumber</th>\n",
       "      <th>refundable_support</th>\n",
       "      <th>nonrefundable_support</th>\n",
       "      <th>budget</th>\n",
       "      <th>ratings</th>\n",
       "      <th>box_office</th>\n",
       "    </tr>\n",
       "  </thead>\n",
       "  <tbody>\n",
       "    <tr>\n",
       "      <th>count</th>\n",
       "      <td>2,891.00</td>\n",
       "      <td>332.00</td>\n",
       "      <td>332.00</td>\n",
       "      <td>332.00</td>\n",
       "      <td>6,519.00</td>\n",
       "      <td>3,158.00</td>\n",
       "    </tr>\n",
       "    <tr>\n",
       "      <th>mean</th>\n",
       "      <td>155,111,904.00</td>\n",
       "      <td>11,864,457.00</td>\n",
       "      <td>48,980,984.00</td>\n",
       "      <td>131,422,408.00</td>\n",
       "      <td>6.49</td>\n",
       "      <td>76,478,696.00</td>\n",
       "    </tr>\n",
       "    <tr>\n",
       "      <th>std</th>\n",
       "      <td>49,838,008.00</td>\n",
       "      <td>24,916,556.00</td>\n",
       "      <td>59,980,136.00</td>\n",
       "      <td>187,148,256.00</td>\n",
       "      <td>1.11</td>\n",
       "      <td>240,353,232.00</td>\n",
       "    </tr>\n",
       "    <tr>\n",
       "      <th>min</th>\n",
       "      <td>1,811,096.00</td>\n",
       "      <td>0.00</td>\n",
       "      <td>0.00</td>\n",
       "      <td>6,000,000.00</td>\n",
       "      <td>1.00</td>\n",
       "      <td>0.00</td>\n",
       "    </tr>\n",
       "    <tr>\n",
       "      <th>25%</th>\n",
       "      <td>114,002,368.00</td>\n",
       "      <td>0.00</td>\n",
       "      <td>25,000,000.00</td>\n",
       "      <td>45,524,800.00</td>\n",
       "      <td>5.90</td>\n",
       "      <td>86,239.00</td>\n",
       "    </tr>\n",
       "    <tr>\n",
       "      <th>50%</th>\n",
       "      <td>121,032,112.00</td>\n",
       "      <td>0.00</td>\n",
       "      <td>30,000,000.00</td>\n",
       "      <td>71,196,904.00</td>\n",
       "      <td>6.60</td>\n",
       "      <td>2,327,987.50</td>\n",
       "    </tr>\n",
       "    <tr>\n",
       "      <th>75%</th>\n",
       "      <td>221,030,064.00</td>\n",
       "      <td>15,000,000.00</td>\n",
       "      <td>40,375,000.00</td>\n",
       "      <td>150,000,000.00</td>\n",
       "      <td>7.20</td>\n",
       "      <td>23,979,672.00</td>\n",
       "    </tr>\n",
       "    <tr>\n",
       "      <th>max</th>\n",
       "      <td>231,001,104.00</td>\n",
       "      <td>180,000,000.00</td>\n",
       "      <td>400,000,000.00</td>\n",
       "      <td>2,305,074,176.00</td>\n",
       "      <td>9.90</td>\n",
       "      <td>3,073,568,768.00</td>\n",
       "    </tr>\n",
       "  </tbody>\n",
       "</table>\n",
       "</div>"
      ],
      "text/plain": [
       "            puNumber  refundable_support  nonrefundable_support  \\\n",
       "count       2,891.00              332.00                 332.00   \n",
       "mean  155,111,904.00       11,864,457.00          48,980,984.00   \n",
       "std    49,838,008.00       24,916,556.00          59,980,136.00   \n",
       "min     1,811,096.00                0.00                   0.00   \n",
       "25%   114,002,368.00                0.00          25,000,000.00   \n",
       "50%   121,032,112.00                0.00          30,000,000.00   \n",
       "75%   221,030,064.00       15,000,000.00          40,375,000.00   \n",
       "max   231,001,104.00      180,000,000.00         400,000,000.00   \n",
       "\n",
       "                budget  ratings       box_office  \n",
       "count           332.00 6,519.00         3,158.00  \n",
       "mean    131,422,408.00     6.49    76,478,696.00  \n",
       "std     187,148,256.00     1.11   240,353,232.00  \n",
       "min       6,000,000.00     1.00             0.00  \n",
       "25%      45,524,800.00     5.90        86,239.00  \n",
       "50%      71,196,904.00     6.60     2,327,987.50  \n",
       "75%     150,000,000.00     7.20    23,979,672.00  \n",
       "max   2,305,074,176.00     9.90 3,073,568,768.00  "
      ]
     },
     "execution_count": 79,
     "metadata": {},
     "output_type": "execute_result"
    }
   ],
   "source": [
    "df.describe() "
   ]
  },
  {
   "cell_type": "markdown",
   "metadata": {},
   "source": [
    "В столбцах \"refundable_support\", \"nonrefundable_support\" и \"box_office\", наблюдается высокое средне-квадратичное отколнение. Вероятно, стоит очистить данные от выбросов. На начальном этапж такой идеии не поступало, потому что было 2 проблемы:\n",
    "\n",
    "    1) относительно малое кол-во заполненных данных (большое кол-во не прогнозируемых пропусков)\n",
    "    2) то, что данные хаотичны. Действительно, ведь, один фильм может получить финансирование в размере 4 млн рублей. А другой в размере 400 млн. руб. Однако, сейчас было принято решение привести данные к более однородному формату, чтобы повысить точность аналитики."
   ]
  },
  {
   "cell_type": "code",
   "execution_count": 80,
   "metadata": {},
   "outputs": [
    {
     "data": {
      "text/html": [
       "<div>\n",
       "<style scoped>\n",
       "    .dataframe tbody tr th:only-of-type {\n",
       "        vertical-align: middle;\n",
       "    }\n",
       "\n",
       "    .dataframe tbody tr th {\n",
       "        vertical-align: top;\n",
       "    }\n",
       "\n",
       "    .dataframe thead th {\n",
       "        text-align: right;\n",
       "    }\n",
       "</style>\n",
       "<table border=\"1\" class=\"dataframe\">\n",
       "  <thead>\n",
       "    <tr style=\"text-align: right;\">\n",
       "      <th></th>\n",
       "      <th>puNumber</th>\n",
       "      <th>refundable_support</th>\n",
       "      <th>nonrefundable_support</th>\n",
       "      <th>budget</th>\n",
       "      <th>ratings</th>\n",
       "      <th>box_office</th>\n",
       "    </tr>\n",
       "  </thead>\n",
       "  <tbody>\n",
       "    <tr>\n",
       "      <th>count</th>\n",
       "      <td>2,773.00</td>\n",
       "      <td>167.00</td>\n",
       "      <td>167.00</td>\n",
       "      <td>167.00</td>\n",
       "      <td>5,769.00</td>\n",
       "      <td>2,387.00</td>\n",
       "    </tr>\n",
       "    <tr>\n",
       "      <th>mean</th>\n",
       "      <td>156,665,616.00</td>\n",
       "      <td>922,155.69</td>\n",
       "      <td>27,666,816.00</td>\n",
       "      <td>53,196,536.00</td>\n",
       "      <td>6.51</td>\n",
       "      <td>3,628,019.25</td>\n",
       "    </tr>\n",
       "    <tr>\n",
       "      <th>std</th>\n",
       "      <td>50,293,228.00</td>\n",
       "      <td>3,109,821.00</td>\n",
       "      <td>8,156,640.50</td>\n",
       "      <td>21,239,974.00</td>\n",
       "      <td>1.12</td>\n",
       "      <td>6,043,547.00</td>\n",
       "    </tr>\n",
       "    <tr>\n",
       "      <th>min</th>\n",
       "      <td>1,811,096.00</td>\n",
       "      <td>0.00</td>\n",
       "      <td>3,000,000.00</td>\n",
       "      <td>6,000,000.00</td>\n",
       "      <td>1.00</td>\n",
       "      <td>0.00</td>\n",
       "    </tr>\n",
       "    <tr>\n",
       "      <th>25%</th>\n",
       "      <td>114,002,312.00</td>\n",
       "      <td>0.00</td>\n",
       "      <td>25,000,000.00</td>\n",
       "      <td>38,471,784.00</td>\n",
       "      <td>5.90</td>\n",
       "      <td>16,144.50</td>\n",
       "    </tr>\n",
       "    <tr>\n",
       "      <th>50%</th>\n",
       "      <td>121,033,616.00</td>\n",
       "      <td>0.00</td>\n",
       "      <td>27,000,000.00</td>\n",
       "      <td>46,923,776.00</td>\n",
       "      <td>6.60</td>\n",
       "      <td>822,023.00</td>\n",
       "    </tr>\n",
       "    <tr>\n",
       "      <th>75%</th>\n",
       "      <td>221,033,008.00</td>\n",
       "      <td>0.00</td>\n",
       "      <td>30,000,000.00</td>\n",
       "      <td>62,207,872.00</td>\n",
       "      <td>7.30</td>\n",
       "      <td>4,234,810.00</td>\n",
       "    </tr>\n",
       "    <tr>\n",
       "      <th>max</th>\n",
       "      <td>231,001,104.00</td>\n",
       "      <td>20,000,000.00</td>\n",
       "      <td>59,000,000.00</td>\n",
       "      <td>115,000,000.00</td>\n",
       "      <td>9.90</td>\n",
       "      <td>28,656,198.00</td>\n",
       "    </tr>\n",
       "  </tbody>\n",
       "</table>\n",
       "</div>"
      ],
      "text/plain": [
       "            puNumber  refundable_support  nonrefundable_support  \\\n",
       "count       2,773.00              167.00                 167.00   \n",
       "mean  156,665,616.00          922,155.69          27,666,816.00   \n",
       "std    50,293,228.00        3,109,821.00           8,156,640.50   \n",
       "min     1,811,096.00                0.00           3,000,000.00   \n",
       "25%   114,002,312.00                0.00          25,000,000.00   \n",
       "50%   121,033,616.00                0.00          27,000,000.00   \n",
       "75%   221,033,008.00                0.00          30,000,000.00   \n",
       "max   231,001,104.00       20,000,000.00          59,000,000.00   \n",
       "\n",
       "              budget  ratings    box_office  \n",
       "count         167.00 5,769.00      2,387.00  \n",
       "mean   53,196,536.00     6.51  3,628,019.25  \n",
       "std    21,239,974.00     1.12  6,043,547.00  \n",
       "min     6,000,000.00     1.00          0.00  \n",
       "25%    38,471,784.00     5.90     16,144.50  \n",
       "50%    46,923,776.00     6.60    822,023.00  \n",
       "75%    62,207,872.00     7.30  4,234,810.00  \n",
       "max   115,000,000.00     9.90 28,656,198.00  "
      ]
     },
     "metadata": {},
     "output_type": "display_data"
    },
    {
     "name": "stdout",
     "output_type": "stream",
     "text": [
      "теперь в данных нет выбросов!\n"
     ]
    }
   ],
   "source": [
    "# почистим столбцы поочереди.\n",
    "q3_refunable = df['refundable_support'].quantile(0.75)*1.5\n",
    "df = df.query('refundable_support < @q3_refunable or refundable_support.isna()')\n",
    "\n",
    "\n",
    "q3_nonrefunable = df['nonrefundable_support'].quantile(0.75)*1.5\n",
    "df = df.query('nonrefundable_support < @q3_nonrefunable or nonrefundable_support.isna()')\n",
    "\n",
    "q3_budget = df['budget'].quantile(0.75)*1.5\n",
    "df = df.query('budget < @q3_budget or budget.isna()')\n",
    "\n",
    "q3_box_office = df['box_office'].quantile(0.75)*1.5\n",
    "df = df.query('box_office < @q3_box_office or box_office.isna()')\n",
    "\n",
    "display(df.describe())\n",
    "print('теперь в данных нет выбросов!')"
   ]
  },
  {
   "cell_type": "code",
   "execution_count": 81,
   "metadata": {},
   "outputs": [
    {
     "data": {
      "image/png": "[encoded data removed]",
      "text/plain": [
       "<Figure size 640x480 with 1 Axes>"
      ]
     },
     "metadata": {},
     "output_type": "display_data"
    }
   ],
   "source": [
    "df['refundable_support'].hist(bins=10, color = 'green')\n",
    "# после очистки осталось совсем мало данных \n",
    "plt.title(\"Распределение возвратных средств от государства\")\n",
    "plt.ylabel(\"Кол-во данных в долг возвратных средств\");"
   ]
  },
  {
   "cell_type": "markdown",
   "metadata": {},
   "source": [
    "График не информативен, поскольку после очистки от выбросов данных осталось совсем мало. Однако, это может быть вызвано тем, что государственная поддержка с \"возвратной моделью\" даётся крайне редко. Будем считать, что эти данные корректны."
   ]
  },
  {
   "cell_type": "code",
   "execution_count": 82,
   "metadata": {},
   "outputs": [
    {
     "data": {
      "image/png": "[encoded data removed]",
      "text/plain": [
       "<Figure size 640x480 with 1 Axes>"
      ]
     },
     "metadata": {},
     "output_type": "display_data"
    }
   ],
   "source": [
    "df['nonrefundable_support'].hist(bins=10, color = 'lightblue')\n",
    "# после очистки осталось совсем мало данных \n",
    "plt.title(\"Распределение невозвратных средств от государства\")\n",
    "plt.ylabel(\"Кол-во данных в долг невозвратных средств\");"
   ]
  },
  {
   "cell_type": "markdown",
   "metadata": {},
   "source": [
    "Наблюдается нормальное распределние."
   ]
  },
  {
   "cell_type": "code",
   "execution_count": 83,
   "metadata": {},
   "outputs": [
    {
     "data": {
      "image/png": "[encoded data removed]",
      "text/plain": [
       "<Figure size 640x480 with 1 Axes>"
      ]
     },
     "metadata": {},
     "output_type": "display_data"
    }
   ],
   "source": [
    "df['budget'].hist(bins=10, color = 'darkred')\n",
    "# после очистки осталось совсем мало данных \n",
    "plt.title(\"Бюджет фильмов\")\n",
    "plt.ylabel(\"Кол-во фильмов с определенным бюджетом\");"
   ]
  },
  {
   "cell_type": "markdown",
   "metadata": {},
   "source": [
    "Наблюдается нормальное распределние."
   ]
  },
  {
   "cell_type": "code",
   "execution_count": 84,
   "metadata": {},
   "outputs": [
    {
     "data": {
      "image/png": "[encoded data removed]",
      "text/plain": [
       "<Figure size 640x480 with 1 Axes>"
      ]
     },
     "metadata": {},
     "output_type": "display_data"
    }
   ],
   "source": [
    "df['box_office'].hist(bins=25, color = 'pink')\n",
    "# после очистки осталось совсем мало данных \n",
    "plt.title(\"Кассовые сборы фильмов\")\n",
    "plt.ylabel(\"Кол-во данных по кассовым сборам\");"
   ]
  },
  {
   "cell_type": "markdown",
   "metadata": {},
   "source": [
    "Теперь количественные данные тоже подготовлены к работе! Данные о бюджете, похожи на распределение Пуассона. Такие данные пригодны для работы. "
   ]
  },
  {
   "cell_type": "markdown",
   "metadata": {
    "id": "Eu6oWp2CgFyS"
   },
   "source": [
    "#### Шаг 2.6. Добавьте новые столбцы\n",
    "\n",
    "\n",
    "\n"
   ]
  },
  {
   "cell_type": "markdown",
   "metadata": {
    "id": "7GgW-UpAgFyS"
   },
   "source": [
    "- Создайте столбец с информацией о годе проката. Выделите год из даты премьеры фильма."
   ]
  },
  {
   "cell_type": "code",
   "execution_count": 85,
   "metadata": {
    "id": "I-yd1DkWgFyT"
   },
   "outputs": [],
   "source": [
    "df['year'] = df['show_start_date'].dt.year"
   ]
  },
  {
   "cell_type": "markdown",
   "metadata": {
    "id": "nFTDLDYOgFyT"
   },
   "source": [
    "- Создайте два столбца: с именем и фамилией главного режиссёра и основным жанром фильма. В столбцы войдут первые значения из списка режиссёров и жанров соответственно.\n",
    "\n",
    "<div id=\"accordion\">\n",
    "    <div class=\"card\">\n",
    "        <div class=\"card-header\" id=\"headingThree\">\n",
    "            <button class=\"btn btn-link collapsed\" data-toggle=\"collapse\" data-target=\"#collapseHint_2\" aria-expanded=\"false\" aria-controls=\"collapseHint_2\">Подсказка</button>\n",
    "        </div>\n",
    "        <div id=\"collapseHint_2\" class=\"collapse\" aria-labelledby=\"headingThree\" data-parent=\"#accordion\">\n",
    "            <div class=\"card-body\">\n",
    "Чтобы создать такие столбцы, лучше всего использовать собственную функцию. Эту функцию можно применить к двум столбцам сразу. \n",
    "            </div>\n",
    "        </div>\n",
    "    </div>\n",
    "</div>"
   ]
  },
  {
   "cell_type": "code",
   "execution_count": 89,
   "metadata": {},
   "outputs": [
    {
     "data": {
      "text/plain": [
       "0           [Кевин Костнер]\n",
       "1                [ЕМатвеев]\n",
       "2       [Тимур Бекмамбетов]\n",
       "3       [Тимур Бекмамбетов]\n",
       "4       [Тимур Бекмамбетов]\n",
       "               ...         \n",
       "7481          [Фил Грабски]\n",
       "7482           [Ник Пауэлл]\n",
       "7483      [Чарльз ЕБастьен]\n",
       "7484              [АБеляев]\n",
       "7485              [ИТрусов]\n",
       "Name: director, Length: 6713, dtype: object"
      ]
     },
     "execution_count": 89,
     "metadata": {},
     "output_type": "execute_result"
    }
   ],
   "source": [
    "df['director'].str.split(',')"
   ]
  },
  {
   "cell_type": "code",
   "execution_count": 90,
   "metadata": {},
   "outputs": [],
   "source": [
    "def foo(x):\n",
    "    return x.split(',')[0]"
   ]
  },
  {
   "cell_type": "code",
   "execution_count": 92,
   "metadata": {
    "id": "LSbRZKbMgFyU"
   },
   "outputs": [],
   "source": [
    "df['major_director'] = df['director'].apply(foo)\n",
    "df['major_genre'] = df['genres'].apply(foo)"
   ]
  },
  {
   "cell_type": "markdown",
   "metadata": {
    "id": "1FsCXHwdgFyU"
   },
   "source": [
    "- Посчитайте, какую долю от общего бюджета фильма составляет государственная поддержка."
   ]
  },
  {
   "cell_type": "code",
   "execution_count": 96,
   "metadata": {
    "id": "LV6qFuZLgFyV"
   },
   "outputs": [],
   "source": [
    "df['goverment_fin'] = (df['refundable_support'] + df['nonrefundable_support'])/df['budget']"
   ]
  },
  {
   "cell_type": "markdown",
   "metadata": {
    "id": "6t4EukPLgFyV"
   },
   "source": [
    "### Шаг 3. Проведите исследовательский анализ данных\n"
   ]
  },
  {
   "cell_type": "markdown",
   "metadata": {
    "id": "vAH8WCzugFyV"
   },
   "source": [
    "- Посмотрите, сколько фильмов выходило в прокат каждый год. Обратите внимание, что данные о прокате в кинотеатрах известны не для всех фильмов. Посчитайте, какую долю составляют фильмы с указанной информацией о прокате в кинотеатрах."
   ]
  },
  {
   "cell_type": "code",
   "execution_count": 97,
   "metadata": {
    "id": "ABeV47y7gFyW"
   },
   "outputs": [
    {
     "data": {
      "image/png": "[encoded data removed]",
      "text/plain": [
       "<Figure size 1500x500 with 1 Axes>"
      ]
     },
     "metadata": {},
     "output_type": "display_data"
    }
   ],
   "source": [
    "# построим график, который покажет сколько фильмов выходило по годам\n",
    "df.pivot_table(index='year', values='title', aggfunc='count').reset_index().plot(x='year',\n",
    "                                                                                 y='title',\n",
    "                                                                                 kind='bar',\n",
    "                                                                                 grid=True,\n",
    "                                                                                 figsize=(15, 5))\n",
    "plt.title(\"Кол-во выходящих фильмов\")\n",
    "plt.xlabel(\"Год\")\n",
    "plt.ylabel(\"Количество по полю 'title'\");"
   ]
  },
  {
   "cell_type": "markdown",
   "metadata": {},
   "source": [
    "*Больше вссего фильмов вышло в 2010 году, а меньше, в 2017*"
   ]
  },
  {
   "cell_type": "code",
   "execution_count": 98,
   "metadata": {},
   "outputs": [
    {
     "name": "stdout",
     "output_type": "stream",
     "text": [
      "Доля фильмов с указанной информацией о прокате в кинотеатрах =  35.6 %\n"
     ]
    },
    {
     "data": {
      "image/png": "[encoded data removed]",
      "text/plain": [
       "<Figure size 1500x500 with 1 Axes>"
      ]
     },
     "metadata": {},
     "output_type": "display_data"
    }
   ],
   "source": [
    "print('Доля фильмов с указанной информацией о прокате в кинотеатрах = ', (100*df['box_office'].notna().mean()).round(1), '%')\n",
    "\n",
    "(df.groupby(\"year\")[\"box_office\"].agg(lambda x: x.notna().mean())\n",
    "   .plot(x='year',\n",
    "         y='average_loss',\n",
    "         style = 'o-',\n",
    "         grid=True,\n",
    "         figsize=(15, 5))\n",
    ")  \n",
    "\n",
    "plt.title(\"Ежегодная доля фильмов с указаной информацией о прокате в кинотеатрах\")\n",
    "plt.xlabel(\"Год\")\n",
    "plt.ylabel(\"Средняя доля за год, в %\");"
   ]
  },
  {
   "cell_type": "markdown",
   "metadata": {},
   "source": [
    "Данные, которые нам доступны, в среднем содержат только 42,2% заполненных значений по полю box_office. Меньше всего данных содержится в 2010 году. А больше всего данных в 2017 году. Будем учитывать это при дальнейшей аналитике."
   ]
  },
  {
   "cell_type": "markdown",
   "metadata": {
    "id": "BEOdcIrIgFyW"
   },
   "source": [
    "- Изучите, как менялась динамика проката по годам. В каком году сумма сборов была минимальной? А максимальной?"
   ]
  },
  {
   "cell_type": "code",
   "execution_count": 99,
   "metadata": {
    "id": "tfEhofYvgFyX"
   },
   "outputs": [
    {
     "name": "stdout",
     "output_type": "stream",
     "text": [
      "Данные о годе, когда сумма сборов была минимальной: \n",
      "    year   box_office\n",
      "0  2010 2,428,654.00\n",
      "\n",
      " Год, когда сумма сборов была минимальной - 2010\n",
      "\n",
      "\n",
      "Данные о годе, когда сумма сборов была Максимальной: \n",
      "    year       box_office\n",
      "8  2018 2,007,544,704.00\n",
      "\n",
      " Год, когда сумма сборов была максимальной - 2018\n"
     ]
    }
   ],
   "source": [
    "# посчитаем суммарные доходы по каждому году\n",
    "pivot_to_dynamic_box = df.pivot_table(index='year', values='box_office', aggfunc='sum').reset_index()\n",
    "\n",
    "# посчитаем минимальную и максимальную сумму доходв \n",
    "min_mean_box_office = pivot_to_dynamic_box[pivot_to_dynamic_box['box_office'] == pivot_to_dynamic_box['box_office'].min()]\n",
    "max_mean_box_office = pivot_to_dynamic_box[pivot_to_dynamic_box['box_office'] == pivot_to_dynamic_box['box_office'].max()]\n",
    "\n",
    "# выведим информацию о годах, с максимальной и минимальной суммой доходов\n",
    "print(\"Данные о годе, когда сумма сборов была минимальной: \\n\", min_mean_box_office)\n",
    "print(\"\\n Год, когда сумма сборов была минимальной -\", min_mean_box_office['year'][0])\n",
    "print('\\n')\n",
    "print(\"Данные о годе, когда сумма сборов была Максимальной: \\n\", max_mean_box_office)\n",
    "print(\"\\n Год, когда сумма сборов была максимальной -\", max_mean_box_office['year'][8])"
   ]
  },
  {
   "cell_type": "markdown",
   "metadata": {},
   "source": [
    "*Минимальная сумма сборов была в 2010 году, а максимальная в 2018. Это может быть связано с тем, что набор заполенной информации неполон в 2010 году и поэтому, цифры значительно ниже. Ведь в 2010 году вышла большая часть фильмов. Вероятно, что необходимо запросить дополнительные сведения о кассовых сборах фильмов, от отдела разработки. Чтобы провести более качественный анализ.*\n"
   ]
  },
  {
   "cell_type": "markdown",
   "metadata": {
    "id": "G-7qS-N-gFyY"
   },
   "source": [
    "- С помощью сводной таблицы посчитайте среднюю и медианную сумму сборов для каждого года."
   ]
  },
  {
   "cell_type": "code",
   "execution_count": 100,
   "metadata": {
    "id": "jmp-rgg9gFyY"
   },
   "outputs": [
    {
     "data": {
      "text/html": [
       "<div>\n",
       "<style scoped>\n",
       "    .dataframe tbody tr th:only-of-type {\n",
       "        vertical-align: middle;\n",
       "    }\n",
       "\n",
       "    .dataframe tbody tr th {\n",
       "        vertical-align: top;\n",
       "    }\n",
       "\n",
       "    .dataframe thead th {\n",
       "        text-align: right;\n",
       "    }\n",
       "</style>\n",
       "<table border=\"1\" class=\"dataframe\">\n",
       "  <thead>\n",
       "    <tr style=\"text-align: right;\">\n",
       "      <th></th>\n",
       "      <th>year</th>\n",
       "      <th>median_box_office</th>\n",
       "      <th>mean_box_office</th>\n",
       "    </tr>\n",
       "  </thead>\n",
       "  <tbody>\n",
       "    <tr>\n",
       "      <th>0</th>\n",
       "      <td>2010</td>\n",
       "      <td>1,700.00</td>\n",
       "      <td>23,130.04</td>\n",
       "    </tr>\n",
       "    <tr>\n",
       "      <th>1</th>\n",
       "      <td>2011</td>\n",
       "      <td>3,000.00</td>\n",
       "      <td>129,383.16</td>\n",
       "    </tr>\n",
       "    <tr>\n",
       "      <th>2</th>\n",
       "      <td>2012</td>\n",
       "      <td>5,660.00</td>\n",
       "      <td>54,339.24</td>\n",
       "    </tr>\n",
       "    <tr>\n",
       "      <th>3</th>\n",
       "      <td>2013</td>\n",
       "      <td>3,500.00</td>\n",
       "      <td>53,785.11</td>\n",
       "    </tr>\n",
       "    <tr>\n",
       "      <th>4</th>\n",
       "      <td>2014</td>\n",
       "      <td>14,255.00</td>\n",
       "      <td>1,026,429.00</td>\n",
       "    </tr>\n",
       "    <tr>\n",
       "      <th>5</th>\n",
       "      <td>2015</td>\n",
       "      <td>1,608,257.00</td>\n",
       "      <td>4,855,756.00</td>\n",
       "    </tr>\n",
       "    <tr>\n",
       "      <th>6</th>\n",
       "      <td>2016</td>\n",
       "      <td>1,301,350.50</td>\n",
       "      <td>4,192,761.00</td>\n",
       "    </tr>\n",
       "    <tr>\n",
       "      <th>7</th>\n",
       "      <td>2017</td>\n",
       "      <td>3,418,891.00</td>\n",
       "      <td>6,547,430.00</td>\n",
       "    </tr>\n",
       "    <tr>\n",
       "      <th>8</th>\n",
       "      <td>2018</td>\n",
       "      <td>3,803,518.75</td>\n",
       "      <td>6,373,158.00</td>\n",
       "    </tr>\n",
       "    <tr>\n",
       "      <th>9</th>\n",
       "      <td>2019</td>\n",
       "      <td>2,262,082.62</td>\n",
       "      <td>4,669,892.00</td>\n",
       "    </tr>\n",
       "  </tbody>\n",
       "</table>\n",
       "</div>"
      ],
      "text/plain": [
       "   year  median_box_office  mean_box_office\n",
       "0  2010           1,700.00        23,130.04\n",
       "1  2011           3,000.00       129,383.16\n",
       "2  2012           5,660.00        54,339.24\n",
       "3  2013           3,500.00        53,785.11\n",
       "4  2014          14,255.00     1,026,429.00\n",
       "5  2015       1,608,257.00     4,855,756.00\n",
       "6  2016       1,301,350.50     4,192,761.00\n",
       "7  2017       3,418,891.00     6,547,430.00\n",
       "8  2018       3,803,518.75     6,373,158.00\n",
       "9  2019       2,262,082.62     4,669,892.00"
      ]
     },
     "metadata": {},
     "output_type": "display_data"
    }
   ],
   "source": [
    "# создадим сводную таблицу с нужными параметрами\n",
    "pivot_df = df.pivot_table(index='year', values='box_office', aggfunc=['median', 'mean']).reset_index()\n",
    "pivot_df.columns = ['year', 'median_box_office', 'mean_box_office']\n",
    "pd.options.display.float_format = '{:,.2f}'.format\n",
    "display(pivot_df)"
   ]
  },
  {
   "cell_type": "markdown",
   "metadata": {},
   "source": [
    "*Если мы посмотрим на данные в другом разрезе, а именно посчитаем медиану и среднее, то мы увидим, что данные раскрываются иначе. По медиане, 2010 год по-прежнему остался самым низкодоходным, а вот самый прибыльный год оказался - 2017й. Если же смотреть по среднему арифметическому, то самым выгодным стал 2019 год, а самым невыгодным - 2018ый. Такой разброс связан с тем, что данные заполнены не равномерно.*"
   ]
  },
  {
   "cell_type": "markdown",
   "metadata": {
    "id": "Ok89WFwJgFyZ"
   },
   "source": [
    "- Определите, влияет ли возрастное ограничение аудитории («6+», «12+», «16+», «18+» и т. д.) на сборы фильма в прокате в период с 2015 по 2019 год? Фильмы с каким возрастным ограничением собрали больше всего денег в прокате? Меняется ли картина в зависимости от года? Если да, предположите, с чем это может быть связано."
   ]
  },
  {
   "cell_type": "code",
   "execution_count": 101,
   "metadata": {
    "id": "jsSbEqfjgFya"
   },
   "outputs": [],
   "source": [
    "# выделим нужную информацию из исходных данных\n",
    "data_for_ages = df[['age_restriction', 'year', 'box_office']].query('box_office > 1 and year >= 2015 and  year <= 2019')"
   ]
  },
  {
   "cell_type": "code",
   "execution_count": 102,
   "metadata": {},
   "outputs": [
    {
     "data": {
      "image/png": "[encoded data removed]",
      "text/plain": [
       "<Figure size 1000x500 with 1 Axes>"
      ]
     },
     "metadata": {},
     "output_type": "display_data"
    }
   ],
   "source": [
    "# с помощью сводных таблиц, построим график, который наглядно отразит зависимость возрастных ограничений и сборов фильма\n",
    "(data_for_ages\n",
    " .pivot_table(index='age_restriction', values='box_office', aggfunc='sum')\n",
    " .reset_index()\n",
    " .plot(x='age_restriction', y='box_office', kind='barh', figsize=(10, 5), color='orange', grid=True)\n",
    ");\n",
    "plt.xlabel(\"Суммарная выручка в млрд. руб.\");"
   ]
  },
  {
   "cell_type": "markdown",
   "metadata": {},
   "source": [
    "*Безусловно, возрастные ограничения влияют на сборы фильмов, потому что связаны с разной целевой аудиторией. Вероятнее всего, в кинотеатры редко будут ходить люди, с детьми от 0 до 6 лет, поэтому и кассовые сборы таких фильмов - меньше. Что касается таких категорий, как 6+ и 12+, тут вероятность появления родителей с детьми намного выше. Говоря о категории 16+, можно предположить, что эта категория является целевой аудиторией многих кинотеатров. Ведь подростки часто ходят в кинотеатры, в связи с большим количеством свободонго времени. Так что да, зависимость определённо есть!*"
   ]
  },
  {
   "cell_type": "code",
   "execution_count": 103,
   "metadata": {},
   "outputs": [
    {
     "data": {
      "image/png": "[encoded data removed]",
      "text/plain": [
       "<Figure size 1500x800 with 1 Axes>"
      ]
     },
     "metadata": {},
     "output_type": "display_data"
    }
   ],
   "source": [
    "# Создадим также дигарамму, которая покажет с какими возрастными ограничениями фильмы собрали больше всего денег в прокате по годам\n",
    "(data_for_ages\n",
    " .pivot_table(index='year', columns='age_restriction', values='box_office', aggfunc='mean')\n",
    " .reset_index()\n",
    " .plot(x='year', kind='bar',\n",
    "       legend=True,\n",
    "       figsize=(15, 8),\n",
    "       grid=True,\n",
    "       color=['lightgreen', 'skyblue', 'orange', 'lightgrey', 'coral']))\n",
    "\n",
    "plt.title(\"Фильмы с каким возрастным ограничением собрали больше всего денег в прокате по годам\")\n",
    "plt.xlabel(\"Год\")\n",
    "plt.ylabel(\"Суммарная выручка\");"
   ]
  },
  {
   "cell_type": "markdown",
   "metadata": {},
   "source": [
    "*В разрезе выбранных лет, картина уже не так однозначна, как тогда, когда анализировались общие доходы от кино по возрастным категориям. Видно, что от года в год, ситуацию меняется и нельзя однозначно сказать с чем это связано. Можно предположить, что в разные года, разные поколения попадают в выборку. ПОэтому в 2016 и 2017 году, подростки от 16 лет чаще попадали в выборку, чем в 2019 году. Также это может быть связано с демографическими особенностями региона, по которому собирали данные. Может быть связано и с особенностями экономики региона.*"
   ]
  },
  {
   "cell_type": "markdown",
   "metadata": {
    "id": "l_Kg6Ku4gFya"
   },
   "source": [
    "### Шаг 4. Исследуйте фильмы, которые получили государственную поддержку\n",
    "\n",
    "Для заврешения аналитического исследования проведём следующий ряд действий:\n",
    "\n",
    "    1) Создадим дата-фрейм (data), который будет включать в себя все необходимые поля для аналитики, а именно:\n",
    "            \n",
    "            a) type - тип кино\n",
    "            b) director - директор кино\n",
    "            c) major_producer - главный продюссер\n",
    "            d) major_genre - главный жанр\n",
    "            e) goverment_fin - % государственных денег в общем бюджете фильма\n",
    "            f) budget - бюджет фильма\n",
    "            j) ratings - рейтинг фильма\n",
    "    \n",
    "    2) Вяывим следующие парметры:\n",
    "            a) В каком жанре самое высокая гос. поддержка?\n",
    "            b) Топ-3 директоров и топ-3 продюссеров, которые чаще всего получали гос. поддержку\n",
    "            c) Фильмы, получившие гос.поддержку какой средний рейтинг имеют? \n",
    "            d) Увеличивается ли кол-во фильмов с гос. поддержкой по годам?\n",
    "            \n",
    "В ходе проведения данной аналитики, будем учитывать, что выборка может быть неравномерна. Поэтому будем считать в %, чтобы оперировать относительными, а не абсолютными значениями. Также будем работать только с теми данными, которые попали в выборку, т.е. теми, кто получил гос. поддержку."
   ]
  },
  {
   "cell_type": "code",
   "execution_count": 104,
   "metadata": {
    "id": "W9QKpjUdgFyb"
   },
   "outputs": [],
   "source": [
    "# подготовим данные\n",
    "df_gov = df.query('goverment_fin > 0 and goverment_fin != inf').reset_index(drop=True) # отберём те данные, когда у фильмов есть гос. финансирование\n",
    "\n",
    "# создадим таблицу с которой будет осуществляться работа\n",
    "data = df_gov[['year', 'type', 'director', 'major_director', 'major_genre', 'goverment_fin', 'budget', 'ratings']].copy() "
   ]
  },
  {
   "cell_type": "code",
   "execution_count": 112,
   "metadata": {},
   "outputs": [
    {
     "data": {
      "image/png": "[encoded data removed]",
      "text/plain": [
       "<Figure size 1500x300 with 1 Axes>"
      ]
     },
     "metadata": {},
     "output_type": "display_data"
    },
    {
     "data": {
      "image/png": "[encoded data removed]",
      "text/plain": [
       "<Figure size 1500x300 with 1 Axes>"
      ]
     },
     "metadata": {},
     "output_type": "display_data"
    }
   ],
   "source": [
    "# посмотрим зависимость бюджета и государственного финансирования от жанра.\n",
    "genre_budget = (data\n",
    " .pivot_table(index='major_genre', values='budget', aggfunc='mean')\n",
    " .reset_index()\n",
    " .sort_values(by='budget'))\n",
    "\n",
    "genre_budget.plot(x='major_genre',\n",
    "       y='budget',\n",
    "       kind='bar',\n",
    "       figsize=(15, 3),\n",
    "       color='purple');\n",
    "\n",
    "plt.title(\"Жанры по бюджету. От меньшего к большему\")\n",
    "plt.xlabel(\"Жанр\")\n",
    "plt.ylabel(\"Суммарные бюджейт\");\n",
    "\n",
    "genre_gov = (data\n",
    " .pivot_table(index='major_genre', values='goverment_fin', aggfunc='mean')\n",
    " .reset_index())\n",
    "             \n",
    "(genre_gov\n",
    " .sort_values(by='goverment_fin')\n",
    " .plot(x='major_genre',\n",
    "       y='goverment_fin',\n",
    "       kind='barh',\n",
    "       figsize=(15,3),\n",
    "       color='orange'));\n",
    "\n",
    "plt.title(\"Жанры по уровню гос-финансирования. От меньшего к большему\")\n",
    "plt.xlabel(\"Жанр\")\n",
    "plt.ylabel(\"Среднее гос-финансирование\");"
   ]
  },
  {
   "cell_type": "markdown",
   "metadata": {},
   "source": [
    "*1) Самыми высоко-бюджетными жанрами считаются, такие жанры, как: военный, триллер, мюзикл*\n",
    "\n",
    "*2) Фильмы, которые чаще всего получают гос. финансирование, с самым высоким относительным вкладом гос-два, являются жанры ужасы, биография и криминал*"
   ]
  },
  {
   "cell_type": "code",
   "execution_count": 117,
   "metadata": {},
   "outputs": [
    {
     "data": {
      "image/png": "[encoded data removed]",
      "text/plain": [
       "<Figure size 1000x500 with 1 Axes>"
      ]
     },
     "metadata": {},
     "output_type": "display_data"
    }
   ],
   "source": [
    "data.pivot_table(index='ratings', values='goverment_fin', aggfunc='count').plot(figsize=(10,5), \n",
    "                                                                               grid=True,\n",
    "                                                                               style='o-',\n",
    "                                                                               legend=True)\n",
    "plt.title(\"Зависимость рейтинг от финансирования\")\n",
    "plt.xlabel(\"Средний рейтинг\")\n",
    "plt.ylabel(\"Кол-во финансовой поддержки\");"
   ]
  },
  {
   "cell_type": "markdown",
   "metadata": {},
   "source": [
    "Средний рейтинг фильмов с гос-поддержкой чаще всего находится в интервали от 5 до 7."
   ]
  },
  {
   "cell_type": "code",
   "execution_count": 119,
   "metadata": {},
   "outputs": [
    {
     "data": {
      "image/png": "[encoded data removed]",
      "text/plain": [
       "<Figure size 1000x300 with 1 Axes>"
      ]
     },
     "metadata": {},
     "output_type": "display_data"
    }
   ],
   "source": [
    "(data\n",
    " .pivot_table(index='year', values='goverment_fin', aggfunc='count')\n",
    " .reset_index()\n",
    " .sort_values(by='year')\n",
    " .plot(x='year', kind='bar', figsize=(10,3)));\n",
    "\n",
    "plt.title(\"Гос-поддержка по годам\")\n",
    "plt.xlabel(\"Год\")\n",
    "plt.ylabel(\"Кол-во гос.поддержанных проектов\");"
   ]
  },
  {
   "cell_type": "markdown",
   "metadata": {},
   "source": [
    "Больше всего фильмов с гос-поддержкой было в 2015 году, а меншье всего в 2013 году."
   ]
  },
  {
   "cell_type": "markdown",
   "metadata": {
    "id": "V2gYwMcPgFyd"
   },
   "source": [
    "### Шаг 5. Напишите общий вывод"
   ]
  },
  {
   "cell_type": "markdown",
   "metadata": {
    "id": "AYRg3dzXgFye"
   },
   "source": [
    "В ходе выполнения работы было продело 4 основных шага. \n",
    "    \n",
    "    1) Открытие файлов и краткое изучение данных, объединение данных в один дата-фрейм пригодный к работе. На этом этапе, было выявлено, что данные неполные. В них много пропусков, и неправильные форматы. \n",
    "    \n",
    "    2) Предобработка данных. \n",
    "            a) Проверка типа данных, на этом этапе столбец show_start_date был переведён в формат даты, рейтинг был переведён в 10-ую систему , также все столбцы с типом float64, были переведены в float32\n",
    "            b) Далее были изучениы пропуски в дата-фрейме. Этот этап стал проблемным. Поскольку в результате его выполнения, было выявлено, что пропуски присутсвуют, однако, как-то их заменить не предоставляется возможным. Поскольку все пропущенные данные пропущены не случайно или не имеют логического обоснования для подстановки каких-то заменяющих значений. \n",
    "            c) Изучение дубликатов, показало, что в исходных данных встречаются явные дубликаты. От них была проведена очистка данных. Также было видно, что встречаются неявные дубликаты, в основном, из-за наличия лишних пробелов.\n",
    "            d) Далее были изучение категориальные значения. В рамках изучения этих данных, было выявлено, что в данных встречается проблема, с наличием пробелов, а также, в некоторых случаях, нарушен порядок написания текста.\n",
    "            e) В количественных значениях, также были найдены и исправлены ошибки. Оказалось, что есть фильмы, у которых возвратные и/или невозвратный бюджет больше нуля, а вот общий бюджет равен нулю. Такие случаи были исправлены.\n",
    "            f) Были также добавлены все новые столбцы, необходимые для аналитики, а именно: год (year),  гланвый продюссер (major_producer), гланвый жанр (major_genre) и доля финансирования засчёт гос. средств (goverment_fin)\n",
    "    \n",
    "    3) Далее был выполнен исследовательских анализ данных, в результет которого были сделаны следующие выводы:\n",
    "            a) Больше всего данных содержится о фильмах 2010 года;\n",
    "            b) Доля фильмов с указанной информацией о прокате в кинотеатрах =  42.2 %;\n",
    "            c) Меньше всего данных содержится в 2010 году. А больше всего данных в 2017 году.\n",
    "            d) Год, когда сумма сборов была минимальной - 2010, а год, когда сумма сборов была максимальной - 2018\n",
    "            e) По медианному кол-ву сборов, 2010 год самый низкодоходный, самый прибыльный - 2017й. Средние доходы самые высокие в 2019 году, а самые низкие в 2018 году.\n",
    "            f) Возростные ограчнения влияют на сборы фильмов. Как в общей выборке, так и по годам. Наиболее высоко-прибыльными являются фильмы с возрастным огранчением 16+\n",
    "            \n",
    "     4) Заверщающий этап был посвящён анализу фильмов с гос. поддержкой, в результате были сделаны следующие выводы:\n",
    "            a) Самыми высоко-бюджетными жанрами считаются, такие жанры, как: История, приключения, детектив, спорт.\n",
    "            b) Фильмы, которые чаще всего получают гос. финансирование, с самым высоким относительным вкладом гос-два, являются жанры реальное тв и криминал, детское кино и ужасы.\n",
    "            c) Чаще всего гос. поддержку получали, такие директоры, как: Р.Давлетьяров, Д.Дьяченко, С.Андреасян\n",
    "            d) Чаще всего гос. поддержку получали, такие продюссеры, как: С.Сельянов, Э.Илоян, Р.Дишдишян, Т.Бекмамбетов\n",
    "            e) Средний рейтинг фильмов с гос-поддержкой чаще всего находится в интервали от 5 до 7.\n",
    "            f) Больше всего фильмов с гос-поддержкой было в 2015 году, а меншье всего в 2013 году.\n",
    "            j) Чаще всего фильмы получают гос. поддержку, если они художественные"
   ]
  }
 ],
 "metadata": {
  "ExecuteTimeLog": [
   {
    "duration": 537,
    "start_time": "2021-07-07T10:12:08.634Z"
   },
   {
    "duration": 206,
    "start_time": "2021-07-07T10:12:30.191Z"
   },
   {
    "duration": 227,
    "start_time": "2021-07-07T10:12:33.078Z"
   },
   {
    "duration": 153,
    "start_time": "2021-07-07T10:13:42.146Z"
   },
   {
    "duration": 233,
    "start_time": "2021-07-07T10:30:09.252Z"
   },
   {
    "duration": 19,
    "start_time": "2021-07-07T10:30:15.577Z"
   },
   {
    "duration": 18,
    "start_time": "2021-07-07T10:30:57.348Z"
   },
   {
    "duration": 19,
    "start_time": "2021-07-07T10:31:17.452Z"
   },
   {
    "duration": 21,
    "start_time": "2021-07-07T10:31:32.227Z"
   },
   {
    "duration": 27,
    "start_time": "2021-07-07T10:32:06.588Z"
   },
   {
    "duration": 23,
    "start_time": "2021-07-07T10:32:43.645Z"
   },
   {
    "duration": 24,
    "start_time": "2021-07-07T10:33:06.948Z"
   },
   {
    "duration": 7,
    "start_time": "2021-07-07T10:33:28.558Z"
   },
   {
    "duration": 23,
    "start_time": "2021-07-07T10:33:43.761Z"
   },
   {
    "duration": 28,
    "start_time": "2021-07-07T10:34:13.466Z"
   },
   {
    "duration": 23,
    "start_time": "2021-07-07T10:35:56.187Z"
   },
   {
    "duration": 6,
    "start_time": "2021-07-07T10:36:48.182Z"
   },
   {
    "duration": 14,
    "start_time": "2021-07-07T10:37:49.641Z"
   },
   {
    "duration": 6,
    "start_time": "2021-07-07T10:38:06.694Z"
   },
   {
    "duration": 6,
    "start_time": "2021-07-07T10:38:13.493Z"
   },
   {
    "duration": 19,
    "start_time": "2021-07-07T10:38:44.056Z"
   },
   {
    "duration": 186,
    "start_time": "2021-07-07T10:48:35.618Z"
   },
   {
    "duration": 24,
    "start_time": "2021-07-07T10:48:51.498Z"
   },
   {
    "duration": 20,
    "start_time": "2021-07-07T10:48:59.415Z"
   },
   {
    "duration": 20,
    "start_time": "2021-07-07T10:53:02.195Z"
   },
   {
    "duration": 188,
    "start_time": "2021-07-07T10:54:40.486Z"
   },
   {
    "duration": 115,
    "start_time": "2021-07-07T10:54:52.552Z"
   },
   {
    "duration": 214,
    "start_time": "2021-07-07T10:54:56.354Z"
   },
   {
    "duration": 47,
    "start_time": "2021-07-07T10:54:58.282Z"
   },
   {
    "duration": 217,
    "start_time": "2021-07-07T10:59:16.075Z"
   },
   {
    "duration": 51,
    "start_time": "2021-07-07T10:59:16.243Z"
   },
   {
    "duration": 578,
    "start_time": "2021-07-07T10:59:18.774Z"
   },
   {
    "duration": 161,
    "start_time": "2021-07-07T10:59:21.238Z"
   },
   {
    "duration": 59,
    "start_time": "2021-07-07T10:59:21.453Z"
   },
   {
    "duration": 3,
    "start_time": "2021-07-07T11:02:10.786Z"
   },
   {
    "duration": 13,
    "start_time": "2021-07-07T11:07:07.722Z"
   },
   {
    "duration": 26,
    "start_time": "2021-07-07T11:07:17.958Z"
   },
   {
    "duration": 22,
    "start_time": "2021-07-07T11:08:17.939Z"
   },
   {
    "duration": 212,
    "start_time": "2021-07-07T11:08:19.665Z"
   },
   {
    "duration": 21,
    "start_time": "2021-07-07T11:08:29.945Z"
   },
   {
    "duration": 31,
    "start_time": "2021-07-07T11:08:38.899Z"
   },
   {
    "duration": 23,
    "start_time": "2021-07-07T11:08:54.527Z"
   },
   {
    "duration": 8,
    "start_time": "2021-07-07T11:18:55.974Z"
   },
   {
    "duration": 7,
    "start_time": "2021-07-07T11:19:03.639Z"
   },
   {
    "duration": 7,
    "start_time": "2021-07-07T11:19:06.444Z"
   },
   {
    "duration": 578,
    "start_time": "2021-07-07T12:09:59.576Z"
   },
   {
    "duration": 195,
    "start_time": "2021-07-07T12:10:00.156Z"
   },
   {
    "duration": 115,
    "start_time": "2021-07-07T12:10:00.353Z"
   },
   {
    "duration": 3,
    "start_time": "2021-07-07T12:10:00.470Z"
   },
   {
    "duration": 32,
    "start_time": "2021-07-07T12:10:00.474Z"
   },
   {
    "duration": 23,
    "start_time": "2021-07-07T12:10:00.508Z"
   },
   {
    "duration": 19,
    "start_time": "2021-07-07T12:10:00.533Z"
   },
   {
    "duration": 44,
    "start_time": "2021-07-07T12:10:00.553Z"
   },
   {
    "duration": 7,
    "start_time": "2021-07-07T12:10:00.600Z"
   },
   {
    "duration": 7,
    "start_time": "2021-07-07T12:19:45.761Z"
   },
   {
    "duration": 21,
    "start_time": "2021-07-07T12:21:35.482Z"
   },
   {
    "duration": 21,
    "start_time": "2021-07-07T12:29:23.569Z"
   },
   {
    "duration": 525,
    "start_time": "2021-07-07T12:29:44.542Z"
   },
   {
    "duration": 214,
    "start_time": "2021-07-07T12:29:45.069Z"
   },
   {
    "duration": 92,
    "start_time": "2021-07-07T12:29:45.285Z"
   },
   {
    "duration": 3,
    "start_time": "2021-07-07T12:29:45.379Z"
   },
   {
    "duration": 28,
    "start_time": "2021-07-07T12:29:45.384Z"
   },
   {
    "duration": 23,
    "start_time": "2021-07-07T12:29:45.413Z"
   },
   {
    "duration": 21,
    "start_time": "2021-07-07T12:29:45.437Z"
   },
   {
    "duration": 41,
    "start_time": "2021-07-07T12:29:45.460Z"
   },
   {
    "duration": 7,
    "start_time": "2021-07-07T12:29:45.502Z"
   },
   {
    "duration": 20,
    "start_time": "2021-07-07T12:29:45.511Z"
   },
   {
    "duration": 12,
    "start_time": "2021-07-07T12:34:02.800Z"
   },
   {
    "duration": 7,
    "start_time": "2021-07-07T12:35:10.479Z"
   },
   {
    "duration": 8,
    "start_time": "2021-07-07T12:35:22.440Z"
   },
   {
    "duration": 6,
    "start_time": "2021-07-07T12:35:35.649Z"
   },
   {
    "duration": 6,
    "start_time": "2021-07-07T12:35:43.107Z"
   },
   {
    "duration": 22,
    "start_time": "2021-07-07T12:38:03.029Z"
   },
   {
    "duration": 10,
    "start_time": "2021-07-07T12:38:06.592Z"
   },
   {
    "duration": 563,
    "start_time": "2021-07-07T12:38:46.493Z"
   },
   {
    "duration": 265,
    "start_time": "2021-07-07T12:38:47.058Z"
   },
   {
    "duration": 94,
    "start_time": "2021-07-07T12:38:47.325Z"
   },
   {
    "duration": 3,
    "start_time": "2021-07-07T12:38:47.422Z"
   },
   {
    "duration": 30,
    "start_time": "2021-07-07T12:38:47.427Z"
   },
   {
    "duration": 16,
    "start_time": "2021-07-07T12:38:53.305Z"
   },
   {
    "duration": 10,
    "start_time": "2021-07-07T12:38:53.499Z"
   },
   {
    "duration": 8,
    "start_time": "2021-07-07T12:39:48.161Z"
   },
   {
    "duration": 27,
    "start_time": "2021-07-07T12:41:17.629Z"
   },
   {
    "duration": 17,
    "start_time": "2021-07-07T12:41:17.867Z"
   },
   {
    "duration": 21,
    "start_time": "2021-07-07T12:41:19.310Z"
   },
   {
    "duration": 7,
    "start_time": "2021-07-07T12:41:19.544Z"
   },
   {
    "duration": 20,
    "start_time": "2021-07-07T12:41:20.504Z"
   },
   {
    "duration": 554,
    "start_time": "2021-07-07T12:56:23.696Z"
   },
   {
    "duration": 200,
    "start_time": "2021-07-07T12:56:25.234Z"
   },
   {
    "duration": 119,
    "start_time": "2021-07-07T12:56:25.480Z"
   },
   {
    "duration": 4,
    "start_time": "2021-07-07T12:56:25.762Z"
   },
   {
    "duration": 26,
    "start_time": "2021-07-07T12:56:27.172Z"
   },
   {
    "duration": 12,
    "start_time": "2021-07-07T12:56:29.051Z"
   },
   {
    "duration": 10,
    "start_time": "2021-07-07T12:56:29.291Z"
   },
   {
    "duration": 8,
    "start_time": "2021-07-07T12:56:29.623Z"
   },
   {
    "duration": 28,
    "start_time": "2021-07-07T12:56:32.137Z"
   },
   {
    "duration": 19,
    "start_time": "2021-07-07T12:56:39.785Z"
   },
   {
    "duration": 20,
    "start_time": "2021-07-07T12:56:44.297Z"
   },
   {
    "duration": 7,
    "start_time": "2021-07-07T12:56:45.392Z"
   },
   {
    "duration": 23,
    "start_time": "2021-07-07T12:56:46.615Z"
   },
   {
    "duration": 4,
    "start_time": "2021-07-07T12:57:06.625Z"
   },
   {
    "duration": 32,
    "start_time": "2021-07-07T12:57:36.690Z"
   },
   {
    "duration": 18,
    "start_time": "2021-07-07T12:58:00.149Z"
   },
   {
    "duration": 15,
    "start_time": "2021-07-07T12:59:16.793Z"
   },
   {
    "duration": 7,
    "start_time": "2021-07-07T13:19:22.624Z"
   },
   {
    "duration": 6,
    "start_time": "2021-07-07T14:17:33.527Z"
   },
   {
    "duration": 9,
    "start_time": "2021-07-07T14:17:48.409Z"
   },
   {
    "duration": 8,
    "start_time": "2021-07-07T14:20:13.060Z"
   },
   {
    "duration": 8,
    "start_time": "2021-07-07T14:20:37.957Z"
   },
   {
    "duration": 8,
    "start_time": "2021-07-07T14:20:47.470Z"
   },
   {
    "duration": 9,
    "start_time": "2021-07-07T14:20:54.503Z"
   },
   {
    "duration": 10,
    "start_time": "2021-07-07T14:28:57.763Z"
   },
   {
    "duration": 3,
    "start_time": "2021-07-07T14:30:23.377Z"
   },
   {
    "duration": 3,
    "start_time": "2021-07-07T14:30:36.489Z"
   },
   {
    "duration": 103,
    "start_time": "2021-07-07T14:30:52.351Z"
   },
   {
    "duration": 8,
    "start_time": "2021-07-07T14:30:54.763Z"
   },
   {
    "duration": 8,
    "start_time": "2021-07-07T14:31:29.301Z"
   },
   {
    "duration": 13,
    "start_time": "2021-07-07T14:31:44.516Z"
   },
   {
    "duration": 7,
    "start_time": "2021-07-07T14:33:10.972Z"
   },
   {
    "duration": 11,
    "start_time": "2021-07-07T14:33:27.780Z"
   },
   {
    "duration": 8,
    "start_time": "2021-07-07T14:34:44.588Z"
   },
   {
    "duration": 57,
    "start_time": "2021-07-07T14:35:59.042Z"
   },
   {
    "duration": 3,
    "start_time": "2021-07-07T14:36:28.168Z"
   },
   {
    "duration": 5,
    "start_time": "2021-07-07T14:36:46.254Z"
   },
   {
    "duration": 4,
    "start_time": "2021-07-07T14:36:52.714Z"
   },
   {
    "duration": 3,
    "start_time": "2021-07-07T14:36:56.612Z"
   },
   {
    "duration": 4,
    "start_time": "2021-07-07T14:36:57.049Z"
   },
   {
    "duration": 3,
    "start_time": "2021-07-07T14:39:21.214Z"
   },
   {
    "duration": 7,
    "start_time": "2021-07-07T14:39:52.406Z"
   },
   {
    "duration": 11,
    "start_time": "2021-07-07T14:39:58.576Z"
   },
   {
    "duration": 9,
    "start_time": "2021-07-07T14:40:26.301Z"
   },
   {
    "duration": 10,
    "start_time": "2021-07-07T14:40:31.704Z"
   },
   {
    "duration": 11,
    "start_time": "2021-07-07T14:40:36.249Z"
   },
   {
    "duration": 10,
    "start_time": "2021-07-07T14:40:39.783Z"
   },
   {
    "duration": 9,
    "start_time": "2021-07-07T14:40:48.558Z"
   },
   {
    "duration": 10,
    "start_time": "2021-07-07T14:40:57.143Z"
   },
   {
    "duration": 9,
    "start_time": "2021-07-07T14:41:06.074Z"
   },
   {
    "duration": 4324,
    "start_time": "2021-07-07T14:41:22.004Z"
   },
   {
    "duration": 11,
    "start_time": "2021-07-07T14:41:33.392Z"
   },
   {
    "duration": 9,
    "start_time": "2021-07-07T14:41:39.288Z"
   },
   {
    "duration": 569,
    "start_time": "2021-07-07T14:42:14.387Z"
   },
   {
    "duration": 197,
    "start_time": "2021-07-07T14:42:14.959Z"
   },
   {
    "duration": 84,
    "start_time": "2021-07-07T14:42:16.052Z"
   },
   {
    "duration": 4,
    "start_time": "2021-07-07T14:42:16.900Z"
   },
   {
    "duration": 27,
    "start_time": "2021-07-07T14:42:19.898Z"
   },
   {
    "duration": 12,
    "start_time": "2021-07-07T14:42:21.577Z"
   },
   {
    "duration": 9,
    "start_time": "2021-07-07T14:42:21.813Z"
   },
   {
    "duration": 9,
    "start_time": "2021-07-07T14:42:22.569Z"
   },
   {
    "duration": 29,
    "start_time": "2021-07-07T14:42:25.837Z"
   },
   {
    "duration": 20,
    "start_time": "2021-07-07T14:42:27.003Z"
   },
   {
    "duration": 21,
    "start_time": "2021-07-07T14:42:28.767Z"
   },
   {
    "duration": 7,
    "start_time": "2021-07-07T14:42:29.838Z"
   },
   {
    "duration": 4,
    "start_time": "2021-07-07T14:43:25.493Z"
   },
   {
    "duration": 7,
    "start_time": "2021-07-07T14:43:26.573Z"
   },
   {
    "duration": 10,
    "start_time": "2021-07-07T14:43:31.639Z"
   },
   {
    "duration": 9,
    "start_time": "2021-07-07T14:43:32.046Z"
   },
   {
    "duration": 10,
    "start_time": "2021-07-07T14:43:33.301Z"
   },
   {
    "duration": 12,
    "start_time": "2021-07-07T14:43:33.658Z"
   },
   {
    "duration": 8,
    "start_time": "2021-07-07T14:43:34.552Z"
   },
   {
    "duration": 9,
    "start_time": "2021-07-07T14:43:35.058Z"
   },
   {
    "duration": 12,
    "start_time": "2021-07-07T14:43:35.914Z"
   },
   {
    "duration": 17,
    "start_time": "2021-07-07T14:45:34.368Z"
   },
   {
    "duration": 512,
    "start_time": "2021-07-07T14:51:58.236Z"
   },
   {
    "duration": 223,
    "start_time": "2021-07-07T14:51:58.750Z"
   },
   {
    "duration": 93,
    "start_time": "2021-07-07T14:51:58.977Z"
   },
   {
    "duration": 4,
    "start_time": "2021-07-07T14:51:59.071Z"
   },
   {
    "duration": 37,
    "start_time": "2021-07-07T14:51:59.077Z"
   },
   {
    "duration": 18,
    "start_time": "2021-07-07T14:51:59.116Z"
   },
   {
    "duration": 10,
    "start_time": "2021-07-07T14:51:59.137Z"
   },
   {
    "duration": 8,
    "start_time": "2021-07-07T14:51:59.149Z"
   },
   {
    "duration": 54,
    "start_time": "2021-07-07T14:51:59.158Z"
   },
   {
    "duration": 18,
    "start_time": "2021-07-07T14:51:59.213Z"
   },
   {
    "duration": 22,
    "start_time": "2021-07-07T14:51:59.232Z"
   },
   {
    "duration": 36,
    "start_time": "2021-07-07T14:51:59.255Z"
   },
   {
    "duration": 7,
    "start_time": "2021-07-07T14:51:59.293Z"
   },
   {
    "duration": 10,
    "start_time": "2021-07-07T14:51:59.302Z"
   },
   {
    "duration": 9,
    "start_time": "2021-07-07T14:51:59.313Z"
   },
   {
    "duration": 11,
    "start_time": "2021-07-07T14:51:59.324Z"
   },
   {
    "duration": 8,
    "start_time": "2021-07-07T14:51:59.337Z"
   },
   {
    "duration": 46,
    "start_time": "2021-07-07T14:51:59.347Z"
   },
   {
    "duration": 22,
    "start_time": "2021-07-07T14:51:59.395Z"
   },
   {
    "duration": 24,
    "start_time": "2021-07-07T14:57:32.911Z"
   },
   {
    "duration": 7,
    "start_time": "2021-07-07T14:58:22.070Z"
   },
   {
    "duration": 4,
    "start_time": "2021-07-07T14:59:11.239Z"
   },
   {
    "duration": 25,
    "start_time": "2021-07-07T15:07:22.208Z"
   },
   {
    "duration": 16,
    "start_time": "2021-07-07T15:08:25.560Z"
   },
   {
    "duration": 15,
    "start_time": "2021-07-07T15:08:40.647Z"
   },
   {
    "duration": 14,
    "start_time": "2021-07-07T15:08:46.669Z"
   },
   {
    "duration": 533,
    "start_time": "2021-07-07T15:18:07.440Z"
   },
   {
    "duration": 173,
    "start_time": "2021-07-07T15:18:07.974Z"
   },
   {
    "duration": 84,
    "start_time": "2021-07-07T15:18:08.149Z"
   },
   {
    "duration": 3,
    "start_time": "2021-07-07T15:18:08.235Z"
   },
   {
    "duration": 30,
    "start_time": "2021-07-07T15:18:08.240Z"
   },
   {
    "duration": 22,
    "start_time": "2021-07-07T15:18:08.272Z"
   },
   {
    "duration": 11,
    "start_time": "2021-07-07T15:18:08.295Z"
   },
   {
    "duration": 11,
    "start_time": "2021-07-07T15:18:08.309Z"
   },
   {
    "duration": 40,
    "start_time": "2021-07-07T15:18:08.322Z"
   },
   {
    "duration": 42,
    "start_time": "2021-07-07T15:18:08.364Z"
   },
   {
    "duration": 22,
    "start_time": "2021-07-07T15:18:08.408Z"
   },
   {
    "duration": 5,
    "start_time": "2021-07-07T15:18:08.432Z"
   },
   {
    "duration": 13,
    "start_time": "2021-07-07T15:18:08.439Z"
   },
   {
    "duration": 9,
    "start_time": "2021-07-07T15:18:08.454Z"
   },
   {
    "duration": 32,
    "start_time": "2021-07-07T15:18:08.465Z"
   },
   {
    "duration": 10,
    "start_time": "2021-07-07T15:18:08.501Z"
   },
   {
    "duration": 7,
    "start_time": "2021-07-07T15:18:08.513Z"
   },
   {
    "duration": 11,
    "start_time": "2021-07-07T15:18:08.521Z"
   },
   {
    "duration": 17,
    "start_time": "2021-07-07T15:18:08.534Z"
   },
   {
    "duration": 44,
    "start_time": "2021-07-07T15:18:08.553Z"
   },
   {
    "duration": 22,
    "start_time": "2021-07-07T15:18:08.599Z"
   },
   {
    "duration": 61,
    "start_time": "2021-07-07T15:18:08.622Z"
   },
   {
    "duration": 7,
    "start_time": "2021-07-07T15:18:39.457Z"
   },
   {
    "duration": 5,
    "start_time": "2021-07-07T16:05:17.020Z"
   },
   {
    "duration": 5,
    "start_time": "2021-07-07T16:51:28.794Z"
   },
   {
    "duration": 546,
    "start_time": "2021-07-07T16:52:26.306Z"
   },
   {
    "duration": 203,
    "start_time": "2021-07-07T16:52:27.523Z"
   },
   {
    "duration": 85,
    "start_time": "2021-07-07T16:52:27.736Z"
   },
   {
    "duration": 4,
    "start_time": "2021-07-07T16:52:27.899Z"
   },
   {
    "duration": 25,
    "start_time": "2021-07-07T16:52:28.674Z"
   },
   {
    "duration": 8,
    "start_time": "2021-07-07T16:52:32.956Z"
   },
   {
    "duration": 18,
    "start_time": "2021-07-07T16:52:35.616Z"
   },
   {
    "duration": 6,
    "start_time": "2021-07-07T16:52:36.913Z"
   },
   {
    "duration": 11,
    "start_time": "2021-07-07T16:52:40.258Z"
   },
   {
    "duration": 10,
    "start_time": "2021-07-07T16:52:46.251Z"
   },
   {
    "duration": 8,
    "start_time": "2021-07-07T16:52:47.182Z"
   },
   {
    "duration": 27,
    "start_time": "2021-07-07T16:53:20.391Z"
   },
   {
    "duration": 20,
    "start_time": "2021-07-07T16:53:22.022Z"
   },
   {
    "duration": 23,
    "start_time": "2021-07-07T16:53:23.690Z"
   },
   {
    "duration": 8,
    "start_time": "2021-07-07T16:53:24.261Z"
   },
   {
    "duration": 4,
    "start_time": "2021-07-07T16:53:38.733Z"
   },
   {
    "duration": 7,
    "start_time": "2021-07-07T16:53:40.445Z"
   },
   {
    "duration": 11,
    "start_time": "2021-07-07T16:53:41.348Z"
   },
   {
    "duration": 13,
    "start_time": "2021-07-07T16:53:45.250Z"
   },
   {
    "duration": 12,
    "start_time": "2021-07-07T16:53:45.467Z"
   },
   {
    "duration": 4,
    "start_time": "2021-07-07T16:55:32.704Z"
   },
   {
    "duration": 12,
    "start_time": "2021-07-07T16:55:49.012Z"
   },
   {
    "duration": 18,
    "start_time": "2021-07-07T16:55:49.547Z"
   },
   {
    "duration": 611,
    "start_time": "2021-07-07T16:58:35.156Z"
   },
   {
    "duration": 200,
    "start_time": "2021-07-07T16:58:35.770Z"
   },
   {
    "duration": 86,
    "start_time": "2021-07-07T16:58:35.972Z"
   },
   {
    "duration": 3,
    "start_time": "2021-07-07T16:58:36.060Z"
   },
   {
    "duration": 27,
    "start_time": "2021-07-07T16:58:36.065Z"
   },
   {
    "duration": 8,
    "start_time": "2021-07-07T16:58:36.094Z"
   },
   {
    "duration": 17,
    "start_time": "2021-07-07T16:58:36.103Z"
   },
   {
    "duration": 5,
    "start_time": "2021-07-07T16:58:36.123Z"
   },
   {
    "duration": 11,
    "start_time": "2021-07-07T16:58:36.130Z"
   },
   {
    "duration": 7,
    "start_time": "2021-07-07T16:58:36.143Z"
   },
   {
    "duration": 37,
    "start_time": "2021-07-07T16:58:36.152Z"
   },
   {
    "duration": 27,
    "start_time": "2021-07-07T16:58:36.191Z"
   },
   {
    "duration": 19,
    "start_time": "2021-07-07T16:58:36.219Z"
   },
   {
    "duration": 49,
    "start_time": "2021-07-07T16:58:36.240Z"
   },
   {
    "duration": 6,
    "start_time": "2021-07-07T16:58:36.291Z"
   },
   {
    "duration": 3,
    "start_time": "2021-07-07T16:58:36.299Z"
   },
   {
    "duration": 13,
    "start_time": "2021-07-07T16:58:36.304Z"
   },
   {
    "duration": 10,
    "start_time": "2021-07-07T16:58:36.319Z"
   },
   {
    "duration": 10,
    "start_time": "2021-07-07T16:58:36.331Z"
   },
   {
    "duration": 44,
    "start_time": "2021-07-07T16:58:36.343Z"
   },
   {
    "duration": 4,
    "start_time": "2021-07-07T16:58:36.388Z"
   },
   {
    "duration": 13,
    "start_time": "2021-07-07T16:58:36.394Z"
   },
   {
    "duration": 16,
    "start_time": "2021-07-07T16:58:36.410Z"
   },
   {
    "duration": 8,
    "start_time": "2021-07-07T17:02:31.629Z"
   },
   {
    "duration": 8,
    "start_time": "2021-07-07T17:02:34.308Z"
   },
   {
    "duration": 6,
    "start_time": "2021-07-07T17:05:13.483Z"
   },
   {
    "duration": 17,
    "start_time": "2021-07-07T17:05:20.606Z"
   },
   {
    "duration": 7,
    "start_time": "2021-07-07T17:05:34.638Z"
   },
   {
    "duration": 3,
    "start_time": "2021-07-07T17:06:31.883Z"
   },
   {
    "duration": 570,
    "start_time": "2021-07-07T17:06:37.165Z"
   },
   {
    "duration": 174,
    "start_time": "2021-07-07T17:06:37.737Z"
   },
   {
    "duration": 47,
    "start_time": "2021-07-07T17:06:37.913Z"
   },
   {
    "duration": 3,
    "start_time": "2021-07-07T17:06:37.962Z"
   },
   {
    "duration": 27,
    "start_time": "2021-07-07T17:06:37.967Z"
   },
   {
    "duration": 7,
    "start_time": "2021-07-07T17:06:37.996Z"
   },
   {
    "duration": 16,
    "start_time": "2021-07-07T17:06:38.005Z"
   },
   {
    "duration": 6,
    "start_time": "2021-07-07T17:06:38.024Z"
   },
   {
    "duration": 12,
    "start_time": "2021-07-07T17:06:38.031Z"
   },
   {
    "duration": 41,
    "start_time": "2021-07-07T17:06:38.045Z"
   },
   {
    "duration": 8,
    "start_time": "2021-07-07T17:06:38.088Z"
   },
   {
    "duration": 26,
    "start_time": "2021-07-07T17:06:38.098Z"
   },
   {
    "duration": 17,
    "start_time": "2021-07-07T17:06:38.126Z"
   },
   {
    "duration": 43,
    "start_time": "2021-07-07T17:06:38.144Z"
   },
   {
    "duration": 6,
    "start_time": "2021-07-07T17:06:38.188Z"
   },
   {
    "duration": 5,
    "start_time": "2021-07-07T17:06:38.195Z"
   },
   {
    "duration": 9,
    "start_time": "2021-07-07T17:06:38.201Z"
   },
   {
    "duration": 12,
    "start_time": "2021-07-07T17:06:38.212Z"
   },
   {
    "duration": 11,
    "start_time": "2021-07-07T17:06:38.226Z"
   },
   {
    "duration": 47,
    "start_time": "2021-07-07T17:06:38.239Z"
   },
   {
    "duration": 4,
    "start_time": "2021-07-07T17:06:38.288Z"
   },
   {
    "duration": 13,
    "start_time": "2021-07-07T17:06:38.293Z"
   },
   {
    "duration": 5,
    "start_time": "2021-07-07T17:06:38.309Z"
   },
   {
    "duration": 18,
    "start_time": "2021-07-07T17:06:38.325Z"
   },
   {
    "duration": 20,
    "start_time": "2021-07-07T17:07:02.805Z"
   },
   {
    "duration": 19,
    "start_time": "2021-07-07T17:07:08.527Z"
   },
   {
    "duration": 19,
    "start_time": "2021-07-07T17:07:12.758Z"
   },
   {
    "duration": 22,
    "start_time": "2021-07-07T17:07:17.497Z"
   },
   {
    "duration": 19,
    "start_time": "2021-07-07T17:07:19.645Z"
   },
   {
    "duration": 10,
    "start_time": "2021-07-07T17:07:34.239Z"
   },
   {
    "duration": 17,
    "start_time": "2021-07-07T17:07:54.144Z"
   },
   {
    "duration": 14,
    "start_time": "2021-07-07T17:08:14.357Z"
   },
   {
    "duration": 616,
    "start_time": "2021-07-07T17:08:45.254Z"
   },
   {
    "duration": 178,
    "start_time": "2021-07-07T17:08:45.872Z"
   },
   {
    "duration": 60,
    "start_time": "2021-07-07T17:08:46.054Z"
   },
   {
    "duration": 3,
    "start_time": "2021-07-07T17:08:46.116Z"
   },
   {
    "duration": 26,
    "start_time": "2021-07-07T17:08:46.121Z"
   },
   {
    "duration": 7,
    "start_time": "2021-07-07T17:08:46.149Z"
   },
   {
    "duration": 17,
    "start_time": "2021-07-07T17:08:46.158Z"
   },
   {
    "duration": 14,
    "start_time": "2021-07-07T17:08:46.176Z"
   },
   {
    "duration": 17,
    "start_time": "2021-07-07T17:08:46.193Z"
   },
   {
    "duration": 9,
    "start_time": "2021-07-07T17:08:46.211Z"
   },
   {
    "duration": 21,
    "start_time": "2021-07-07T17:08:46.221Z"
   },
   {
    "duration": 49,
    "start_time": "2021-07-07T17:08:46.244Z"
   },
   {
    "duration": 24,
    "start_time": "2021-07-07T17:08:46.295Z"
   },
   {
    "duration": 22,
    "start_time": "2021-07-07T17:08:46.321Z"
   },
   {
    "duration": 6,
    "start_time": "2021-07-07T17:08:46.345Z"
   },
   {
    "duration": 5,
    "start_time": "2021-07-07T17:08:46.353Z"
   },
   {
    "duration": 13,
    "start_time": "2021-07-07T17:08:46.386Z"
   },
   {
    "duration": 12,
    "start_time": "2021-07-07T17:08:46.402Z"
   },
   {
    "duration": 10,
    "start_time": "2021-07-07T17:08:46.415Z"
   },
   {
    "duration": 7,
    "start_time": "2021-07-07T17:08:46.427Z"
   },
   {
    "duration": 8,
    "start_time": "2021-07-07T17:08:46.435Z"
   },
   {
    "duration": 68,
    "start_time": "2021-07-07T17:08:46.446Z"
   },
   {
    "duration": 13,
    "start_time": "2021-07-07T17:08:46.516Z"
   },
   {
    "duration": 78,
    "start_time": "2021-07-07T17:08:46.530Z"
   },
   {
    "duration": 40,
    "start_time": "2021-07-07T17:09:08.185Z"
   },
   {
    "duration": 16,
    "start_time": "2021-07-07T17:09:19.324Z"
   },
   {
    "duration": 21,
    "start_time": "2021-07-07T17:09:23.290Z"
   },
   {
    "duration": 13,
    "start_time": "2021-07-07T17:09:54.812Z"
   },
   {
    "duration": 13,
    "start_time": "2021-07-07T17:10:02.039Z"
   },
   {
    "duration": 10,
    "start_time": "2021-07-07T17:10:29.632Z"
   },
   {
    "duration": 13,
    "start_time": "2021-07-07T17:10:52.372Z"
   },
   {
    "duration": 13,
    "start_time": "2021-07-07T17:11:17.270Z"
   },
   {
    "duration": 13,
    "start_time": "2021-07-07T17:14:59.284Z"
   },
   {
    "duration": 547,
    "start_time": "2021-07-07T17:18:52.403Z"
   },
   {
    "duration": 163,
    "start_time": "2021-07-07T17:18:52.952Z"
   },
   {
    "duration": 44,
    "start_time": "2021-07-07T17:18:53.117Z"
   },
   {
    "duration": 3,
    "start_time": "2021-07-07T17:18:53.162Z"
   },
   {
    "duration": 26,
    "start_time": "2021-07-07T17:18:53.167Z"
   },
   {
    "duration": 6,
    "start_time": "2021-07-07T17:18:53.195Z"
   },
   {
    "duration": 15,
    "start_time": "2021-07-07T17:18:53.203Z"
   },
   {
    "duration": 5,
    "start_time": "2021-07-07T17:18:53.220Z"
   },
   {
    "duration": 11,
    "start_time": "2021-07-07T17:18:53.228Z"
   },
   {
    "duration": 9,
    "start_time": "2021-07-07T17:18:53.241Z"
   },
   {
    "duration": 41,
    "start_time": "2021-07-07T17:18:53.252Z"
   },
   {
    "duration": 33,
    "start_time": "2021-07-07T17:18:53.295Z"
   },
   {
    "duration": 19,
    "start_time": "2021-07-07T17:18:53.330Z"
   },
   {
    "duration": 49,
    "start_time": "2021-07-07T17:18:53.350Z"
   },
   {
    "duration": 5,
    "start_time": "2021-07-07T17:18:53.401Z"
   },
   {
    "duration": 5,
    "start_time": "2021-07-07T17:18:53.408Z"
   },
   {
    "duration": 11,
    "start_time": "2021-07-07T17:18:53.414Z"
   },
   {
    "duration": 9,
    "start_time": "2021-07-07T17:18:53.427Z"
   },
   {
    "duration": 10,
    "start_time": "2021-07-07T17:18:53.437Z"
   },
   {
    "duration": 39,
    "start_time": "2021-07-07T17:18:53.448Z"
   },
   {
    "duration": 26,
    "start_time": "2021-07-07T17:18:55.799Z"
   },
   {
    "duration": 598,
    "start_time": "2021-07-07T17:20:17.862Z"
   },
   {
    "duration": 161,
    "start_time": "2021-07-07T17:20:18.462Z"
   },
   {
    "duration": 45,
    "start_time": "2021-07-07T17:20:18.626Z"
   },
   {
    "duration": 4,
    "start_time": "2021-07-07T17:20:18.673Z"
   },
   {
    "duration": 38,
    "start_time": "2021-07-07T17:20:26.877Z"
   },
   {
    "duration": 7,
    "start_time": "2021-07-07T17:20:37.405Z"
   },
   {
    "duration": 19,
    "start_time": "2021-07-07T17:20:51.534Z"
   },
   {
    "duration": 5,
    "start_time": "2021-07-07T17:20:57.228Z"
   },
   {
    "duration": 7,
    "start_time": "2021-07-07T17:21:08.235Z"
   },
   {
    "duration": 19,
    "start_time": "2021-07-07T17:21:42.158Z"
   },
   {
    "duration": 14,
    "start_time": "2021-07-07T17:21:50.225Z"
   },
   {
    "duration": 22,
    "start_time": "2021-07-07T17:22:54.104Z"
   },
   {
    "duration": 5,
    "start_time": "2021-07-07T17:22:56.371Z"
   },
   {
    "duration": 14,
    "start_time": "2021-07-07T17:22:58.316Z"
   },
   {
    "duration": 5,
    "start_time": "2021-07-07T17:22:58.493Z"
   },
   {
    "duration": 35,
    "start_time": "2021-07-07T17:22:59.666Z"
   },
   {
    "duration": 6,
    "start_time": "2021-07-07T17:23:02.410Z"
   },
   {
    "duration": 611,
    "start_time": "2021-07-07T17:24:59.664Z"
   },
   {
    "duration": 178,
    "start_time": "2021-07-07T17:25:01.945Z"
   },
   {
    "duration": 47,
    "start_time": "2021-07-07T17:25:02.125Z"
   },
   {
    "duration": 2,
    "start_time": "2021-07-07T17:25:07.903Z"
   },
   {
    "duration": 254,
    "start_time": "2021-07-07T17:25:08.232Z"
   },
   {
    "duration": 182,
    "start_time": "2021-07-07T17:25:08.671Z"
   },
   {
    "duration": 6,
    "start_time": "2021-07-07T17:25:13.104Z"
   },
   {
    "duration": 36,
    "start_time": "2021-07-07T17:25:13.662Z"
   },
   {
    "duration": 7,
    "start_time": "2021-07-07T17:25:14.528Z"
   },
   {
    "duration": 24,
    "start_time": "2021-07-07T17:25:27.982Z"
   },
   {
    "duration": 3,
    "start_time": "2021-07-07T17:25:48.982Z"
   },
   {
    "duration": 165,
    "start_time": "2021-07-07T17:25:48.987Z"
   },
   {
    "duration": 50,
    "start_time": "2021-07-07T17:25:49.154Z"
   },
   {
    "duration": 4,
    "start_time": "2021-07-07T17:25:49.206Z"
   },
   {
    "duration": 26,
    "start_time": "2021-07-07T17:25:49.212Z"
   },
   {
    "duration": 7,
    "start_time": "2021-07-07T17:25:49.240Z"
   },
   {
    "duration": 16,
    "start_time": "2021-07-07T17:25:49.249Z"
   },
   {
    "duration": 22,
    "start_time": "2021-07-07T17:25:49.266Z"
   },
   {
    "duration": 16,
    "start_time": "2021-07-07T17:25:49.291Z"
   },
   {
    "duration": 9,
    "start_time": "2021-07-07T17:25:49.309Z"
   },
   {
    "duration": 7,
    "start_time": "2021-07-07T17:25:49.319Z"
   },
   {
    "duration": 28,
    "start_time": "2021-07-07T17:25:49.328Z"
   },
   {
    "duration": 44,
    "start_time": "2021-07-07T17:25:49.357Z"
   },
   {
    "duration": 22,
    "start_time": "2021-07-07T17:25:49.403Z"
   },
   {
    "duration": 7,
    "start_time": "2021-07-07T17:25:49.427Z"
   },
   {
    "duration": 3,
    "start_time": "2021-07-07T17:25:49.436Z"
   },
   {
    "duration": 44,
    "start_time": "2021-07-07T17:25:49.441Z"
   },
   {
    "duration": 12,
    "start_time": "2021-07-07T17:25:49.488Z"
   },
   {
    "duration": 13,
    "start_time": "2021-07-07T17:25:49.502Z"
   },
   {
    "duration": 10,
    "start_time": "2021-07-07T17:25:49.516Z"
   },
   {
    "duration": 62,
    "start_time": "2021-07-07T17:25:49.527Z"
   },
   {
    "duration": 26,
    "start_time": "2021-07-07T17:26:51.809Z"
   },
   {
    "duration": 26,
    "start_time": "2021-07-07T17:26:55.759Z"
   },
   {
    "duration": 26,
    "start_time": "2021-07-07T17:27:04.501Z"
   },
   {
    "duration": 25,
    "start_time": "2021-07-07T17:28:24.859Z"
   },
   {
    "duration": 21,
    "start_time": "2021-07-07T17:28:55.250Z"
   },
   {
    "duration": 21,
    "start_time": "2021-07-07T17:28:58.885Z"
   },
   {
    "duration": 7,
    "start_time": "2021-07-07T17:45:40.972Z"
   },
   {
    "duration": 13,
    "start_time": "2021-07-07T17:45:42.529Z"
   },
   {
    "duration": 27,
    "start_time": "2021-07-07T17:45:51.026Z"
   },
   {
    "duration": 518,
    "start_time": "2021-07-07T17:46:15.532Z"
   },
   {
    "duration": 235,
    "start_time": "2021-07-07T17:46:16.053Z"
   },
   {
    "duration": 80,
    "start_time": "2021-07-07T17:46:16.292Z"
   },
   {
    "duration": 5,
    "start_time": "2021-07-07T17:46:16.373Z"
   },
   {
    "duration": 26,
    "start_time": "2021-07-07T17:46:16.380Z"
   },
   {
    "duration": 7,
    "start_time": "2021-07-07T17:46:16.408Z"
   },
   {
    "duration": 16,
    "start_time": "2021-07-07T17:46:16.418Z"
   },
   {
    "duration": 5,
    "start_time": "2021-07-07T17:46:16.436Z"
   },
   {
    "duration": 13,
    "start_time": "2021-07-07T17:46:16.442Z"
   },
   {
    "duration": 35,
    "start_time": "2021-07-07T17:46:16.456Z"
   },
   {
    "duration": 8,
    "start_time": "2021-07-07T17:46:16.493Z"
   },
   {
    "duration": 28,
    "start_time": "2021-07-07T17:46:16.502Z"
   },
   {
    "duration": 17,
    "start_time": "2021-07-07T17:46:16.532Z"
   },
   {
    "duration": 44,
    "start_time": "2021-07-07T17:46:16.551Z"
   },
   {
    "duration": 6,
    "start_time": "2021-07-07T17:46:16.597Z"
   },
   {
    "duration": 4,
    "start_time": "2021-07-07T17:46:16.605Z"
   },
   {
    "duration": 9,
    "start_time": "2021-07-07T17:46:16.610Z"
   },
   {
    "duration": 9,
    "start_time": "2021-07-07T17:46:16.621Z"
   },
   {
    "duration": 10,
    "start_time": "2021-07-07T17:46:16.632Z"
   },
   {
    "duration": 43,
    "start_time": "2021-07-07T17:46:16.644Z"
   },
   {
    "duration": 26,
    "start_time": "2021-07-07T17:46:16.689Z"
   },
   {
    "duration": 19,
    "start_time": "2021-07-07T17:46:16.718Z"
   },
   {
    "duration": 8,
    "start_time": "2021-07-07T17:46:16.738Z"
   },
   {
    "duration": 43,
    "start_time": "2021-07-07T17:46:16.747Z"
   },
   {
    "duration": 19,
    "start_time": "2021-07-07T17:46:16.791Z"
   },
   {
    "duration": 9,
    "start_time": "2021-07-07T17:46:16.812Z"
   },
   {
    "duration": 60,
    "start_time": "2021-07-07T17:46:16.822Z"
   },
   {
    "duration": -8,
    "start_time": "2021-07-07T17:46:16.892Z"
   },
   {
    "duration": 12,
    "start_time": "2021-07-07T17:48:47.707Z"
   },
   {
    "duration": 553,
    "start_time": "2021-07-07T18:10:09.350Z"
   },
   {
    "duration": 230,
    "start_time": "2021-07-07T18:10:09.905Z"
   },
   {
    "duration": 97,
    "start_time": "2021-07-07T18:10:10.137Z"
   },
   {
    "duration": 5,
    "start_time": "2021-07-07T18:10:10.236Z"
   },
   {
    "duration": 29,
    "start_time": "2021-07-07T18:10:10.242Z"
   },
   {
    "duration": 7,
    "start_time": "2021-07-07T18:10:10.272Z"
   },
   {
    "duration": 15,
    "start_time": "2021-07-07T18:10:10.281Z"
   },
   {
    "duration": 4,
    "start_time": "2021-07-07T18:10:10.299Z"
   },
   {
    "duration": 14,
    "start_time": "2021-07-07T18:10:10.305Z"
   },
   {
    "duration": 8,
    "start_time": "2021-07-07T18:10:10.321Z"
   },
   {
    "duration": 8,
    "start_time": "2021-07-07T18:10:10.331Z"
   },
   {
    "duration": 56,
    "start_time": "2021-07-07T18:10:10.341Z"
   },
   {
    "duration": 19,
    "start_time": "2021-07-07T18:10:10.399Z"
   },
   {
    "duration": 23,
    "start_time": "2021-07-07T18:10:10.419Z"
   },
   {
    "duration": 6,
    "start_time": "2021-07-07T18:10:10.444Z"
   },
   {
    "duration": 9,
    "start_time": "2021-07-07T18:10:10.451Z"
   },
   {
    "duration": 30,
    "start_time": "2021-07-07T18:10:10.462Z"
   },
   {
    "duration": 9,
    "start_time": "2021-07-07T18:10:10.494Z"
   },
   {
    "duration": 14,
    "start_time": "2021-07-07T18:10:10.505Z"
   },
   {
    "duration": 7,
    "start_time": "2021-07-07T18:10:10.521Z"
   },
   {
    "duration": 26,
    "start_time": "2021-07-07T18:10:10.530Z"
   },
   {
    "duration": 44,
    "start_time": "2021-07-07T18:10:10.558Z"
   },
   {
    "duration": 7,
    "start_time": "2021-07-07T18:10:10.605Z"
   },
   {
    "duration": 11,
    "start_time": "2021-07-07T18:10:10.614Z"
   },
   {
    "duration": 19,
    "start_time": "2021-07-07T18:10:10.626Z"
   },
   {
    "duration": 44,
    "start_time": "2021-07-07T18:10:10.646Z"
   },
   {
    "duration": 516,
    "start_time": "2021-07-07T18:14:00.826Z"
   },
   {
    "duration": 230,
    "start_time": "2021-07-07T18:14:01.344Z"
   },
   {
    "duration": 105,
    "start_time": "2021-07-07T18:14:01.576Z"
   },
   {
    "duration": 5,
    "start_time": "2021-07-07T18:14:01.683Z"
   },
   {
    "duration": 46,
    "start_time": "2021-07-07T18:14:01.690Z"
   },
   {
    "duration": 7,
    "start_time": "2021-07-07T18:14:01.738Z"
   },
   {
    "duration": 20,
    "start_time": "2021-07-07T18:14:01.747Z"
   },
   {
    "duration": 16,
    "start_time": "2021-07-07T18:14:01.769Z"
   },
   {
    "duration": 14,
    "start_time": "2021-07-07T18:14:01.787Z"
   },
   {
    "duration": 15,
    "start_time": "2021-07-07T18:14:01.803Z"
   },
   {
    "duration": 12,
    "start_time": "2021-07-07T18:14:01.820Z"
   },
   {
    "duration": 35,
    "start_time": "2021-07-07T18:14:01.833Z"
   },
   {
    "duration": 31,
    "start_time": "2021-07-07T18:14:01.869Z"
   },
   {
    "duration": 37,
    "start_time": "2021-07-07T18:14:01.902Z"
   },
   {
    "duration": 8,
    "start_time": "2021-07-07T18:14:01.942Z"
   },
   {
    "duration": 16,
    "start_time": "2021-07-07T18:14:01.952Z"
   },
   {
    "duration": 13,
    "start_time": "2021-07-07T18:14:01.970Z"
   },
   {
    "duration": 32,
    "start_time": "2021-07-07T18:14:01.985Z"
   },
   {
    "duration": 11,
    "start_time": "2021-07-07T18:14:02.019Z"
   },
   {
    "duration": 22,
    "start_time": "2021-07-07T18:14:02.031Z"
   },
   {
    "duration": 27,
    "start_time": "2021-07-07T18:14:02.055Z"
   },
   {
    "duration": 18,
    "start_time": "2021-07-07T18:14:02.084Z"
   },
   {
    "duration": 18,
    "start_time": "2021-07-07T18:14:02.106Z"
   },
   {
    "duration": 11,
    "start_time": "2021-07-07T18:14:02.126Z"
   },
   {
    "duration": 21,
    "start_time": "2021-07-07T18:14:02.138Z"
   },
   {
    "duration": 32,
    "start_time": "2021-07-07T18:14:02.161Z"
   },
   {
    "duration": 28,
    "start_time": "2021-07-07T18:14:44.295Z"
   },
   {
    "duration": 6,
    "start_time": "2021-07-07T18:15:05.834Z"
   },
   {
    "duration": 511,
    "start_time": "2021-07-07T18:15:41.541Z"
   },
   {
    "duration": 183,
    "start_time": "2021-07-07T18:15:42.054Z"
   },
   {
    "duration": 50,
    "start_time": "2021-07-07T18:15:42.239Z"
   },
   {
    "duration": 5,
    "start_time": "2021-07-07T18:15:42.291Z"
   },
   {
    "duration": 48,
    "start_time": "2021-07-07T18:15:42.297Z"
   },
   {
    "duration": 8,
    "start_time": "2021-07-07T18:15:42.346Z"
   },
   {
    "duration": 17,
    "start_time": "2021-07-07T18:15:42.356Z"
   },
   {
    "duration": 15,
    "start_time": "2021-07-07T18:15:42.375Z"
   },
   {
    "duration": 12,
    "start_time": "2021-07-07T18:15:42.392Z"
   },
   {
    "duration": 7,
    "start_time": "2021-07-07T18:15:42.406Z"
   },
   {
    "duration": 7,
    "start_time": "2021-07-07T18:15:42.415Z"
   },
   {
    "duration": 29,
    "start_time": "2021-07-07T18:15:42.423Z"
   },
   {
    "duration": 43,
    "start_time": "2021-07-07T18:15:42.453Z"
   },
   {
    "duration": 18,
    "start_time": "2021-07-07T18:15:42.497Z"
   },
   {
    "duration": 6,
    "start_time": "2021-07-07T18:15:42.516Z"
   },
   {
    "duration": 3,
    "start_time": "2021-07-07T18:15:42.523Z"
   },
   {
    "duration": 18,
    "start_time": "2021-07-07T18:15:42.528Z"
   },
   {
    "duration": 10,
    "start_time": "2021-07-07T18:15:42.547Z"
   },
   {
    "duration": 36,
    "start_time": "2021-07-07T18:15:42.559Z"
   },
   {
    "duration": 8,
    "start_time": "2021-07-07T18:15:42.597Z"
   },
   {
    "duration": 28,
    "start_time": "2021-07-07T18:15:42.606Z"
   },
   {
    "duration": 52,
    "start_time": "2021-07-07T18:15:42.635Z"
   },
   {
    "duration": 7,
    "start_time": "2021-07-07T18:15:42.690Z"
   },
   {
    "duration": 10,
    "start_time": "2021-07-07T18:15:42.699Z"
   },
   {
    "duration": 19,
    "start_time": "2021-07-07T18:15:42.711Z"
   },
   {
    "duration": 9,
    "start_time": "2021-07-07T18:15:42.732Z"
   },
   {
    "duration": 5,
    "start_time": "2021-07-07T18:15:42.743Z"
   },
   {
    "duration": 1450,
    "start_time": "2021-07-07T18:15:51.984Z"
   },
   {
    "duration": 161,
    "start_time": "2021-07-07T18:15:53.435Z"
   },
   {
    "duration": 124,
    "start_time": "2021-07-07T18:15:53.598Z"
   },
   {
    "duration": 5,
    "start_time": "2021-07-07T18:15:53.724Z"
   },
   {
    "duration": 34,
    "start_time": "2021-07-07T18:15:53.730Z"
   },
   {
    "duration": 7,
    "start_time": "2021-07-07T18:15:53.765Z"
   },
   {
    "duration": 15,
    "start_time": "2021-07-07T18:15:53.773Z"
   },
   {
    "duration": 5,
    "start_time": "2021-07-07T18:15:53.791Z"
   },
   {
    "duration": 19,
    "start_time": "2021-07-07T18:15:53.798Z"
   },
   {
    "duration": 9,
    "start_time": "2021-07-07T18:15:53.818Z"
   },
   {
    "duration": 19,
    "start_time": "2021-07-07T18:15:53.828Z"
   },
   {
    "duration": 27,
    "start_time": "2021-07-07T18:15:53.848Z"
   },
   {
    "duration": 16,
    "start_time": "2021-07-07T18:15:53.884Z"
   },
   {
    "duration": 29,
    "start_time": "2021-07-07T18:15:53.901Z"
   },
   {
    "duration": 5,
    "start_time": "2021-07-07T18:15:53.932Z"
   },
   {
    "duration": 15,
    "start_time": "2021-07-07T18:15:53.939Z"
   },
   {
    "duration": 13,
    "start_time": "2021-07-07T18:15:53.956Z"
   },
   {
    "duration": 20,
    "start_time": "2021-07-07T18:15:53.971Z"
   },
   {
    "duration": 14,
    "start_time": "2021-07-07T18:15:53.992Z"
   },
   {
    "duration": 9,
    "start_time": "2021-07-07T18:15:54.009Z"
   },
   {
    "duration": 28,
    "start_time": "2021-07-07T18:15:54.020Z"
   },
   {
    "duration": 50,
    "start_time": "2021-07-07T18:15:54.051Z"
   },
   {
    "duration": 8,
    "start_time": "2021-07-07T18:15:54.105Z"
   },
   {
    "duration": 11,
    "start_time": "2021-07-07T18:15:54.115Z"
   },
   {
    "duration": 20,
    "start_time": "2021-07-07T18:15:54.128Z"
   },
   {
    "duration": 13,
    "start_time": "2021-07-07T18:15:54.184Z"
   },
   {
    "duration": 7,
    "start_time": "2021-07-07T18:15:54.199Z"
   },
   {
    "duration": 7,
    "start_time": "2021-07-07T18:17:08.042Z"
   },
   {
    "duration": 8,
    "start_time": "2021-07-07T18:17:21.008Z"
   },
   {
    "duration": 7,
    "start_time": "2021-07-07T18:17:29.003Z"
   },
   {
    "duration": 8,
    "start_time": "2021-07-07T18:17:32.492Z"
   },
   {
    "duration": 9,
    "start_time": "2021-07-07T18:17:41.758Z"
   },
   {
    "duration": 255,
    "start_time": "2021-07-07T18:20:20.897Z"
   },
   {
    "duration": 173,
    "start_time": "2021-07-07T18:20:26.636Z"
   },
   {
    "duration": 7,
    "start_time": "2021-07-07T18:21:47.164Z"
   },
   {
    "duration": 254,
    "start_time": "2021-07-07T18:23:08.703Z"
   },
   {
    "duration": 21,
    "start_time": "2021-07-07T18:23:22.506Z"
   },
   {
    "duration": 315,
    "start_time": "2021-07-07T18:25:54.801Z"
   },
   {
    "duration": 34,
    "start_time": "2021-07-07T18:26:51.817Z"
   },
   {
    "duration": 327,
    "start_time": "2021-07-07T18:26:56.147Z"
   },
   {
    "duration": 342,
    "start_time": "2021-07-07T18:27:15.887Z"
   },
   {
    "duration": 302,
    "start_time": "2021-07-07T18:28:18.569Z"
   },
   {
    "duration": 226,
    "start_time": "2021-07-07T18:29:20.879Z"
   },
   {
    "duration": 207,
    "start_time": "2021-07-07T18:29:58.114Z"
   },
   {
    "duration": 140,
    "start_time": "2021-07-07T18:32:04.372Z"
   },
   {
    "duration": 158,
    "start_time": "2021-07-07T18:32:32.508Z"
   },
   {
    "duration": 145,
    "start_time": "2021-07-07T18:32:41.365Z"
   },
   {
    "duration": 132,
    "start_time": "2021-07-07T18:32:45.199Z"
   },
   {
    "duration": 11,
    "start_time": "2021-07-07T18:35:24.679Z"
   },
   {
    "duration": 268,
    "start_time": "2021-07-07T18:36:16.145Z"
   },
   {
    "duration": 227,
    "start_time": "2021-07-07T18:37:04.918Z"
   },
   {
    "duration": 3,
    "start_time": "2021-07-07T18:37:33.012Z"
   },
   {
    "duration": 671,
    "start_time": "2021-07-07T18:37:38.295Z"
   },
   {
    "duration": 54,
    "start_time": "2021-07-07T18:37:53.406Z"
   },
   {
    "duration": 631,
    "start_time": "2021-07-07T18:37:56.463Z"
   },
   {
    "duration": 19,
    "start_time": "2021-07-07T18:39:40.535Z"
   },
   {
    "duration": 20,
    "start_time": "2021-07-07T18:40:12.236Z"
   },
   {
    "duration": 633,
    "start_time": "2021-07-07T18:42:00.398Z"
   },
   {
    "duration": 218,
    "start_time": "2021-07-07T18:42:01.033Z"
   },
   {
    "duration": 49,
    "start_time": "2021-07-07T18:42:01.253Z"
   },
   {
    "duration": 5,
    "start_time": "2021-07-07T18:42:01.303Z"
   },
   {
    "duration": 27,
    "start_time": "2021-07-07T18:42:01.310Z"
   },
   {
    "duration": 8,
    "start_time": "2021-07-07T18:42:01.339Z"
   },
   {
    "duration": 20,
    "start_time": "2021-07-07T18:42:01.348Z"
   },
   {
    "duration": 6,
    "start_time": "2021-07-07T18:42:01.386Z"
   },
   {
    "duration": 16,
    "start_time": "2021-07-07T18:42:01.394Z"
   },
   {
    "duration": 9,
    "start_time": "2021-07-07T18:42:01.411Z"
   },
   {
    "duration": 11,
    "start_time": "2021-07-07T18:42:01.421Z"
   },
   {
    "duration": 31,
    "start_time": "2021-07-07T18:42:01.434Z"
   },
   {
    "duration": 18,
    "start_time": "2021-07-07T18:42:01.485Z"
   },
   {
    "duration": 23,
    "start_time": "2021-07-07T18:42:01.505Z"
   },
   {
    "duration": 6,
    "start_time": "2021-07-07T18:42:01.530Z"
   },
   {
    "duration": 10,
    "start_time": "2021-07-07T18:42:01.538Z"
   },
   {
    "duration": 13,
    "start_time": "2021-07-07T18:42:01.550Z"
   },
   {
    "duration": 24,
    "start_time": "2021-07-07T18:42:01.564Z"
   },
   {
    "duration": 20,
    "start_time": "2021-07-07T18:42:01.590Z"
   },
   {
    "duration": 8,
    "start_time": "2021-07-07T18:42:01.611Z"
   },
   {
    "duration": 31,
    "start_time": "2021-07-07T18:42:01.620Z"
   },
   {
    "duration": 39,
    "start_time": "2021-07-07T18:42:01.653Z"
   },
   {
    "duration": 8,
    "start_time": "2021-07-07T18:42:01.696Z"
   },
   {
    "duration": 13,
    "start_time": "2021-07-07T18:42:01.705Z"
   },
   {
    "duration": 20,
    "start_time": "2021-07-07T18:42:01.720Z"
   },
   {
    "duration": 12,
    "start_time": "2021-07-07T18:42:01.741Z"
   },
   {
    "duration": 35,
    "start_time": "2021-07-07T18:42:01.755Z"
   },
   {
    "duration": 14,
    "start_time": "2021-07-07T18:42:01.792Z"
   },
   {
    "duration": 188,
    "start_time": "2021-07-07T18:42:01.808Z"
   },
   {
    "duration": 19,
    "start_time": "2021-07-07T18:42:01.998Z"
   },
   {
    "duration": 175,
    "start_time": "2021-07-07T18:42:02.019Z"
   },
   {
    "duration": 134,
    "start_time": "2021-07-07T18:42:02.196Z"
   },
   {
    "duration": 10,
    "start_time": "2021-07-07T18:42:02.331Z"
   },
   {
    "duration": 19,
    "start_time": "2021-07-07T18:42:02.343Z"
   },
   {
    "duration": 628,
    "start_time": "2021-07-07T18:46:30.701Z"
   },
   {
    "duration": 183,
    "start_time": "2021-07-07T18:46:31.331Z"
   },
   {
    "duration": 48,
    "start_time": "2021-07-07T18:46:31.516Z"
   },
   {
    "duration": 5,
    "start_time": "2021-07-07T18:46:31.566Z"
   },
   {
    "duration": 28,
    "start_time": "2021-07-07T18:46:31.572Z"
   },
   {
    "duration": 8,
    "start_time": "2021-07-07T18:46:31.602Z"
   },
   {
    "duration": 19,
    "start_time": "2021-07-07T18:46:31.611Z"
   },
   {
    "duration": 6,
    "start_time": "2021-07-07T18:46:31.633Z"
   },
   {
    "duration": 17,
    "start_time": "2021-07-07T18:46:31.642Z"
   },
   {
    "duration": 10,
    "start_time": "2021-07-07T18:46:31.684Z"
   },
   {
    "duration": 9,
    "start_time": "2021-07-07T18:46:31.695Z"
   },
   {
    "duration": 28,
    "start_time": "2021-07-07T18:46:31.705Z"
   },
   {
    "duration": 18,
    "start_time": "2021-07-07T18:46:31.735Z"
   },
   {
    "duration": 48,
    "start_time": "2021-07-07T18:46:31.755Z"
   },
   {
    "duration": 6,
    "start_time": "2021-07-07T18:46:31.804Z"
   },
   {
    "duration": 4,
    "start_time": "2021-07-07T18:46:31.812Z"
   },
   {
    "duration": 9,
    "start_time": "2021-07-07T18:46:31.817Z"
   },
   {
    "duration": 10,
    "start_time": "2021-07-07T18:46:31.827Z"
   },
   {
    "duration": 12,
    "start_time": "2021-07-07T18:46:31.838Z"
   },
   {
    "duration": 39,
    "start_time": "2021-07-07T18:46:31.851Z"
   },
   {
    "duration": 24,
    "start_time": "2021-07-07T18:46:31.892Z"
   },
   {
    "duration": 15,
    "start_time": "2021-07-07T18:46:31.918Z"
   },
   {
    "duration": 7,
    "start_time": "2021-07-07T18:46:31.936Z"
   },
   {
    "duration": 8,
    "start_time": "2021-07-07T18:46:31.944Z"
   },
   {
    "duration": 19,
    "start_time": "2021-07-07T18:46:31.984Z"
   },
   {
    "duration": 10,
    "start_time": "2021-07-07T18:46:32.004Z"
   },
   {
    "duration": 5,
    "start_time": "2021-07-07T18:46:32.016Z"
   },
   {
    "duration": 9,
    "start_time": "2021-07-07T18:46:32.023Z"
   },
   {
    "duration": 199,
    "start_time": "2021-07-07T18:46:32.033Z"
   },
   {
    "duration": 19,
    "start_time": "2021-07-07T18:46:32.234Z"
   },
   {
    "duration": 159,
    "start_time": "2021-07-07T18:46:32.255Z"
   },
   {
    "duration": 134,
    "start_time": "2021-07-07T18:46:32.416Z"
   },
   {
    "duration": 10,
    "start_time": "2021-07-07T18:46:32.552Z"
   },
   {
    "duration": 34,
    "start_time": "2021-07-07T18:46:32.563Z"
   },
   {
    "duration": 1039,
    "start_time": "2021-07-08T08:41:09.419Z"
   },
   {
    "duration": 333,
    "start_time": "2021-07-08T08:41:10.459Z"
   },
   {
    "duration": 173,
    "start_time": "2021-07-08T08:41:10.794Z"
   },
   {
    "duration": 5,
    "start_time": "2021-07-08T08:41:10.968Z"
   },
   {
    "duration": 25,
    "start_time": "2021-07-08T08:41:10.975Z"
   },
   {
    "duration": 9,
    "start_time": "2021-07-08T08:41:11.002Z"
   },
   {
    "duration": 18,
    "start_time": "2021-07-08T08:41:11.013Z"
   },
   {
    "duration": 6,
    "start_time": "2021-07-08T08:41:11.033Z"
   },
   {
    "duration": 44,
    "start_time": "2021-07-08T08:41:11.042Z"
   },
   {
    "duration": 10,
    "start_time": "2021-07-08T08:41:11.088Z"
   },
   {
    "duration": 9,
    "start_time": "2021-07-08T08:41:11.100Z"
   },
   {
    "duration": 27,
    "start_time": "2021-07-08T08:41:11.111Z"
   },
   {
    "duration": 46,
    "start_time": "2021-07-08T08:41:11.140Z"
   },
   {
    "duration": 17,
    "start_time": "2021-07-08T08:41:11.187Z"
   },
   {
    "duration": 6,
    "start_time": "2021-07-08T08:41:11.206Z"
   },
   {
    "duration": 5,
    "start_time": "2021-07-08T08:41:11.213Z"
   },
   {
    "duration": 10,
    "start_time": "2021-07-08T08:41:11.219Z"
   },
   {
    "duration": 9,
    "start_time": "2021-07-08T08:41:11.230Z"
   },
   {
    "duration": 45,
    "start_time": "2021-07-08T08:41:11.241Z"
   },
   {
    "duration": 7,
    "start_time": "2021-07-08T08:41:11.287Z"
   },
   {
    "duration": 24,
    "start_time": "2021-07-08T08:41:11.296Z"
   },
   {
    "duration": 16,
    "start_time": "2021-07-08T08:41:11.322Z"
   },
   {
    "duration": 7,
    "start_time": "2021-07-08T08:41:11.341Z"
   },
   {
    "duration": 41,
    "start_time": "2021-07-08T08:41:11.349Z"
   },
   {
    "duration": 17,
    "start_time": "2021-07-08T08:41:11.391Z"
   },
   {
    "duration": 9,
    "start_time": "2021-07-08T08:41:11.410Z"
   },
   {
    "duration": 5,
    "start_time": "2021-07-08T08:41:11.421Z"
   },
   {
    "duration": 6,
    "start_time": "2021-07-08T08:41:11.428Z"
   },
   {
    "duration": 198,
    "start_time": "2021-07-08T08:41:11.435Z"
   },
   {
    "duration": 18,
    "start_time": "2021-07-08T08:41:11.635Z"
   },
   {
    "duration": 155,
    "start_time": "2021-07-08T08:41:11.655Z"
   },
   {
    "duration": 138,
    "start_time": "2021-07-08T08:41:11.811Z"
   },
   {
    "duration": 10,
    "start_time": "2021-07-08T08:41:11.950Z"
   },
   {
    "duration": 29,
    "start_time": "2021-07-08T08:41:11.961Z"
   },
   {
    "duration": 171,
    "start_time": "2021-07-08T08:47:44.522Z"
   },
   {
    "duration": 124,
    "start_time": "2021-07-08T08:47:46.872Z"
   },
   {
    "duration": 191,
    "start_time": "2021-07-08T08:47:58.148Z"
   },
   {
    "duration": 191,
    "start_time": "2021-07-08T08:48:07.412Z"
   },
   {
    "duration": 261,
    "start_time": "2021-07-08T08:48:10.385Z"
   },
   {
    "duration": 255,
    "start_time": "2021-07-08T08:48:14.494Z"
   },
   {
    "duration": 219,
    "start_time": "2021-07-08T08:48:22.752Z"
   },
   {
    "duration": 173,
    "start_time": "2021-07-08T08:49:06.395Z"
   },
   {
    "duration": 180,
    "start_time": "2021-07-08T08:49:21.011Z"
   },
   {
    "duration": 6,
    "start_time": "2021-07-08T08:50:31.697Z"
   },
   {
    "duration": 10,
    "start_time": "2021-07-08T08:50:47.394Z"
   },
   {
    "duration": 11,
    "start_time": "2021-07-08T08:53:49.332Z"
   },
   {
    "duration": 171,
    "start_time": "2021-07-08T08:54:28.408Z"
   },
   {
    "duration": 636,
    "start_time": "2021-07-08T09:02:48.385Z"
   },
   {
    "duration": 227,
    "start_time": "2021-07-08T09:02:49.023Z"
   },
   {
    "duration": 104,
    "start_time": "2021-07-08T09:02:49.252Z"
   },
   {
    "duration": 5,
    "start_time": "2021-07-08T09:02:49.358Z"
   },
   {
    "duration": 27,
    "start_time": "2021-07-08T09:02:49.365Z"
   },
   {
    "duration": 8,
    "start_time": "2021-07-08T09:02:49.394Z"
   },
   {
    "duration": 18,
    "start_time": "2021-07-08T09:02:49.404Z"
   },
   {
    "duration": 6,
    "start_time": "2021-07-08T09:02:49.424Z"
   },
   {
    "duration": 11,
    "start_time": "2021-07-08T09:02:49.433Z"
   },
   {
    "duration": 13,
    "start_time": "2021-07-08T09:02:49.485Z"
   },
   {
    "duration": 9,
    "start_time": "2021-07-08T09:02:49.500Z"
   },
   {
    "duration": 38,
    "start_time": "2021-07-08T09:02:49.511Z"
   },
   {
    "duration": 42,
    "start_time": "2021-07-08T09:02:49.551Z"
   },
   {
    "duration": 21,
    "start_time": "2021-07-08T09:02:49.594Z"
   },
   {
    "duration": 6,
    "start_time": "2021-07-08T09:02:49.616Z"
   },
   {
    "duration": 3,
    "start_time": "2021-07-08T09:02:49.623Z"
   },
   {
    "duration": 9,
    "start_time": "2021-07-08T09:02:49.628Z"
   },
   {
    "duration": 52,
    "start_time": "2021-07-08T09:02:49.638Z"
   },
   {
    "duration": 11,
    "start_time": "2021-07-08T09:02:49.692Z"
   },
   {
    "duration": 8,
    "start_time": "2021-07-08T09:02:49.704Z"
   },
   {
    "duration": 27,
    "start_time": "2021-07-08T09:02:49.713Z"
   },
   {
    "duration": 59,
    "start_time": "2021-07-08T09:02:49.741Z"
   },
   {
    "duration": 8,
    "start_time": "2021-07-08T09:02:49.803Z"
   },
   {
    "duration": 14,
    "start_time": "2021-07-08T09:02:49.813Z"
   },
   {
    "duration": 20,
    "start_time": "2021-07-08T09:02:49.829Z"
   },
   {
    "duration": 44,
    "start_time": "2021-07-08T09:02:49.851Z"
   },
   {
    "duration": 14,
    "start_time": "2021-07-08T09:02:49.896Z"
   },
   {
    "duration": 221,
    "start_time": "2021-07-08T09:02:49.912Z"
   },
   {
    "duration": 6,
    "start_time": "2021-07-08T09:02:50.134Z"
   },
   {
    "duration": 206,
    "start_time": "2021-07-08T09:02:50.142Z"
   },
   {
    "duration": 19,
    "start_time": "2021-07-08T09:02:50.350Z"
   },
   {
    "duration": 21,
    "start_time": "2021-07-08T09:02:50.370Z"
   },
   {
    "duration": 20,
    "start_time": "2021-07-08T09:02:50.393Z"
   },
   {
    "duration": 5,
    "start_time": "2021-07-08T09:02:50.414Z"
   },
   {
    "duration": 5,
    "start_time": "2021-07-08T09:03:34.173Z"
   },
   {
    "duration": 6,
    "start_time": "2021-07-08T09:04:49.062Z"
   },
   {
    "duration": 9,
    "start_time": "2021-07-08T09:04:50.118Z"
   },
   {
    "duration": 14,
    "start_time": "2021-07-08T09:04:58.512Z"
   },
   {
    "duration": 9,
    "start_time": "2021-07-08T09:05:10.988Z"
   },
   {
    "duration": 11,
    "start_time": "2021-07-08T09:05:11.743Z"
   },
   {
    "duration": 7,
    "start_time": "2021-07-08T09:05:25.677Z"
   },
   {
    "duration": 13,
    "start_time": "2021-07-08T09:05:47.189Z"
   },
   {
    "duration": 13,
    "start_time": "2021-07-08T09:05:54.755Z"
   },
   {
    "duration": 4,
    "start_time": "2021-07-08T09:06:29.189Z"
   },
   {
    "duration": 244,
    "start_time": "2021-07-08T09:06:29.195Z"
   },
   {
    "duration": 91,
    "start_time": "2021-07-08T09:06:29.441Z"
   },
   {
    "duration": 4,
    "start_time": "2021-07-08T09:06:29.534Z"
   },
   {
    "duration": 28,
    "start_time": "2021-07-08T09:06:29.540Z"
   },
   {
    "duration": 6,
    "start_time": "2021-07-08T09:06:29.570Z"
   },
   {
    "duration": 18,
    "start_time": "2021-07-08T09:06:29.578Z"
   },
   {
    "duration": 5,
    "start_time": "2021-07-08T09:06:29.597Z"
   },
   {
    "duration": 13,
    "start_time": "2021-07-08T09:06:29.605Z"
   },
   {
    "duration": 8,
    "start_time": "2021-07-08T09:06:29.620Z"
   },
   {
    "duration": 7,
    "start_time": "2021-07-08T09:06:29.630Z"
   },
   {
    "duration": 63,
    "start_time": "2021-07-08T09:06:29.639Z"
   },
   {
    "duration": 17,
    "start_time": "2021-07-08T09:06:29.704Z"
   },
   {
    "duration": 20,
    "start_time": "2021-07-08T09:06:29.723Z"
   },
   {
    "duration": 6,
    "start_time": "2021-07-08T09:06:29.745Z"
   },
   {
    "duration": 3,
    "start_time": "2021-07-08T09:06:29.752Z"
   },
   {
    "duration": 7,
    "start_time": "2021-07-08T09:06:29.785Z"
   },
   {
    "duration": 11,
    "start_time": "2021-07-08T09:06:29.794Z"
   },
   {
    "duration": 15,
    "start_time": "2021-07-08T09:06:29.807Z"
   },
   {
    "duration": 8,
    "start_time": "2021-07-08T09:06:29.823Z"
   },
   {
    "duration": 70,
    "start_time": "2021-07-08T09:06:29.832Z"
   },
   {
    "duration": 17,
    "start_time": "2021-07-08T09:06:29.903Z"
   },
   {
    "duration": 9,
    "start_time": "2021-07-08T09:06:29.921Z"
   },
   {
    "duration": 9,
    "start_time": "2021-07-08T09:06:29.932Z"
   },
   {
    "duration": 57,
    "start_time": "2021-07-08T09:06:29.942Z"
   },
   {
    "duration": 11,
    "start_time": "2021-07-08T09:06:30.001Z"
   },
   {
    "duration": 19,
    "start_time": "2021-07-08T09:06:30.016Z"
   },
   {
    "duration": 217,
    "start_time": "2021-07-08T09:06:30.037Z"
   },
   {
    "duration": 6,
    "start_time": "2021-07-08T09:06:30.255Z"
   },
   {
    "duration": 205,
    "start_time": "2021-07-08T09:06:30.263Z"
   },
   {
    "duration": 27,
    "start_time": "2021-07-08T09:06:30.470Z"
   },
   {
    "duration": 11,
    "start_time": "2021-07-08T09:06:30.500Z"
   },
   {
    "duration": 31,
    "start_time": "2021-07-08T09:06:30.513Z"
   },
   {
    "duration": 18,
    "start_time": "2021-07-08T09:06:30.546Z"
   },
   {
    "duration": 11,
    "start_time": "2021-07-08T09:06:30.566Z"
   },
   {
    "duration": 19,
    "start_time": "2021-07-08T09:06:30.579Z"
   },
   {
    "duration": 20,
    "start_time": "2021-07-08T09:06:49.466Z"
   },
   {
    "duration": 9,
    "start_time": "2021-07-08T09:06:51.994Z"
   },
   {
    "duration": 20,
    "start_time": "2021-07-08T09:06:52.273Z"
   },
   {
    "duration": 246,
    "start_time": "2021-07-08T09:10:21.272Z"
   },
   {
    "duration": 84,
    "start_time": "2021-07-08T09:10:21.436Z"
   },
   {
    "duration": 7,
    "start_time": "2021-07-08T09:10:37.608Z"
   },
   {
    "duration": 189,
    "start_time": "2021-07-08T09:10:38.573Z"
   },
   {
    "duration": 185,
    "start_time": "2021-07-08T09:10:53.181Z"
   },
   {
    "duration": 11,
    "start_time": "2021-07-08T09:10:59.549Z"
   },
   {
    "duration": 42,
    "start_time": "2021-07-08T09:10:59.709Z"
   },
   {
    "duration": 12,
    "start_time": "2021-07-08T09:11:02.857Z"
   },
   {
    "duration": 28,
    "start_time": "2021-07-08T09:11:10.062Z"
   },
   {
    "duration": 249,
    "start_time": "2021-07-08T09:11:37.388Z"
   },
   {
    "duration": 232,
    "start_time": "2021-07-08T09:11:49.485Z"
   },
   {
    "duration": 453,
    "start_time": "2021-07-08T09:12:01.546Z"
   },
   {
    "duration": 440,
    "start_time": "2021-07-08T09:12:12.347Z"
   },
   {
    "duration": 213,
    "start_time": "2021-07-08T09:13:32.196Z"
   },
   {
    "duration": 172,
    "start_time": "2021-07-08T09:14:07.400Z"
   },
   {
    "duration": 185,
    "start_time": "2021-07-08T09:14:14.905Z"
   },
   {
    "duration": 209,
    "start_time": "2021-07-08T09:14:40.109Z"
   },
   {
    "duration": 201,
    "start_time": "2021-07-08T09:14:54.506Z"
   },
   {
    "duration": 622,
    "start_time": "2021-07-08T09:18:14.497Z"
   },
   {
    "duration": 220,
    "start_time": "2021-07-08T09:18:15.121Z"
   },
   {
    "duration": 79,
    "start_time": "2021-07-08T09:18:15.343Z"
   },
   {
    "duration": 4,
    "start_time": "2021-07-08T09:18:15.425Z"
   },
   {
    "duration": 24,
    "start_time": "2021-07-08T09:18:15.431Z"
   },
   {
    "duration": 8,
    "start_time": "2021-07-08T09:18:15.457Z"
   },
   {
    "duration": 16,
    "start_time": "2021-07-08T09:18:15.466Z"
   },
   {
    "duration": 5,
    "start_time": "2021-07-08T09:18:15.484Z"
   },
   {
    "duration": 10,
    "start_time": "2021-07-08T09:18:15.493Z"
   },
   {
    "duration": 8,
    "start_time": "2021-07-08T09:18:15.504Z"
   },
   {
    "duration": 7,
    "start_time": "2021-07-08T09:18:15.513Z"
   },
   {
    "duration": 26,
    "start_time": "2021-07-08T09:18:15.522Z"
   },
   {
    "duration": 49,
    "start_time": "2021-07-08T09:18:15.550Z"
   },
   {
    "duration": 21,
    "start_time": "2021-07-08T09:18:15.601Z"
   },
   {
    "duration": 8,
    "start_time": "2021-07-08T09:18:15.624Z"
   },
   {
    "duration": 3,
    "start_time": "2021-07-08T09:18:15.634Z"
   },
   {
    "duration": 8,
    "start_time": "2021-07-08T09:18:15.639Z"
   },
   {
    "duration": 45,
    "start_time": "2021-07-08T09:18:15.649Z"
   },
   {
    "duration": 13,
    "start_time": "2021-07-08T09:18:15.696Z"
   },
   {
    "duration": 10,
    "start_time": "2021-07-08T09:18:15.711Z"
   },
   {
    "duration": 64,
    "start_time": "2021-07-08T09:18:15.722Z"
   },
   {
    "duration": 19,
    "start_time": "2021-07-08T09:18:15.788Z"
   },
   {
    "duration": 9,
    "start_time": "2021-07-08T09:18:15.809Z"
   },
   {
    "duration": 9,
    "start_time": "2021-07-08T09:18:15.820Z"
   },
   {
    "duration": 18,
    "start_time": "2021-07-08T09:18:15.831Z"
   },
   {
    "duration": 43,
    "start_time": "2021-07-08T09:18:15.851Z"
   },
   {
    "duration": 12,
    "start_time": "2021-07-08T09:18:15.897Z"
   },
   {
    "duration": 219,
    "start_time": "2021-07-08T09:18:15.911Z"
   },
   {
    "duration": 8,
    "start_time": "2021-07-08T09:18:16.132Z"
   },
   {
    "duration": 199,
    "start_time": "2021-07-08T09:18:16.141Z"
   },
   {
    "duration": 18,
    "start_time": "2021-07-08T09:18:16.341Z"
   },
   {
    "duration": 24,
    "start_time": "2021-07-08T09:18:16.361Z"
   },
   {
    "duration": 24,
    "start_time": "2021-07-08T09:18:16.387Z"
   },
   {
    "duration": 211,
    "start_time": "2021-07-08T09:18:16.413Z"
   },
   {
    "duration": 18,
    "start_time": "2021-07-08T09:18:16.626Z"
   },
   {
    "duration": 596,
    "start_time": "2021-07-08T10:06:33.623Z"
   },
   {
    "duration": 181,
    "start_time": "2021-07-08T10:06:34.221Z"
   },
   {
    "duration": 176,
    "start_time": "2021-07-08T10:06:34.635Z"
   },
   {
    "duration": 239,
    "start_time": "2021-07-08T10:06:55.572Z"
   },
   {
    "duration": 6,
    "start_time": "2021-07-08T10:06:57.687Z"
   },
   {
    "duration": 4,
    "start_time": "2021-07-08T10:07:03.956Z"
   },
   {
    "duration": 4,
    "start_time": "2021-07-08T10:07:10.376Z"
   },
   {
    "duration": 4,
    "start_time": "2021-07-08T10:17:19.889Z"
   },
   {
    "duration": 3,
    "start_time": "2021-07-08T10:19:19.407Z"
   },
   {
    "duration": 197,
    "start_time": "2021-07-08T10:19:19.412Z"
   },
   {
    "duration": 127,
    "start_time": "2021-07-08T10:19:19.611Z"
   },
   {
    "duration": 4,
    "start_time": "2021-07-08T10:19:19.740Z"
   },
   {
    "duration": 27,
    "start_time": "2021-07-08T10:19:19.746Z"
   },
   {
    "duration": 7,
    "start_time": "2021-07-08T10:19:19.775Z"
   },
   {
    "duration": 30,
    "start_time": "2021-07-08T10:19:19.784Z"
   },
   {
    "duration": 7,
    "start_time": "2021-07-08T10:19:19.817Z"
   },
   {
    "duration": 26,
    "start_time": "2021-07-08T10:19:19.826Z"
   },
   {
    "duration": 18,
    "start_time": "2021-07-08T10:19:19.854Z"
   },
   {
    "duration": 14,
    "start_time": "2021-07-08T10:19:19.874Z"
   },
   {
    "duration": 48,
    "start_time": "2021-07-08T10:19:19.890Z"
   },
   {
    "duration": 17,
    "start_time": "2021-07-08T10:19:19.940Z"
   },
   {
    "duration": 38,
    "start_time": "2021-07-08T10:19:19.959Z"
   },
   {
    "duration": 8,
    "start_time": "2021-07-08T10:19:19.999Z"
   },
   {
    "duration": 15,
    "start_time": "2021-07-08T10:19:20.009Z"
   },
   {
    "duration": 22,
    "start_time": "2021-07-08T10:19:20.026Z"
   },
   {
    "duration": 10,
    "start_time": "2021-07-08T10:19:20.050Z"
   },
   {
    "duration": 10,
    "start_time": "2021-07-08T10:19:20.062Z"
   },
   {
    "duration": 20,
    "start_time": "2021-07-08T10:19:20.073Z"
   },
   {
    "duration": 29,
    "start_time": "2021-07-08T10:19:20.095Z"
   },
   {
    "duration": 17,
    "start_time": "2021-07-08T10:19:20.126Z"
   },
   {
    "duration": 40,
    "start_time": "2021-07-08T10:19:20.146Z"
   },
   {
    "duration": 15,
    "start_time": "2021-07-08T10:19:20.189Z"
   },
   {
    "duration": 19,
    "start_time": "2021-07-08T10:19:20.206Z"
   },
   {
    "duration": 10,
    "start_time": "2021-07-08T10:19:20.226Z"
   },
   {
    "duration": 11,
    "start_time": "2021-07-08T10:19:20.238Z"
   },
   {
    "duration": 297,
    "start_time": "2021-07-08T10:19:20.250Z"
   },
   {
    "duration": 6,
    "start_time": "2021-07-08T10:19:20.549Z"
   },
   {
    "duration": 191,
    "start_time": "2021-07-08T10:19:20.557Z"
   },
   {
    "duration": 19,
    "start_time": "2021-07-08T10:19:20.750Z"
   },
   {
    "duration": 20,
    "start_time": "2021-07-08T10:19:20.771Z"
   },
   {
    "duration": 15,
    "start_time": "2021-07-08T10:19:20.793Z"
   },
   {
    "duration": 222,
    "start_time": "2021-07-08T10:19:20.809Z"
   },
   {
    "duration": 20,
    "start_time": "2021-07-08T10:19:21.033Z"
   },
   {
    "duration": 27,
    "start_time": "2021-07-08T10:45:04.055Z"
   },
   {
    "duration": 8,
    "start_time": "2021-07-08T10:45:08.478Z"
   },
   {
    "duration": 8,
    "start_time": "2021-07-08T10:45:31.982Z"
   },
   {
    "duration": 10,
    "start_time": "2021-07-08T10:46:01.221Z"
   },
   {
    "duration": 17,
    "start_time": "2021-07-08T10:46:40.011Z"
   },
   {
    "duration": 193,
    "start_time": "2021-07-08T10:48:19.471Z"
   },
   {
    "duration": 225,
    "start_time": "2021-07-08T10:49:26.480Z"
   },
   {
    "duration": 204,
    "start_time": "2021-07-08T10:49:59.992Z"
   },
   {
    "duration": 435,
    "start_time": "2021-07-08T10:50:06.779Z"
   },
   {
    "duration": 199,
    "start_time": "2021-07-08T10:50:14.891Z"
   },
   {
    "duration": 204,
    "start_time": "2021-07-08T10:50:18.501Z"
   },
   {
    "duration": 244,
    "start_time": "2021-07-08T10:50:23.359Z"
   },
   {
    "duration": 192,
    "start_time": "2021-07-08T10:50:29.135Z"
   },
   {
    "duration": 218,
    "start_time": "2021-07-08T10:50:33.092Z"
   },
   {
    "duration": 207,
    "start_time": "2021-07-08T10:52:45.381Z"
   },
   {
    "duration": 5,
    "start_time": "2021-07-08T10:53:34.641Z"
   },
   {
    "duration": 196,
    "start_time": "2021-07-08T10:53:41.478Z"
   },
   {
    "duration": 43,
    "start_time": "2021-07-08T10:53:50.335Z"
   },
   {
    "duration": 32,
    "start_time": "2021-07-08T10:53:55.294Z"
   },
   {
    "duration": 55,
    "start_time": "2021-07-08T10:54:09.675Z"
   },
   {
    "duration": 16,
    "start_time": "2021-07-08T10:54:12.260Z"
   },
   {
    "duration": 15,
    "start_time": "2021-07-08T10:54:49.150Z"
   },
   {
    "duration": 20,
    "start_time": "2021-07-08T10:56:07.596Z"
   },
   {
    "duration": 16,
    "start_time": "2021-07-08T10:58:26.276Z"
   },
   {
    "duration": 22,
    "start_time": "2021-07-08T10:59:00.486Z"
   },
   {
    "duration": 18,
    "start_time": "2021-07-08T11:02:09.653Z"
   },
   {
    "duration": 10,
    "start_time": "2021-07-08T11:03:44.331Z"
   },
   {
    "duration": 10,
    "start_time": "2021-07-08T11:03:54.055Z"
   },
   {
    "duration": 12,
    "start_time": "2021-07-08T11:04:41.967Z"
   },
   {
    "duration": 24,
    "start_time": "2021-07-08T11:07:30.732Z"
   },
   {
    "duration": 6,
    "start_time": "2021-07-08T11:07:37.364Z"
   },
   {
    "duration": 16,
    "start_time": "2021-07-08T11:08:01.819Z"
   },
   {
    "duration": 17,
    "start_time": "2021-07-08T11:09:47.488Z"
   },
   {
    "duration": 246,
    "start_time": "2021-07-08T11:10:00.830Z"
   },
   {
    "duration": 18,
    "start_time": "2021-07-08T11:13:55.195Z"
   },
   {
    "duration": 204,
    "start_time": "2021-07-08T11:14:04.951Z"
   },
   {
    "duration": 19,
    "start_time": "2021-07-08T11:15:10.613Z"
   },
   {
    "duration": 680,
    "start_time": "2021-07-08T11:16:25.793Z"
   },
   {
    "duration": 451,
    "start_time": "2021-07-08T11:16:40.313Z"
   },
   {
    "duration": 469,
    "start_time": "2021-07-08T11:17:21.286Z"
   },
   {
    "duration": 20,
    "start_time": "2021-07-08T11:19:12.554Z"
   },
   {
    "duration": 35,
    "start_time": "2021-07-08T11:20:05.484Z"
   },
   {
    "duration": 53,
    "start_time": "2021-07-08T11:21:40.050Z"
   },
   {
    "duration": 13,
    "start_time": "2021-07-08T11:22:26.059Z"
   },
   {
    "duration": 19,
    "start_time": "2021-07-08T11:22:47.419Z"
   },
   {
    "duration": 25,
    "start_time": "2021-07-08T11:23:19.958Z"
   },
   {
    "duration": 29,
    "start_time": "2021-07-08T11:23:25.415Z"
   },
   {
    "duration": 10,
    "start_time": "2021-07-08T11:24:45.138Z"
   },
   {
    "duration": 19,
    "start_time": "2021-07-08T11:24:54.498Z"
   },
   {
    "duration": 12,
    "start_time": "2021-07-08T11:25:32.225Z"
   },
   {
    "duration": 19,
    "start_time": "2021-07-08T11:25:37.092Z"
   },
   {
    "duration": 17,
    "start_time": "2021-07-08T11:25:58.116Z"
   },
   {
    "duration": 15,
    "start_time": "2021-07-08T11:26:02.258Z"
   },
   {
    "duration": 8,
    "start_time": "2021-07-08T11:26:59.682Z"
   },
   {
    "duration": 184,
    "start_time": "2021-07-08T11:27:21.894Z"
   },
   {
    "duration": 8,
    "start_time": "2021-07-08T11:27:23.824Z"
   },
   {
    "duration": 202,
    "start_time": "2021-07-08T11:27:23.962Z"
   },
   {
    "duration": 360,
    "start_time": "2021-07-08T11:28:33.215Z"
   },
   {
    "duration": 231,
    "start_time": "2021-07-08T11:32:05.542Z"
   },
   {
    "duration": 607,
    "start_time": "2021-07-08T11:36:27.854Z"
   },
   {
    "duration": 241,
    "start_time": "2021-07-08T11:36:28.463Z"
   },
   {
    "duration": 67,
    "start_time": "2021-07-08T11:36:28.709Z"
   },
   {
    "duration": 5,
    "start_time": "2021-07-08T11:36:28.778Z"
   },
   {
    "duration": 32,
    "start_time": "2021-07-08T11:36:28.784Z"
   },
   {
    "duration": 11,
    "start_time": "2021-07-08T11:36:28.819Z"
   },
   {
    "duration": 20,
    "start_time": "2021-07-08T11:36:28.834Z"
   },
   {
    "duration": 36,
    "start_time": "2021-07-08T11:36:28.857Z"
   },
   {
    "duration": 16,
    "start_time": "2021-07-08T11:36:28.895Z"
   },
   {
    "duration": 14,
    "start_time": "2021-07-08T11:36:28.913Z"
   },
   {
    "duration": 9,
    "start_time": "2021-07-08T11:36:28.930Z"
   },
   {
    "duration": 55,
    "start_time": "2021-07-08T11:36:28.941Z"
   },
   {
    "duration": 27,
    "start_time": "2021-07-08T11:36:28.999Z"
   },
   {
    "duration": 30,
    "start_time": "2021-07-08T11:36:29.028Z"
   },
   {
    "duration": 31,
    "start_time": "2021-07-08T11:36:29.060Z"
   },
   {
    "duration": 3,
    "start_time": "2021-07-08T11:36:29.093Z"
   },
   {
    "duration": 12,
    "start_time": "2021-07-08T11:36:29.099Z"
   },
   {
    "duration": 11,
    "start_time": "2021-07-08T11:36:29.112Z"
   },
   {
    "duration": 12,
    "start_time": "2021-07-08T11:36:29.125Z"
   },
   {
    "duration": 9,
    "start_time": "2021-07-08T11:36:29.139Z"
   },
   {
    "duration": 31,
    "start_time": "2021-07-08T11:36:29.191Z"
   },
   {
    "duration": 17,
    "start_time": "2021-07-08T11:36:29.226Z"
   },
   {
    "duration": 7,
    "start_time": "2021-07-08T11:36:29.245Z"
   },
   {
    "duration": 10,
    "start_time": "2021-07-08T11:36:29.254Z"
   },
   {
    "duration": 30,
    "start_time": "2021-07-08T11:36:29.292Z"
   },
   {
    "duration": 11,
    "start_time": "2021-07-08T11:36:29.324Z"
   },
   {
    "duration": 11,
    "start_time": "2021-07-08T11:36:29.337Z"
   },
   {
    "duration": 230,
    "start_time": "2021-07-08T11:36:29.349Z"
   },
   {
    "duration": 13,
    "start_time": "2021-07-08T11:36:29.588Z"
   },
   {
    "duration": 205,
    "start_time": "2021-07-08T11:36:29.603Z"
   },
   {
    "duration": 20,
    "start_time": "2021-07-08T11:36:29.810Z"
   },
   {
    "duration": 9,
    "start_time": "2021-07-08T11:36:29.832Z"
   },
   {
    "duration": 16,
    "start_time": "2021-07-08T11:36:29.843Z"
   },
   {
    "duration": 283,
    "start_time": "2021-07-08T11:36:29.861Z"
   },
   {
    "duration": 50,
    "start_time": "2021-07-08T11:36:30.146Z"
   },
   {
    "duration": 14,
    "start_time": "2021-07-08T11:36:30.198Z"
   },
   {
    "duration": 11,
    "start_time": "2021-07-08T11:36:30.214Z"
   },
   {
    "duration": 245,
    "start_time": "2021-07-08T11:36:30.227Z"
   },
   {
    "duration": 439,
    "start_time": "2021-07-08T11:36:30.474Z"
   },
   {
    "duration": 210,
    "start_time": "2021-07-08T11:36:30.915Z"
   },
   {
    "duration": 15,
    "start_time": "2021-07-08T11:36:31.127Z"
   },
   {
    "duration": 17,
    "start_time": "2021-07-08T11:38:20.451Z"
   },
   {
    "duration": 642,
    "start_time": "2021-07-08T11:46:17.881Z"
   },
   {
    "duration": 210,
    "start_time": "2021-07-08T11:46:18.525Z"
   },
   {
    "duration": 104,
    "start_time": "2021-07-08T11:46:18.741Z"
   },
   {
    "duration": 8,
    "start_time": "2021-07-08T11:46:18.847Z"
   },
   {
    "duration": 25,
    "start_time": "2021-07-08T11:46:18.857Z"
   },
   {
    "duration": 14,
    "start_time": "2021-07-08T11:46:18.884Z"
   },
   {
    "duration": 22,
    "start_time": "2021-07-08T11:46:18.900Z"
   },
   {
    "duration": 5,
    "start_time": "2021-07-08T11:46:18.924Z"
   },
   {
    "duration": 13,
    "start_time": "2021-07-08T11:46:18.931Z"
   },
   {
    "duration": 45,
    "start_time": "2021-07-08T11:46:18.946Z"
   },
   {
    "duration": 12,
    "start_time": "2021-07-08T11:46:18.993Z"
   },
   {
    "duration": 38,
    "start_time": "2021-07-08T11:46:19.006Z"
   },
   {
    "duration": 50,
    "start_time": "2021-07-08T11:46:19.046Z"
   },
   {
    "duration": 29,
    "start_time": "2021-07-08T11:46:19.099Z"
   },
   {
    "duration": 7,
    "start_time": "2021-07-08T11:46:19.130Z"
   },
   {
    "duration": 3,
    "start_time": "2021-07-08T11:46:19.139Z"
   },
   {
    "duration": 11,
    "start_time": "2021-07-08T11:46:19.144Z"
   },
   {
    "duration": 40,
    "start_time": "2021-07-08T11:46:19.157Z"
   },
   {
    "duration": 15,
    "start_time": "2021-07-08T11:46:19.199Z"
   },
   {
    "duration": 10,
    "start_time": "2021-07-08T11:46:19.217Z"
   },
   {
    "duration": 68,
    "start_time": "2021-07-08T11:46:19.230Z"
   },
   {
    "duration": 17,
    "start_time": "2021-07-08T11:46:19.301Z"
   },
   {
    "duration": 7,
    "start_time": "2021-07-08T11:46:19.321Z"
   },
   {
    "duration": 11,
    "start_time": "2021-07-08T11:46:19.330Z"
   },
   {
    "duration": 59,
    "start_time": "2021-07-08T11:46:19.343Z"
   },
   {
    "duration": 17,
    "start_time": "2021-07-08T11:46:19.405Z"
   },
   {
    "duration": 16,
    "start_time": "2021-07-08T11:46:19.424Z"
   },
   {
    "duration": 252,
    "start_time": "2021-07-08T11:46:19.443Z"
   },
   {
    "duration": 9,
    "start_time": "2021-07-08T11:46:19.697Z"
   },
   {
    "duration": 224,
    "start_time": "2021-07-08T11:46:19.708Z"
   },
   {
    "duration": 21,
    "start_time": "2021-07-08T11:46:19.934Z"
   },
   {
    "duration": 9,
    "start_time": "2021-07-08T11:46:19.956Z"
   },
   {
    "duration": 32,
    "start_time": "2021-07-08T11:46:19.967Z"
   },
   {
    "duration": 288,
    "start_time": "2021-07-08T11:46:20.004Z"
   },
   {
    "duration": 23,
    "start_time": "2021-07-08T11:46:20.300Z"
   },
   {
    "duration": 11,
    "start_time": "2021-07-08T11:46:20.325Z"
   },
   {
    "duration": 11,
    "start_time": "2021-07-08T11:46:20.339Z"
   },
   {
    "duration": 259,
    "start_time": "2021-07-08T11:46:20.352Z"
   },
   {
    "duration": 438,
    "start_time": "2021-07-08T11:46:20.613Z"
   },
   {
    "duration": 207,
    "start_time": "2021-07-08T11:46:21.054Z"
   },
   {
    "duration": 27,
    "start_time": "2021-07-08T11:46:21.262Z"
   },
   {
    "duration": 19,
    "start_time": "2021-07-08T11:46:21.291Z"
   },
   {
    "duration": 820,
    "start_time": "2021-07-08T11:49:01.655Z"
   },
   {
    "duration": 372,
    "start_time": "2021-07-08T11:49:02.478Z"
   },
   {
    "duration": 98,
    "start_time": "2021-07-08T11:49:02.853Z"
   },
   {
    "duration": 6,
    "start_time": "2021-07-08T11:49:02.953Z"
   },
   {
    "duration": 39,
    "start_time": "2021-07-08T11:49:02.960Z"
   },
   {
    "duration": 9,
    "start_time": "2021-07-08T11:49:03.003Z"
   },
   {
    "duration": 23,
    "start_time": "2021-07-08T11:49:03.014Z"
   },
   {
    "duration": 6,
    "start_time": "2021-07-08T11:49:03.041Z"
   },
   {
    "duration": 20,
    "start_time": "2021-07-08T11:49:03.049Z"
   },
   {
    "duration": 18,
    "start_time": "2021-07-08T11:49:03.084Z"
   },
   {
    "duration": 14,
    "start_time": "2021-07-08T11:49:03.104Z"
   },
   {
    "duration": 39,
    "start_time": "2021-07-08T11:49:03.119Z"
   },
   {
    "duration": 38,
    "start_time": "2021-07-08T11:49:03.160Z"
   },
   {
    "duration": 26,
    "start_time": "2021-07-08T11:49:03.200Z"
   },
   {
    "duration": 7,
    "start_time": "2021-07-08T11:49:03.227Z"
   },
   {
    "duration": 4,
    "start_time": "2021-07-08T11:49:03.236Z"
   },
   {
    "duration": 15,
    "start_time": "2021-07-08T11:49:03.243Z"
   },
   {
    "duration": 21,
    "start_time": "2021-07-08T11:49:03.285Z"
   },
   {
    "duration": 17,
    "start_time": "2021-07-08T11:49:03.309Z"
   },
   {
    "duration": 10,
    "start_time": "2021-07-08T11:49:03.328Z"
   },
   {
    "duration": 65,
    "start_time": "2021-07-08T11:49:03.340Z"
   },
   {
    "duration": 18,
    "start_time": "2021-07-08T11:49:03.407Z"
   },
   {
    "duration": 8,
    "start_time": "2021-07-08T11:49:03.428Z"
   },
   {
    "duration": 15,
    "start_time": "2021-07-08T11:49:03.438Z"
   },
   {
    "duration": 40,
    "start_time": "2021-07-08T11:49:03.455Z"
   },
   {
    "duration": 12,
    "start_time": "2021-07-08T11:49:03.497Z"
   },
   {
    "duration": 29,
    "start_time": "2021-07-08T11:49:03.511Z"
   },
   {
    "duration": 285,
    "start_time": "2021-07-08T11:49:03.542Z"
   },
   {
    "duration": 8,
    "start_time": "2021-07-08T11:49:03.829Z"
   },
   {
    "duration": 227,
    "start_time": "2021-07-08T11:49:03.838Z"
   },
   {
    "duration": 40,
    "start_time": "2021-07-08T11:49:04.066Z"
   },
   {
    "duration": 10,
    "start_time": "2021-07-08T11:49:04.108Z"
   },
   {
    "duration": 26,
    "start_time": "2021-07-08T11:49:04.121Z"
   },
   {
    "duration": 290,
    "start_time": "2021-07-08T11:49:04.149Z"
   },
   {
    "duration": 26,
    "start_time": "2021-07-08T11:49:04.441Z"
   },
   {
    "duration": 31,
    "start_time": "2021-07-08T11:49:04.470Z"
   },
   {
    "duration": 14,
    "start_time": "2021-07-08T11:49:04.503Z"
   },
   {
    "duration": 259,
    "start_time": "2021-07-08T11:49:04.521Z"
   },
   {
    "duration": 480,
    "start_time": "2021-07-08T11:49:04.782Z"
   },
   {
    "duration": 225,
    "start_time": "2021-07-08T11:49:05.264Z"
   },
   {
    "duration": 22,
    "start_time": "2021-07-08T11:49:05.491Z"
   },
   {
    "duration": 24,
    "start_time": "2021-07-08T11:49:05.515Z"
   },
   {
    "duration": 634,
    "start_time": "2021-07-08T11:52:24.960Z"
   },
   {
    "duration": 199,
    "start_time": "2021-07-08T11:52:25.599Z"
   },
   {
    "duration": 106,
    "start_time": "2021-07-08T11:52:25.803Z"
   },
   {
    "duration": 7,
    "start_time": "2021-07-08T11:52:25.911Z"
   },
   {
    "duration": 29,
    "start_time": "2021-07-08T11:52:25.920Z"
   },
   {
    "duration": 7,
    "start_time": "2021-07-08T11:52:25.951Z"
   },
   {
    "duration": 26,
    "start_time": "2021-07-08T11:52:25.961Z"
   },
   {
    "duration": 11,
    "start_time": "2021-07-08T11:52:25.990Z"
   },
   {
    "duration": 29,
    "start_time": "2021-07-08T11:52:26.005Z"
   },
   {
    "duration": 9,
    "start_time": "2021-07-08T11:52:26.036Z"
   },
   {
    "duration": 8,
    "start_time": "2021-07-08T11:52:26.047Z"
   },
   {
    "duration": 63,
    "start_time": "2021-07-08T11:52:26.057Z"
   },
   {
    "duration": 17,
    "start_time": "2021-07-08T11:52:26.122Z"
   },
   {
    "duration": 43,
    "start_time": "2021-07-08T11:52:26.142Z"
   },
   {
    "duration": 17,
    "start_time": "2021-07-08T11:52:26.187Z"
   },
   {
    "duration": 5,
    "start_time": "2021-07-08T11:52:26.206Z"
   },
   {
    "duration": 12,
    "start_time": "2021-07-08T11:52:26.212Z"
   },
   {
    "duration": 11,
    "start_time": "2021-07-08T11:52:26.226Z"
   },
   {
    "duration": 12,
    "start_time": "2021-07-08T11:52:26.238Z"
   },
   {
    "duration": 38,
    "start_time": "2021-07-08T11:52:26.252Z"
   },
   {
    "duration": 40,
    "start_time": "2021-07-08T11:52:26.292Z"
   },
   {
    "duration": 17,
    "start_time": "2021-07-08T11:52:26.336Z"
   },
   {
    "duration": 39,
    "start_time": "2021-07-08T11:52:26.355Z"
   },
   {
    "duration": 11,
    "start_time": "2021-07-08T11:52:26.395Z"
   },
   {
    "duration": 23,
    "start_time": "2021-07-08T11:52:26.408Z"
   },
   {
    "duration": 12,
    "start_time": "2021-07-08T11:52:26.432Z"
   },
   {
    "duration": 41,
    "start_time": "2021-07-08T11:52:26.446Z"
   },
   {
    "duration": 215,
    "start_time": "2021-07-08T11:52:26.493Z"
   },
   {
    "duration": 8,
    "start_time": "2021-07-08T11:52:26.710Z"
   },
   {
    "duration": 228,
    "start_time": "2021-07-08T11:52:26.720Z"
   },
   {
    "duration": 18,
    "start_time": "2021-07-08T11:52:26.950Z"
   },
   {
    "duration": 35,
    "start_time": "2021-07-08T11:52:26.969Z"
   },
   {
    "duration": 23,
    "start_time": "2021-07-08T11:52:27.006Z"
   },
   {
    "duration": 258,
    "start_time": "2021-07-08T11:52:27.030Z"
   },
   {
    "duration": 24,
    "start_time": "2021-07-08T11:52:27.290Z"
   },
   {
    "duration": 12,
    "start_time": "2021-07-08T11:52:27.316Z"
   },
   {
    "duration": 10,
    "start_time": "2021-07-08T11:52:27.329Z"
   },
   {
    "duration": 298,
    "start_time": "2021-07-08T11:52:27.341Z"
   },
   {
    "duration": 436,
    "start_time": "2021-07-08T11:52:27.641Z"
   },
   {
    "duration": 216,
    "start_time": "2021-07-08T11:52:28.079Z"
   },
   {
    "duration": 20,
    "start_time": "2021-07-08T11:52:28.297Z"
   },
   {
    "duration": 17,
    "start_time": "2021-07-08T11:52:28.319Z"
   },
   {
    "duration": 61,
    "start_time": "2022-11-01T07:21:57.665Z"
   },
   {
    "duration": 387,
    "start_time": "2022-11-01T07:21:59.984Z"
   },
   {
    "duration": 192,
    "start_time": "2022-11-01T07:22:00.373Z"
   },
   {
    "duration": 108,
    "start_time": "2022-11-01T07:22:03.534Z"
   },
   {
    "duration": 80,
    "start_time": "2022-11-01T07:22:06.704Z"
   },
   {
    "duration": 163,
    "start_time": "2022-11-01T07:23:03.520Z"
   },
   {
    "duration": 22,
    "start_time": "2022-11-01T07:23:27.399Z"
   },
   {
    "duration": 10,
    "start_time": "2022-11-01T07:23:50.082Z"
   },
   {
    "duration": 20,
    "start_time": "2022-11-01T07:23:59.809Z"
   },
   {
    "duration": 14,
    "start_time": "2022-11-01T07:24:28.417Z"
   },
   {
    "duration": 19,
    "start_time": "2022-11-01T07:24:34.064Z"
   },
   {
    "duration": 18,
    "start_time": "2022-11-01T07:25:26.699Z"
   },
   {
    "duration": 6,
    "start_time": "2022-11-01T07:27:35.641Z"
   },
   {
    "duration": 29,
    "start_time": "2022-11-01T07:27:40.811Z"
   },
   {
    "duration": 7,
    "start_time": "2022-11-01T07:27:49.408Z"
   },
   {
    "duration": 6,
    "start_time": "2022-11-01T07:27:57.680Z"
   },
   {
    "duration": 6,
    "start_time": "2022-11-01T07:28:07.706Z"
   },
   {
    "duration": 6,
    "start_time": "2022-11-01T07:28:42.633Z"
   },
   {
    "duration": 205,
    "start_time": "2022-11-01T07:35:36.784Z"
   },
   {
    "duration": 6,
    "start_time": "2022-11-01T07:35:49.620Z"
   },
   {
    "duration": 7,
    "start_time": "2022-11-01T07:35:54.546Z"
   },
   {
    "duration": 95,
    "start_time": "2022-11-01T07:36:49.795Z"
   },
   {
    "duration": 24,
    "start_time": "2022-11-01T07:36:54.510Z"
   },
   {
    "duration": 200,
    "start_time": "2022-11-01T07:37:07.903Z"
   },
   {
    "duration": 213,
    "start_time": "2022-11-01T07:37:48.652Z"
   },
   {
    "duration": 5,
    "start_time": "2022-11-01T07:39:41.245Z"
   },
   {
    "duration": 14,
    "start_time": "2022-11-01T07:41:21.341Z"
   },
   {
    "duration": 34,
    "start_time": "2022-11-01T07:41:27.299Z"
   },
   {
    "duration": 13,
    "start_time": "2022-11-01T07:42:12.593Z"
   },
   {
    "duration": 25,
    "start_time": "2022-11-01T07:42:18.614Z"
   },
   {
    "duration": 23,
    "start_time": "2022-11-01T07:43:01.680Z"
   },
   {
    "duration": 24,
    "start_time": "2022-11-01T07:44:01.244Z"
   },
   {
    "duration": 6,
    "start_time": "2022-11-01T07:44:21.282Z"
   },
   {
    "duration": 5,
    "start_time": "2022-11-01T07:45:06.884Z"
   },
   {
    "duration": 6,
    "start_time": "2022-11-01T07:45:16.021Z"
   },
   {
    "duration": 6,
    "start_time": "2022-11-01T07:45:21.345Z"
   },
   {
    "duration": 5,
    "start_time": "2022-11-01T07:45:27.320Z"
   },
   {
    "duration": 8,
    "start_time": "2022-11-01T07:46:40.447Z"
   },
   {
    "duration": 4,
    "start_time": "2022-11-01T07:46:55.392Z"
   },
   {
    "duration": 5,
    "start_time": "2022-11-01T07:47:02.710Z"
   },
   {
    "duration": 4,
    "start_time": "2022-11-01T07:47:09.034Z"
   },
   {
    "duration": 5,
    "start_time": "2022-11-01T07:47:20.135Z"
   },
   {
    "duration": 4,
    "start_time": "2022-11-01T07:47:34.402Z"
   },
   {
    "duration": 14,
    "start_time": "2022-11-01T07:49:01.827Z"
   },
   {
    "duration": 15,
    "start_time": "2022-11-01T07:49:25.180Z"
   },
   {
    "duration": 14,
    "start_time": "2022-11-01T07:49:39.186Z"
   },
   {
    "duration": 4,
    "start_time": "2022-11-01T07:49:46.003Z"
   },
   {
    "duration": 246,
    "start_time": "2022-11-01T07:49:55.548Z"
   },
   {
    "duration": 11,
    "start_time": "2022-11-01T07:51:15.378Z"
   },
   {
    "duration": 8,
    "start_time": "2022-11-01T07:52:20.294Z"
   },
   {
    "duration": 7,
    "start_time": "2022-11-01T07:52:25.830Z"
   },
   {
    "duration": 15,
    "start_time": "2022-11-01T07:52:38.194Z"
   },
   {
    "duration": 5,
    "start_time": "2022-11-01T07:52:41.590Z"
   },
   {
    "duration": 18,
    "start_time": "2022-11-01T07:53:41.707Z"
   },
   {
    "duration": 5,
    "start_time": "2022-11-01T07:54:05.152Z"
   },
   {
    "duration": 28,
    "start_time": "2022-11-01T07:54:28.794Z"
   },
   {
    "duration": 5,
    "start_time": "2022-11-01T07:54:31.880Z"
   },
   {
    "duration": 5,
    "start_time": "2022-11-01T07:54:33.624Z"
   },
   {
    "duration": 5,
    "start_time": "2022-11-01T07:54:35.489Z"
   },
   {
    "duration": 18,
    "start_time": "2022-11-01T07:54:45.004Z"
   },
   {
    "duration": 17,
    "start_time": "2022-11-01T07:54:56.429Z"
   },
   {
    "duration": 5,
    "start_time": "2022-11-01T07:58:37.376Z"
   },
   {
    "duration": 2,
    "start_time": "2022-11-01T07:58:55.294Z"
   },
   {
    "duration": 24,
    "start_time": "2022-11-01T07:59:03.568Z"
   },
   {
    "duration": 5,
    "start_time": "2022-11-01T07:59:06.925Z"
   },
   {
    "duration": 3,
    "start_time": "2022-11-01T07:59:23.679Z"
   },
   {
    "duration": 119,
    "start_time": "2022-11-01T07:59:23.941Z"
   },
   {
    "duration": 20,
    "start_time": "2022-11-01T07:59:24.368Z"
   },
   {
    "duration": 5,
    "start_time": "2022-11-01T07:59:25.750Z"
   },
   {
    "duration": 14,
    "start_time": "2022-11-01T07:59:26.968Z"
   },
   {
    "duration": 15,
    "start_time": "2022-11-01T08:02:31.118Z"
   },
   {
    "duration": 29,
    "start_time": "2022-11-01T08:02:41.360Z"
   },
   {
    "duration": 10,
    "start_time": "2022-11-01T08:05:21.871Z"
   },
   {
    "duration": 33,
    "start_time": "2022-11-01T08:05:38.691Z"
   },
   {
    "duration": 5,
    "start_time": "2022-11-01T08:05:42.448Z"
   },
   {
    "duration": 4,
    "start_time": "2022-11-01T08:06:16.766Z"
   },
   {
    "duration": 47,
    "start_time": "2022-11-01T08:06:34.524Z"
   },
   {
    "duration": 31,
    "start_time": "2022-11-01T08:07:08.405Z"
   },
   {
    "duration": 29,
    "start_time": "2022-11-01T08:07:13.965Z"
   },
   {
    "duration": 8,
    "start_time": "2022-11-01T08:07:17.990Z"
   },
   {
    "duration": 29,
    "start_time": "2022-11-01T08:08:04.354Z"
   },
   {
    "duration": 13,
    "start_time": "2022-11-01T08:08:42.692Z"
   },
   {
    "duration": 13,
    "start_time": "2022-11-01T08:09:16.548Z"
   },
   {
    "duration": 27,
    "start_time": "2022-11-01T08:09:49.069Z"
   },
   {
    "duration": 5,
    "start_time": "2022-11-01T08:09:51.800Z"
   },
   {
    "duration": 26,
    "start_time": "2022-11-01T08:10:43.005Z"
   },
   {
    "duration": 15,
    "start_time": "2022-11-01T08:11:27.841Z"
   },
   {
    "duration": 6,
    "start_time": "2022-11-01T08:12:01.944Z"
   },
   {
    "duration": 6,
    "start_time": "2022-11-01T08:12:10.947Z"
   },
   {
    "duration": 4,
    "start_time": "2022-11-01T08:12:17.631Z"
   },
   {
    "duration": 15,
    "start_time": "2022-11-01T08:12:30.180Z"
   },
   {
    "duration": 109,
    "start_time": "2022-11-01T08:18:07.471Z"
   },
   {
    "duration": 966,
    "start_time": "2022-11-01T08:18:12.005Z"
   },
   {
    "duration": 1217,
    "start_time": "2022-11-01T08:18:25.284Z"
   },
   {
    "duration": 869,
    "start_time": "2022-11-01T08:18:38.083Z"
   },
   {
    "duration": 16,
    "start_time": "2022-11-01T08:18:44.750Z"
   },
   {
    "duration": 1268,
    "start_time": "2022-11-01T08:18:45.033Z"
   },
   {
    "duration": 2,
    "start_time": "2022-11-01T08:18:56.488Z"
   },
   {
    "duration": 120,
    "start_time": "2022-11-01T08:18:56.695Z"
   },
   {
    "duration": 21,
    "start_time": "2022-11-01T08:18:57.120Z"
   },
   {
    "duration": 6,
    "start_time": "2022-11-01T08:18:58.740Z"
   },
   {
    "duration": 21,
    "start_time": "2022-11-01T08:18:59.929Z"
   },
   {
    "duration": 7,
    "start_time": "2022-11-01T08:19:11.213Z"
   },
   {
    "duration": 17,
    "start_time": "2022-11-01T08:19:38.237Z"
   },
   {
    "duration": 7,
    "start_time": "2022-11-01T08:19:46.863Z"
   },
   {
    "duration": 9,
    "start_time": "2022-11-01T08:19:55.847Z"
   },
   {
    "duration": 14,
    "start_time": "2022-11-01T08:20:00.628Z"
   },
   {
    "duration": 5,
    "start_time": "2022-11-01T08:20:18.628Z"
   },
   {
    "duration": 5,
    "start_time": "2022-11-01T08:20:28.014Z"
   },
   {
    "duration": 10,
    "start_time": "2022-11-01T08:20:42.229Z"
   },
   {
    "duration": 6,
    "start_time": "2022-11-01T08:21:44.900Z"
   },
   {
    "duration": 6,
    "start_time": "2022-11-01T08:21:53.634Z"
   },
   {
    "duration": 27,
    "start_time": "2022-11-01T08:24:13.881Z"
   },
   {
    "duration": 8,
    "start_time": "2022-11-01T08:24:14.163Z"
   },
   {
    "duration": 53,
    "start_time": "2022-11-01T11:56:03.921Z"
   },
   {
    "duration": 468,
    "start_time": "2022-11-01T11:56:07.694Z"
   },
   {
    "duration": 357,
    "start_time": "2022-11-01T11:56:08.164Z"
   },
   {
    "duration": 24,
    "start_time": "2022-11-01T11:56:08.523Z"
   },
   {
    "duration": 6,
    "start_time": "2022-11-01T11:56:08.548Z"
   },
   {
    "duration": 31,
    "start_time": "2022-11-01T11:56:08.556Z"
   },
   {
    "duration": 37,
    "start_time": "2022-11-01T11:56:08.588Z"
   },
   {
    "duration": 16,
    "start_time": "2022-11-01T11:56:08.627Z"
   },
   {
    "duration": 24,
    "start_time": "2022-11-01T12:03:18.576Z"
   },
   {
    "duration": 14,
    "start_time": "2022-11-01T12:03:27.688Z"
   },
   {
    "duration": 17,
    "start_time": "2022-11-01T12:04:28.076Z"
   },
   {
    "duration": 20,
    "start_time": "2022-11-01T12:04:32.088Z"
   },
   {
    "duration": 5,
    "start_time": "2022-11-01T12:05:56.543Z"
   },
   {
    "duration": 670,
    "start_time": "2022-11-01T12:07:55.798Z"
   },
   {
    "duration": 609,
    "start_time": "2022-11-01T12:08:13.437Z"
   },
   {
    "duration": 672,
    "start_time": "2022-11-01T12:10:03.265Z"
   },
   {
    "duration": 607,
    "start_time": "2022-11-01T12:10:05.862Z"
   },
   {
    "duration": 690,
    "start_time": "2022-11-01T12:10:57.488Z"
   },
   {
    "duration": 618,
    "start_time": "2022-11-01T12:11:46.231Z"
   },
   {
    "duration": 9,
    "start_time": "2022-11-01T12:13:05.263Z"
   },
   {
    "duration": 23,
    "start_time": "2022-11-01T12:13:15.667Z"
   },
   {
    "duration": 651,
    "start_time": "2022-11-01T12:13:40.978Z"
   },
   {
    "duration": 14,
    "start_time": "2022-11-01T12:13:55.240Z"
   },
   {
    "duration": 14,
    "start_time": "2022-11-01T12:14:04.431Z"
   },
   {
    "duration": 12,
    "start_time": "2022-11-01T12:14:24.422Z"
   },
   {
    "duration": 15,
    "start_time": "2022-11-01T12:14:43.317Z"
   },
   {
    "duration": 15,
    "start_time": "2022-11-01T12:15:54.686Z"
   },
   {
    "duration": 15,
    "start_time": "2022-11-01T12:16:03.182Z"
   },
   {
    "duration": 1181,
    "start_time": "2022-11-01T12:21:40.389Z"
   },
   {
    "duration": 15,
    "start_time": "2022-11-01T12:21:48.932Z"
   },
   {
    "duration": 16,
    "start_time": "2022-11-01T12:21:54.645Z"
   },
   {
    "duration": 76,
    "start_time": "2022-11-01T12:22:07.461Z"
   },
   {
    "duration": 25,
    "start_time": "2022-11-01T12:22:12.794Z"
   },
   {
    "duration": 14,
    "start_time": "2022-11-01T12:22:17.215Z"
   },
   {
    "duration": 16,
    "start_time": "2022-11-01T12:22:18.839Z"
   },
   {
    "duration": 4,
    "start_time": "2022-11-01T12:27:12.276Z"
   },
   {
    "duration": 1221,
    "start_time": "2022-11-01T12:27:24.428Z"
   },
   {
    "duration": 1090,
    "start_time": "2022-11-01T12:27:40.062Z"
   },
   {
    "duration": 1576,
    "start_time": "2022-11-01T12:27:46.364Z"
   },
   {
    "duration": 6,
    "start_time": "2022-11-01T12:27:56.840Z"
   },
   {
    "duration": 290,
    "start_time": "2022-11-01T12:28:03.024Z"
   },
   {
    "duration": 322,
    "start_time": "2022-11-01T12:29:14.130Z"
   },
   {
    "duration": 1271,
    "start_time": "2022-11-01T12:29:30.399Z"
   },
   {
    "duration": 30,
    "start_time": "2022-11-01T12:29:38.266Z"
   },
   {
    "duration": 6,
    "start_time": "2022-11-01T12:30:24.156Z"
   },
   {
    "duration": 12,
    "start_time": "2022-11-01T12:30:30.224Z"
   },
   {
    "duration": 6,
    "start_time": "2022-11-01T12:30:34.857Z"
   },
   {
    "duration": 7,
    "start_time": "2022-11-01T12:32:22.560Z"
   },
   {
    "duration": 9,
    "start_time": "2022-11-01T12:32:38.183Z"
   },
   {
    "duration": 41,
    "start_time": "2022-11-01T12:32:52.268Z"
   },
   {
    "duration": 17,
    "start_time": "2022-11-01T12:33:05.853Z"
   },
   {
    "duration": 13,
    "start_time": "2022-11-01T12:33:13.159Z"
   },
   {
    "duration": 8,
    "start_time": "2022-11-01T12:33:36.920Z"
   },
   {
    "duration": 7,
    "start_time": "2022-11-01T12:34:23.349Z"
   },
   {
    "duration": 3,
    "start_time": "2022-11-01T12:34:28.869Z"
   },
   {
    "duration": 9,
    "start_time": "2022-11-01T12:34:40.921Z"
   },
   {
    "duration": 53,
    "start_time": "2022-11-01T12:34:54.944Z"
   },
   {
    "duration": 12,
    "start_time": "2022-11-01T12:34:55.477Z"
   },
   {
    "duration": 5,
    "start_time": "2022-11-01T12:34:56.362Z"
   },
   {
    "duration": 15,
    "start_time": "2022-11-01T12:34:56.893Z"
   },
   {
    "duration": 415,
    "start_time": "2022-11-01T12:35:20.245Z"
   },
   {
    "duration": 132,
    "start_time": "2022-11-01T12:35:20.662Z"
   },
   {
    "duration": 24,
    "start_time": "2022-11-01T12:35:20.795Z"
   },
   {
    "duration": 6,
    "start_time": "2022-11-01T12:35:20.821Z"
   },
   {
    "duration": 34,
    "start_time": "2022-11-01T12:35:20.828Z"
   },
   {
    "duration": 9,
    "start_time": "2022-11-01T12:35:20.864Z"
   },
   {
    "duration": 15,
    "start_time": "2022-11-01T12:35:20.875Z"
   },
   {
    "duration": 41,
    "start_time": "2022-11-01T12:35:20.892Z"
   },
   {
    "duration": 7,
    "start_time": "2022-11-01T12:35:20.935Z"
   },
   {
    "duration": 15,
    "start_time": "2022-11-01T12:35:20.945Z"
   },
   {
    "duration": 39,
    "start_time": "2022-11-01T12:35:31.997Z"
   },
   {
    "duration": 34,
    "start_time": "2022-11-01T12:35:40.502Z"
   },
   {
    "duration": 26,
    "start_time": "2022-11-01T12:35:50.088Z"
   },
   {
    "duration": 11,
    "start_time": "2022-11-01T12:36:12.592Z"
   },
   {
    "duration": 12,
    "start_time": "2022-11-01T12:36:27.689Z"
   },
   {
    "duration": 94,
    "start_time": "2022-11-01T12:36:46.049Z"
   },
   {
    "duration": 79,
    "start_time": "2022-11-01T12:36:49.398Z"
   },
   {
    "duration": 75,
    "start_time": "2022-11-01T12:36:51.721Z"
   },
   {
    "duration": 73,
    "start_time": "2022-11-01T12:36:54.748Z"
   },
   {
    "duration": 12,
    "start_time": "2022-11-01T12:36:59.017Z"
   },
   {
    "duration": 19,
    "start_time": "2022-11-01T12:37:05.746Z"
   },
   {
    "duration": 19,
    "start_time": "2022-11-01T12:37:10.477Z"
   },
   {
    "duration": 12,
    "start_time": "2022-11-01T12:46:48.650Z"
   },
   {
    "duration": 14,
    "start_time": "2022-11-01T12:46:53.916Z"
   },
   {
    "duration": 13,
    "start_time": "2022-11-01T12:46:59.973Z"
   },
   {
    "duration": 31,
    "start_time": "2022-11-01T12:52:14.303Z"
   },
   {
    "duration": 13,
    "start_time": "2022-11-01T12:52:33.527Z"
   },
   {
    "duration": 70,
    "start_time": "2022-11-01T12:55:04.712Z"
   },
   {
    "duration": 22,
    "start_time": "2022-11-01T12:55:10.585Z"
   },
   {
    "duration": 24,
    "start_time": "2022-11-01T12:55:38.996Z"
   },
   {
    "duration": 13,
    "start_time": "2022-11-01T13:07:36.429Z"
   },
   {
    "duration": 10,
    "start_time": "2022-11-01T13:12:20.299Z"
   },
   {
    "duration": 22,
    "start_time": "2022-11-01T13:12:40.889Z"
   },
   {
    "duration": 30,
    "start_time": "2022-11-01T13:12:46.980Z"
   },
   {
    "duration": 19,
    "start_time": "2022-11-01T13:12:53.124Z"
   },
   {
    "duration": 18,
    "start_time": "2022-11-01T13:13:15.598Z"
   },
   {
    "duration": 25,
    "start_time": "2022-11-01T13:13:41.263Z"
   },
   {
    "duration": 5,
    "start_time": "2022-11-01T13:13:58.553Z"
   },
   {
    "duration": 6,
    "start_time": "2022-11-01T13:14:08.556Z"
   },
   {
    "duration": 41,
    "start_time": "2022-11-01T13:14:11.306Z"
   },
   {
    "duration": 7,
    "start_time": "2022-11-01T13:14:32.543Z"
   },
   {
    "duration": 10,
    "start_time": "2022-11-01T13:14:43.176Z"
   },
   {
    "duration": 7,
    "start_time": "2022-11-01T13:14:49.526Z"
   },
   {
    "duration": 4,
    "start_time": "2022-11-01T13:14:55.009Z"
   },
   {
    "duration": 8,
    "start_time": "2022-11-01T13:16:10.016Z"
   },
   {
    "duration": 4,
    "start_time": "2022-11-01T13:16:23.484Z"
   },
   {
    "duration": 3,
    "start_time": "2022-11-01T13:16:28.788Z"
   },
   {
    "duration": 9,
    "start_time": "2022-11-01T13:16:31.788Z"
   },
   {
    "duration": 21,
    "start_time": "2022-11-01T13:16:41.377Z"
   },
   {
    "duration": 72,
    "start_time": "2022-11-01T13:16:53.991Z"
   },
   {
    "duration": 26,
    "start_time": "2022-11-01T13:17:28.434Z"
   },
   {
    "duration": 4,
    "start_time": "2022-11-01T13:20:32.873Z"
   },
   {
    "duration": 61,
    "start_time": "2022-11-01T13:22:44.796Z"
   },
   {
    "duration": 17,
    "start_time": "2022-11-01T13:22:53.299Z"
   },
   {
    "duration": 10,
    "start_time": "2022-11-01T13:23:04.739Z"
   },
   {
    "duration": 14,
    "start_time": "2022-11-01T13:23:10.758Z"
   },
   {
    "duration": 16,
    "start_time": "2022-11-01T13:25:33.908Z"
   },
   {
    "duration": 23,
    "start_time": "2022-11-01T13:26:02.169Z"
   },
   {
    "duration": 19,
    "start_time": "2022-11-01T13:26:07.042Z"
   },
   {
    "duration": 16,
    "start_time": "2022-11-01T13:26:11.985Z"
   },
   {
    "duration": 10,
    "start_time": "2022-11-01T13:26:29.724Z"
   },
   {
    "duration": 18,
    "start_time": "2022-11-01T13:27:17.338Z"
   },
   {
    "duration": 17,
    "start_time": "2022-11-01T13:27:20.603Z"
   },
   {
    "duration": 17,
    "start_time": "2022-11-01T13:27:20.838Z"
   },
   {
    "duration": 415,
    "start_time": "2022-11-01T13:27:24.151Z"
   },
   {
    "duration": 136,
    "start_time": "2022-11-01T13:27:24.568Z"
   },
   {
    "duration": 25,
    "start_time": "2022-11-01T13:27:24.705Z"
   },
   {
    "duration": 17,
    "start_time": "2022-11-01T13:27:24.733Z"
   },
   {
    "duration": 44,
    "start_time": "2022-11-01T13:27:24.751Z"
   },
   {
    "duration": 9,
    "start_time": "2022-11-01T13:27:24.797Z"
   },
   {
    "duration": 30,
    "start_time": "2022-11-01T13:27:24.808Z"
   },
   {
    "duration": 14,
    "start_time": "2022-11-01T13:27:24.840Z"
   },
   {
    "duration": 27,
    "start_time": "2022-11-01T13:27:24.856Z"
   },
   {
    "duration": 31,
    "start_time": "2022-11-01T13:27:24.886Z"
   },
   {
    "duration": 32,
    "start_time": "2022-11-01T13:27:24.919Z"
   },
   {
    "duration": 33,
    "start_time": "2022-11-01T13:27:24.953Z"
   },
   {
    "duration": 26,
    "start_time": "2022-11-01T13:27:24.987Z"
   },
   {
    "duration": 32,
    "start_time": "2022-11-01T13:27:25.014Z"
   },
   {
    "duration": 60,
    "start_time": "2022-11-01T13:27:37.923Z"
   },
   {
    "duration": 77,
    "start_time": "2022-11-01T13:27:41.437Z"
   },
   {
    "duration": 12,
    "start_time": "2022-11-01T13:28:12.804Z"
   },
   {
    "duration": 492,
    "start_time": "2022-11-01T13:28:42.908Z"
   },
   {
    "duration": 139,
    "start_time": "2022-11-01T13:28:43.405Z"
   },
   {
    "duration": 31,
    "start_time": "2022-11-01T13:28:43.546Z"
   },
   {
    "duration": 5,
    "start_time": "2022-11-01T13:28:43.580Z"
   },
   {
    "duration": 41,
    "start_time": "2022-11-01T13:28:43.587Z"
   },
   {
    "duration": 9,
    "start_time": "2022-11-01T13:28:43.630Z"
   },
   {
    "duration": 19,
    "start_time": "2022-11-01T13:28:43.641Z"
   },
   {
    "duration": 13,
    "start_time": "2022-11-01T13:28:43.662Z"
   },
   {
    "duration": 50,
    "start_time": "2022-11-01T13:28:43.677Z"
   },
   {
    "duration": 3,
    "start_time": "2022-11-01T13:28:43.730Z"
   },
   {
    "duration": 10,
    "start_time": "2022-11-01T13:28:43.735Z"
   },
   {
    "duration": 16,
    "start_time": "2022-11-01T13:28:43.747Z"
   },
   {
    "duration": 19,
    "start_time": "2022-11-01T13:28:43.765Z"
   },
   {
    "duration": 56,
    "start_time": "2022-11-01T13:28:43.786Z"
   },
   {
    "duration": 32,
    "start_time": "2022-11-01T13:28:43.844Z"
   },
   {
    "duration": 75,
    "start_time": "2022-11-01T13:28:51.162Z"
   },
   {
    "duration": 8,
    "start_time": "2022-11-01T13:29:05.449Z"
   },
   {
    "duration": 52,
    "start_time": "2022-11-01T13:29:24.462Z"
   },
   {
    "duration": 13,
    "start_time": "2022-11-01T13:29:24.724Z"
   },
   {
    "duration": 402,
    "start_time": "2022-11-01T13:29:28.760Z"
   },
   {
    "duration": 131,
    "start_time": "2022-11-01T13:29:29.164Z"
   },
   {
    "duration": 25,
    "start_time": "2022-11-01T13:29:29.297Z"
   },
   {
    "duration": 13,
    "start_time": "2022-11-01T13:29:29.325Z"
   },
   {
    "duration": 33,
    "start_time": "2022-11-01T13:29:29.340Z"
   },
   {
    "duration": 9,
    "start_time": "2022-11-01T13:29:29.375Z"
   },
   {
    "duration": 42,
    "start_time": "2022-11-01T13:29:29.386Z"
   },
   {
    "duration": 10,
    "start_time": "2022-11-01T13:29:29.430Z"
   },
   {
    "duration": 20,
    "start_time": "2022-11-01T13:29:29.443Z"
   },
   {
    "duration": 15,
    "start_time": "2022-11-01T13:29:29.465Z"
   },
   {
    "duration": 20,
    "start_time": "2022-11-01T13:29:29.482Z"
   },
   {
    "duration": 32,
    "start_time": "2022-11-01T13:29:29.504Z"
   },
   {
    "duration": 13,
    "start_time": "2022-11-01T13:29:29.538Z"
   },
   {
    "duration": 19,
    "start_time": "2022-11-01T13:29:29.553Z"
   },
   {
    "duration": 61,
    "start_time": "2022-11-01T13:29:29.574Z"
   },
   {
    "duration": 9,
    "start_time": "2022-11-01T13:30:26.131Z"
   },
   {
    "duration": 72,
    "start_time": "2022-11-01T13:30:34.209Z"
   },
   {
    "duration": 8,
    "start_time": "2022-11-01T13:30:38.903Z"
   },
   {
    "duration": 14,
    "start_time": "2022-11-01T13:30:55.941Z"
   },
   {
    "duration": 11,
    "start_time": "2022-11-01T13:31:00.553Z"
   },
   {
    "duration": 443,
    "start_time": "2022-11-01T13:31:14.307Z"
   },
   {
    "duration": 132,
    "start_time": "2022-11-01T13:31:14.752Z"
   },
   {
    "duration": 24,
    "start_time": "2022-11-01T13:31:14.885Z"
   },
   {
    "duration": 6,
    "start_time": "2022-11-01T13:31:14.911Z"
   },
   {
    "duration": 32,
    "start_time": "2022-11-01T13:31:14.919Z"
   },
   {
    "duration": 9,
    "start_time": "2022-11-01T13:31:14.953Z"
   },
   {
    "duration": 15,
    "start_time": "2022-11-01T13:31:14.964Z"
   },
   {
    "duration": 9,
    "start_time": "2022-11-01T13:31:14.981Z"
   },
   {
    "duration": 37,
    "start_time": "2022-11-01T13:31:14.992Z"
   },
   {
    "duration": 21,
    "start_time": "2022-11-01T13:31:15.032Z"
   },
   {
    "duration": 10,
    "start_time": "2022-11-01T13:31:15.055Z"
   },
   {
    "duration": 31,
    "start_time": "2022-11-01T13:31:15.067Z"
   },
   {
    "duration": 38,
    "start_time": "2022-11-01T13:31:15.100Z"
   },
   {
    "duration": 27,
    "start_time": "2022-11-01T13:31:15.140Z"
   },
   {
    "duration": 57,
    "start_time": "2022-11-01T13:31:15.169Z"
   },
   {
    "duration": 445,
    "start_time": "2022-11-01T13:31:39.632Z"
   },
   {
    "duration": 143,
    "start_time": "2022-11-01T13:31:40.079Z"
   },
   {
    "duration": 30,
    "start_time": "2022-11-01T13:31:40.225Z"
   },
   {
    "duration": 6,
    "start_time": "2022-11-01T13:31:40.257Z"
   },
   {
    "duration": 76,
    "start_time": "2022-11-01T13:31:40.266Z"
   },
   {
    "duration": 11,
    "start_time": "2022-11-01T13:31:40.345Z"
   },
   {
    "duration": 16,
    "start_time": "2022-11-01T13:31:40.358Z"
   },
   {
    "duration": 13,
    "start_time": "2022-11-01T13:31:40.375Z"
   },
   {
    "duration": 49,
    "start_time": "2022-11-01T13:31:40.390Z"
   },
   {
    "duration": 21,
    "start_time": "2022-11-01T13:31:40.441Z"
   },
   {
    "duration": 9,
    "start_time": "2022-11-01T13:31:40.466Z"
   },
   {
    "duration": 15,
    "start_time": "2022-11-01T13:31:40.477Z"
   },
   {
    "duration": 40,
    "start_time": "2022-11-01T13:31:40.493Z"
   },
   {
    "duration": 19,
    "start_time": "2022-11-01T13:31:40.535Z"
   },
   {
    "duration": 30,
    "start_time": "2022-11-01T13:31:40.556Z"
   },
   {
    "duration": 6,
    "start_time": "2022-11-01T13:32:01.687Z"
   },
   {
    "duration": 52,
    "start_time": "2022-11-01T13:32:04.124Z"
   },
   {
    "duration": 76,
    "start_time": "2022-11-01T13:32:04.390Z"
   },
   {
    "duration": 6,
    "start_time": "2022-11-01T13:32:04.691Z"
   },
   {
    "duration": 443,
    "start_time": "2022-11-01T13:32:12.889Z"
   },
   {
    "duration": 137,
    "start_time": "2022-11-01T13:32:13.334Z"
   },
   {
    "duration": 23,
    "start_time": "2022-11-01T13:32:13.472Z"
   },
   {
    "duration": 6,
    "start_time": "2022-11-01T13:32:13.497Z"
   },
   {
    "duration": 32,
    "start_time": "2022-11-01T13:32:13.504Z"
   },
   {
    "duration": 10,
    "start_time": "2022-11-01T13:32:13.538Z"
   },
   {
    "duration": 20,
    "start_time": "2022-11-01T13:32:13.550Z"
   },
   {
    "duration": 11,
    "start_time": "2022-11-01T13:32:13.572Z"
   },
   {
    "duration": 12,
    "start_time": "2022-11-01T13:32:13.584Z"
   },
   {
    "duration": 29,
    "start_time": "2022-11-01T13:32:13.598Z"
   },
   {
    "duration": 20,
    "start_time": "2022-11-01T13:32:13.629Z"
   },
   {
    "duration": 17,
    "start_time": "2022-11-01T13:32:13.651Z"
   },
   {
    "duration": 19,
    "start_time": "2022-11-01T13:32:13.670Z"
   },
   {
    "duration": 53,
    "start_time": "2022-11-01T13:32:13.691Z"
   },
   {
    "duration": 6,
    "start_time": "2022-11-01T13:33:24.953Z"
   },
   {
    "duration": 17,
    "start_time": "2022-11-01T13:33:25.311Z"
   },
   {
    "duration": 5,
    "start_time": "2022-11-01T13:34:02.669Z"
   },
   {
    "duration": 6,
    "start_time": "2022-11-01T13:34:11.323Z"
   },
   {
    "duration": 70,
    "start_time": "2022-11-01T13:35:07.426Z"
   },
   {
    "duration": 11,
    "start_time": "2022-11-01T13:35:09.410Z"
   },
   {
    "duration": 7,
    "start_time": "2022-11-01T13:35:13.045Z"
   },
   {
    "duration": 6,
    "start_time": "2022-11-01T13:35:23.732Z"
   },
   {
    "duration": 15,
    "start_time": "2022-11-01T13:36:45.379Z"
   },
   {
    "duration": 16,
    "start_time": "2022-11-01T13:36:48.628Z"
   },
   {
    "duration": 4,
    "start_time": "2022-11-01T13:36:54.556Z"
   },
   {
    "duration": 636,
    "start_time": "2022-11-01T13:37:12.292Z"
   },
   {
    "duration": 7,
    "start_time": "2022-11-01T13:37:39.917Z"
   },
   {
    "duration": 7,
    "start_time": "2022-11-01T13:38:24.603Z"
   },
   {
    "duration": 4,
    "start_time": "2022-11-01T13:38:32.205Z"
   },
   {
    "duration": 86,
    "start_time": "2022-11-01T13:38:39.054Z"
   },
   {
    "duration": 369,
    "start_time": "2022-11-01T13:38:43.209Z"
   },
   {
    "duration": 310,
    "start_time": "2022-11-01T13:38:48.055Z"
   },
   {
    "duration": 8,
    "start_time": "2022-11-01T13:38:59.198Z"
   },
   {
    "duration": 739,
    "start_time": "2022-11-01T13:40:07.107Z"
   },
   {
    "duration": 404,
    "start_time": "2022-11-01T13:40:15.850Z"
   },
   {
    "duration": 141,
    "start_time": "2022-11-01T13:40:16.256Z"
   },
   {
    "duration": 25,
    "start_time": "2022-11-01T13:40:16.398Z"
   },
   {
    "duration": 14,
    "start_time": "2022-11-01T13:40:16.425Z"
   },
   {
    "duration": 43,
    "start_time": "2022-11-01T13:40:16.441Z"
   },
   {
    "duration": 9,
    "start_time": "2022-11-01T13:40:16.486Z"
   },
   {
    "duration": 24,
    "start_time": "2022-11-01T13:40:16.497Z"
   },
   {
    "duration": 23,
    "start_time": "2022-11-01T13:40:16.523Z"
   },
   {
    "duration": 2771,
    "start_time": "2022-11-01T13:40:16.547Z"
   },
   {
    "duration": 0,
    "start_time": "2022-11-01T13:40:19.319Z"
   },
   {
    "duration": 0,
    "start_time": "2022-11-01T13:40:19.321Z"
   },
   {
    "duration": 0,
    "start_time": "2022-11-01T13:40:19.322Z"
   },
   {
    "duration": 0,
    "start_time": "2022-11-01T13:40:19.323Z"
   },
   {
    "duration": 0,
    "start_time": "2022-11-01T13:40:19.324Z"
   },
   {
    "duration": 0,
    "start_time": "2022-11-01T13:40:19.325Z"
   },
   {
    "duration": 11,
    "start_time": "2022-11-01T13:41:40.391Z"
   },
   {
    "duration": 551,
    "start_time": "2022-11-01T13:42:22.583Z"
   },
   {
    "duration": 51,
    "start_time": "2022-11-01T13:42:29.724Z"
   },
   {
    "duration": 15,
    "start_time": "2022-11-01T13:42:39.958Z"
   },
   {
    "duration": 11,
    "start_time": "2022-11-01T13:42:40.375Z"
   },
   {
    "duration": 8,
    "start_time": "2022-11-01T13:42:40.888Z"
   },
   {
    "duration": 15,
    "start_time": "2022-11-01T13:42:41.304Z"
   },
   {
    "duration": 18,
    "start_time": "2022-11-01T13:42:42.890Z"
   },
   {
    "duration": 19,
    "start_time": "2022-11-01T13:42:44.333Z"
   },
   {
    "duration": 50,
    "start_time": "2022-11-01T13:42:45.017Z"
   },
   {
    "duration": 23,
    "start_time": "2022-11-01T13:44:07.209Z"
   },
   {
    "duration": 22,
    "start_time": "2022-11-01T13:44:14.632Z"
   },
   {
    "duration": 6,
    "start_time": "2022-11-01T13:45:20.454Z"
   },
   {
    "duration": 6,
    "start_time": "2022-11-01T13:47:30.738Z"
   },
   {
    "duration": 8,
    "start_time": "2022-11-01T13:51:12.859Z"
   },
   {
    "duration": 13,
    "start_time": "2022-11-01T13:51:26.550Z"
   },
   {
    "duration": 11,
    "start_time": "2022-11-01T13:51:34.626Z"
   },
   {
    "duration": 14,
    "start_time": "2022-11-01T13:51:39.885Z"
   },
   {
    "duration": 12,
    "start_time": "2022-11-01T13:51:46.430Z"
   },
   {
    "duration": 425,
    "start_time": "2022-11-01T13:52:00.475Z"
   },
   {
    "duration": 153,
    "start_time": "2022-11-01T13:52:00.902Z"
   },
   {
    "duration": 24,
    "start_time": "2022-11-01T13:52:01.057Z"
   },
   {
    "duration": 13,
    "start_time": "2022-11-01T13:52:01.083Z"
   },
   {
    "duration": 43,
    "start_time": "2022-11-01T13:52:01.099Z"
   },
   {
    "duration": 29,
    "start_time": "2022-11-01T13:52:01.144Z"
   },
   {
    "duration": 25,
    "start_time": "2022-11-01T13:52:01.175Z"
   },
   {
    "duration": 13,
    "start_time": "2022-11-01T13:52:01.202Z"
   },
   {
    "duration": 21,
    "start_time": "2022-11-01T13:52:01.217Z"
   },
   {
    "duration": 24,
    "start_time": "2022-11-01T13:52:01.240Z"
   },
   {
    "duration": 33,
    "start_time": "2022-11-01T13:52:01.266Z"
   },
   {
    "duration": 44,
    "start_time": "2022-11-01T13:52:01.301Z"
   },
   {
    "duration": 33,
    "start_time": "2022-11-01T13:52:01.347Z"
   },
   {
    "duration": 38,
    "start_time": "2022-11-01T13:52:01.383Z"
   },
   {
    "duration": 1195,
    "start_time": "2022-11-01T13:52:01.422Z"
   },
   {
    "duration": 3,
    "start_time": "2022-11-01T13:53:04.576Z"
   },
   {
    "duration": 74,
    "start_time": "2022-11-01T13:53:33.575Z"
   },
   {
    "duration": 125,
    "start_time": "2022-11-01T13:53:37.312Z"
   },
   {
    "duration": 41,
    "start_time": "2022-11-01T13:53:46.889Z"
   },
   {
    "duration": 437,
    "start_time": "2022-11-01T13:53:57.918Z"
   },
   {
    "duration": 133,
    "start_time": "2022-11-01T13:53:58.358Z"
   },
   {
    "duration": 24,
    "start_time": "2022-11-01T13:53:58.493Z"
   },
   {
    "duration": 5,
    "start_time": "2022-11-01T13:53:58.520Z"
   },
   {
    "duration": 34,
    "start_time": "2022-11-01T13:53:58.526Z"
   },
   {
    "duration": 10,
    "start_time": "2022-11-01T13:53:58.561Z"
   },
   {
    "duration": 17,
    "start_time": "2022-11-01T13:53:58.572Z"
   },
   {
    "duration": 41,
    "start_time": "2022-11-01T13:53:58.591Z"
   },
   {
    "duration": 18,
    "start_time": "2022-11-01T13:53:58.635Z"
   },
   {
    "duration": 101,
    "start_time": "2022-11-01T13:53:58.656Z"
   },
   {
    "duration": 9,
    "start_time": "2022-11-01T13:53:58.759Z"
   },
   {
    "duration": 30,
    "start_time": "2022-11-01T13:53:58.770Z"
   },
   {
    "duration": 24,
    "start_time": "2022-11-01T13:53:58.801Z"
   },
   {
    "duration": 20,
    "start_time": "2022-11-01T13:53:58.826Z"
   },
   {
    "duration": 1392,
    "start_time": "2022-11-01T13:53:58.848Z"
   },
   {
    "duration": 6,
    "start_time": "2022-11-01T13:54:17.609Z"
   },
   {
    "duration": 6,
    "start_time": "2022-11-01T13:55:06.649Z"
   },
   {
    "duration": 16,
    "start_time": "2022-11-01T13:55:07.241Z"
   },
   {
    "duration": 8,
    "start_time": "2022-11-01T14:04:54.590Z"
   },
   {
    "duration": 6,
    "start_time": "2022-11-01T14:04:59.056Z"
   },
   {
    "duration": 51,
    "start_time": "2022-11-01T14:05:18.225Z"
   },
   {
    "duration": 48,
    "start_time": "2022-11-04T17:33:59.559Z"
   },
   {
    "duration": 636,
    "start_time": "2022-11-04T17:34:06.050Z"
   },
   {
    "duration": 324,
    "start_time": "2022-11-04T17:34:06.688Z"
   },
   {
    "duration": 64,
    "start_time": "2022-11-04T17:34:07.014Z"
   },
   {
    "duration": 5,
    "start_time": "2022-11-04T17:34:07.080Z"
   },
   {
    "duration": 90,
    "start_time": "2022-11-04T17:34:07.087Z"
   },
   {
    "duration": 9,
    "start_time": "2022-11-04T17:34:07.179Z"
   },
   {
    "duration": 13,
    "start_time": "2022-11-04T17:34:07.190Z"
   },
   {
    "duration": 11,
    "start_time": "2022-11-04T17:34:07.205Z"
   },
   {
    "duration": 64,
    "start_time": "2022-11-04T17:34:07.217Z"
   },
   {
    "duration": 119,
    "start_time": "2022-11-04T17:34:07.282Z"
   },
   {
    "duration": 8,
    "start_time": "2022-11-04T17:34:07.404Z"
   },
   {
    "duration": 69,
    "start_time": "2022-11-04T17:34:07.413Z"
   },
   {
    "duration": 15,
    "start_time": "2022-11-04T17:34:07.484Z"
   },
   {
    "duration": 19,
    "start_time": "2022-11-04T17:34:07.501Z"
   },
   {
    "duration": 56,
    "start_time": "2022-11-04T17:34:07.521Z"
   },
   {
    "duration": 18,
    "start_time": "2022-11-04T18:03:24.110Z"
   },
   {
    "duration": 79,
    "start_time": "2022-11-04T18:03:33.514Z"
   },
   {
    "duration": 21,
    "start_time": "2022-11-04T18:03:38.461Z"
   },
   {
    "duration": 18,
    "start_time": "2022-11-04T18:03:43.086Z"
   },
   {
    "duration": 56,
    "start_time": "2022-11-04T18:03:48.706Z"
   },
   {
    "duration": 31,
    "start_time": "2022-11-04T18:05:42.217Z"
   },
   {
    "duration": 30,
    "start_time": "2022-11-04T18:06:05.665Z"
   },
   {
    "duration": 37,
    "start_time": "2022-11-04T18:12:14.911Z"
   },
   {
    "duration": 33,
    "start_time": "2022-11-04T18:12:56.130Z"
   },
   {
    "duration": 36,
    "start_time": "2022-11-04T18:13:06.706Z"
   },
   {
    "duration": 37,
    "start_time": "2022-11-04T18:14:59.254Z"
   },
   {
    "duration": 18,
    "start_time": "2022-11-04T18:15:40.896Z"
   },
   {
    "duration": 74,
    "start_time": "2022-11-04T18:15:44.081Z"
   },
   {
    "duration": 37,
    "start_time": "2022-11-04T18:15:53.211Z"
   },
   {
    "duration": 15,
    "start_time": "2022-11-04T18:16:22.456Z"
   },
   {
    "duration": 15,
    "start_time": "2022-11-04T18:16:48.802Z"
   },
   {
    "duration": 11,
    "start_time": "2022-11-04T18:17:47.376Z"
   },
   {
    "duration": 7,
    "start_time": "2022-11-04T18:18:35.179Z"
   },
   {
    "duration": 5,
    "start_time": "2022-11-04T18:18:38.553Z"
   },
   {
    "duration": 8,
    "start_time": "2022-11-04T18:18:56.589Z"
   },
   {
    "duration": 6,
    "start_time": "2022-11-04T18:18:59.006Z"
   },
   {
    "duration": 5,
    "start_time": "2022-11-04T18:19:31.765Z"
   },
   {
    "duration": 6,
    "start_time": "2022-11-04T18:19:42.779Z"
   },
   {
    "duration": 4,
    "start_time": "2022-11-04T18:19:46.107Z"
   },
   {
    "duration": 6,
    "start_time": "2022-11-04T18:19:53.161Z"
   },
   {
    "duration": 5,
    "start_time": "2022-11-04T18:19:58.276Z"
   },
   {
    "duration": 871,
    "start_time": "2022-11-04T18:20:26.564Z"
   },
   {
    "duration": 137,
    "start_time": "2022-11-04T18:21:04.263Z"
   },
   {
    "duration": 143,
    "start_time": "2022-11-04T18:21:11.729Z"
   },
   {
    "duration": 7,
    "start_time": "2022-11-04T18:21:55.978Z"
   },
   {
    "duration": 5,
    "start_time": "2022-11-04T18:22:53.395Z"
   },
   {
    "duration": 9,
    "start_time": "2022-11-04T18:23:09.686Z"
   },
   {
    "duration": 9,
    "start_time": "2022-11-04T18:23:13.125Z"
   },
   {
    "duration": 6,
    "start_time": "2022-11-04T18:23:24.648Z"
   },
   {
    "duration": 48,
    "start_time": "2022-11-04T18:25:51.888Z"
   },
   {
    "duration": 44,
    "start_time": "2022-11-04T18:25:59.199Z"
   },
   {
    "duration": 44,
    "start_time": "2022-11-04T18:26:09.342Z"
   },
   {
    "duration": 43,
    "start_time": "2022-11-04T18:26:15.753Z"
   },
   {
    "duration": 5,
    "start_time": "2022-11-04T18:26:23.733Z"
   },
   {
    "duration": 69,
    "start_time": "2022-11-04T18:26:40.620Z"
   },
   {
    "duration": 6,
    "start_time": "2022-11-04T18:27:01.126Z"
   },
   {
    "duration": 8,
    "start_time": "2022-11-04T18:27:39.976Z"
   },
   {
    "duration": 5,
    "start_time": "2022-11-04T18:27:45.502Z"
   },
   {
    "duration": 7,
    "start_time": "2022-11-04T18:28:12.479Z"
   },
   {
    "duration": 7,
    "start_time": "2022-11-04T18:28:17.810Z"
   },
   {
    "duration": 11,
    "start_time": "2022-11-04T18:28:44.468Z"
   },
   {
    "duration": 8,
    "start_time": "2022-11-04T18:29:02.048Z"
   },
   {
    "duration": 27,
    "start_time": "2022-11-04T18:29:14.949Z"
   },
   {
    "duration": 6,
    "start_time": "2022-11-04T18:29:28.220Z"
   },
   {
    "duration": 383,
    "start_time": "2022-11-04T18:30:17.398Z"
   },
   {
    "duration": 115,
    "start_time": "2022-11-04T18:30:17.783Z"
   },
   {
    "duration": 22,
    "start_time": "2022-11-04T18:30:17.900Z"
   },
   {
    "duration": 5,
    "start_time": "2022-11-04T18:30:17.924Z"
   },
   {
    "duration": 33,
    "start_time": "2022-11-04T18:30:17.930Z"
   },
   {
    "duration": 13,
    "start_time": "2022-11-04T18:30:17.964Z"
   },
   {
    "duration": 13,
    "start_time": "2022-11-04T18:30:17.979Z"
   },
   {
    "duration": 20,
    "start_time": "2022-11-04T18:30:17.993Z"
   },
   {
    "duration": 12,
    "start_time": "2022-11-04T18:30:18.015Z"
   },
   {
    "duration": 72,
    "start_time": "2022-11-04T18:30:18.029Z"
   },
   {
    "duration": 13,
    "start_time": "2022-11-04T18:30:18.103Z"
   },
   {
    "duration": 26,
    "start_time": "2022-11-04T18:30:18.118Z"
   },
   {
    "duration": 15,
    "start_time": "2022-11-04T18:30:18.146Z"
   },
   {
    "duration": 25,
    "start_time": "2022-11-04T18:30:18.163Z"
   },
   {
    "duration": 6,
    "start_time": "2022-11-04T18:30:18.190Z"
   },
   {
    "duration": 11,
    "start_time": "2022-11-04T18:30:18.198Z"
   },
   {
    "duration": 13,
    "start_time": "2022-11-04T18:30:18.211Z"
   },
   {
    "duration": 427,
    "start_time": "2022-11-04T18:30:56.847Z"
   },
   {
    "duration": 115,
    "start_time": "2022-11-04T18:30:57.276Z"
   },
   {
    "duration": 23,
    "start_time": "2022-11-04T18:30:57.396Z"
   },
   {
    "duration": 6,
    "start_time": "2022-11-04T18:30:57.421Z"
   },
   {
    "duration": 31,
    "start_time": "2022-11-04T18:30:57.429Z"
   },
   {
    "duration": 9,
    "start_time": "2022-11-04T18:30:57.477Z"
   },
   {
    "duration": 15,
    "start_time": "2022-11-04T18:30:57.488Z"
   },
   {
    "duration": 9,
    "start_time": "2022-11-04T18:30:57.505Z"
   },
   {
    "duration": 11,
    "start_time": "2022-11-04T18:30:57.517Z"
   },
   {
    "duration": 110,
    "start_time": "2022-11-04T18:30:57.530Z"
   },
   {
    "duration": 9,
    "start_time": "2022-11-04T18:30:57.643Z"
   },
   {
    "duration": 24,
    "start_time": "2022-11-04T18:30:57.653Z"
   },
   {
    "duration": 18,
    "start_time": "2022-11-04T18:30:57.678Z"
   },
   {
    "duration": 19,
    "start_time": "2022-11-04T18:30:57.698Z"
   },
   {
    "duration": 10,
    "start_time": "2022-11-04T18:30:57.719Z"
   },
   {
    "duration": 24,
    "start_time": "2022-11-04T18:30:57.730Z"
   },
   {
    "duration": 26,
    "start_time": "2022-11-04T18:30:57.755Z"
   },
   {
    "duration": 7,
    "start_time": "2022-11-04T18:31:20.264Z"
   },
   {
    "duration": 6,
    "start_time": "2022-11-04T18:33:28.957Z"
   },
   {
    "duration": 7,
    "start_time": "2022-11-04T18:33:33.784Z"
   },
   {
    "duration": 5,
    "start_time": "2022-11-04T18:33:44.005Z"
   },
   {
    "duration": 15,
    "start_time": "2022-11-04T18:43:17.139Z"
   },
   {
    "duration": 7,
    "start_time": "2022-11-04T18:44:07.124Z"
   },
   {
    "duration": 4,
    "start_time": "2022-11-04T18:44:13.533Z"
   },
   {
    "duration": 16,
    "start_time": "2022-11-04T18:44:37.822Z"
   },
   {
    "duration": 19,
    "start_time": "2022-11-04T18:44:43.922Z"
   },
   {
    "duration": 18,
    "start_time": "2022-11-04T18:47:15.238Z"
   },
   {
    "duration": 5,
    "start_time": "2022-11-04T18:50:23.735Z"
   },
   {
    "duration": 24,
    "start_time": "2022-11-04T18:50:28.496Z"
   },
   {
    "duration": 574,
    "start_time": "2022-11-04T18:50:36.918Z"
   },
   {
    "duration": 80,
    "start_time": "2022-11-04T18:50:46.477Z"
   },
   {
    "duration": 131,
    "start_time": "2022-11-04T18:50:53.769Z"
   },
   {
    "duration": 36,
    "start_time": "2022-11-04T18:51:13.604Z"
   },
   {
    "duration": 27,
    "start_time": "2022-11-04T18:52:08.922Z"
   },
   {
    "duration": 151,
    "start_time": "2022-11-04T18:52:23.032Z"
   },
   {
    "duration": 25,
    "start_time": "2022-11-04T18:52:41.940Z"
   },
   {
    "duration": 28,
    "start_time": "2022-11-04T18:53:13.594Z"
   },
   {
    "duration": 28,
    "start_time": "2022-11-04T18:54:16.798Z"
   },
   {
    "duration": 8,
    "start_time": "2022-11-04T18:56:09.056Z"
   },
   {
    "duration": 11,
    "start_time": "2022-11-04T18:56:28.814Z"
   },
   {
    "duration": 5,
    "start_time": "2022-11-04T18:58:14.756Z"
   },
   {
    "duration": 7,
    "start_time": "2022-11-04T18:58:24.536Z"
   },
   {
    "duration": 3,
    "start_time": "2022-11-04T18:58:28.004Z"
   },
   {
    "duration": 4,
    "start_time": "2022-11-04T19:01:12.489Z"
   },
   {
    "duration": 7,
    "start_time": "2022-11-04T19:01:20.564Z"
   },
   {
    "duration": 11,
    "start_time": "2022-11-04T19:01:30.838Z"
   },
   {
    "duration": 9,
    "start_time": "2022-11-04T19:01:46.626Z"
   },
   {
    "duration": 5,
    "start_time": "2022-11-04T19:02:00.146Z"
   },
   {
    "duration": 5,
    "start_time": "2022-11-04T19:03:48.135Z"
   },
   {
    "duration": 9,
    "start_time": "2022-11-04T19:07:16.363Z"
   },
   {
    "duration": 32,
    "start_time": "2022-11-04T19:07:22.115Z"
   },
   {
    "duration": 31,
    "start_time": "2022-11-04T19:07:29.512Z"
   },
   {
    "duration": 31,
    "start_time": "2022-11-04T19:07:41.599Z"
   },
   {
    "duration": 30,
    "start_time": "2022-11-04T19:07:45.998Z"
   },
   {
    "duration": 44,
    "start_time": "2022-11-04T19:08:08.148Z"
   },
   {
    "duration": 31,
    "start_time": "2022-11-04T19:08:30.853Z"
   },
   {
    "duration": 34,
    "start_time": "2022-11-04T19:08:38.558Z"
   },
   {
    "duration": 30,
    "start_time": "2022-11-04T19:08:43.135Z"
   },
   {
    "duration": 3,
    "start_time": "2022-11-04T19:08:45.899Z"
   },
   {
    "duration": 27,
    "start_time": "2022-11-04T19:08:47.273Z"
   },
   {
    "duration": 16,
    "start_time": "2022-11-04T19:08:51.441Z"
   },
   {
    "duration": 72,
    "start_time": "2022-11-04T19:10:19.700Z"
   },
   {
    "duration": 29,
    "start_time": "2022-11-04T19:10:25.742Z"
   },
   {
    "duration": 2,
    "start_time": "2022-11-04T19:10:49.024Z"
   },
   {
    "duration": 6,
    "start_time": "2022-11-04T19:10:54.884Z"
   },
   {
    "duration": 8,
    "start_time": "2022-11-04T19:11:49.574Z"
   },
   {
    "duration": 793,
    "start_time": "2022-11-04T19:11:58.689Z"
   },
   {
    "duration": 855,
    "start_time": "2022-11-04T19:12:32.035Z"
   },
   {
    "duration": 808,
    "start_time": "2022-11-04T19:12:46.499Z"
   },
   {
    "duration": 2,
    "start_time": "2022-11-04T19:12:59.060Z"
   },
   {
    "duration": 5,
    "start_time": "2022-11-04T19:13:05.755Z"
   },
   {
    "duration": 8,
    "start_time": "2022-11-04T19:15:05.200Z"
   },
   {
    "duration": 30,
    "start_time": "2022-11-04T19:16:29.351Z"
   },
   {
    "duration": 31,
    "start_time": "2022-11-04T19:16:41.742Z"
   },
   {
    "duration": 31,
    "start_time": "2022-11-04T19:17:43.924Z"
   },
   {
    "duration": 78,
    "start_time": "2022-11-04T19:18:57.656Z"
   },
   {
    "duration": 99,
    "start_time": "2022-11-04T19:19:01.798Z"
   },
   {
    "duration": 890,
    "start_time": "2022-11-04T19:19:35.744Z"
   },
   {
    "duration": 899,
    "start_time": "2022-11-04T19:19:41.386Z"
   },
   {
    "duration": 9,
    "start_time": "2022-11-04T19:20:23.439Z"
   },
   {
    "duration": 7,
    "start_time": "2022-11-04T19:20:26.620Z"
   },
   {
    "duration": 850,
    "start_time": "2022-11-04T19:20:32.277Z"
   },
   {
    "duration": 12,
    "start_time": "2022-11-04T19:21:17.878Z"
   },
   {
    "duration": 815,
    "start_time": "2022-11-04T19:21:35.779Z"
   },
   {
    "duration": 2,
    "start_time": "2022-11-04T19:24:02.924Z"
   },
   {
    "duration": 7,
    "start_time": "2022-11-04T19:25:45.435Z"
   },
   {
    "duration": 16,
    "start_time": "2022-11-04T19:26:15.341Z"
   },
   {
    "duration": 13,
    "start_time": "2022-11-04T19:26:17.893Z"
   },
   {
    "duration": 5,
    "start_time": "2022-11-04T19:26:32.357Z"
   },
   {
    "duration": 46,
    "start_time": "2022-11-04T19:27:47.599Z"
   },
   {
    "duration": 44,
    "start_time": "2022-11-04T19:27:53.521Z"
   },
   {
    "duration": 3,
    "start_time": "2022-11-04T19:28:25.343Z"
   },
   {
    "duration": 7,
    "start_time": "2022-11-04T19:28:38.603Z"
   },
   {
    "duration": 7,
    "start_time": "2022-11-04T19:28:43.485Z"
   },
   {
    "duration": 30,
    "start_time": "2022-11-04T19:28:50.164Z"
   },
   {
    "duration": 8,
    "start_time": "2022-11-04T19:29:53.371Z"
   },
   {
    "duration": 56,
    "start_time": "2022-11-04T19:30:01.891Z"
   },
   {
    "duration": 73,
    "start_time": "2022-11-04T19:30:07.965Z"
   },
   {
    "duration": 4,
    "start_time": "2022-11-04T19:30:17.728Z"
   },
   {
    "duration": 18509,
    "start_time": "2022-11-04T19:40:52.677Z"
   },
   {
    "duration": 43,
    "start_time": "2022-11-04T19:43:35.703Z"
   },
   {
    "duration": 19604,
    "start_time": "2022-11-04T19:43:40.038Z"
   },
   {
    "duration": 150,
    "start_time": "2022-11-04T19:44:35.790Z"
   },
   {
    "duration": 44,
    "start_time": "2022-11-04T19:45:21.532Z"
   },
   {
    "duration": 130,
    "start_time": "2022-11-04T19:45:30.987Z"
   },
   {
    "duration": 109,
    "start_time": "2022-11-04T19:45:38.857Z"
   },
   {
    "duration": 121,
    "start_time": "2022-11-04T19:45:46.484Z"
   },
   {
    "duration": 104,
    "start_time": "2022-11-04T19:46:01.406Z"
   },
   {
    "duration": 27,
    "start_time": "2022-11-04T19:47:12.342Z"
   },
   {
    "duration": 29,
    "start_time": "2022-11-04T19:48:01.860Z"
   },
   {
    "duration": 29,
    "start_time": "2022-11-04T19:48:10.721Z"
   },
   {
    "duration": 31,
    "start_time": "2022-11-04T19:48:13.941Z"
   },
   {
    "duration": 31,
    "start_time": "2022-11-04T19:48:22.364Z"
   },
   {
    "duration": 84,
    "start_time": "2022-11-04T19:48:33.995Z"
   },
   {
    "duration": 85,
    "start_time": "2022-11-04T19:49:18.189Z"
   },
   {
    "duration": 32,
    "start_time": "2022-11-04T19:49:27.747Z"
   },
   {
    "duration": 38,
    "start_time": "2022-11-04T19:49:39.354Z"
   },
   {
    "duration": 9,
    "start_time": "2022-11-04T19:49:42.738Z"
   },
   {
    "duration": 27,
    "start_time": "2022-11-04T19:49:51.530Z"
   },
   {
    "duration": 6,
    "start_time": "2022-11-04T19:50:38.222Z"
   },
   {
    "duration": 9,
    "start_time": "2022-11-04T19:50:42.325Z"
   },
   {
    "duration": 18,
    "start_time": "2022-11-04T19:50:46.866Z"
   },
   {
    "duration": 30,
    "start_time": "2022-11-04T19:51:01.157Z"
   },
   {
    "duration": 41,
    "start_time": "2022-11-04T19:51:43.867Z"
   },
   {
    "duration": 39,
    "start_time": "2022-11-04T19:52:03.691Z"
   },
   {
    "duration": 28,
    "start_time": "2022-11-04T19:54:12.070Z"
   },
   {
    "duration": 5,
    "start_time": "2022-11-04T19:54:33.281Z"
   },
   {
    "duration": 46,
    "start_time": "2022-11-04T19:54:45.320Z"
   },
   {
    "duration": 99,
    "start_time": "2022-11-04T19:55:25.231Z"
   },
   {
    "duration": 101,
    "start_time": "2022-11-04T19:55:29.589Z"
   },
   {
    "duration": 451,
    "start_time": "2022-11-04T19:55:36.452Z"
   },
   {
    "duration": 124,
    "start_time": "2022-11-04T19:55:36.905Z"
   },
   {
    "duration": 31,
    "start_time": "2022-11-04T19:55:37.031Z"
   },
   {
    "duration": 8,
    "start_time": "2022-11-04T19:55:37.065Z"
   },
   {
    "duration": 49,
    "start_time": "2022-11-04T19:55:37.075Z"
   },
   {
    "duration": 11,
    "start_time": "2022-11-04T19:55:37.126Z"
   },
   {
    "duration": 24,
    "start_time": "2022-11-04T19:55:37.139Z"
   },
   {
    "duration": 9,
    "start_time": "2022-11-04T19:55:37.177Z"
   },
   {
    "duration": 14,
    "start_time": "2022-11-04T19:55:37.187Z"
   },
   {
    "duration": 87,
    "start_time": "2022-11-04T19:55:37.204Z"
   },
   {
    "duration": 8,
    "start_time": "2022-11-04T19:55:37.292Z"
   },
   {
    "duration": 61,
    "start_time": "2022-11-04T19:55:37.301Z"
   },
   {
    "duration": 21,
    "start_time": "2022-11-04T19:55:37.364Z"
   },
   {
    "duration": 29,
    "start_time": "2022-11-04T19:55:37.387Z"
   },
   {
    "duration": 6,
    "start_time": "2022-11-04T19:55:37.418Z"
   },
   {
    "duration": 11,
    "start_time": "2022-11-04T19:55:37.425Z"
   },
   {
    "duration": 15,
    "start_time": "2022-11-04T19:55:37.438Z"
   },
   {
    "duration": 23,
    "start_time": "2022-11-04T19:55:37.456Z"
   },
   {
    "duration": 5,
    "start_time": "2022-11-04T19:55:37.481Z"
   },
   {
    "duration": 129,
    "start_time": "2022-11-04T19:55:37.488Z"
   },
   {
    "duration": 73,
    "start_time": "2022-11-04T19:55:37.618Z"
   },
   {
    "duration": 0,
    "start_time": "2022-11-04T19:55:37.692Z"
   },
   {
    "duration": 10,
    "start_time": "2022-11-04T19:56:56.554Z"
   },
   {
    "duration": 112,
    "start_time": "2022-11-04T19:57:05.219Z"
   },
   {
    "duration": 85,
    "start_time": "2022-11-04T19:57:14.771Z"
   },
   {
    "duration": 136,
    "start_time": "2022-11-04T19:57:17.590Z"
   },
   {
    "duration": 73,
    "start_time": "2022-11-04T19:57:37.856Z"
   },
   {
    "duration": 6,
    "start_time": "2022-11-04T19:57:45.001Z"
   },
   {
    "duration": 240,
    "start_time": "2022-11-04T20:04:50.257Z"
   },
   {
    "duration": 834,
    "start_time": "2022-11-04T20:05:25.564Z"
   },
   {
    "duration": 257,
    "start_time": "2022-11-04T20:05:37.844Z"
   },
   {
    "duration": 175,
    "start_time": "2022-11-04T20:06:52.523Z"
   },
   {
    "duration": 952,
    "start_time": "2022-11-04T20:07:18.039Z"
   },
   {
    "duration": 184,
    "start_time": "2022-11-04T20:07:18.993Z"
   },
   {
    "duration": 30,
    "start_time": "2022-11-04T20:07:19.180Z"
   },
   {
    "duration": 5,
    "start_time": "2022-11-04T20:07:19.211Z"
   },
   {
    "duration": 81,
    "start_time": "2022-11-04T20:07:19.219Z"
   },
   {
    "duration": 9,
    "start_time": "2022-11-04T20:07:19.302Z"
   },
   {
    "duration": 69,
    "start_time": "2022-11-04T20:07:19.312Z"
   },
   {
    "duration": 9,
    "start_time": "2022-11-04T20:07:19.383Z"
   },
   {
    "duration": 16,
    "start_time": "2022-11-04T20:07:19.394Z"
   },
   {
    "duration": 166,
    "start_time": "2022-11-04T20:07:19.412Z"
   },
   {
    "duration": 8,
    "start_time": "2022-11-04T20:07:19.580Z"
   },
   {
    "duration": 15,
    "start_time": "2022-11-04T20:07:19.590Z"
   },
   {
    "duration": 72,
    "start_time": "2022-11-04T20:07:19.607Z"
   },
   {
    "duration": 18,
    "start_time": "2022-11-04T20:07:19.682Z"
   },
   {
    "duration": 8,
    "start_time": "2022-11-04T20:07:19.702Z"
   },
   {
    "duration": 11,
    "start_time": "2022-11-04T20:07:19.712Z"
   },
   {
    "duration": 59,
    "start_time": "2022-11-04T20:07:19.724Z"
   },
   {
    "duration": 11,
    "start_time": "2022-11-04T20:07:19.785Z"
   },
   {
    "duration": 7,
    "start_time": "2022-11-04T20:07:19.797Z"
   },
   {
    "duration": 191,
    "start_time": "2022-11-04T20:07:19.806Z"
   },
   {
    "duration": 181,
    "start_time": "2022-11-04T20:07:20.000Z"
   },
   {
    "duration": 8,
    "start_time": "2022-11-04T20:07:20.184Z"
   },
   {
    "duration": 421,
    "start_time": "2022-11-04T20:07:20.195Z"
   },
   {
    "duration": 224,
    "start_time": "2022-11-04T20:07:27.494Z"
   },
   {
    "duration": 164,
    "start_time": "2022-11-04T20:07:50.841Z"
   },
   {
    "duration": 192,
    "start_time": "2022-11-04T20:07:56.153Z"
   },
   {
    "duration": 183,
    "start_time": "2022-11-04T20:08:01.028Z"
   },
   {
    "duration": 182,
    "start_time": "2022-11-04T20:10:48.705Z"
   },
   {
    "duration": 199,
    "start_time": "2022-11-04T20:11:58.850Z"
   },
   {
    "duration": 187,
    "start_time": "2022-11-04T20:13:09.232Z"
   },
   {
    "duration": 13,
    "start_time": "2022-11-04T20:13:52.025Z"
   },
   {
    "duration": 39,
    "start_time": "2022-11-04T20:14:55.352Z"
   },
   {
    "duration": 6,
    "start_time": "2022-11-04T20:15:20.927Z"
   },
   {
    "duration": 2,
    "start_time": "2022-11-04T20:15:33.255Z"
   },
   {
    "duration": 23,
    "start_time": "2022-11-04T20:16:49.796Z"
   },
   {
    "duration": 21,
    "start_time": "2022-11-04T20:16:56.461Z"
   },
   {
    "duration": 21,
    "start_time": "2022-11-04T20:18:22.573Z"
   },
   {
    "duration": 6,
    "start_time": "2022-11-04T20:19:05.090Z"
   },
   {
    "duration": 17,
    "start_time": "2022-11-04T20:19:07.817Z"
   },
   {
    "duration": 85,
    "start_time": "2022-11-04T20:19:29.693Z"
   },
   {
    "duration": 21,
    "start_time": "2022-11-04T20:20:54.180Z"
   },
   {
    "duration": 9,
    "start_time": "2022-11-04T20:21:17.394Z"
   },
   {
    "duration": 17,
    "start_time": "2022-11-04T20:21:30.821Z"
   },
   {
    "duration": 19,
    "start_time": "2022-11-04T20:21:39.318Z"
   },
   {
    "duration": 19,
    "start_time": "2022-11-04T20:21:44.553Z"
   },
   {
    "duration": 31,
    "start_time": "2022-11-04T20:21:47.776Z"
   },
   {
    "duration": 18,
    "start_time": "2022-11-04T20:21:51.990Z"
   },
   {
    "duration": 18,
    "start_time": "2022-11-04T20:22:03.751Z"
   },
   {
    "duration": 30,
    "start_time": "2022-11-04T20:22:07.471Z"
   },
   {
    "duration": 17,
    "start_time": "2022-11-04T20:22:13.323Z"
   },
   {
    "duration": 19,
    "start_time": "2022-11-04T20:22:27.494Z"
   },
   {
    "duration": 40,
    "start_time": "2022-11-04T20:23:00.385Z"
   },
   {
    "duration": 203,
    "start_time": "2022-11-04T20:23:16.762Z"
   },
   {
    "duration": 18,
    "start_time": "2022-11-04T20:23:17.122Z"
   },
   {
    "duration": 17,
    "start_time": "2022-11-04T20:23:26.849Z"
   },
   {
    "duration": 55,
    "start_time": "2022-11-04T20:23:49.069Z"
   },
   {
    "duration": 19,
    "start_time": "2022-11-04T20:23:56.690Z"
   },
   {
    "duration": 60,
    "start_time": "2022-11-04T20:24:03.142Z"
   },
   {
    "duration": 18,
    "start_time": "2022-11-04T20:24:06.651Z"
   },
   {
    "duration": 19,
    "start_time": "2022-11-04T20:24:42.690Z"
   },
   {
    "duration": 19,
    "start_time": "2022-11-04T20:24:53.119Z"
   },
   {
    "duration": 23,
    "start_time": "2022-11-04T20:25:05.990Z"
   },
   {
    "duration": 22,
    "start_time": "2022-11-04T20:25:09.949Z"
   },
   {
    "duration": 19,
    "start_time": "2022-11-04T20:25:14.428Z"
   },
   {
    "duration": 19,
    "start_time": "2022-11-04T20:27:13.941Z"
   },
   {
    "duration": 23,
    "start_time": "2022-11-04T20:27:20.518Z"
   },
   {
    "duration": 29,
    "start_time": "2022-11-04T20:27:49.358Z"
   },
   {
    "duration": 193,
    "start_time": "2022-11-04T20:27:55.331Z"
   },
   {
    "duration": 791,
    "start_time": "2022-11-04T20:28:10.298Z"
   },
   {
    "duration": 146,
    "start_time": "2022-11-04T20:28:21.592Z"
   },
   {
    "duration": 199,
    "start_time": "2022-11-04T20:28:32.060Z"
   },
   {
    "duration": 273,
    "start_time": "2022-11-04T20:29:08.768Z"
   },
   {
    "duration": 223,
    "start_time": "2022-11-04T20:30:15.990Z"
   },
   {
    "duration": 206,
    "start_time": "2022-11-04T20:30:21.632Z"
   },
   {
    "duration": 48,
    "start_time": "2022-11-04T20:31:42.024Z"
   },
   {
    "duration": 223,
    "start_time": "2022-11-04T20:31:45.131Z"
   },
   {
    "duration": 231,
    "start_time": "2022-11-04T20:31:51.470Z"
   },
   {
    "duration": 204,
    "start_time": "2022-11-04T20:32:52.593Z"
   },
   {
    "duration": 266,
    "start_time": "2022-11-04T20:32:58.058Z"
   },
   {
    "duration": 76,
    "start_time": "2022-11-04T20:33:17.545Z"
   },
   {
    "duration": 251,
    "start_time": "2022-11-04T20:33:42.874Z"
   },
   {
    "duration": 263,
    "start_time": "2022-11-04T20:34:11.268Z"
   },
   {
    "duration": 292,
    "start_time": "2022-11-04T20:34:15.448Z"
   },
   {
    "duration": 264,
    "start_time": "2022-11-04T20:34:43.159Z"
   },
   {
    "duration": 51,
    "start_time": "2022-11-04T20:35:25.491Z"
   },
   {
    "duration": 27,
    "start_time": "2022-11-04T20:35:29.826Z"
   },
   {
    "duration": 201,
    "start_time": "2022-11-04T20:35:47.272Z"
   },
   {
    "duration": 43,
    "start_time": "2022-11-05T09:22:24.866Z"
   },
   {
    "duration": 738,
    "start_time": "2022-11-05T09:22:32.299Z"
   },
   {
    "duration": 353,
    "start_time": "2022-11-05T09:22:33.039Z"
   },
   {
    "duration": 19,
    "start_time": "2022-11-05T09:22:33.393Z"
   },
   {
    "duration": 5,
    "start_time": "2022-11-05T09:22:33.415Z"
   },
   {
    "duration": 27,
    "start_time": "2022-11-05T09:22:33.421Z"
   },
   {
    "duration": 8,
    "start_time": "2022-11-05T09:22:33.450Z"
   },
   {
    "duration": 15,
    "start_time": "2022-11-05T09:22:33.460Z"
   },
   {
    "duration": 34,
    "start_time": "2022-11-05T09:22:33.476Z"
   },
   {
    "duration": 9,
    "start_time": "2022-11-05T09:22:33.512Z"
   },
   {
    "duration": 81,
    "start_time": "2022-11-05T09:22:33.524Z"
   },
   {
    "duration": 8,
    "start_time": "2022-11-05T09:22:33.607Z"
   },
   {
    "duration": 14,
    "start_time": "2022-11-05T09:22:33.616Z"
   },
   {
    "duration": 11,
    "start_time": "2022-11-05T09:22:33.632Z"
   },
   {
    "duration": 19,
    "start_time": "2022-11-05T09:22:33.645Z"
   },
   {
    "duration": 5,
    "start_time": "2022-11-05T09:22:33.665Z"
   },
   {
    "duration": 38,
    "start_time": "2022-11-05T09:22:33.671Z"
   },
   {
    "duration": 7,
    "start_time": "2022-11-05T09:22:33.710Z"
   },
   {
    "duration": 11,
    "start_time": "2022-11-05T09:22:33.719Z"
   },
   {
    "duration": 6,
    "start_time": "2022-11-05T09:22:33.731Z"
   },
   {
    "duration": 83,
    "start_time": "2022-11-05T09:22:33.738Z"
   },
   {
    "duration": 68,
    "start_time": "2022-11-05T09:22:33.823Z"
   },
   {
    "duration": 4,
    "start_time": "2022-11-05T09:22:33.892Z"
   },
   {
    "duration": 205,
    "start_time": "2022-11-05T09:22:33.905Z"
   },
   {
    "duration": 242,
    "start_time": "2022-11-05T09:22:34.111Z"
   },
   {
    "duration": 15,
    "start_time": "2022-11-05T09:22:34.354Z"
   },
   {
    "duration": 14,
    "start_time": "2022-11-05T09:22:58.814Z"
   },
   {
    "duration": 143,
    "start_time": "2022-11-05T09:23:31.380Z"
   },
   {
    "duration": 134,
    "start_time": "2022-11-05T09:24:11.149Z"
   },
   {
    "duration": 1212,
    "start_time": "2022-11-05T09:24:58.372Z"
   },
   {
    "duration": 75,
    "start_time": "2022-11-05T09:25:06.085Z"
   },
   {
    "duration": 28,
    "start_time": "2022-11-05T09:25:11.286Z"
   },
   {
    "duration": 27,
    "start_time": "2022-11-05T09:26:29.735Z"
   },
   {
    "duration": 21,
    "start_time": "2022-11-05T09:26:36.188Z"
   },
   {
    "duration": 14,
    "start_time": "2022-11-05T09:27:08.637Z"
   },
   {
    "duration": 28,
    "start_time": "2022-11-05T09:27:14.135Z"
   },
   {
    "duration": 26,
    "start_time": "2022-11-05T09:27:29.497Z"
   },
   {
    "duration": 9,
    "start_time": "2022-11-05T09:29:05.457Z"
   },
   {
    "duration": 14,
    "start_time": "2022-11-05T09:29:10.046Z"
   },
   {
    "duration": 13,
    "start_time": "2022-11-05T09:29:16.555Z"
   },
   {
    "duration": 14,
    "start_time": "2022-11-05T09:29:24.611Z"
   },
   {
    "duration": 1165,
    "start_time": "2022-11-05T09:29:56.090Z"
   },
   {
    "duration": 17,
    "start_time": "2022-11-05T09:30:14.831Z"
   },
   {
    "duration": 23,
    "start_time": "2022-11-05T09:30:19.839Z"
   },
   {
    "duration": 16,
    "start_time": "2022-11-05T09:30:25.302Z"
   },
   {
    "duration": 71,
    "start_time": "2022-11-05T09:30:28.953Z"
   },
   {
    "duration": 68,
    "start_time": "2022-11-05T09:30:36.506Z"
   },
   {
    "duration": 13,
    "start_time": "2022-11-05T09:30:39.267Z"
   },
   {
    "duration": 10,
    "start_time": "2022-11-05T09:30:51.487Z"
   },
   {
    "duration": 9,
    "start_time": "2022-11-05T09:32:10.514Z"
   },
   {
    "duration": 11,
    "start_time": "2022-11-05T09:32:20.372Z"
   },
   {
    "duration": 10,
    "start_time": "2022-11-05T09:32:22.963Z"
   },
   {
    "duration": 13,
    "start_time": "2022-11-05T09:32:48.454Z"
   },
   {
    "duration": 12,
    "start_time": "2022-11-05T09:32:55.631Z"
   },
   {
    "duration": 14,
    "start_time": "2022-11-05T09:33:11.362Z"
   },
   {
    "duration": 11,
    "start_time": "2022-11-05T09:33:26.811Z"
   },
   {
    "duration": 10,
    "start_time": "2022-11-05T09:33:46.645Z"
   },
   {
    "duration": 14,
    "start_time": "2022-11-05T09:34:02.653Z"
   },
   {
    "duration": 12,
    "start_time": "2022-11-05T09:34:10.740Z"
   },
   {
    "duration": 12,
    "start_time": "2022-11-05T09:34:44.957Z"
   },
   {
    "duration": 13,
    "start_time": "2022-11-05T09:34:54.123Z"
   },
   {
    "duration": 16,
    "start_time": "2022-11-05T09:35:08.670Z"
   },
   {
    "duration": 19,
    "start_time": "2022-11-05T09:35:16.319Z"
   },
   {
    "duration": 15,
    "start_time": "2022-11-05T09:35:50.832Z"
   },
   {
    "duration": 27,
    "start_time": "2022-11-05T09:36:51.808Z"
   },
   {
    "duration": 10,
    "start_time": "2022-11-05T09:38:22.096Z"
   },
   {
    "duration": 7,
    "start_time": "2022-11-05T09:39:21.620Z"
   },
   {
    "duration": 14,
    "start_time": "2022-11-05T09:39:24.950Z"
   },
   {
    "duration": 13,
    "start_time": "2022-11-05T09:39:30.793Z"
   },
   {
    "duration": 21,
    "start_time": "2022-11-05T09:40:24.380Z"
   },
   {
    "duration": 24,
    "start_time": "2022-11-05T09:40:27.278Z"
   },
   {
    "duration": 18,
    "start_time": "2022-11-05T09:40:32.166Z"
   },
   {
    "duration": 22,
    "start_time": "2022-11-05T09:40:34.650Z"
   },
   {
    "duration": 20,
    "start_time": "2022-11-05T09:40:40.105Z"
   },
   {
    "duration": 13,
    "start_time": "2022-11-05T09:40:42.268Z"
   },
   {
    "duration": 11,
    "start_time": "2022-11-05T09:41:02.565Z"
   },
   {
    "duration": 6,
    "start_time": "2022-11-05T09:41:07.891Z"
   },
   {
    "duration": 12,
    "start_time": "2022-11-05T09:41:21.608Z"
   },
   {
    "duration": 40,
    "start_time": "2022-11-05T09:41:55.401Z"
   },
   {
    "duration": 19,
    "start_time": "2022-11-05T09:42:12.559Z"
   },
   {
    "duration": 7,
    "start_time": "2022-11-05T09:42:22.100Z"
   },
   {
    "duration": 18,
    "start_time": "2022-11-05T09:43:01.427Z"
   },
   {
    "duration": 18,
    "start_time": "2022-11-05T09:43:14.675Z"
   },
   {
    "duration": 257,
    "start_time": "2022-11-05T09:45:22.306Z"
   },
   {
    "duration": 72,
    "start_time": "2022-11-05T09:45:42.735Z"
   },
   {
    "duration": 254,
    "start_time": "2022-11-05T09:45:48.912Z"
   },
   {
    "duration": 20,
    "start_time": "2022-11-05T09:46:16.198Z"
   },
   {
    "duration": 23,
    "start_time": "2022-11-05T09:46:35.254Z"
   },
   {
    "duration": 187,
    "start_time": "2022-11-05T09:46:47.944Z"
   },
   {
    "duration": 174,
    "start_time": "2022-11-05T09:46:59.835Z"
   },
   {
    "duration": 201,
    "start_time": "2022-11-05T09:47:16.543Z"
   },
   {
    "duration": 276,
    "start_time": "2022-11-05T09:47:44.974Z"
   },
   {
    "duration": 313,
    "start_time": "2022-11-05T09:47:52.173Z"
   },
   {
    "duration": 278,
    "start_time": "2022-11-05T09:50:46.161Z"
   },
   {
    "duration": 286,
    "start_time": "2022-11-05T09:51:15.624Z"
   },
   {
    "duration": 169,
    "start_time": "2022-11-05T09:52:07.672Z"
   },
   {
    "duration": 144,
    "start_time": "2022-11-05T09:52:15.909Z"
   },
   {
    "duration": 253,
    "start_time": "2022-11-05T09:52:18.746Z"
   },
   {
    "duration": 74,
    "start_time": "2022-11-05T09:52:25.221Z"
   },
   {
    "duration": 254,
    "start_time": "2022-11-05T09:52:29.701Z"
   },
   {
    "duration": 259,
    "start_time": "2022-11-05T09:52:55.028Z"
   },
   {
    "duration": 260,
    "start_time": "2022-11-05T09:53:04.047Z"
   },
   {
    "duration": 277,
    "start_time": "2022-11-05T09:53:16.272Z"
   },
   {
    "duration": 255,
    "start_time": "2022-11-05T09:53:29.988Z"
   },
   {
    "duration": 259,
    "start_time": "2022-11-05T09:53:37.275Z"
   },
   {
    "duration": 292,
    "start_time": "2022-11-05T09:53:43.805Z"
   },
   {
    "duration": 263,
    "start_time": "2022-11-05T09:53:53.834Z"
   },
   {
    "duration": 282,
    "start_time": "2022-11-05T09:54:37.851Z"
   },
   {
    "duration": 252,
    "start_time": "2022-11-05T09:54:55.014Z"
   },
   {
    "duration": 240,
    "start_time": "2022-11-05T09:55:05.226Z"
   },
   {
    "duration": 20,
    "start_time": "2022-11-05T09:55:18.985Z"
   },
   {
    "duration": 20,
    "start_time": "2022-11-05T09:55:24.801Z"
   },
   {
    "duration": 263,
    "start_time": "2022-11-05T09:55:27.482Z"
   },
   {
    "duration": 265,
    "start_time": "2022-11-05T09:55:29.749Z"
   },
   {
    "duration": 284,
    "start_time": "2022-11-05T09:55:39.057Z"
   },
   {
    "duration": 7,
    "start_time": "2022-11-05T09:56:07.606Z"
   },
   {
    "duration": 7,
    "start_time": "2022-11-05T09:56:56.567Z"
   },
   {
    "duration": 11,
    "start_time": "2022-11-05T09:56:56.895Z"
   },
   {
    "duration": 266,
    "start_time": "2022-11-05T09:56:57.199Z"
   },
   {
    "duration": 12,
    "start_time": "2022-11-05T09:57:57.685Z"
   },
   {
    "duration": 14,
    "start_time": "2022-11-05T09:58:10.467Z"
   },
   {
    "duration": 1061,
    "start_time": "2022-11-05T09:59:13.091Z"
   },
   {
    "duration": 1179,
    "start_time": "2022-11-05T09:59:25.518Z"
   },
   {
    "duration": 1085,
    "start_time": "2022-11-05T09:59:32.671Z"
   },
   {
    "duration": 16,
    "start_time": "2022-11-05T09:59:37.572Z"
   },
   {
    "duration": 17,
    "start_time": "2022-11-05T09:59:48.794Z"
   },
   {
    "duration": 15,
    "start_time": "2022-11-05T09:59:56.342Z"
   },
   {
    "duration": 16,
    "start_time": "2022-11-05T10:00:23.390Z"
   },
   {
    "duration": 15,
    "start_time": "2022-11-05T10:00:32.666Z"
   },
   {
    "duration": 1183,
    "start_time": "2022-11-05T10:01:08.653Z"
   },
   {
    "duration": 1117,
    "start_time": "2022-11-05T10:01:17.639Z"
   },
   {
    "duration": 15,
    "start_time": "2022-11-05T10:01:24.825Z"
   },
   {
    "duration": 1153,
    "start_time": "2022-11-05T10:01:37.940Z"
   },
   {
    "duration": 1221,
    "start_time": "2022-11-05T10:01:50.891Z"
   },
   {
    "duration": 1144,
    "start_time": "2022-11-05T10:01:58.496Z"
   },
   {
    "duration": 15,
    "start_time": "2022-11-05T10:02:04.150Z"
   },
   {
    "duration": 14,
    "start_time": "2022-11-05T10:02:09.523Z"
   },
   {
    "duration": 14,
    "start_time": "2022-11-05T10:02:15.274Z"
   },
   {
    "duration": 16,
    "start_time": "2022-11-05T10:02:31.229Z"
   },
   {
    "duration": 16,
    "start_time": "2022-11-05T10:02:41.840Z"
   },
   {
    "duration": 241,
    "start_time": "2022-11-05T10:03:38.334Z"
   },
   {
    "duration": 12,
    "start_time": "2022-11-05T10:04:36.071Z"
   },
   {
    "duration": 13,
    "start_time": "2022-11-05T10:04:40.132Z"
   },
   {
    "duration": 257,
    "start_time": "2022-11-05T10:05:03.365Z"
   },
   {
    "duration": 173,
    "start_time": "2022-11-05T10:08:43.631Z"
   },
   {
    "duration": 159,
    "start_time": "2022-11-05T10:09:14.510Z"
   },
   {
    "duration": 198,
    "start_time": "2022-11-05T10:09:29.955Z"
   },
   {
    "duration": 182,
    "start_time": "2022-11-05T10:09:40.605Z"
   },
   {
    "duration": 181,
    "start_time": "2022-11-05T10:09:45.946Z"
   },
   {
    "duration": 71,
    "start_time": "2022-11-05T10:10:01.001Z"
   },
   {
    "duration": 138,
    "start_time": "2022-11-05T10:10:04.759Z"
   },
   {
    "duration": 202,
    "start_time": "2022-11-05T10:10:21.820Z"
   },
   {
    "duration": 175,
    "start_time": "2022-11-05T10:10:29.500Z"
   },
   {
    "duration": 151,
    "start_time": "2022-11-05T10:10:38.549Z"
   },
   {
    "duration": 24,
    "start_time": "2022-11-05T10:11:14.269Z"
   },
   {
    "duration": 199,
    "start_time": "2022-11-05T10:11:55.671Z"
   },
   {
    "duration": 175,
    "start_time": "2022-11-05T10:12:52.228Z"
   },
   {
    "duration": 169,
    "start_time": "2022-11-05T10:13:01.374Z"
   },
   {
    "duration": 181,
    "start_time": "2022-11-05T10:13:44.097Z"
   },
   {
    "duration": 117,
    "start_time": "2022-11-05T10:13:56.820Z"
   },
   {
    "duration": 167,
    "start_time": "2022-11-05T10:14:09.810Z"
   },
   {
    "duration": 151,
    "start_time": "2022-11-05T10:14:16.345Z"
   },
   {
    "duration": 159,
    "start_time": "2022-11-05T10:14:29.920Z"
   },
   {
    "duration": 156,
    "start_time": "2022-11-05T10:14:45.338Z"
   },
   {
    "duration": 341,
    "start_time": "2022-11-05T10:15:07.750Z"
   },
   {
    "duration": 162,
    "start_time": "2022-11-05T10:15:13.424Z"
   },
   {
    "duration": 28,
    "start_time": "2022-11-05T10:18:41.949Z"
   },
   {
    "duration": 13,
    "start_time": "2022-11-05T10:19:00.796Z"
   },
   {
    "duration": 35,
    "start_time": "2022-11-05T10:19:38.239Z"
   },
   {
    "duration": 6,
    "start_time": "2022-11-05T10:20:26.527Z"
   },
   {
    "duration": 33,
    "start_time": "2022-11-05T10:20:39.135Z"
   },
   {
    "duration": 8,
    "start_time": "2022-11-05T10:20:52.742Z"
   },
   {
    "duration": 9,
    "start_time": "2022-11-05T10:21:06.572Z"
   },
   {
    "duration": 50,
    "start_time": "2022-11-05T10:21:30.362Z"
   },
   {
    "duration": 38,
    "start_time": "2022-11-05T10:21:41.886Z"
   },
   {
    "duration": 32,
    "start_time": "2022-11-05T10:21:49.629Z"
   },
   {
    "duration": 22,
    "start_time": "2022-11-05T10:22:09.657Z"
   },
   {
    "duration": 23,
    "start_time": "2022-11-05T10:22:14.651Z"
   },
   {
    "duration": 835,
    "start_time": "2022-11-06T14:35:42.758Z"
   },
   {
    "duration": 280,
    "start_time": "2022-11-06T14:35:43.596Z"
   },
   {
    "duration": 25,
    "start_time": "2022-11-06T14:35:43.877Z"
   },
   {
    "duration": 16,
    "start_time": "2022-11-06T14:35:43.903Z"
   },
   {
    "duration": 53,
    "start_time": "2022-11-06T14:35:43.922Z"
   },
   {
    "duration": 9,
    "start_time": "2022-11-06T14:35:43.977Z"
   },
   {
    "duration": 31,
    "start_time": "2022-11-06T14:35:43.987Z"
   },
   {
    "duration": 24,
    "start_time": "2022-11-06T14:35:44.020Z"
   },
   {
    "duration": 15,
    "start_time": "2022-11-06T14:35:44.046Z"
   },
   {
    "duration": 92,
    "start_time": "2022-11-06T14:35:44.062Z"
   },
   {
    "duration": 9,
    "start_time": "2022-11-06T14:35:44.155Z"
   },
   {
    "duration": 31,
    "start_time": "2022-11-06T14:35:44.166Z"
   },
   {
    "duration": 24,
    "start_time": "2022-11-06T14:35:44.199Z"
   },
   {
    "duration": 32,
    "start_time": "2022-11-06T14:35:44.226Z"
   },
   {
    "duration": 6,
    "start_time": "2022-11-06T14:35:44.259Z"
   },
   {
    "duration": 19,
    "start_time": "2022-11-06T14:35:44.267Z"
   },
   {
    "duration": 24,
    "start_time": "2022-11-06T14:35:44.288Z"
   },
   {
    "duration": 19,
    "start_time": "2022-11-06T14:35:44.314Z"
   },
   {
    "duration": 9,
    "start_time": "2022-11-06T14:35:44.336Z"
   },
   {
    "duration": 94,
    "start_time": "2022-11-06T14:35:44.347Z"
   },
   {
    "duration": 73,
    "start_time": "2022-11-06T14:35:44.444Z"
   },
   {
    "duration": 5,
    "start_time": "2022-11-06T14:35:44.520Z"
   },
   {
    "duration": 232,
    "start_time": "2022-11-06T14:35:44.526Z"
   },
   {
    "duration": 261,
    "start_time": "2022-11-06T14:35:44.760Z"
   },
   {
    "duration": 32,
    "start_time": "2022-11-06T14:35:45.023Z"
   },
   {
    "duration": 30,
    "start_time": "2022-11-06T14:35:45.057Z"
   },
   {
    "duration": 13,
    "start_time": "2022-11-06T14:35:45.088Z"
   },
   {
    "duration": 188,
    "start_time": "2022-11-06T14:35:45.102Z"
   },
   {
    "duration": 293,
    "start_time": "2022-11-06T14:35:45.292Z"
   },
   {
    "duration": 89,
    "start_time": "2022-11-06T14:35:45.587Z"
   },
   {
    "duration": 40,
    "start_time": "2022-11-06T14:36:01.309Z"
   },
   {
    "duration": 282,
    "start_time": "2022-11-06T14:37:33.623Z"
   },
   {
    "duration": 155,
    "start_time": "2022-11-06T14:37:44.561Z"
   },
   {
    "duration": 285,
    "start_time": "2022-11-06T14:37:55.852Z"
   },
   {
    "duration": 278,
    "start_time": "2022-11-06T14:38:03.795Z"
   },
   {
    "duration": 366,
    "start_time": "2022-11-06T14:38:11.516Z"
   },
   {
    "duration": 180,
    "start_time": "2022-11-06T14:38:21.742Z"
   },
   {
    "duration": 304,
    "start_time": "2022-11-06T14:38:28.099Z"
   },
   {
    "duration": 158,
    "start_time": "2022-11-06T14:38:36.320Z"
   },
   {
    "duration": 353,
    "start_time": "2022-11-06T14:38:39.220Z"
   },
   {
    "duration": 285,
    "start_time": "2022-11-06T14:42:45.047Z"
   },
   {
    "duration": 157,
    "start_time": "2022-11-06T14:42:50.523Z"
   },
   {
    "duration": 285,
    "start_time": "2022-11-06T14:43:02.152Z"
   },
   {
    "duration": 22,
    "start_time": "2022-11-06T14:59:16.165Z"
   },
   {
    "duration": 6,
    "start_time": "2022-11-06T15:05:31.094Z"
   },
   {
    "duration": 742,
    "start_time": "2022-11-06T15:05:47.453Z"
   },
   {
    "duration": 32,
    "start_time": "2022-11-06T15:06:01.401Z"
   },
   {
    "duration": 30,
    "start_time": "2022-11-06T15:07:48.865Z"
   },
   {
    "duration": 17,
    "start_time": "2022-11-06T15:08:22.009Z"
   },
   {
    "duration": 71,
    "start_time": "2022-11-06T15:08:31.466Z"
   },
   {
    "duration": 368,
    "start_time": "2022-11-06T15:08:33.117Z"
   },
   {
    "duration": 33,
    "start_time": "2022-11-06T15:08:42.889Z"
   },
   {
    "duration": 8,
    "start_time": "2022-11-06T15:09:28.189Z"
   },
   {
    "duration": 7,
    "start_time": "2022-11-06T15:09:42.661Z"
   },
   {
    "duration": 15,
    "start_time": "2022-11-06T15:09:56.166Z"
   },
   {
    "duration": 7,
    "start_time": "2022-11-06T15:10:04.284Z"
   },
   {
    "duration": 10,
    "start_time": "2022-11-06T15:10:22.043Z"
   },
   {
    "duration": 10,
    "start_time": "2022-11-06T15:10:27.788Z"
   },
   {
    "duration": 41,
    "start_time": "2022-11-06T15:10:33.600Z"
   },
   {
    "duration": 674,
    "start_time": "2022-11-06T15:10:56.057Z"
   },
   {
    "duration": 126,
    "start_time": "2022-11-06T15:10:56.733Z"
   },
   {
    "duration": 24,
    "start_time": "2022-11-06T15:10:56.860Z"
   },
   {
    "duration": 8,
    "start_time": "2022-11-06T15:10:56.886Z"
   },
   {
    "duration": 33,
    "start_time": "2022-11-06T15:10:56.896Z"
   },
   {
    "duration": 27,
    "start_time": "2022-11-06T15:10:56.931Z"
   },
   {
    "duration": 13,
    "start_time": "2022-11-06T15:10:56.960Z"
   },
   {
    "duration": 21,
    "start_time": "2022-11-06T15:10:56.974Z"
   },
   {
    "duration": 11,
    "start_time": "2022-11-06T15:10:56.996Z"
   },
   {
    "duration": 82,
    "start_time": "2022-11-06T15:10:57.009Z"
   },
   {
    "duration": 8,
    "start_time": "2022-11-06T15:10:57.093Z"
   },
   {
    "duration": 20,
    "start_time": "2022-11-06T15:10:57.103Z"
   },
   {
    "duration": 30,
    "start_time": "2022-11-06T15:10:57.124Z"
   },
   {
    "duration": 19,
    "start_time": "2022-11-06T15:10:57.156Z"
   },
   {
    "duration": 6,
    "start_time": "2022-11-06T15:10:57.176Z"
   },
   {
    "duration": 14,
    "start_time": "2022-11-06T15:10:57.184Z"
   },
   {
    "duration": 10,
    "start_time": "2022-11-06T15:10:57.199Z"
   },
   {
    "duration": 8,
    "start_time": "2022-11-06T15:10:57.211Z"
   },
   {
    "duration": 54,
    "start_time": "2022-11-06T15:10:57.220Z"
   },
   {
    "duration": 6,
    "start_time": "2022-11-06T15:10:57.276Z"
   },
   {
    "duration": 97,
    "start_time": "2022-11-06T15:10:57.284Z"
   },
   {
    "duration": 98,
    "start_time": "2022-11-06T15:10:57.383Z"
   },
   {
    "duration": 5,
    "start_time": "2022-11-06T15:10:57.483Z"
   },
   {
    "duration": 249,
    "start_time": "2022-11-06T15:10:57.490Z"
   },
   {
    "duration": 248,
    "start_time": "2022-11-06T15:10:57.741Z"
   },
   {
    "duration": 18,
    "start_time": "2022-11-06T15:10:57.991Z"
   },
   {
    "duration": 30,
    "start_time": "2022-11-06T15:10:58.011Z"
   },
   {
    "duration": 8,
    "start_time": "2022-11-06T15:10:58.054Z"
   },
   {
    "duration": 212,
    "start_time": "2022-11-06T15:10:58.064Z"
   },
   {
    "duration": 309,
    "start_time": "2022-11-06T15:10:58.278Z"
   },
   {
    "duration": 93,
    "start_time": "2022-11-06T15:10:58.589Z"
   },
   {
    "duration": 413,
    "start_time": "2022-11-06T15:11:19.274Z"
   },
   {
    "duration": 347,
    "start_time": "2022-11-06T15:11:23.796Z"
   },
   {
    "duration": 13,
    "start_time": "2022-11-06T15:11:30.104Z"
   },
   {
    "duration": 8,
    "start_time": "2022-11-06T15:11:36.892Z"
   },
   {
    "duration": 7,
    "start_time": "2022-11-06T15:11:55.481Z"
   },
   {
    "duration": 33,
    "start_time": "2022-11-06T15:11:59.434Z"
   },
   {
    "duration": 13,
    "start_time": "2022-11-06T15:12:08.299Z"
   },
   {
    "duration": 594,
    "start_time": "2022-11-06T15:12:13.508Z"
   },
   {
    "duration": 125,
    "start_time": "2022-11-06T15:12:14.104Z"
   },
   {
    "duration": 22,
    "start_time": "2022-11-06T15:12:14.231Z"
   },
   {
    "duration": 6,
    "start_time": "2022-11-06T15:12:14.256Z"
   },
   {
    "duration": 31,
    "start_time": "2022-11-06T15:12:14.264Z"
   },
   {
    "duration": 10,
    "start_time": "2022-11-06T15:12:14.296Z"
   },
   {
    "duration": 26,
    "start_time": "2022-11-06T15:12:14.308Z"
   },
   {
    "duration": 27,
    "start_time": "2022-11-06T15:12:14.337Z"
   },
   {
    "duration": 12,
    "start_time": "2022-11-06T15:12:14.365Z"
   },
   {
    "duration": 84,
    "start_time": "2022-11-06T15:12:14.381Z"
   },
   {
    "duration": 9,
    "start_time": "2022-11-06T15:12:14.467Z"
   },
   {
    "duration": 19,
    "start_time": "2022-11-06T15:12:14.478Z"
   },
   {
    "duration": 19,
    "start_time": "2022-11-06T15:12:14.500Z"
   },
   {
    "duration": 39,
    "start_time": "2022-11-06T15:12:14.521Z"
   },
   {
    "duration": 6,
    "start_time": "2022-11-06T15:12:14.562Z"
   },
   {
    "duration": 13,
    "start_time": "2022-11-06T15:12:14.570Z"
   },
   {
    "duration": 19,
    "start_time": "2022-11-06T15:12:14.584Z"
   },
   {
    "duration": 8,
    "start_time": "2022-11-06T15:12:14.604Z"
   },
   {
    "duration": 44,
    "start_time": "2022-11-06T15:12:14.614Z"
   },
   {
    "duration": 5,
    "start_time": "2022-11-06T15:12:14.667Z"
   },
   {
    "duration": 84,
    "start_time": "2022-11-06T15:12:14.674Z"
   },
   {
    "duration": 74,
    "start_time": "2022-11-06T15:12:14.759Z"
   },
   {
    "duration": 19,
    "start_time": "2022-11-06T15:12:14.835Z"
   },
   {
    "duration": 422,
    "start_time": "2022-11-06T15:12:14.856Z"
   },
   {
    "duration": 516,
    "start_time": "2022-11-06T15:12:15.280Z"
   },
   {
    "duration": 71,
    "start_time": "2022-11-06T15:12:15.798Z"
   },
   {
    "duration": 22,
    "start_time": "2022-11-06T15:12:15.871Z"
   },
   {
    "duration": 63,
    "start_time": "2022-11-06T15:12:15.898Z"
   },
   {
    "duration": 391,
    "start_time": "2022-11-06T15:12:15.963Z"
   },
   {
    "duration": 554,
    "start_time": "2022-11-06T15:12:16.356Z"
   },
   {
    "duration": 91,
    "start_time": "2022-11-06T15:12:16.912Z"
   },
   {
    "duration": 8,
    "start_time": "2022-11-06T15:12:27.150Z"
   },
   {
    "duration": 711,
    "start_time": "2022-11-06T15:12:31.990Z"
   },
   {
    "duration": 1141,
    "start_time": "2022-11-06T15:12:37.603Z"
   },
   {
    "duration": 35,
    "start_time": "2022-11-06T15:12:45.395Z"
   },
   {
    "duration": 36,
    "start_time": "2022-11-06T15:12:49.888Z"
   },
   {
    "duration": 38,
    "start_time": "2022-11-06T15:13:02.389Z"
   },
   {
    "duration": 5,
    "start_time": "2022-11-06T15:13:13.753Z"
   },
   {
    "duration": 4,
    "start_time": "2022-11-06T15:13:15.238Z"
   },
   {
    "duration": 16,
    "start_time": "2022-11-06T15:13:49.331Z"
   },
   {
    "duration": 108,
    "start_time": "2022-11-06T15:13:54.756Z"
   },
   {
    "duration": 189,
    "start_time": "2022-11-06T15:14:01.452Z"
   },
   {
    "duration": 182,
    "start_time": "2022-11-06T15:14:14.885Z"
   },
   {
    "duration": 13,
    "start_time": "2022-11-06T15:14:31.962Z"
   },
   {
    "duration": 225,
    "start_time": "2022-11-06T15:14:41.671Z"
   },
   {
    "duration": 214,
    "start_time": "2022-11-06T15:14:46.537Z"
   },
   {
    "duration": 188,
    "start_time": "2022-11-06T15:14:50.796Z"
   },
   {
    "duration": 306,
    "start_time": "2022-11-06T15:15:15.799Z"
   },
   {
    "duration": 5,
    "start_time": "2022-11-06T15:16:10.218Z"
   },
   {
    "duration": 63,
    "start_time": "2022-11-06T15:27:08.586Z"
   },
   {
    "duration": 27,
    "start_time": "2022-11-06T15:27:12.009Z"
   },
   {
    "duration": 22,
    "start_time": "2022-11-06T15:27:17.190Z"
   },
   {
    "duration": 18,
    "start_time": "2022-11-06T15:28:41.059Z"
   },
   {
    "duration": 43,
    "start_time": "2022-11-06T15:36:28.649Z"
   },
   {
    "duration": 10,
    "start_time": "2022-11-06T15:38:23.898Z"
   },
   {
    "duration": 10,
    "start_time": "2022-11-06T15:38:37.649Z"
   },
   {
    "duration": 133,
    "start_time": "2022-11-06T15:38:42.949Z"
   },
   {
    "duration": 18,
    "start_time": "2022-11-06T15:39:30.434Z"
   },
   {
    "duration": 15,
    "start_time": "2022-11-06T15:39:53.698Z"
   },
   {
    "duration": 19,
    "start_time": "2022-11-06T15:39:59.566Z"
   },
   {
    "duration": 28,
    "start_time": "2022-11-06T15:43:09.379Z"
   },
   {
    "duration": 22,
    "start_time": "2022-11-06T15:43:17.066Z"
   },
   {
    "duration": 23,
    "start_time": "2022-11-06T15:43:26.420Z"
   },
   {
    "duration": 21,
    "start_time": "2022-11-06T15:44:19.139Z"
   },
   {
    "duration": 173,
    "start_time": "2022-11-06T15:44:53.116Z"
   },
   {
    "duration": 311,
    "start_time": "2022-11-06T15:45:02.570Z"
   },
   {
    "duration": 306,
    "start_time": "2022-11-06T15:45:17.665Z"
   },
   {
    "duration": 320,
    "start_time": "2022-11-06T15:45:25.453Z"
   },
   {
    "duration": 323,
    "start_time": "2022-11-06T15:45:42.066Z"
   },
   {
    "duration": 307,
    "start_time": "2022-11-06T15:45:47.902Z"
   },
   {
    "duration": 421,
    "start_time": "2022-11-06T15:48:54.167Z"
   },
   {
    "duration": 288,
    "start_time": "2022-11-06T15:49:26.549Z"
   },
   {
    "duration": 266,
    "start_time": "2022-11-06T15:50:10.928Z"
   },
   {
    "duration": 20,
    "start_time": "2022-11-06T15:50:35.719Z"
   },
   {
    "duration": 280,
    "start_time": "2022-11-06T15:50:42.125Z"
   },
   {
    "duration": 5,
    "start_time": "2022-11-06T15:51:06.037Z"
   },
   {
    "duration": 297,
    "start_time": "2022-11-06T15:51:10.123Z"
   },
   {
    "duration": 308,
    "start_time": "2022-11-06T15:51:15.351Z"
   },
   {
    "duration": 527,
    "start_time": "2022-11-06T15:51:23.275Z"
   },
   {
    "duration": 547,
    "start_time": "2022-11-06T15:54:41.925Z"
   },
   {
    "duration": 622,
    "start_time": "2022-11-06T15:54:48.466Z"
   },
   {
    "duration": 532,
    "start_time": "2022-11-06T15:55:00.057Z"
   },
   {
    "duration": 283,
    "start_time": "2022-11-06T15:55:34.395Z"
   },
   {
    "duration": 563,
    "start_time": "2022-11-06T15:55:39.125Z"
   },
   {
    "duration": 9,
    "start_time": "2022-11-06T16:02:48.752Z"
   },
   {
    "duration": 18,
    "start_time": "2022-11-06T16:03:51.580Z"
   },
   {
    "duration": 511,
    "start_time": "2022-11-06T16:04:05.278Z"
   },
   {
    "duration": 535,
    "start_time": "2022-11-06T16:04:46.490Z"
   },
   {
    "duration": 648,
    "start_time": "2022-11-06T16:04:53.387Z"
   },
   {
    "duration": 580,
    "start_time": "2022-11-06T16:05:11.052Z"
   },
   {
    "duration": 486,
    "start_time": "2022-11-06T16:05:14.946Z"
   },
   {
    "duration": 480,
    "start_time": "2022-11-06T16:05:21.024Z"
   },
   {
    "duration": 472,
    "start_time": "2022-11-06T16:05:25.886Z"
   },
   {
    "duration": 240,
    "start_time": "2022-11-06T16:07:43.039Z"
   },
   {
    "duration": 99,
    "start_time": "2022-11-06T16:08:45.394Z"
   },
   {
    "duration": 615,
    "start_time": "2022-11-06T16:08:47.946Z"
   },
   {
    "duration": 820,
    "start_time": "2022-11-06T16:09:01.173Z"
   },
   {
    "duration": 944,
    "start_time": "2022-11-06T16:10:05.470Z"
   },
   {
    "duration": 716,
    "start_time": "2022-11-06T16:10:14.603Z"
   },
   {
    "duration": 936,
    "start_time": "2022-11-06T16:10:21.264Z"
   },
   {
    "duration": 749,
    "start_time": "2022-11-06T16:10:38.851Z"
   },
   {
    "duration": 267,
    "start_time": "2022-11-06T16:11:04.027Z"
   },
   {
    "duration": 287,
    "start_time": "2022-11-06T16:11:59.010Z"
   },
   {
    "duration": 247,
    "start_time": "2022-11-06T16:12:07.497Z"
   },
   {
    "duration": 264,
    "start_time": "2022-11-06T16:12:13.088Z"
   },
   {
    "duration": 283,
    "start_time": "2022-11-06T16:12:35.369Z"
   },
   {
    "duration": 546,
    "start_time": "2022-11-06T16:12:59.085Z"
   },
   {
    "duration": 531,
    "start_time": "2022-11-06T16:13:08.440Z"
   },
   {
    "duration": 488,
    "start_time": "2022-11-06T16:14:39.111Z"
   },
   {
    "duration": 50,
    "start_time": "2022-11-06T16:15:42.576Z"
   },
   {
    "duration": 65,
    "start_time": "2022-11-06T16:15:56.191Z"
   },
   {
    "duration": 525,
    "start_time": "2022-11-06T16:16:01.807Z"
   },
   {
    "duration": 527,
    "start_time": "2022-11-06T16:16:40.943Z"
   },
   {
    "duration": 50,
    "start_time": "2022-11-06T16:43:27.017Z"
   },
   {
    "duration": 16,
    "start_time": "2022-11-06T16:43:29.950Z"
   },
   {
    "duration": 22,
    "start_time": "2022-11-06T16:44:01.511Z"
   },
   {
    "duration": 20,
    "start_time": "2022-11-06T16:44:09.430Z"
   },
   {
    "duration": 15,
    "start_time": "2022-11-06T16:44:27.686Z"
   },
   {
    "duration": 13,
    "start_time": "2022-11-06T16:44:39.410Z"
   },
   {
    "duration": 15,
    "start_time": "2022-11-06T16:44:47.795Z"
   },
   {
    "duration": 15,
    "start_time": "2022-11-06T16:45:25.306Z"
   },
   {
    "duration": 16,
    "start_time": "2022-11-06T16:45:28.790Z"
   },
   {
    "duration": 16,
    "start_time": "2022-11-06T16:45:34.073Z"
   },
   {
    "duration": 28,
    "start_time": "2022-11-06T16:45:55.655Z"
   },
   {
    "duration": 40,
    "start_time": "2022-11-06T16:49:18.751Z"
   },
   {
    "duration": 16,
    "start_time": "2022-11-06T16:50:52.964Z"
   },
   {
    "duration": 16,
    "start_time": "2022-11-06T16:51:08.716Z"
   },
   {
    "duration": 507,
    "start_time": "2022-11-06T16:51:08.909Z"
   },
   {
    "duration": 28,
    "start_time": "2022-11-06T16:51:09.524Z"
   },
   {
    "duration": 14,
    "start_time": "2022-11-06T16:51:10.857Z"
   },
   {
    "duration": 8,
    "start_time": "2022-11-06T16:51:35.957Z"
   },
   {
    "duration": 682,
    "start_time": "2022-11-06T16:51:39.111Z"
   },
   {
    "duration": 30,
    "start_time": "2022-11-06T16:51:39.795Z"
   },
   {
    "duration": 16,
    "start_time": "2022-11-06T16:51:40.092Z"
   },
   {
    "duration": 153,
    "start_time": "2022-11-06T16:51:43.829Z"
   },
   {
    "duration": 126,
    "start_time": "2022-11-06T16:51:51.871Z"
   },
   {
    "duration": 170,
    "start_time": "2022-11-06T16:52:00.971Z"
   },
   {
    "duration": 140,
    "start_time": "2022-11-06T16:52:09.050Z"
   },
   {
    "duration": 144,
    "start_time": "2022-11-06T16:52:38.282Z"
   },
   {
    "duration": 46,
    "start_time": "2022-11-06T16:54:32.798Z"
   },
   {
    "duration": 14,
    "start_time": "2022-11-06T16:54:39.366Z"
   },
   {
    "duration": 9,
    "start_time": "2022-11-06T16:54:59.174Z"
   },
   {
    "duration": 486,
    "start_time": "2022-11-06T16:54:59.502Z"
   },
   {
    "duration": 44,
    "start_time": "2022-11-06T16:54:59.990Z"
   },
   {
    "duration": 125,
    "start_time": "2022-11-06T16:55:00.373Z"
   },
   {
    "duration": 159,
    "start_time": "2022-11-06T16:55:02.080Z"
   },
   {
    "duration": 144,
    "start_time": "2022-11-06T16:55:21.119Z"
   },
   {
    "duration": 143,
    "start_time": "2022-11-06T16:55:28.279Z"
   },
   {
    "duration": 143,
    "start_time": "2022-11-06T16:56:06.713Z"
   },
   {
    "duration": 15,
    "start_time": "2022-11-06T16:56:58.665Z"
   },
   {
    "duration": 14,
    "start_time": "2022-11-06T16:57:03.573Z"
   },
   {
    "duration": 18,
    "start_time": "2022-11-06T16:57:16.398Z"
   },
   {
    "duration": 5,
    "start_time": "2022-11-06T16:57:30.059Z"
   },
   {
    "duration": 19,
    "start_time": "2022-11-06T16:57:42.783Z"
   },
   {
    "duration": 19,
    "start_time": "2022-11-06T16:57:49.287Z"
   },
   {
    "duration": 15,
    "start_time": "2022-11-06T16:58:19.364Z"
   },
   {
    "duration": 8,
    "start_time": "2022-11-06T16:58:31.912Z"
   },
   {
    "duration": 327,
    "start_time": "2022-11-06T16:58:32.179Z"
   },
   {
    "duration": 25,
    "start_time": "2022-11-06T16:58:32.905Z"
   },
   {
    "duration": 159,
    "start_time": "2022-11-06T16:58:33.460Z"
   },
   {
    "duration": 146,
    "start_time": "2022-11-06T16:58:34.553Z"
   },
   {
    "duration": 14,
    "start_time": "2022-11-06T16:58:35.052Z"
   },
   {
    "duration": 349,
    "start_time": "2022-11-06T16:58:55.332Z"
   },
   {
    "duration": 0,
    "start_time": "2022-11-06T16:58:55.682Z"
   },
   {
    "duration": 24,
    "start_time": "2022-11-06T16:58:56.086Z"
   },
   {
    "duration": 155,
    "start_time": "2022-11-06T16:58:56.528Z"
   },
   {
    "duration": 143,
    "start_time": "2022-11-06T16:58:57.022Z"
   },
   {
    "duration": 14,
    "start_time": "2022-11-06T16:58:57.667Z"
   },
   {
    "duration": 7,
    "start_time": "2022-11-06T16:59:07.466Z"
   },
   {
    "duration": 7,
    "start_time": "2022-11-06T16:59:10.886Z"
   },
   {
    "duration": 775,
    "start_time": "2022-11-06T16:59:11.192Z"
   },
   {
    "duration": 25,
    "start_time": "2022-11-06T16:59:11.969Z"
   },
   {
    "duration": 132,
    "start_time": "2022-11-06T16:59:12.468Z"
   },
   {
    "duration": 153,
    "start_time": "2022-11-06T16:59:13.307Z"
   },
   {
    "duration": 14,
    "start_time": "2022-11-06T16:59:14.187Z"
   },
   {
    "duration": 57,
    "start_time": "2022-11-06T16:59:47.407Z"
   },
   {
    "duration": 12,
    "start_time": "2022-11-06T16:59:50.469Z"
   },
   {
    "duration": 19,
    "start_time": "2022-11-06T16:59:57.652Z"
   },
   {
    "duration": 4,
    "start_time": "2022-11-06T17:00:22.034Z"
   },
   {
    "duration": 8,
    "start_time": "2022-11-06T17:00:30.001Z"
   },
   {
    "duration": 11,
    "start_time": "2022-11-06T17:01:03.720Z"
   },
   {
    "duration": 507,
    "start_time": "2022-11-06T17:01:06.464Z"
   },
   {
    "duration": 27,
    "start_time": "2022-11-06T17:01:06.973Z"
   },
   {
    "duration": 137,
    "start_time": "2022-11-06T17:01:07.415Z"
   },
   {
    "duration": 139,
    "start_time": "2022-11-06T17:01:08.210Z"
   },
   {
    "duration": 21,
    "start_time": "2022-11-06T17:01:08.667Z"
   },
   {
    "duration": 13,
    "start_time": "2022-11-06T17:01:51.971Z"
   },
   {
    "duration": 791,
    "start_time": "2022-11-06T18:46:09.517Z"
   },
   {
    "duration": 231,
    "start_time": "2022-11-06T18:46:10.311Z"
   },
   {
    "duration": 23,
    "start_time": "2022-11-06T18:46:10.544Z"
   },
   {
    "duration": 4,
    "start_time": "2022-11-06T18:46:10.569Z"
   },
   {
    "duration": 30,
    "start_time": "2022-11-06T18:46:10.575Z"
   },
   {
    "duration": 32,
    "start_time": "2022-11-06T18:46:10.607Z"
   },
   {
    "duration": 22,
    "start_time": "2022-11-06T18:46:10.641Z"
   },
   {
    "duration": 11,
    "start_time": "2022-11-06T18:46:10.664Z"
   },
   {
    "duration": 14,
    "start_time": "2022-11-06T18:46:10.677Z"
   },
   {
    "duration": 100,
    "start_time": "2022-11-06T18:46:10.694Z"
   },
   {
    "duration": 8,
    "start_time": "2022-11-06T18:46:10.795Z"
   },
   {
    "duration": 17,
    "start_time": "2022-11-06T18:46:10.804Z"
   },
   {
    "duration": 27,
    "start_time": "2022-11-06T18:46:10.823Z"
   },
   {
    "duration": 18,
    "start_time": "2022-11-06T18:46:10.851Z"
   },
   {
    "duration": 6,
    "start_time": "2022-11-06T18:46:10.871Z"
   },
   {
    "duration": 8,
    "start_time": "2022-11-06T18:46:10.878Z"
   },
   {
    "duration": 9,
    "start_time": "2022-11-06T18:46:10.888Z"
   },
   {
    "duration": 42,
    "start_time": "2022-11-06T18:46:10.899Z"
   },
   {
    "duration": 309,
    "start_time": "2022-11-06T18:46:10.943Z"
   },
   {
    "duration": 7,
    "start_time": "2022-11-06T18:46:11.253Z"
   },
   {
    "duration": 92,
    "start_time": "2022-11-06T18:46:11.262Z"
   },
   {
    "duration": 151,
    "start_time": "2022-11-06T18:46:11.356Z"
   },
   {
    "duration": 4,
    "start_time": "2022-11-06T18:46:11.509Z"
   },
   {
    "duration": 248,
    "start_time": "2022-11-06T18:46:11.515Z"
   },
   {
    "duration": 185,
    "start_time": "2022-11-06T18:46:11.765Z"
   },
   {
    "duration": 17,
    "start_time": "2022-11-06T18:46:11.952Z"
   },
   {
    "duration": 21,
    "start_time": "2022-11-06T18:46:11.970Z"
   },
   {
    "duration": 6,
    "start_time": "2022-11-06T18:46:11.994Z"
   },
   {
    "duration": 201,
    "start_time": "2022-11-06T18:46:12.002Z"
   },
   {
    "duration": 280,
    "start_time": "2022-11-06T18:46:12.205Z"
   },
   {
    "duration": 9,
    "start_time": "2022-11-06T18:46:12.486Z"
   },
   {
    "duration": 472,
    "start_time": "2022-11-06T18:46:12.497Z"
   },
   {
    "duration": 25,
    "start_time": "2022-11-06T18:46:12.970Z"
   },
   {
    "duration": 148,
    "start_time": "2022-11-06T18:46:12.997Z"
   },
   {
    "duration": 145,
    "start_time": "2022-11-06T18:46:13.147Z"
   },
   {
    "duration": 11,
    "start_time": "2022-11-06T18:46:13.294Z"
   },
   {
    "duration": 30,
    "start_time": "2022-11-06T19:11:05.377Z"
   },
   {
    "duration": 7,
    "start_time": "2022-11-06T19:11:21.744Z"
   },
   {
    "duration": 120,
    "start_time": "2022-11-06T19:11:27.447Z"
   },
   {
    "duration": 82,
    "start_time": "2022-11-06T19:12:04.551Z"
   },
   {
    "duration": 122,
    "start_time": "2022-11-06T19:12:19.357Z"
   },
   {
    "duration": 228,
    "start_time": "2022-11-06T19:12:30.849Z"
   },
   {
    "duration": 10,
    "start_time": "2022-11-06T19:13:01.208Z"
   },
   {
    "duration": 12,
    "start_time": "2022-11-06T19:15:29.098Z"
   },
   {
    "duration": 116,
    "start_time": "2022-11-06T19:15:35.251Z"
   },
   {
    "duration": 615,
    "start_time": "2022-11-06T19:35:25.150Z"
   },
   {
    "duration": 126,
    "start_time": "2022-11-06T19:35:25.767Z"
   },
   {
    "duration": 24,
    "start_time": "2022-11-06T19:35:25.894Z"
   },
   {
    "duration": 5,
    "start_time": "2022-11-06T19:35:25.920Z"
   },
   {
    "duration": 36,
    "start_time": "2022-11-06T19:35:25.927Z"
   },
   {
    "duration": 9,
    "start_time": "2022-11-06T19:35:25.965Z"
   },
   {
    "duration": 17,
    "start_time": "2022-11-06T19:35:25.975Z"
   },
   {
    "duration": 9,
    "start_time": "2022-11-06T19:35:25.994Z"
   },
   {
    "duration": 34,
    "start_time": "2022-11-06T19:35:26.005Z"
   },
   {
    "duration": 70,
    "start_time": "2022-11-06T19:35:26.042Z"
   },
   {
    "duration": 8,
    "start_time": "2022-11-06T19:35:26.114Z"
   },
   {
    "duration": 32,
    "start_time": "2022-11-06T19:35:26.123Z"
   },
   {
    "duration": 15,
    "start_time": "2022-11-06T19:35:26.157Z"
   },
   {
    "duration": 18,
    "start_time": "2022-11-06T19:35:26.173Z"
   },
   {
    "duration": 6,
    "start_time": "2022-11-06T19:35:26.193Z"
   },
   {
    "duration": 45,
    "start_time": "2022-11-06T19:35:26.201Z"
   },
   {
    "duration": 10,
    "start_time": "2022-11-06T19:35:26.248Z"
   },
   {
    "duration": 8,
    "start_time": "2022-11-06T19:35:26.260Z"
   },
   {
    "duration": 324,
    "start_time": "2022-11-06T19:35:26.269Z"
   },
   {
    "duration": 4,
    "start_time": "2022-11-06T19:35:26.595Z"
   },
   {
    "duration": 86,
    "start_time": "2022-11-06T19:35:26.602Z"
   },
   {
    "duration": 129,
    "start_time": "2022-11-06T19:35:26.690Z"
   },
   {
    "duration": 4,
    "start_time": "2022-11-06T19:35:26.821Z"
   },
   {
    "duration": 208,
    "start_time": "2022-11-06T19:35:26.827Z"
   },
   {
    "duration": 258,
    "start_time": "2022-11-06T19:35:27.039Z"
   },
   {
    "duration": 20,
    "start_time": "2022-11-06T19:35:27.300Z"
   },
   {
    "duration": 44,
    "start_time": "2022-11-06T19:35:27.323Z"
   },
   {
    "duration": 29,
    "start_time": "2022-11-06T19:35:27.370Z"
   },
   {
    "duration": 201,
    "start_time": "2022-11-06T19:35:27.401Z"
   },
   {
    "duration": 282,
    "start_time": "2022-11-06T19:35:27.604Z"
   },
   {
    "duration": 9,
    "start_time": "2022-11-06T19:35:27.888Z"
   },
   {
    "duration": 501,
    "start_time": "2022-11-06T19:35:27.898Z"
   },
   {
    "duration": 39,
    "start_time": "2022-11-06T19:35:28.401Z"
   },
   {
    "duration": 155,
    "start_time": "2022-11-06T19:35:28.441Z"
   },
   {
    "duration": 161,
    "start_time": "2022-11-06T19:35:28.597Z"
   },
   {
    "duration": 12,
    "start_time": "2022-11-06T19:35:28.759Z"
   },
   {
    "duration": 1394,
    "start_time": "2022-11-08T16:08:56.663Z"
   },
   {
    "duration": 384,
    "start_time": "2022-11-08T16:08:58.060Z"
   },
   {
    "duration": 23,
    "start_time": "2022-11-08T16:08:58.446Z"
   },
   {
    "duration": 6,
    "start_time": "2022-11-08T16:08:58.471Z"
   },
   {
    "duration": 31,
    "start_time": "2022-11-08T16:08:58.520Z"
   },
   {
    "duration": 66,
    "start_time": "2022-11-08T16:08:58.554Z"
   },
   {
    "duration": 18,
    "start_time": "2022-11-08T16:08:58.623Z"
   },
   {
    "duration": 10,
    "start_time": "2022-11-08T16:08:58.642Z"
   },
   {
    "duration": 65,
    "start_time": "2022-11-08T16:08:58.654Z"
   },
   {
    "duration": 134,
    "start_time": "2022-11-08T16:08:58.723Z"
   },
   {
    "duration": 60,
    "start_time": "2022-11-08T16:08:58.859Z"
   },
   {
    "duration": 16,
    "start_time": "2022-11-08T16:08:58.921Z"
   },
   {
    "duration": 20,
    "start_time": "2022-11-08T16:08:58.939Z"
   },
   {
    "duration": 74,
    "start_time": "2022-11-08T16:08:58.962Z"
   },
   {
    "duration": 7,
    "start_time": "2022-11-08T16:08:59.038Z"
   },
   {
    "duration": 12,
    "start_time": "2022-11-08T16:08:59.046Z"
   },
   {
    "duration": 63,
    "start_time": "2022-11-08T16:08:59.060Z"
   },
   {
    "duration": 16,
    "start_time": "2022-11-08T16:08:59.124Z"
   },
   {
    "duration": 608,
    "start_time": "2022-11-08T16:08:59.142Z"
   },
   {
    "duration": 4,
    "start_time": "2022-11-08T16:08:59.752Z"
   },
   {
    "duration": 177,
    "start_time": "2022-11-08T16:08:59.759Z"
   },
   {
    "duration": 295,
    "start_time": "2022-11-08T16:08:59.938Z"
   },
   {
    "duration": 5,
    "start_time": "2022-11-08T16:09:00.234Z"
   },
   {
    "duration": 481,
    "start_time": "2022-11-08T16:09:00.241Z"
   },
   {
    "duration": 257,
    "start_time": "2022-11-08T16:09:00.726Z"
   },
   {
    "duration": 18,
    "start_time": "2022-11-08T16:09:00.985Z"
   },
   {
    "duration": 26,
    "start_time": "2022-11-08T16:09:01.025Z"
   },
   {
    "duration": 8,
    "start_time": "2022-11-08T16:09:01.055Z"
   },
   {
    "duration": 219,
    "start_time": "2022-11-08T16:09:01.064Z"
   },
   {
    "duration": 311,
    "start_time": "2022-11-08T16:09:01.285Z"
   },
   {
    "duration": 10,
    "start_time": "2022-11-08T16:09:01.598Z"
   },
   {
    "duration": 562,
    "start_time": "2022-11-08T16:09:01.610Z"
   },
   {
    "duration": 29,
    "start_time": "2022-11-08T16:09:02.175Z"
   },
   {
    "duration": 180,
    "start_time": "2022-11-08T16:09:02.206Z"
   },
   {
    "duration": 158,
    "start_time": "2022-11-08T16:09:02.388Z"
   },
   {
    "duration": 12,
    "start_time": "2022-11-08T16:09:02.548Z"
   },
   {
    "duration": 73,
    "start_time": "2022-11-08T16:09:13.250Z"
   },
   {
    "duration": 4,
    "start_time": "2022-11-08T16:09:15.455Z"
   },
   {
    "duration": 8,
    "start_time": "2022-11-08T16:09:27.926Z"
   },
   {
    "duration": 7,
    "start_time": "2022-11-08T16:09:36.553Z"
   },
   {
    "duration": 37,
    "start_time": "2022-11-08T16:09:55.515Z"
   },
   {
    "duration": 8,
    "start_time": "2022-11-08T16:10:42.671Z"
   },
   {
    "duration": 7,
    "start_time": "2022-11-08T16:11:25.699Z"
   },
   {
    "duration": 35,
    "start_time": "2022-11-08T16:11:32.258Z"
   },
   {
    "duration": 39,
    "start_time": "2022-11-08T16:11:42.414Z"
   },
   {
    "duration": 12,
    "start_time": "2022-11-08T16:12:20.874Z"
   },
   {
    "duration": 17,
    "start_time": "2022-11-08T16:12:28.874Z"
   },
   {
    "duration": 14,
    "start_time": "2022-11-08T16:12:40.957Z"
   },
   {
    "duration": 6,
    "start_time": "2022-11-08T16:15:06.283Z"
   },
   {
    "duration": 21,
    "start_time": "2022-11-08T16:15:13.756Z"
   },
   {
    "duration": 7,
    "start_time": "2022-11-08T16:15:35.891Z"
   },
   {
    "duration": 11,
    "start_time": "2022-11-08T16:15:42.166Z"
   },
   {
    "duration": 8,
    "start_time": "2022-11-08T16:15:52.254Z"
   },
   {
    "duration": 8,
    "start_time": "2022-11-08T16:16:18.659Z"
   },
   {
    "duration": 9,
    "start_time": "2022-11-08T16:16:24.909Z"
   },
   {
    "duration": 31,
    "start_time": "2022-11-08T16:16:36.737Z"
   },
   {
    "duration": 21,
    "start_time": "2022-11-08T16:16:42.743Z"
   },
   {
    "duration": 6,
    "start_time": "2022-11-08T16:17:30.601Z"
   },
   {
    "duration": 11,
    "start_time": "2022-11-08T16:18:17.340Z"
   },
   {
    "duration": 19,
    "start_time": "2022-11-08T16:18:32.381Z"
   },
   {
    "duration": 698,
    "start_time": "2022-11-08T16:18:58.012Z"
   },
   {
    "duration": 116,
    "start_time": "2022-11-08T16:18:58.713Z"
   },
   {
    "duration": 24,
    "start_time": "2022-11-08T16:18:58.831Z"
   },
   {
    "duration": 5,
    "start_time": "2022-11-08T16:18:58.857Z"
   },
   {
    "duration": 80,
    "start_time": "2022-11-08T16:18:58.865Z"
   },
   {
    "duration": 11,
    "start_time": "2022-11-08T16:18:58.948Z"
   },
   {
    "duration": 15,
    "start_time": "2022-11-08T16:18:58.962Z"
   },
   {
    "duration": 40,
    "start_time": "2022-11-08T16:18:58.979Z"
   },
   {
    "duration": 11,
    "start_time": "2022-11-08T16:18:59.021Z"
   },
   {
    "duration": 83,
    "start_time": "2022-11-08T16:18:59.036Z"
   },
   {
    "duration": 10,
    "start_time": "2022-11-08T16:18:59.121Z"
   },
   {
    "duration": 15,
    "start_time": "2022-11-08T16:18:59.134Z"
   },
   {
    "duration": 15,
    "start_time": "2022-11-08T16:18:59.151Z"
   },
   {
    "duration": 61,
    "start_time": "2022-11-08T16:18:59.169Z"
   },
   {
    "duration": 6,
    "start_time": "2022-11-08T16:18:59.232Z"
   },
   {
    "duration": 13,
    "start_time": "2022-11-08T16:18:59.240Z"
   },
   {
    "duration": 13,
    "start_time": "2022-11-08T16:18:59.255Z"
   },
   {
    "duration": 8,
    "start_time": "2022-11-08T16:18:59.270Z"
   },
   {
    "duration": 42,
    "start_time": "2022-11-08T16:18:59.280Z"
   },
   {
    "duration": 9,
    "start_time": "2022-11-08T16:18:59.325Z"
   },
   {
    "duration": 14,
    "start_time": "2022-11-08T16:18:59.336Z"
   },
   {
    "duration": 15,
    "start_time": "2022-11-08T16:18:59.352Z"
   },
   {
    "duration": 20,
    "start_time": "2022-11-08T16:18:59.420Z"
   },
   {
    "duration": 622,
    "start_time": "2022-11-08T16:18:59.442Z"
   },
   {
    "duration": 56,
    "start_time": "2022-11-08T16:19:00.066Z"
   },
   {
    "duration": 195,
    "start_time": "2022-11-08T16:19:00.124Z"
   },
   {
    "duration": 232,
    "start_time": "2022-11-08T16:19:00.322Z"
   },
   {
    "duration": 61,
    "start_time": "2022-11-08T16:19:00.558Z"
   },
   {
    "duration": 501,
    "start_time": "2022-11-08T16:19:00.622Z"
   },
   {
    "duration": 422,
    "start_time": "2022-11-08T16:19:01.126Z"
   },
   {
    "duration": 22,
    "start_time": "2022-11-08T16:19:01.551Z"
   },
   {
    "duration": 67,
    "start_time": "2022-11-08T16:19:01.575Z"
   },
   {
    "duration": 42,
    "start_time": "2022-11-08T16:19:01.645Z"
   },
   {
    "duration": 220,
    "start_time": "2022-11-08T16:19:01.689Z"
   },
   {
    "duration": 308,
    "start_time": "2022-11-08T16:19:01.912Z"
   },
   {
    "duration": 12,
    "start_time": "2022-11-08T16:19:02.222Z"
   },
   {
    "duration": 532,
    "start_time": "2022-11-08T16:19:02.237Z"
   },
   {
    "duration": 49,
    "start_time": "2022-11-08T16:19:02.771Z"
   },
   {
    "duration": 187,
    "start_time": "2022-11-08T16:19:02.824Z"
   },
   {
    "duration": 173,
    "start_time": "2022-11-08T16:19:03.014Z"
   },
   {
    "duration": 14,
    "start_time": "2022-11-08T16:19:03.189Z"
   },
   {
    "duration": 16,
    "start_time": "2022-11-08T16:19:25.985Z"
   },
   {
    "duration": 21,
    "start_time": "2022-11-08T16:19:30.123Z"
   },
   {
    "duration": 52,
    "start_time": "2022-11-08T16:19:34.155Z"
   },
   {
    "duration": 34,
    "start_time": "2022-11-08T16:19:41.983Z"
   },
   {
    "duration": 7,
    "start_time": "2022-11-08T16:19:54.554Z"
   },
   {
    "duration": 12,
    "start_time": "2022-11-08T16:20:09.897Z"
   },
   {
    "duration": 14,
    "start_time": "2022-11-08T16:20:15.772Z"
   },
   {
    "duration": 11,
    "start_time": "2022-11-08T16:20:23.596Z"
   },
   {
    "duration": 38,
    "start_time": "2022-11-08T16:20:25.267Z"
   },
   {
    "duration": 40,
    "start_time": "2022-11-08T16:20:34.443Z"
   },
   {
    "duration": 40,
    "start_time": "2022-11-08T16:21:51.010Z"
   },
   {
    "duration": 13,
    "start_time": "2022-11-08T16:22:02.860Z"
   },
   {
    "duration": 10,
    "start_time": "2022-11-08T16:22:12.489Z"
   },
   {
    "duration": 14,
    "start_time": "2022-11-08T16:22:24.091Z"
   },
   {
    "duration": 734,
    "start_time": "2022-11-08T16:22:33.008Z"
   },
   {
    "duration": 211,
    "start_time": "2022-11-08T16:22:33.744Z"
   },
   {
    "duration": 67,
    "start_time": "2022-11-08T16:22:33.956Z"
   },
   {
    "duration": 9,
    "start_time": "2022-11-08T16:22:34.026Z"
   },
   {
    "duration": 120,
    "start_time": "2022-11-08T16:22:34.040Z"
   },
   {
    "duration": 67,
    "start_time": "2022-11-08T16:22:34.163Z"
   },
   {
    "duration": 15,
    "start_time": "2022-11-08T16:22:34.232Z"
   },
   {
    "duration": 70,
    "start_time": "2022-11-08T16:22:34.249Z"
   },
   {
    "duration": 11,
    "start_time": "2022-11-08T16:22:34.322Z"
   },
   {
    "duration": 124,
    "start_time": "2022-11-08T16:22:34.334Z"
   },
   {
    "duration": 63,
    "start_time": "2022-11-08T16:22:34.460Z"
   },
   {
    "duration": 20,
    "start_time": "2022-11-08T16:22:34.525Z"
   },
   {
    "duration": 71,
    "start_time": "2022-11-08T16:22:34.548Z"
   },
   {
    "duration": 30,
    "start_time": "2022-11-08T16:22:34.624Z"
   },
   {
    "duration": 66,
    "start_time": "2022-11-08T16:22:34.656Z"
   },
   {
    "duration": 9,
    "start_time": "2022-11-08T16:22:34.724Z"
   },
   {
    "duration": 19,
    "start_time": "2022-11-08T16:22:34.735Z"
   },
   {
    "duration": 8,
    "start_time": "2022-11-08T16:22:34.757Z"
   },
   {
    "duration": 55,
    "start_time": "2022-11-08T16:22:34.768Z"
   },
   {
    "duration": 11,
    "start_time": "2022-11-08T16:22:34.826Z"
   },
   {
    "duration": 13,
    "start_time": "2022-11-08T16:22:34.839Z"
   },
   {
    "duration": 69,
    "start_time": "2022-11-08T16:22:34.854Z"
   },
   {
    "duration": 22,
    "start_time": "2022-11-08T16:22:34.925Z"
   },
   {
    "duration": 694,
    "start_time": "2022-11-08T16:22:34.949Z"
   },
   {
    "duration": 5,
    "start_time": "2022-11-08T16:22:35.644Z"
   },
   {
    "duration": 84,
    "start_time": "2022-11-08T16:22:35.650Z"
   },
   {
    "duration": 83,
    "start_time": "2022-11-08T16:22:35.736Z"
   },
   {
    "duration": 5,
    "start_time": "2022-11-08T16:22:35.821Z"
   },
   {
    "duration": 252,
    "start_time": "2022-11-08T16:22:35.827Z"
   },
   {
    "duration": 201,
    "start_time": "2022-11-08T16:22:36.080Z"
   },
   {
    "duration": 837,
    "start_time": "2022-11-08T16:22:36.283Z"
   },
   {
    "duration": 0,
    "start_time": "2022-11-08T16:22:37.122Z"
   },
   {
    "duration": 0,
    "start_time": "2022-11-08T16:22:37.123Z"
   },
   {
    "duration": 0,
    "start_time": "2022-11-08T16:22:37.124Z"
   },
   {
    "duration": 0,
    "start_time": "2022-11-08T16:22:37.126Z"
   },
   {
    "duration": 0,
    "start_time": "2022-11-08T16:22:37.127Z"
   },
   {
    "duration": 0,
    "start_time": "2022-11-08T16:22:37.129Z"
   },
   {
    "duration": 0,
    "start_time": "2022-11-08T16:22:37.131Z"
   },
   {
    "duration": 0,
    "start_time": "2022-11-08T16:22:37.132Z"
   },
   {
    "duration": 0,
    "start_time": "2022-11-08T16:22:37.134Z"
   },
   {
    "duration": 0,
    "start_time": "2022-11-08T16:22:37.135Z"
   },
   {
    "duration": 11,
    "start_time": "2022-11-08T16:22:45.355Z"
   },
   {
    "duration": 602,
    "start_time": "2022-11-08T16:22:48.162Z"
   },
   {
    "duration": 118,
    "start_time": "2022-11-08T16:22:48.766Z"
   },
   {
    "duration": 24,
    "start_time": "2022-11-08T16:22:48.886Z"
   },
   {
    "duration": 8,
    "start_time": "2022-11-08T16:22:48.912Z"
   },
   {
    "duration": 30,
    "start_time": "2022-11-08T16:22:48.924Z"
   },
   {
    "duration": 11,
    "start_time": "2022-11-08T16:22:48.957Z"
   },
   {
    "duration": 16,
    "start_time": "2022-11-08T16:22:48.970Z"
   },
   {
    "duration": 38,
    "start_time": "2022-11-08T16:22:48.989Z"
   },
   {
    "duration": 18,
    "start_time": "2022-11-08T16:22:49.029Z"
   },
   {
    "duration": 89,
    "start_time": "2022-11-08T16:22:49.050Z"
   },
   {
    "duration": 8,
    "start_time": "2022-11-08T16:22:49.142Z"
   },
   {
    "duration": 25,
    "start_time": "2022-11-08T16:22:49.152Z"
   },
   {
    "duration": 15,
    "start_time": "2022-11-08T16:22:49.179Z"
   },
   {
    "duration": 19,
    "start_time": "2022-11-08T16:22:49.219Z"
   },
   {
    "duration": 7,
    "start_time": "2022-11-08T16:22:49.239Z"
   },
   {
    "duration": 12,
    "start_time": "2022-11-08T16:22:49.248Z"
   },
   {
    "duration": 15,
    "start_time": "2022-11-08T16:22:49.262Z"
   },
   {
    "duration": 45,
    "start_time": "2022-11-08T16:22:49.279Z"
   },
   {
    "duration": 10,
    "start_time": "2022-11-08T16:22:49.326Z"
   },
   {
    "duration": 24,
    "start_time": "2022-11-08T16:22:49.339Z"
   },
   {
    "duration": 16,
    "start_time": "2022-11-08T16:22:49.365Z"
   },
   {
    "duration": 15,
    "start_time": "2022-11-08T16:22:49.384Z"
   },
   {
    "duration": 31,
    "start_time": "2022-11-08T16:22:49.400Z"
   },
   {
    "duration": 336,
    "start_time": "2022-11-08T16:22:49.432Z"
   },
   {
    "duration": 5,
    "start_time": "2022-11-08T16:22:49.770Z"
   },
   {
    "duration": 98,
    "start_time": "2022-11-08T16:22:49.777Z"
   },
   {
    "duration": 146,
    "start_time": "2022-11-08T16:22:49.877Z"
   },
   {
    "duration": 5,
    "start_time": "2022-11-08T16:22:50.025Z"
   },
   {
    "duration": 228,
    "start_time": "2022-11-08T16:22:50.031Z"
   },
   {
    "duration": 195,
    "start_time": "2022-11-08T16:22:50.261Z"
   },
   {
    "duration": 19,
    "start_time": "2022-11-08T16:22:50.458Z"
   },
   {
    "duration": 21,
    "start_time": "2022-11-08T16:22:50.479Z"
   },
   {
    "duration": 9,
    "start_time": "2022-11-08T16:22:50.520Z"
   },
   {
    "duration": 206,
    "start_time": "2022-11-08T16:22:50.531Z"
   },
   {
    "duration": 319,
    "start_time": "2022-11-08T16:22:50.739Z"
   },
   {
    "duration": 10,
    "start_time": "2022-11-08T16:22:51.060Z"
   },
   {
    "duration": 541,
    "start_time": "2022-11-08T16:22:51.072Z"
   },
   {
    "duration": 29,
    "start_time": "2022-11-08T16:22:51.619Z"
   },
   {
    "duration": 163,
    "start_time": "2022-11-08T16:22:51.650Z"
   },
   {
    "duration": 164,
    "start_time": "2022-11-08T16:22:51.819Z"
   },
   {
    "duration": 13,
    "start_time": "2022-11-08T16:22:51.988Z"
   },
   {
    "duration": 14,
    "start_time": "2022-11-08T16:23:51.255Z"
   },
   {
    "duration": 12,
    "start_time": "2022-11-08T16:23:55.295Z"
   },
   {
    "duration": 13,
    "start_time": "2022-11-08T16:23:58.023Z"
   },
   {
    "duration": 800,
    "start_time": "2022-11-08T16:24:16.123Z"
   },
   {
    "duration": 135,
    "start_time": "2022-11-08T16:24:16.925Z"
   },
   {
    "duration": 24,
    "start_time": "2022-11-08T16:24:17.061Z"
   },
   {
    "duration": 28,
    "start_time": "2022-11-08T16:24:17.090Z"
   },
   {
    "duration": 38,
    "start_time": "2022-11-08T16:24:17.120Z"
   },
   {
    "duration": 9,
    "start_time": "2022-11-08T16:24:17.160Z"
   },
   {
    "duration": 14,
    "start_time": "2022-11-08T16:24:17.170Z"
   },
   {
    "duration": 16,
    "start_time": "2022-11-08T16:24:17.218Z"
   },
   {
    "duration": 16,
    "start_time": "2022-11-08T16:24:17.236Z"
   },
   {
    "duration": 86,
    "start_time": "2022-11-08T16:24:17.255Z"
   },
   {
    "duration": 8,
    "start_time": "2022-11-08T16:24:17.343Z"
   },
   {
    "duration": 25,
    "start_time": "2022-11-08T16:24:17.353Z"
   },
   {
    "duration": 18,
    "start_time": "2022-11-08T16:24:17.381Z"
   },
   {
    "duration": 50,
    "start_time": "2022-11-08T16:24:17.402Z"
   },
   {
    "duration": 6,
    "start_time": "2022-11-08T16:24:17.454Z"
   },
   {
    "duration": 10,
    "start_time": "2022-11-08T16:24:17.462Z"
   },
   {
    "duration": 15,
    "start_time": "2022-11-08T16:24:17.473Z"
   },
   {
    "duration": 30,
    "start_time": "2022-11-08T16:24:17.490Z"
   },
   {
    "duration": 4,
    "start_time": "2022-11-08T16:24:17.522Z"
   },
   {
    "duration": 30,
    "start_time": "2022-11-08T16:24:17.528Z"
   },
   {
    "duration": 10,
    "start_time": "2022-11-08T16:24:17.560Z"
   },
   {
    "duration": 19,
    "start_time": "2022-11-08T16:24:17.572Z"
   },
   {
    "duration": 20,
    "start_time": "2022-11-08T16:24:17.592Z"
   },
   {
    "duration": 345,
    "start_time": "2022-11-08T16:24:17.613Z"
   },
   {
    "duration": 8,
    "start_time": "2022-11-08T16:24:17.961Z"
   },
   {
    "duration": 91,
    "start_time": "2022-11-08T16:24:17.970Z"
   },
   {
    "duration": 129,
    "start_time": "2022-11-08T16:24:18.063Z"
   },
   {
    "duration": 4,
    "start_time": "2022-11-08T16:24:18.197Z"
   },
   {
    "duration": 220,
    "start_time": "2022-11-08T16:24:18.203Z"
   },
   {
    "duration": 214,
    "start_time": "2022-11-08T16:24:18.425Z"
   },
   {
    "duration": 19,
    "start_time": "2022-11-08T16:24:18.640Z"
   },
   {
    "duration": 27,
    "start_time": "2022-11-08T16:24:18.662Z"
   },
   {
    "duration": 30,
    "start_time": "2022-11-08T16:24:18.691Z"
   },
   {
    "duration": 215,
    "start_time": "2022-11-08T16:24:18.723Z"
   },
   {
    "duration": 319,
    "start_time": "2022-11-08T16:24:18.941Z"
   },
   {
    "duration": 9,
    "start_time": "2022-11-08T16:24:19.262Z"
   },
   {
    "duration": 524,
    "start_time": "2022-11-08T16:24:19.272Z"
   },
   {
    "duration": 38,
    "start_time": "2022-11-08T16:24:19.798Z"
   },
   {
    "duration": 150,
    "start_time": "2022-11-08T16:24:19.838Z"
   },
   {
    "duration": 186,
    "start_time": "2022-11-08T16:24:19.990Z"
   },
   {
    "duration": 23,
    "start_time": "2022-11-08T16:24:20.179Z"
   },
   {
    "duration": 22,
    "start_time": "2022-11-08T16:25:04.260Z"
   },
   {
    "duration": 26,
    "start_time": "2022-11-08T16:25:10.306Z"
   },
   {
    "duration": 41,
    "start_time": "2022-11-08T16:25:19.138Z"
   },
   {
    "duration": 35,
    "start_time": "2022-11-08T16:25:24.677Z"
   },
   {
    "duration": 13,
    "start_time": "2022-11-08T16:26:15.801Z"
   },
   {
    "duration": 15,
    "start_time": "2022-11-08T16:26:16.532Z"
   },
   {
    "duration": 5,
    "start_time": "2022-11-08T16:27:41.067Z"
   },
   {
    "duration": 15,
    "start_time": "2022-11-08T16:27:57.151Z"
   },
   {
    "duration": 11,
    "start_time": "2022-11-08T16:29:19.734Z"
   },
   {
    "duration": 16,
    "start_time": "2022-11-08T16:29:29.205Z"
   },
   {
    "duration": 17,
    "start_time": "2022-11-08T16:30:01.045Z"
   },
   {
    "duration": 20,
    "start_time": "2022-11-08T16:30:09.123Z"
   },
   {
    "duration": 10,
    "start_time": "2022-11-08T16:30:42.071Z"
   },
   {
    "duration": 17,
    "start_time": "2022-11-08T16:30:52.126Z"
   },
   {
    "duration": 31,
    "start_time": "2022-11-08T16:30:55.706Z"
   },
   {
    "duration": 6,
    "start_time": "2022-11-08T16:31:10.326Z"
   },
   {
    "duration": 20,
    "start_time": "2022-11-08T16:31:13.615Z"
   },
   {
    "duration": 19,
    "start_time": "2022-11-08T16:31:18.188Z"
   },
   {
    "duration": 884,
    "start_time": "2022-11-08T16:32:34.602Z"
   },
   {
    "duration": 760,
    "start_time": "2022-11-08T16:32:42.921Z"
   },
   {
    "duration": 19,
    "start_time": "2022-11-08T16:32:49.909Z"
   },
   {
    "duration": 10,
    "start_time": "2022-11-08T16:33:09.845Z"
   },
   {
    "duration": 16,
    "start_time": "2022-11-08T16:33:13.731Z"
   },
   {
    "duration": 6,
    "start_time": "2022-11-08T16:36:02.933Z"
   },
   {
    "duration": 17,
    "start_time": "2022-11-08T16:36:11.810Z"
   },
   {
    "duration": 12,
    "start_time": "2022-11-08T16:36:22.958Z"
   },
   {
    "duration": 5,
    "start_time": "2022-11-08T16:36:31.571Z"
   },
   {
    "duration": 4,
    "start_time": "2022-11-08T16:37:00.447Z"
   },
   {
    "duration": 5,
    "start_time": "2022-11-08T16:37:22.650Z"
   },
   {
    "duration": 690,
    "start_time": "2022-11-08T16:37:30.142Z"
   },
   {
    "duration": 120,
    "start_time": "2022-11-08T16:37:30.834Z"
   },
   {
    "duration": 45,
    "start_time": "2022-11-08T16:37:30.957Z"
   },
   {
    "duration": 7,
    "start_time": "2022-11-08T16:37:31.005Z"
   },
   {
    "duration": 49,
    "start_time": "2022-11-08T16:37:31.014Z"
   },
   {
    "duration": 53,
    "start_time": "2022-11-08T16:37:31.066Z"
   },
   {
    "duration": 52,
    "start_time": "2022-11-08T16:37:31.121Z"
   },
   {
    "duration": 41,
    "start_time": "2022-11-08T16:37:31.175Z"
   },
   {
    "duration": 32,
    "start_time": "2022-11-08T16:37:31.218Z"
   },
   {
    "duration": 84,
    "start_time": "2022-11-08T16:37:31.253Z"
   },
   {
    "duration": 9,
    "start_time": "2022-11-08T16:37:31.340Z"
   },
   {
    "duration": 35,
    "start_time": "2022-11-08T16:37:31.351Z"
   },
   {
    "duration": 29,
    "start_time": "2022-11-08T16:37:31.388Z"
   },
   {
    "duration": 31,
    "start_time": "2022-11-08T16:37:31.419Z"
   },
   {
    "duration": 19,
    "start_time": "2022-11-08T16:37:31.452Z"
   },
   {
    "duration": 32,
    "start_time": "2022-11-08T16:37:31.473Z"
   },
   {
    "duration": 36,
    "start_time": "2022-11-08T16:37:31.507Z"
   },
   {
    "duration": 56,
    "start_time": "2022-11-08T16:37:31.545Z"
   },
   {
    "duration": 34,
    "start_time": "2022-11-08T16:37:31.603Z"
   },
   {
    "duration": 84,
    "start_time": "2022-11-08T16:37:31.639Z"
   },
   {
    "duration": 16,
    "start_time": "2022-11-08T16:37:31.724Z"
   },
   {
    "duration": 84,
    "start_time": "2022-11-08T16:37:31.742Z"
   },
   {
    "duration": 631,
    "start_time": "2022-11-08T16:37:31.829Z"
   },
   {
    "duration": 59,
    "start_time": "2022-11-08T16:37:32.462Z"
   },
   {
    "duration": 137,
    "start_time": "2022-11-08T16:37:32.523Z"
   },
   {
    "duration": 298,
    "start_time": "2022-11-08T16:37:32.662Z"
   },
   {
    "duration": 62,
    "start_time": "2022-11-08T16:37:32.962Z"
   },
   {
    "duration": 424,
    "start_time": "2022-11-08T16:37:33.027Z"
   },
   {
    "duration": 241,
    "start_time": "2022-11-08T16:37:33.453Z"
   },
   {
    "duration": 29,
    "start_time": "2022-11-08T16:37:33.697Z"
   },
   {
    "duration": 31,
    "start_time": "2022-11-08T16:37:33.728Z"
   },
   {
    "duration": 9,
    "start_time": "2022-11-08T16:37:33.760Z"
   },
   {
    "duration": 206,
    "start_time": "2022-11-08T16:37:33.771Z"
   },
   {
    "duration": 301,
    "start_time": "2022-11-08T16:37:33.979Z"
   },
   {
    "duration": 10,
    "start_time": "2022-11-08T16:37:34.282Z"
   },
   {
    "duration": 537,
    "start_time": "2022-11-08T16:37:34.294Z"
   },
   {
    "duration": 27,
    "start_time": "2022-11-08T16:37:34.832Z"
   },
   {
    "duration": 171,
    "start_time": "2022-11-08T16:37:34.861Z"
   },
   {
    "duration": 162,
    "start_time": "2022-11-08T16:37:35.034Z"
   },
   {
    "duration": 24,
    "start_time": "2022-11-08T16:37:35.198Z"
   },
   {
    "duration": 12,
    "start_time": "2022-11-08T16:39:41.180Z"
   },
   {
    "duration": 8,
    "start_time": "2022-11-08T16:39:51.045Z"
   },
   {
    "duration": 4,
    "start_time": "2022-11-08T16:40:07.275Z"
   },
   {
    "duration": 81,
    "start_time": "2022-11-08T16:40:13.951Z"
   },
   {
    "duration": 6,
    "start_time": "2022-11-08T16:40:24.380Z"
   },
   {
    "duration": 14,
    "start_time": "2022-11-08T16:40:55.882Z"
   },
   {
    "duration": 13,
    "start_time": "2022-11-08T16:41:20.266Z"
   },
   {
    "duration": 18,
    "start_time": "2022-11-08T16:41:31.061Z"
   },
   {
    "duration": 5,
    "start_time": "2022-11-08T16:41:41.257Z"
   },
   {
    "duration": 8,
    "start_time": "2022-11-08T16:42:22.250Z"
   },
   {
    "duration": 6,
    "start_time": "2022-11-08T16:42:28.215Z"
   },
   {
    "duration": 9,
    "start_time": "2022-11-08T16:42:48.564Z"
   },
   {
    "duration": 720,
    "start_time": "2022-11-08T16:42:54.315Z"
   },
   {
    "duration": 113,
    "start_time": "2022-11-08T16:42:55.037Z"
   },
   {
    "duration": 23,
    "start_time": "2022-11-08T16:42:55.151Z"
   },
   {
    "duration": 6,
    "start_time": "2022-11-08T16:42:55.177Z"
   },
   {
    "duration": 54,
    "start_time": "2022-11-08T16:42:55.185Z"
   },
   {
    "duration": 10,
    "start_time": "2022-11-08T16:42:55.241Z"
   },
   {
    "duration": 26,
    "start_time": "2022-11-08T16:42:55.253Z"
   },
   {
    "duration": 11,
    "start_time": "2022-11-08T16:42:55.280Z"
   },
   {
    "duration": 28,
    "start_time": "2022-11-08T16:42:55.292Z"
   },
   {
    "duration": 73,
    "start_time": "2022-11-08T16:42:55.322Z"
   },
   {
    "duration": 23,
    "start_time": "2022-11-08T16:42:55.396Z"
   },
   {
    "duration": 22,
    "start_time": "2022-11-08T16:42:55.421Z"
   },
   {
    "duration": 22,
    "start_time": "2022-11-08T16:42:55.445Z"
   },
   {
    "duration": 19,
    "start_time": "2022-11-08T16:42:55.470Z"
   },
   {
    "duration": 6,
    "start_time": "2022-11-08T16:42:55.491Z"
   },
   {
    "duration": 9,
    "start_time": "2022-11-08T16:42:55.519Z"
   },
   {
    "duration": 10,
    "start_time": "2022-11-08T16:42:55.530Z"
   },
   {
    "duration": 11,
    "start_time": "2022-11-08T16:42:55.542Z"
   },
   {
    "duration": 7,
    "start_time": "2022-11-08T16:42:55.554Z"
   },
   {
    "duration": 10,
    "start_time": "2022-11-08T16:42:55.563Z"
   },
   {
    "duration": 22,
    "start_time": "2022-11-08T16:42:55.575Z"
   },
   {
    "duration": 37,
    "start_time": "2022-11-08T16:42:55.598Z"
   },
   {
    "duration": 330,
    "start_time": "2022-11-08T16:42:55.636Z"
   },
   {
    "duration": 5,
    "start_time": "2022-11-08T16:42:55.968Z"
   },
   {
    "duration": 94,
    "start_time": "2022-11-08T16:42:55.975Z"
   },
   {
    "duration": 137,
    "start_time": "2022-11-08T16:42:56.071Z"
   },
   {
    "duration": 11,
    "start_time": "2022-11-08T16:42:56.210Z"
   },
   {
    "duration": 237,
    "start_time": "2022-11-08T16:42:56.223Z"
   },
   {
    "duration": 263,
    "start_time": "2022-11-08T16:42:56.462Z"
   },
   {
    "duration": 19,
    "start_time": "2022-11-08T16:42:56.727Z"
   },
   {
    "duration": 42,
    "start_time": "2022-11-08T16:42:56.748Z"
   },
   {
    "duration": 27,
    "start_time": "2022-11-08T16:42:56.793Z"
   },
   {
    "duration": 262,
    "start_time": "2022-11-08T16:42:56.823Z"
   },
   {
    "duration": 317,
    "start_time": "2022-11-08T16:42:57.087Z"
   },
   {
    "duration": 16,
    "start_time": "2022-11-08T16:42:57.406Z"
   },
   {
    "duration": 553,
    "start_time": "2022-11-08T16:42:57.424Z"
   },
   {
    "duration": 43,
    "start_time": "2022-11-08T16:42:57.978Z"
   },
   {
    "duration": 154,
    "start_time": "2022-11-08T16:42:58.023Z"
   },
   {
    "duration": 165,
    "start_time": "2022-11-08T16:42:58.179Z"
   },
   {
    "duration": 13,
    "start_time": "2022-11-08T16:42:58.346Z"
   },
   {
    "duration": 87,
    "start_time": "2022-11-08T16:43:22.584Z"
   },
   {
    "duration": 28,
    "start_time": "2022-11-08T16:43:28.940Z"
   },
   {
    "duration": 24,
    "start_time": "2022-11-08T16:43:36.209Z"
   },
   {
    "duration": 26,
    "start_time": "2022-11-08T16:43:40.535Z"
   },
   {
    "duration": 33,
    "start_time": "2022-11-08T16:44:48.693Z"
   },
   {
    "duration": 13,
    "start_time": "2022-11-08T16:45:06.323Z"
   },
   {
    "duration": 14,
    "start_time": "2022-11-08T16:45:11.491Z"
   },
   {
    "duration": 25,
    "start_time": "2022-11-08T16:45:23.552Z"
   },
   {
    "duration": 65,
    "start_time": "2022-11-08T16:45:26.282Z"
   },
   {
    "duration": 59,
    "start_time": "2022-11-08T16:45:40.788Z"
   },
   {
    "duration": 94,
    "start_time": "2022-11-08T16:45:43.762Z"
   },
   {
    "duration": 15,
    "start_time": "2022-11-08T16:47:02.316Z"
   },
   {
    "duration": 307,
    "start_time": "2022-11-08T16:47:05.659Z"
   },
   {
    "duration": 4,
    "start_time": "2022-11-08T16:47:10.123Z"
   },
   {
    "duration": 30,
    "start_time": "2022-11-08T16:47:10.948Z"
   },
   {
    "duration": 31,
    "start_time": "2022-11-08T16:47:11.751Z"
   },
   {
    "duration": 5,
    "start_time": "2022-11-08T16:47:12.449Z"
   },
   {
    "duration": 222,
    "start_time": "2022-11-08T16:47:13.617Z"
   },
   {
    "duration": 213,
    "start_time": "2022-11-08T16:47:14.802Z"
   },
   {
    "duration": 1556,
    "start_time": "2022-11-08T16:47:19.928Z"
   },
   {
    "duration": 919,
    "start_time": "2022-11-08T16:47:29.623Z"
   },
   {
    "duration": 755,
    "start_time": "2022-11-08T16:47:34.320Z"
   },
   {
    "duration": 763,
    "start_time": "2022-11-08T16:47:37.337Z"
   },
   {
    "duration": 1026,
    "start_time": "2022-11-08T16:47:40.200Z"
   },
   {
    "duration": 858,
    "start_time": "2022-11-08T16:47:42.963Z"
   },
   {
    "duration": 784,
    "start_time": "2022-11-08T16:47:47.395Z"
   },
   {
    "duration": 727,
    "start_time": "2022-11-08T16:48:08.722Z"
   },
   {
    "duration": 709,
    "start_time": "2022-11-08T16:49:40.916Z"
   },
   {
    "duration": 131,
    "start_time": "2022-11-08T16:49:41.628Z"
   },
   {
    "duration": 28,
    "start_time": "2022-11-08T16:49:41.761Z"
   },
   {
    "duration": 9,
    "start_time": "2022-11-08T16:49:41.794Z"
   },
   {
    "duration": 33,
    "start_time": "2022-11-08T16:49:41.805Z"
   },
   {
    "duration": 11,
    "start_time": "2022-11-08T16:49:41.840Z"
   },
   {
    "duration": 16,
    "start_time": "2022-11-08T16:49:41.853Z"
   },
   {
    "duration": 10,
    "start_time": "2022-11-08T16:49:41.871Z"
   },
   {
    "duration": 37,
    "start_time": "2022-11-08T16:49:41.883Z"
   },
   {
    "duration": 75,
    "start_time": "2022-11-08T16:49:41.923Z"
   },
   {
    "duration": 22,
    "start_time": "2022-11-08T16:49:42.000Z"
   },
   {
    "duration": 19,
    "start_time": "2022-11-08T16:49:42.023Z"
   },
   {
    "duration": 54,
    "start_time": "2022-11-08T16:49:42.044Z"
   },
   {
    "duration": 23,
    "start_time": "2022-11-08T16:49:42.099Z"
   },
   {
    "duration": 7,
    "start_time": "2022-11-08T16:49:42.124Z"
   },
   {
    "duration": 22,
    "start_time": "2022-11-08T16:49:42.133Z"
   },
   {
    "duration": 12,
    "start_time": "2022-11-08T16:49:42.157Z"
   },
   {
    "duration": 58,
    "start_time": "2022-11-08T16:49:42.171Z"
   },
   {
    "duration": 7,
    "start_time": "2022-11-08T16:49:42.232Z"
   },
   {
    "duration": 9,
    "start_time": "2022-11-08T16:49:42.241Z"
   },
   {
    "duration": 16,
    "start_time": "2022-11-08T16:49:42.251Z"
   },
   {
    "duration": 328,
    "start_time": "2022-11-08T16:49:42.268Z"
   },
   {
    "duration": 4,
    "start_time": "2022-11-08T16:49:42.598Z"
   },
   {
    "duration": 86,
    "start_time": "2022-11-08T16:49:42.604Z"
   },
   {
    "duration": 148,
    "start_time": "2022-11-08T16:49:42.691Z"
   },
   {
    "duration": 4,
    "start_time": "2022-11-08T16:49:42.841Z"
   },
   {
    "duration": 217,
    "start_time": "2022-11-08T16:49:42.847Z"
   },
   {
    "duration": 216,
    "start_time": "2022-11-08T16:49:43.068Z"
   },
   {
    "duration": 886,
    "start_time": "2022-11-08T16:49:43.286Z"
   },
   {
    "duration": 0,
    "start_time": "2022-11-08T16:49:44.173Z"
   },
   {
    "duration": 0,
    "start_time": "2022-11-08T16:49:44.174Z"
   },
   {
    "duration": 0,
    "start_time": "2022-11-08T16:49:44.176Z"
   },
   {
    "duration": 0,
    "start_time": "2022-11-08T16:49:44.177Z"
   },
   {
    "duration": 0,
    "start_time": "2022-11-08T16:49:44.178Z"
   },
   {
    "duration": 0,
    "start_time": "2022-11-08T16:49:44.179Z"
   },
   {
    "duration": 0,
    "start_time": "2022-11-08T16:49:44.180Z"
   },
   {
    "duration": 0,
    "start_time": "2022-11-08T16:49:44.182Z"
   },
   {
    "duration": 0,
    "start_time": "2022-11-08T16:49:44.183Z"
   },
   {
    "duration": 0,
    "start_time": "2022-11-08T16:49:44.185Z"
   },
   {
    "duration": 4,
    "start_time": "2022-11-08T16:50:58.035Z"
   },
   {
    "duration": 76,
    "start_time": "2022-11-08T16:50:58.923Z"
   },
   {
    "duration": 48,
    "start_time": "2022-11-08T16:53:15.802Z"
   },
   {
    "duration": 6,
    "start_time": "2022-11-08T16:53:38.997Z"
   },
   {
    "duration": 321,
    "start_time": "2022-11-08T16:53:42.542Z"
   },
   {
    "duration": 293,
    "start_time": "2022-11-08T16:53:53.108Z"
   },
   {
    "duration": 303,
    "start_time": "2022-11-08T16:54:11.061Z"
   },
   {
    "duration": 412,
    "start_time": "2022-11-08T16:54:13.523Z"
   },
   {
    "duration": 34,
    "start_time": "2022-11-08T16:54:47.433Z"
   },
   {
    "duration": 20,
    "start_time": "2022-11-08T16:55:33.590Z"
   },
   {
    "duration": 5,
    "start_time": "2022-11-08T16:56:24.558Z"
   },
   {
    "duration": 728,
    "start_time": "2022-11-08T16:57:09.225Z"
   },
   {
    "duration": 10,
    "start_time": "2022-11-08T16:57:22.256Z"
   },
   {
    "duration": 124,
    "start_time": "2022-11-08T17:02:47.130Z"
   },
   {
    "duration": 122,
    "start_time": "2022-11-08T17:02:51.905Z"
   },
   {
    "duration": 216,
    "start_time": "2022-11-08T17:03:13.254Z"
   },
   {
    "duration": 20,
    "start_time": "2022-11-08T17:04:12.161Z"
   },
   {
    "duration": 60,
    "start_time": "2022-11-08T17:07:16.496Z"
   },
   {
    "duration": 49,
    "start_time": "2022-11-08T17:08:56.141Z"
   },
   {
    "duration": 21,
    "start_time": "2022-11-08T17:09:00.467Z"
   },
   {
    "duration": 11,
    "start_time": "2022-11-08T17:09:15.340Z"
   },
   {
    "duration": 8,
    "start_time": "2022-11-08T17:09:20.139Z"
   },
   {
    "duration": 37,
    "start_time": "2022-11-08T17:09:39.040Z"
   },
   {
    "duration": 14,
    "start_time": "2022-11-08T17:10:36.069Z"
   },
   {
    "duration": 13,
    "start_time": "2022-11-08T17:13:43.474Z"
   },
   {
    "duration": 22,
    "start_time": "2022-11-08T17:13:47.943Z"
   },
   {
    "duration": 45,
    "start_time": "2022-11-08T17:13:52.069Z"
   },
   {
    "duration": 29,
    "start_time": "2022-11-08T17:14:09.736Z"
   },
   {
    "duration": 32,
    "start_time": "2022-11-08T17:14:13.859Z"
   },
   {
    "duration": 34,
    "start_time": "2022-11-08T17:14:29.384Z"
   },
   {
    "duration": 33,
    "start_time": "2022-11-08T17:16:33.928Z"
   },
   {
    "duration": 34,
    "start_time": "2022-11-08T17:17:44.112Z"
   },
   {
    "duration": 13,
    "start_time": "2022-11-08T17:17:51.783Z"
   },
   {
    "duration": 37,
    "start_time": "2022-11-08T17:18:26.047Z"
   },
   {
    "duration": 49,
    "start_time": "2022-11-08T17:18:35.539Z"
   },
   {
    "duration": 57,
    "start_time": "2022-11-08T17:21:51.777Z"
   },
   {
    "duration": 31,
    "start_time": "2022-11-08T17:21:56.074Z"
   },
   {
    "duration": 14,
    "start_time": "2022-11-08T17:28:11.600Z"
   },
   {
    "duration": 25,
    "start_time": "2022-11-08T17:28:29.773Z"
   },
   {
    "duration": 6,
    "start_time": "2022-11-08T17:36:30.866Z"
   },
   {
    "duration": 10,
    "start_time": "2022-11-08T17:36:34.794Z"
   },
   {
    "duration": 51,
    "start_time": "2022-11-08T17:36:54.041Z"
   },
   {
    "duration": 3,
    "start_time": "2022-11-08T17:43:42.340Z"
   },
   {
    "duration": 9,
    "start_time": "2022-11-08T17:43:52.787Z"
   },
   {
    "duration": 8,
    "start_time": "2022-11-08T17:44:35.563Z"
   },
   {
    "duration": 4,
    "start_time": "2022-11-08T17:44:54.579Z"
   },
   {
    "duration": 5,
    "start_time": "2022-11-08T17:44:57.773Z"
   },
   {
    "duration": 15,
    "start_time": "2022-11-08T17:45:04.813Z"
   },
   {
    "duration": 13,
    "start_time": "2022-11-08T17:45:07.270Z"
   },
   {
    "duration": 17,
    "start_time": "2022-11-08T17:45:40.576Z"
   },
   {
    "duration": 10,
    "start_time": "2022-11-08T17:48:16.506Z"
   },
   {
    "duration": 13,
    "start_time": "2022-11-08T17:48:46.050Z"
   },
   {
    "duration": 4,
    "start_time": "2022-11-08T17:48:57.667Z"
   },
   {
    "duration": 6,
    "start_time": "2022-11-08T17:49:14.284Z"
   },
   {
    "duration": 6,
    "start_time": "2022-11-08T17:49:20.979Z"
   },
   {
    "duration": 10,
    "start_time": "2022-11-08T17:49:34.131Z"
   },
   {
    "duration": 10,
    "start_time": "2022-11-08T17:49:40.317Z"
   },
   {
    "duration": 4,
    "start_time": "2022-11-08T17:49:54.213Z"
   },
   {
    "duration": 48,
    "start_time": "2022-11-08T17:49:56.561Z"
   },
   {
    "duration": 6,
    "start_time": "2022-11-08T17:51:25.138Z"
   },
   {
    "duration": 7,
    "start_time": "2022-11-08T17:51:40.472Z"
   },
   {
    "duration": 6,
    "start_time": "2022-11-08T17:51:42.571Z"
   },
   {
    "duration": 5,
    "start_time": "2022-11-08T17:51:53.093Z"
   },
   {
    "duration": 7,
    "start_time": "2022-11-08T17:51:57.442Z"
   },
   {
    "duration": 5,
    "start_time": "2022-11-08T17:52:03.646Z"
   },
   {
    "duration": 6,
    "start_time": "2022-11-08T17:52:09.597Z"
   },
   {
    "duration": 8,
    "start_time": "2022-11-08T17:52:14.261Z"
   },
   {
    "duration": 5,
    "start_time": "2022-11-08T17:52:22.897Z"
   },
   {
    "duration": 6,
    "start_time": "2022-11-08T17:52:30.187Z"
   },
   {
    "duration": 7,
    "start_time": "2022-11-08T17:52:40.543Z"
   },
   {
    "duration": 9,
    "start_time": "2022-11-08T17:53:20.267Z"
   },
   {
    "duration": 9,
    "start_time": "2022-11-08T17:53:23.178Z"
   },
   {
    "duration": 8,
    "start_time": "2022-11-08T17:54:26.739Z"
   },
   {
    "duration": 8,
    "start_time": "2022-11-08T17:54:39.263Z"
   },
   {
    "duration": 6,
    "start_time": "2022-11-08T17:54:47.259Z"
   },
   {
    "duration": 7,
    "start_time": "2022-11-08T17:55:39.329Z"
   },
   {
    "duration": 6,
    "start_time": "2022-11-08T17:56:18.439Z"
   },
   {
    "duration": 8,
    "start_time": "2022-11-08T17:56:24.862Z"
   },
   {
    "duration": 6,
    "start_time": "2022-11-08T17:56:48.337Z"
   },
   {
    "duration": 45,
    "start_time": "2022-11-08T17:56:51.967Z"
   },
   {
    "duration": 4,
    "start_time": "2022-11-08T17:56:58.818Z"
   },
   {
    "duration": 5,
    "start_time": "2022-11-08T17:57:04.967Z"
   },
   {
    "duration": 13,
    "start_time": "2022-11-08T17:57:25.097Z"
   },
   {
    "duration": 8,
    "start_time": "2022-11-08T17:57:27.702Z"
   },
   {
    "duration": 61,
    "start_time": "2022-11-08T17:58:11.213Z"
   },
   {
    "duration": 8,
    "start_time": "2022-11-08T17:58:17.162Z"
   },
   {
    "duration": 15,
    "start_time": "2022-11-08T17:58:20.438Z"
   },
   {
    "duration": 10,
    "start_time": "2022-11-08T17:58:22.964Z"
   },
   {
    "duration": 16,
    "start_time": "2022-11-08T17:58:31.873Z"
   },
   {
    "duration": 4,
    "start_time": "2022-11-08T17:58:45.202Z"
   },
   {
    "duration": 4,
    "start_time": "2022-11-08T17:58:49.332Z"
   },
   {
    "duration": 6,
    "start_time": "2022-11-08T17:59:07.410Z"
   },
   {
    "duration": 6,
    "start_time": "2022-11-08T17:59:12.196Z"
   },
   {
    "duration": 8,
    "start_time": "2022-11-08T17:59:18.312Z"
   },
   {
    "duration": 4,
    "start_time": "2022-11-08T17:59:25.130Z"
   },
   {
    "duration": 20,
    "start_time": "2022-11-08T18:00:26.325Z"
   },
   {
    "duration": 15,
    "start_time": "2022-11-08T18:00:33.370Z"
   },
   {
    "duration": 526,
    "start_time": "2022-11-08T18:01:07.514Z"
   },
   {
    "duration": 663,
    "start_time": "2022-11-08T18:01:17.581Z"
   },
   {
    "duration": 551,
    "start_time": "2022-11-08T18:01:23.672Z"
   },
   {
    "duration": 539,
    "start_time": "2022-11-08T18:01:38.570Z"
   },
   {
    "duration": 525,
    "start_time": "2022-11-08T18:01:58.179Z"
   },
   {
    "duration": 488,
    "start_time": "2022-11-08T18:02:15.443Z"
   },
   {
    "duration": 518,
    "start_time": "2022-11-08T18:02:20.459Z"
   },
   {
    "duration": 4,
    "start_time": "2022-11-08T18:03:43.761Z"
   },
   {
    "duration": 5,
    "start_time": "2022-11-08T18:03:50.443Z"
   },
   {
    "duration": 14,
    "start_time": "2022-11-08T18:03:55.563Z"
   },
   {
    "duration": 6,
    "start_time": "2022-11-08T18:04:26.139Z"
   },
   {
    "duration": 5,
    "start_time": "2022-11-08T18:07:25.470Z"
   },
   {
    "duration": 439,
    "start_time": "2022-11-08T18:07:37.220Z"
   },
   {
    "duration": 475,
    "start_time": "2022-11-08T18:07:47.106Z"
   },
   {
    "duration": 424,
    "start_time": "2022-11-08T18:07:57.096Z"
   },
   {
    "duration": 434,
    "start_time": "2022-11-08T18:08:11.675Z"
   },
   {
    "duration": 410,
    "start_time": "2022-11-08T18:12:54.136Z"
   },
   {
    "duration": 38,
    "start_time": "2022-11-08T18:14:09.442Z"
   },
   {
    "duration": 238,
    "start_time": "2022-11-08T18:14:34.602Z"
   },
   {
    "duration": 7,
    "start_time": "2022-11-08T18:17:38.341Z"
   },
   {
    "duration": 9,
    "start_time": "2022-11-08T18:17:42.271Z"
   },
   {
    "duration": 9,
    "start_time": "2022-11-08T18:17:46.435Z"
   },
   {
    "duration": 21,
    "start_time": "2022-11-08T18:18:53.408Z"
   },
   {
    "duration": 187,
    "start_time": "2022-11-08T18:19:03.410Z"
   },
   {
    "duration": 165,
    "start_time": "2022-11-08T18:19:09.964Z"
   },
   {
    "duration": 24,
    "start_time": "2022-11-08T18:19:19.830Z"
   },
   {
    "duration": 10,
    "start_time": "2022-11-08T18:19:38.059Z"
   },
   {
    "duration": 48,
    "start_time": "2022-11-08T18:20:27.856Z"
   },
   {
    "duration": 36,
    "start_time": "2022-11-08T18:20:59.293Z"
   },
   {
    "duration": 36,
    "start_time": "2022-11-08T18:21:15.724Z"
   },
   {
    "duration": 30,
    "start_time": "2022-11-08T18:21:25.220Z"
   },
   {
    "duration": 12,
    "start_time": "2022-11-08T18:21:36.688Z"
   },
   {
    "duration": 1196,
    "start_time": "2022-11-08T18:21:45.468Z"
   },
   {
    "duration": 251,
    "start_time": "2022-11-08T18:21:46.720Z"
   },
   {
    "duration": 67,
    "start_time": "2022-11-08T18:21:46.973Z"
   },
   {
    "duration": 6,
    "start_time": "2022-11-08T18:21:47.042Z"
   },
   {
    "duration": 95,
    "start_time": "2022-11-08T18:21:47.049Z"
   },
   {
    "duration": 9,
    "start_time": "2022-11-08T18:21:47.146Z"
   },
   {
    "duration": 75,
    "start_time": "2022-11-08T18:21:47.156Z"
   },
   {
    "duration": 10,
    "start_time": "2022-11-08T18:21:47.241Z"
   },
   {
    "duration": 11,
    "start_time": "2022-11-08T18:21:47.253Z"
   },
   {
    "duration": 187,
    "start_time": "2022-11-08T18:21:47.266Z"
   },
   {
    "duration": 9,
    "start_time": "2022-11-08T18:21:47.455Z"
   },
   {
    "duration": 72,
    "start_time": "2022-11-08T18:21:47.465Z"
   },
   {
    "duration": 81,
    "start_time": "2022-11-08T18:21:47.540Z"
   },
   {
    "duration": 23,
    "start_time": "2022-11-08T18:21:47.629Z"
   },
   {
    "duration": 7,
    "start_time": "2022-11-08T18:21:47.655Z"
   },
   {
    "duration": 66,
    "start_time": "2022-11-08T18:21:47.664Z"
   },
   {
    "duration": 27,
    "start_time": "2022-11-08T18:21:47.731Z"
   },
   {
    "duration": 15,
    "start_time": "2022-11-08T18:21:47.761Z"
   },
   {
    "duration": 49,
    "start_time": "2022-11-08T18:21:47.778Z"
   },
   {
    "duration": 32,
    "start_time": "2022-11-08T18:21:47.829Z"
   },
   {
    "duration": 63,
    "start_time": "2022-11-08T18:21:47.864Z"
   },
   {
    "duration": 998,
    "start_time": "2022-11-08T18:21:47.934Z"
   },
   {
    "duration": 9,
    "start_time": "2022-11-08T18:21:48.938Z"
   },
   {
    "duration": 94,
    "start_time": "2022-11-08T18:21:48.948Z"
   },
   {
    "duration": 387,
    "start_time": "2022-11-08T18:21:49.044Z"
   },
   {
    "duration": 12,
    "start_time": "2022-11-08T18:21:49.437Z"
   },
   {
    "duration": 79,
    "start_time": "2022-11-08T18:21:49.451Z"
   },
   {
    "duration": 5,
    "start_time": "2022-11-08T18:21:49.534Z"
   },
   {
    "duration": 9,
    "start_time": "2022-11-08T18:21:49.540Z"
   },
   {
    "duration": 20,
    "start_time": "2022-11-08T18:21:49.550Z"
   },
   {
    "duration": 23,
    "start_time": "2022-11-08T18:21:49.620Z"
   },
   {
    "duration": 25,
    "start_time": "2022-11-08T18:21:49.645Z"
   },
   {
    "duration": 458,
    "start_time": "2022-11-08T18:21:49.672Z"
   },
   {
    "duration": 493,
    "start_time": "2022-11-08T18:21:50.132Z"
   },
   {
    "duration": 1061,
    "start_time": "2022-11-08T18:21:50.635Z"
   },
   {
    "duration": 0,
    "start_time": "2022-11-08T18:21:51.698Z"
   },
   {
    "duration": 0,
    "start_time": "2022-11-08T18:21:51.699Z"
   },
   {
    "duration": 0,
    "start_time": "2022-11-08T18:21:51.701Z"
   },
   {
    "duration": 0,
    "start_time": "2022-11-08T18:21:51.702Z"
   },
   {
    "duration": 0,
    "start_time": "2022-11-08T18:21:51.703Z"
   },
   {
    "duration": 0,
    "start_time": "2022-11-08T18:21:51.704Z"
   },
   {
    "duration": 0,
    "start_time": "2022-11-08T18:21:51.705Z"
   },
   {
    "duration": 0,
    "start_time": "2022-11-08T18:21:51.707Z"
   },
   {
    "duration": 0,
    "start_time": "2022-11-08T18:21:51.708Z"
   },
   {
    "duration": 0,
    "start_time": "2022-11-08T18:21:51.709Z"
   },
   {
    "duration": 19,
    "start_time": "2022-11-08T18:22:10.615Z"
   },
   {
    "duration": 87,
    "start_time": "2022-11-08T18:22:11.344Z"
   },
   {
    "duration": 65,
    "start_time": "2022-11-08T18:22:26.974Z"
   },
   {
    "duration": 45,
    "start_time": "2022-11-08T18:22:29.242Z"
   },
   {
    "duration": 634,
    "start_time": "2022-11-08T18:23:09.335Z"
   },
   {
    "duration": 132,
    "start_time": "2022-11-08T18:23:09.971Z"
   },
   {
    "duration": 27,
    "start_time": "2022-11-08T18:23:10.105Z"
   },
   {
    "duration": 21,
    "start_time": "2022-11-08T18:23:10.138Z"
   },
   {
    "duration": 49,
    "start_time": "2022-11-08T18:23:10.162Z"
   },
   {
    "duration": 13,
    "start_time": "2022-11-08T18:23:10.212Z"
   },
   {
    "duration": 23,
    "start_time": "2022-11-08T18:23:10.234Z"
   },
   {
    "duration": 28,
    "start_time": "2022-11-08T18:23:10.258Z"
   },
   {
    "duration": 25,
    "start_time": "2022-11-08T18:23:10.287Z"
   },
   {
    "duration": 87,
    "start_time": "2022-11-08T18:23:10.314Z"
   },
   {
    "duration": 8,
    "start_time": "2022-11-08T18:23:10.402Z"
   },
   {
    "duration": 24,
    "start_time": "2022-11-08T18:23:10.411Z"
   },
   {
    "duration": 19,
    "start_time": "2022-11-08T18:23:10.438Z"
   },
   {
    "duration": 16,
    "start_time": "2022-11-08T18:23:10.462Z"
   },
   {
    "duration": 6,
    "start_time": "2022-11-08T18:23:10.480Z"
   },
   {
    "duration": 35,
    "start_time": "2022-11-08T18:23:10.488Z"
   },
   {
    "duration": 33,
    "start_time": "2022-11-08T18:23:10.524Z"
   },
   {
    "duration": 22,
    "start_time": "2022-11-08T18:23:10.558Z"
   },
   {
    "duration": 24,
    "start_time": "2022-11-08T18:23:10.581Z"
   },
   {
    "duration": 39,
    "start_time": "2022-11-08T18:23:10.606Z"
   },
   {
    "duration": 35,
    "start_time": "2022-11-08T18:23:10.646Z"
   },
   {
    "duration": 447,
    "start_time": "2022-11-08T18:23:10.682Z"
   },
   {
    "duration": 8,
    "start_time": "2022-11-08T18:23:11.135Z"
   },
   {
    "duration": 57,
    "start_time": "2022-11-08T18:23:11.145Z"
   },
   {
    "duration": 191,
    "start_time": "2022-11-08T18:23:11.203Z"
   },
   {
    "duration": 56,
    "start_time": "2022-11-08T18:23:11.396Z"
   },
   {
    "duration": 21,
    "start_time": "2022-11-08T18:23:11.454Z"
   },
   {
    "duration": 57,
    "start_time": "2022-11-08T18:23:11.478Z"
   },
   {
    "duration": 31,
    "start_time": "2022-11-08T18:23:11.538Z"
   },
   {
    "duration": 27,
    "start_time": "2022-11-08T18:23:11.571Z"
   },
   {
    "duration": 39,
    "start_time": "2022-11-08T18:23:11.600Z"
   },
   {
    "duration": 28,
    "start_time": "2022-11-08T18:23:11.640Z"
   },
   {
    "duration": 225,
    "start_time": "2022-11-08T18:23:11.671Z"
   },
   {
    "duration": 216,
    "start_time": "2022-11-08T18:23:11.898Z"
   },
   {
    "duration": 1193,
    "start_time": "2022-11-08T18:23:12.116Z"
   },
   {
    "duration": 0,
    "start_time": "2022-11-08T18:23:13.311Z"
   },
   {
    "duration": 0,
    "start_time": "2022-11-08T18:23:13.312Z"
   },
   {
    "duration": 0,
    "start_time": "2022-11-08T18:23:13.313Z"
   },
   {
    "duration": 0,
    "start_time": "2022-11-08T18:23:13.314Z"
   },
   {
    "duration": 0,
    "start_time": "2022-11-08T18:23:13.316Z"
   },
   {
    "duration": 0,
    "start_time": "2022-11-08T18:23:13.316Z"
   },
   {
    "duration": 0,
    "start_time": "2022-11-08T18:23:13.318Z"
   },
   {
    "duration": 0,
    "start_time": "2022-11-08T18:23:13.319Z"
   },
   {
    "duration": 0,
    "start_time": "2022-11-08T18:23:13.319Z"
   },
   {
    "duration": 0,
    "start_time": "2022-11-08T18:23:13.320Z"
   },
   {
    "duration": 112,
    "start_time": "2022-11-08T18:23:37.851Z"
   },
   {
    "duration": 614,
    "start_time": "2022-11-08T18:23:43.772Z"
   },
   {
    "duration": 124,
    "start_time": "2022-11-08T18:23:44.388Z"
   },
   {
    "duration": 29,
    "start_time": "2022-11-08T18:23:44.514Z"
   },
   {
    "duration": 6,
    "start_time": "2022-11-08T18:23:44.545Z"
   },
   {
    "duration": 37,
    "start_time": "2022-11-08T18:23:44.552Z"
   },
   {
    "duration": 42,
    "start_time": "2022-11-08T18:23:44.591Z"
   },
   {
    "duration": 18,
    "start_time": "2022-11-08T18:23:44.635Z"
   },
   {
    "duration": 11,
    "start_time": "2022-11-08T18:23:44.656Z"
   },
   {
    "duration": 11,
    "start_time": "2022-11-08T18:23:44.669Z"
   },
   {
    "duration": 96,
    "start_time": "2022-11-08T18:23:44.684Z"
   },
   {
    "duration": 8,
    "start_time": "2022-11-08T18:23:44.782Z"
   },
   {
    "duration": 34,
    "start_time": "2022-11-08T18:23:44.791Z"
   },
   {
    "duration": 22,
    "start_time": "2022-11-08T18:23:44.827Z"
   },
   {
    "duration": 20,
    "start_time": "2022-11-08T18:23:44.851Z"
   },
   {
    "duration": 5,
    "start_time": "2022-11-08T18:23:44.873Z"
   },
   {
    "duration": 11,
    "start_time": "2022-11-08T18:23:44.880Z"
   },
   {
    "duration": 35,
    "start_time": "2022-11-08T18:23:44.894Z"
   },
   {
    "duration": 14,
    "start_time": "2022-11-08T18:23:44.931Z"
   },
   {
    "duration": 4,
    "start_time": "2022-11-08T18:23:44.948Z"
   },
   {
    "duration": 11,
    "start_time": "2022-11-08T18:23:44.953Z"
   },
   {
    "duration": 21,
    "start_time": "2022-11-08T18:23:44.965Z"
   },
   {
    "duration": 404,
    "start_time": "2022-11-08T18:23:44.988Z"
   },
   {
    "duration": 9,
    "start_time": "2022-11-08T18:23:45.394Z"
   },
   {
    "duration": 46,
    "start_time": "2022-11-08T18:23:45.405Z"
   },
   {
    "duration": 192,
    "start_time": "2022-11-08T18:23:45.453Z"
   },
   {
    "duration": 38,
    "start_time": "2022-11-08T18:23:45.647Z"
   },
   {
    "duration": 3,
    "start_time": "2022-11-08T18:23:45.687Z"
   },
   {
    "duration": 26,
    "start_time": "2022-11-08T18:23:45.695Z"
   },
   {
    "duration": 18,
    "start_time": "2022-11-08T18:23:45.726Z"
   },
   {
    "duration": 22,
    "start_time": "2022-11-08T18:23:45.746Z"
   },
   {
    "duration": 39,
    "start_time": "2022-11-08T18:23:45.770Z"
   },
   {
    "duration": 33,
    "start_time": "2022-11-08T18:23:45.811Z"
   },
   {
    "duration": 214,
    "start_time": "2022-11-08T18:23:45.846Z"
   },
   {
    "duration": 220,
    "start_time": "2022-11-08T18:23:46.062Z"
   },
   {
    "duration": 929,
    "start_time": "2022-11-08T18:23:46.284Z"
   },
   {
    "duration": 0,
    "start_time": "2022-11-08T18:23:47.216Z"
   },
   {
    "duration": 0,
    "start_time": "2022-11-08T18:23:47.218Z"
   },
   {
    "duration": 0,
    "start_time": "2022-11-08T18:23:47.219Z"
   },
   {
    "duration": 0,
    "start_time": "2022-11-08T18:23:47.219Z"
   },
   {
    "duration": 0,
    "start_time": "2022-11-08T18:23:47.220Z"
   },
   {
    "duration": 0,
    "start_time": "2022-11-08T18:23:47.223Z"
   },
   {
    "duration": 0,
    "start_time": "2022-11-08T18:23:47.224Z"
   },
   {
    "duration": 0,
    "start_time": "2022-11-08T18:23:47.224Z"
   },
   {
    "duration": 0,
    "start_time": "2022-11-08T18:23:47.225Z"
   },
   {
    "duration": 0,
    "start_time": "2022-11-08T18:23:47.226Z"
   },
   {
    "duration": 1244,
    "start_time": "2022-11-08T18:24:22.797Z"
   },
   {
    "duration": 280,
    "start_time": "2022-11-08T18:24:24.044Z"
   },
   {
    "duration": 94,
    "start_time": "2022-11-08T18:24:24.326Z"
   },
   {
    "duration": 11,
    "start_time": "2022-11-08T18:24:24.427Z"
   },
   {
    "duration": 81,
    "start_time": "2022-11-08T18:24:24.442Z"
   },
   {
    "duration": 13,
    "start_time": "2022-11-08T18:24:24.529Z"
   },
   {
    "duration": 82,
    "start_time": "2022-11-08T18:24:24.545Z"
   },
   {
    "duration": 13,
    "start_time": "2022-11-08T18:24:24.628Z"
   },
   {
    "duration": 17,
    "start_time": "2022-11-08T18:24:24.643Z"
   },
   {
    "duration": 179,
    "start_time": "2022-11-08T18:24:24.662Z"
   },
   {
    "duration": 13,
    "start_time": "2022-11-08T18:24:24.844Z"
   },
   {
    "duration": 82,
    "start_time": "2022-11-08T18:24:24.859Z"
   },
   {
    "duration": 25,
    "start_time": "2022-11-08T18:24:24.944Z"
   },
   {
    "duration": 24,
    "start_time": "2022-11-08T18:24:25.026Z"
   },
   {
    "duration": 9,
    "start_time": "2022-11-08T18:24:25.052Z"
   },
   {
    "duration": 65,
    "start_time": "2022-11-08T18:24:25.063Z"
   },
   {
    "duration": 27,
    "start_time": "2022-11-08T18:24:25.130Z"
   },
   {
    "duration": 10,
    "start_time": "2022-11-08T18:24:25.160Z"
   },
   {
    "duration": 51,
    "start_time": "2022-11-08T18:24:25.173Z"
   },
   {
    "duration": 10,
    "start_time": "2022-11-08T18:24:25.231Z"
   },
   {
    "duration": 23,
    "start_time": "2022-11-08T18:24:25.245Z"
   },
   {
    "duration": 437,
    "start_time": "2022-11-08T18:24:25.271Z"
   },
   {
    "duration": 23,
    "start_time": "2022-11-08T18:24:25.709Z"
   },
   {
    "duration": 35,
    "start_time": "2022-11-08T18:24:25.734Z"
   },
   {
    "duration": 212,
    "start_time": "2022-11-08T18:24:25.771Z"
   },
   {
    "duration": 6,
    "start_time": "2022-11-08T18:24:25.984Z"
   },
   {
    "duration": 4,
    "start_time": "2022-11-08T18:24:25.992Z"
   },
   {
    "duration": 29,
    "start_time": "2022-11-08T18:24:25.998Z"
   },
   {
    "duration": 5,
    "start_time": "2022-11-08T18:24:26.029Z"
   },
   {
    "duration": 153,
    "start_time": "2022-11-08T18:24:26.035Z"
   },
   {
    "duration": 3,
    "start_time": "2022-11-08T18:24:26.190Z"
   },
   {
    "duration": 30,
    "start_time": "2022-11-08T18:24:26.195Z"
   },
   {
    "duration": 306,
    "start_time": "2022-11-08T18:24:26.227Z"
   },
   {
    "duration": 337,
    "start_time": "2022-11-08T18:24:26.535Z"
   },
   {
    "duration": 945,
    "start_time": "2022-11-08T18:24:26.874Z"
   },
   {
    "duration": 0,
    "start_time": "2022-11-08T18:24:27.821Z"
   },
   {
    "duration": 0,
    "start_time": "2022-11-08T18:24:27.822Z"
   },
   {
    "duration": 0,
    "start_time": "2022-11-08T18:24:27.824Z"
   },
   {
    "duration": 0,
    "start_time": "2022-11-08T18:24:27.825Z"
   },
   {
    "duration": 0,
    "start_time": "2022-11-08T18:24:27.826Z"
   },
   {
    "duration": 0,
    "start_time": "2022-11-08T18:24:27.827Z"
   },
   {
    "duration": 0,
    "start_time": "2022-11-08T18:24:27.828Z"
   },
   {
    "duration": 0,
    "start_time": "2022-11-08T18:24:27.829Z"
   },
   {
    "duration": 0,
    "start_time": "2022-11-08T18:24:27.830Z"
   },
   {
    "duration": 0,
    "start_time": "2022-11-08T18:24:27.831Z"
   },
   {
    "duration": 6,
    "start_time": "2022-11-08T18:24:35.712Z"
   },
   {
    "duration": 42,
    "start_time": "2022-11-08T18:24:52.157Z"
   },
   {
    "duration": 36,
    "start_time": "2022-11-08T18:25:12.250Z"
   },
   {
    "duration": 1119,
    "start_time": "2022-11-08T18:25:19.534Z"
   },
   {
    "duration": 225,
    "start_time": "2022-11-08T18:25:20.655Z"
   },
   {
    "duration": 28,
    "start_time": "2022-11-08T18:25:20.918Z"
   },
   {
    "duration": 15,
    "start_time": "2022-11-08T18:25:20.948Z"
   },
   {
    "duration": 85,
    "start_time": "2022-11-08T18:25:20.965Z"
   },
   {
    "duration": 9,
    "start_time": "2022-11-08T18:25:21.052Z"
   },
   {
    "duration": 103,
    "start_time": "2022-11-08T18:25:21.063Z"
   },
   {
    "duration": 54,
    "start_time": "2022-11-08T18:25:21.168Z"
   },
   {
    "duration": 29,
    "start_time": "2022-11-08T18:25:21.226Z"
   },
   {
    "duration": 175,
    "start_time": "2022-11-08T18:25:21.257Z"
   },
   {
    "duration": 9,
    "start_time": "2022-11-08T18:25:21.434Z"
   },
   {
    "duration": 23,
    "start_time": "2022-11-08T18:25:21.445Z"
   },
   {
    "duration": 27,
    "start_time": "2022-11-08T18:25:21.519Z"
   },
   {
    "duration": 20,
    "start_time": "2022-11-08T18:25:21.550Z"
   },
   {
    "duration": 10,
    "start_time": "2022-11-08T18:25:21.626Z"
   },
   {
    "duration": 22,
    "start_time": "2022-11-08T18:25:21.638Z"
   },
   {
    "duration": 59,
    "start_time": "2022-11-08T18:25:21.662Z"
   },
   {
    "duration": 10,
    "start_time": "2022-11-08T18:25:21.723Z"
   },
   {
    "duration": 8,
    "start_time": "2022-11-08T18:25:21.735Z"
   },
   {
    "duration": 11,
    "start_time": "2022-11-08T18:25:21.745Z"
   },
   {
    "duration": 76,
    "start_time": "2022-11-08T18:25:21.758Z"
   },
   {
    "duration": 397,
    "start_time": "2022-11-08T18:25:21.837Z"
   },
   {
    "duration": 7,
    "start_time": "2022-11-08T18:25:22.236Z"
   },
   {
    "duration": 35,
    "start_time": "2022-11-08T18:25:22.244Z"
   },
   {
    "duration": 175,
    "start_time": "2022-11-08T18:25:22.281Z"
   },
   {
    "duration": 35,
    "start_time": "2022-11-08T18:25:22.458Z"
   },
   {
    "duration": 2,
    "start_time": "2022-11-08T18:25:22.495Z"
   },
   {
    "duration": 26,
    "start_time": "2022-11-08T18:25:22.499Z"
   },
   {
    "duration": 8,
    "start_time": "2022-11-08T18:25:22.532Z"
   },
   {
    "duration": 126,
    "start_time": "2022-11-08T18:25:22.543Z"
   },
   {
    "duration": 3,
    "start_time": "2022-11-08T18:25:22.671Z"
   },
   {
    "duration": 18,
    "start_time": "2022-11-08T18:25:22.675Z"
   },
   {
    "duration": 214,
    "start_time": "2022-11-08T18:25:22.695Z"
   },
   {
    "duration": 261,
    "start_time": "2022-11-08T18:25:22.911Z"
   },
   {
    "duration": 849,
    "start_time": "2022-11-08T18:25:23.174Z"
   },
   {
    "duration": 0,
    "start_time": "2022-11-08T18:25:24.028Z"
   },
   {
    "duration": 0,
    "start_time": "2022-11-08T18:25:24.030Z"
   },
   {
    "duration": 0,
    "start_time": "2022-11-08T18:25:24.034Z"
   },
   {
    "duration": 0,
    "start_time": "2022-11-08T18:25:24.036Z"
   },
   {
    "duration": 0,
    "start_time": "2022-11-08T18:25:24.037Z"
   },
   {
    "duration": 0,
    "start_time": "2022-11-08T18:25:24.039Z"
   },
   {
    "duration": 0,
    "start_time": "2022-11-08T18:25:24.041Z"
   },
   {
    "duration": 0,
    "start_time": "2022-11-08T18:25:24.043Z"
   },
   {
    "duration": 0,
    "start_time": "2022-11-08T18:25:24.045Z"
   },
   {
    "duration": 0,
    "start_time": "2022-11-08T18:25:24.047Z"
   },
   {
    "duration": 31,
    "start_time": "2022-11-08T18:25:31.884Z"
   },
   {
    "duration": 23,
    "start_time": "2022-11-08T18:25:43.295Z"
   },
   {
    "duration": 40,
    "start_time": "2022-11-08T18:25:49.585Z"
   },
   {
    "duration": 37,
    "start_time": "2022-11-08T18:25:57.836Z"
   },
   {
    "duration": 36,
    "start_time": "2022-11-08T18:26:14.126Z"
   },
   {
    "duration": 42,
    "start_time": "2022-11-08T18:26:24.994Z"
   },
   {
    "duration": 35,
    "start_time": "2022-11-08T18:26:33.557Z"
   },
   {
    "duration": 37,
    "start_time": "2022-11-08T18:26:43.611Z"
   },
   {
    "duration": 36,
    "start_time": "2022-11-08T18:26:47.136Z"
   },
   {
    "duration": 38,
    "start_time": "2022-11-08T18:27:34.276Z"
   },
   {
    "duration": 29,
    "start_time": "2022-11-08T18:27:36.435Z"
   },
   {
    "duration": 38,
    "start_time": "2022-11-08T18:27:44.086Z"
   },
   {
    "duration": 24,
    "start_time": "2022-11-08T18:28:07.030Z"
   },
   {
    "duration": 32,
    "start_time": "2022-11-08T18:28:31.249Z"
   },
   {
    "duration": 18,
    "start_time": "2022-11-08T18:28:48.415Z"
   },
   {
    "duration": 17,
    "start_time": "2022-11-08T18:28:52.547Z"
   },
   {
    "duration": 665,
    "start_time": "2022-11-08T18:29:00.753Z"
   },
   {
    "duration": 158,
    "start_time": "2022-11-08T18:29:14.576Z"
   },
   {
    "duration": 11,
    "start_time": "2022-11-08T18:29:20.701Z"
   },
   {
    "duration": 12,
    "start_time": "2022-11-08T18:29:28.569Z"
   },
   {
    "duration": 12,
    "start_time": "2022-11-08T18:29:31.965Z"
   },
   {
    "duration": 9,
    "start_time": "2022-11-08T18:29:32.582Z"
   },
   {
    "duration": 711,
    "start_time": "2022-11-08T18:29:36.744Z"
   },
   {
    "duration": 120,
    "start_time": "2022-11-08T18:29:37.457Z"
   },
   {
    "duration": 23,
    "start_time": "2022-11-08T18:29:37.578Z"
   },
   {
    "duration": 7,
    "start_time": "2022-11-08T18:29:37.603Z"
   },
   {
    "duration": 34,
    "start_time": "2022-11-08T18:29:37.612Z"
   },
   {
    "duration": 13,
    "start_time": "2022-11-08T18:29:37.648Z"
   },
   {
    "duration": 14,
    "start_time": "2022-11-08T18:29:37.662Z"
   },
   {
    "duration": 9,
    "start_time": "2022-11-08T18:29:37.677Z"
   },
   {
    "duration": 46,
    "start_time": "2022-11-08T18:29:37.687Z"
   },
   {
    "duration": 64,
    "start_time": "2022-11-08T18:29:37.736Z"
   },
   {
    "duration": 27,
    "start_time": "2022-11-08T18:29:37.802Z"
   },
   {
    "duration": 26,
    "start_time": "2022-11-08T18:29:37.832Z"
   },
   {
    "duration": 15,
    "start_time": "2022-11-08T18:29:37.860Z"
   },
   {
    "duration": 25,
    "start_time": "2022-11-08T18:29:37.877Z"
   },
   {
    "duration": 25,
    "start_time": "2022-11-08T18:29:37.904Z"
   },
   {
    "duration": 29,
    "start_time": "2022-11-08T18:29:37.934Z"
   },
   {
    "duration": 21,
    "start_time": "2022-11-08T18:29:37.966Z"
   },
   {
    "duration": 11,
    "start_time": "2022-11-08T18:29:37.989Z"
   },
   {
    "duration": 24,
    "start_time": "2022-11-08T18:29:38.001Z"
   },
   {
    "duration": 27,
    "start_time": "2022-11-08T18:29:38.030Z"
   },
   {
    "duration": 22,
    "start_time": "2022-11-08T18:29:38.059Z"
   },
   {
    "duration": 562,
    "start_time": "2022-11-08T18:29:38.084Z"
   },
   {
    "duration": 7,
    "start_time": "2022-11-08T18:29:38.647Z"
   },
   {
    "duration": 93,
    "start_time": "2022-11-08T18:29:38.656Z"
   },
   {
    "duration": 395,
    "start_time": "2022-11-08T18:29:38.751Z"
   },
   {
    "duration": 114,
    "start_time": "2022-11-08T18:29:39.150Z"
   },
   {
    "duration": 11,
    "start_time": "2022-11-08T18:29:39.321Z"
   },
   {
    "duration": 12,
    "start_time": "2022-11-08T18:29:39.342Z"
   },
   {
    "duration": 6,
    "start_time": "2022-11-08T18:29:39.357Z"
   },
   {
    "duration": 284,
    "start_time": "2022-11-08T18:29:39.365Z"
   },
   {
    "duration": 3,
    "start_time": "2022-11-08T18:29:39.652Z"
   },
   {
    "duration": 9,
    "start_time": "2022-11-08T18:29:39.658Z"
   },
   {
    "duration": 607,
    "start_time": "2022-11-08T18:29:39.719Z"
   },
   {
    "duration": 446,
    "start_time": "2022-11-08T18:29:40.330Z"
   },
   {
    "duration": 982,
    "start_time": "2022-11-08T18:29:40.779Z"
   },
   {
    "duration": 0,
    "start_time": "2022-11-08T18:29:41.763Z"
   },
   {
    "duration": 0,
    "start_time": "2022-11-08T18:29:41.764Z"
   },
   {
    "duration": 0,
    "start_time": "2022-11-08T18:29:41.765Z"
   },
   {
    "duration": 0,
    "start_time": "2022-11-08T18:29:41.766Z"
   },
   {
    "duration": 0,
    "start_time": "2022-11-08T18:29:41.768Z"
   },
   {
    "duration": 0,
    "start_time": "2022-11-08T18:29:41.769Z"
   },
   {
    "duration": 0,
    "start_time": "2022-11-08T18:29:41.770Z"
   },
   {
    "duration": 0,
    "start_time": "2022-11-08T18:29:41.771Z"
   },
   {
    "duration": 0,
    "start_time": "2022-11-08T18:29:41.772Z"
   },
   {
    "duration": 0,
    "start_time": "2022-11-08T18:29:41.773Z"
   },
   {
    "duration": 38,
    "start_time": "2022-11-08T18:29:56.408Z"
   },
   {
    "duration": 34,
    "start_time": "2022-11-08T18:30:21.063Z"
   },
   {
    "duration": 72,
    "start_time": "2022-11-08T18:30:24.372Z"
   },
   {
    "duration": 53,
    "start_time": "2022-11-08T18:30:32.430Z"
   },
   {
    "duration": 62,
    "start_time": "2022-11-08T18:30:39.544Z"
   },
   {
    "duration": 348,
    "start_time": "2022-11-08T18:31:16.721Z"
   },
   {
    "duration": 1294,
    "start_time": "2022-11-08T18:32:14.243Z"
   },
   {
    "duration": 233,
    "start_time": "2022-11-08T18:32:15.542Z"
   },
   {
    "duration": 66,
    "start_time": "2022-11-08T18:32:15.777Z"
   },
   {
    "duration": 7,
    "start_time": "2022-11-08T18:32:15.845Z"
   },
   {
    "duration": 92,
    "start_time": "2022-11-08T18:32:15.854Z"
   },
   {
    "duration": 12,
    "start_time": "2022-11-08T18:32:15.949Z"
   },
   {
    "duration": 78,
    "start_time": "2022-11-08T18:32:15.963Z"
   },
   {
    "duration": 84,
    "start_time": "2022-11-08T18:32:16.044Z"
   },
   {
    "duration": 102,
    "start_time": "2022-11-08T18:32:16.131Z"
   },
   {
    "duration": 187,
    "start_time": "2022-11-08T18:32:16.239Z"
   },
   {
    "duration": 10,
    "start_time": "2022-11-08T18:32:16.427Z"
   },
   {
    "duration": 86,
    "start_time": "2022-11-08T18:32:16.439Z"
   },
   {
    "duration": 17,
    "start_time": "2022-11-08T18:32:16.528Z"
   },
   {
    "duration": 19,
    "start_time": "2022-11-08T18:32:16.546Z"
   },
   {
    "duration": 56,
    "start_time": "2022-11-08T18:32:16.567Z"
   },
   {
    "duration": 19,
    "start_time": "2022-11-08T18:32:16.625Z"
   },
   {
    "duration": 14,
    "start_time": "2022-11-08T18:32:16.647Z"
   },
   {
    "duration": 10,
    "start_time": "2022-11-08T18:32:16.663Z"
   },
   {
    "duration": 9,
    "start_time": "2022-11-08T18:32:16.736Z"
   },
   {
    "duration": 15,
    "start_time": "2022-11-08T18:32:16.747Z"
   },
   {
    "duration": 54,
    "start_time": "2022-11-08T18:32:16.766Z"
   },
   {
    "duration": 1033,
    "start_time": "2022-11-08T18:32:16.823Z"
   },
   {
    "duration": 69,
    "start_time": "2022-11-08T18:32:17.860Z"
   },
   {
    "duration": 110,
    "start_time": "2022-11-08T18:32:17.930Z"
   },
   {
    "duration": 398,
    "start_time": "2022-11-08T18:32:18.042Z"
   },
   {
    "duration": 121,
    "start_time": "2022-11-08T18:32:18.443Z"
   },
   {
    "duration": 11,
    "start_time": "2022-11-08T18:32:18.620Z"
   },
   {
    "duration": 25,
    "start_time": "2022-11-08T18:32:18.638Z"
   },
   {
    "duration": 205,
    "start_time": "2022-11-08T18:32:18.665Z"
   },
   {
    "duration": 2,
    "start_time": "2022-11-08T18:32:18.872Z"
   },
   {
    "duration": 57,
    "start_time": "2022-11-08T18:32:18.876Z"
   },
   {
    "duration": 237,
    "start_time": "2022-11-08T18:32:18.935Z"
   },
   {
    "duration": 281,
    "start_time": "2022-11-08T18:32:19.174Z"
   },
   {
    "duration": 896,
    "start_time": "2022-11-08T18:32:19.457Z"
   },
   {
    "duration": 0,
    "start_time": "2022-11-08T18:32:20.356Z"
   },
   {
    "duration": 0,
    "start_time": "2022-11-08T18:32:20.357Z"
   },
   {
    "duration": 0,
    "start_time": "2022-11-08T18:32:20.358Z"
   },
   {
    "duration": 0,
    "start_time": "2022-11-08T18:32:20.359Z"
   },
   {
    "duration": 0,
    "start_time": "2022-11-08T18:32:20.360Z"
   },
   {
    "duration": 0,
    "start_time": "2022-11-08T18:32:20.361Z"
   },
   {
    "duration": 0,
    "start_time": "2022-11-08T18:32:20.362Z"
   },
   {
    "duration": 0,
    "start_time": "2022-11-08T18:32:20.363Z"
   },
   {
    "duration": 0,
    "start_time": "2022-11-08T18:32:20.365Z"
   },
   {
    "duration": 0,
    "start_time": "2022-11-08T18:32:20.366Z"
   },
   {
    "duration": 177,
    "start_time": "2022-11-08T18:32:49.336Z"
   },
   {
    "duration": 240,
    "start_time": "2022-11-08T18:33:00.496Z"
   },
   {
    "duration": 185,
    "start_time": "2022-11-08T18:33:04.356Z"
   },
   {
    "duration": 160,
    "start_time": "2022-11-08T18:33:11.201Z"
   },
   {
    "duration": 170,
    "start_time": "2022-11-08T18:33:22.045Z"
   },
   {
    "duration": 204,
    "start_time": "2022-11-08T18:33:34.738Z"
   },
   {
    "duration": 261,
    "start_time": "2022-11-08T18:33:50.999Z"
   },
   {
    "duration": 173,
    "start_time": "2022-11-08T18:34:13.938Z"
   },
   {
    "duration": 21,
    "start_time": "2022-11-08T18:34:52.933Z"
   },
   {
    "duration": 16,
    "start_time": "2022-11-08T18:35:07.884Z"
   },
   {
    "duration": 17,
    "start_time": "2022-11-08T18:35:13.138Z"
   },
   {
    "duration": 666,
    "start_time": "2022-11-08T18:35:18.672Z"
   },
   {
    "duration": 130,
    "start_time": "2022-11-08T18:35:19.341Z"
   },
   {
    "duration": 25,
    "start_time": "2022-11-08T18:35:19.472Z"
   },
   {
    "duration": 7,
    "start_time": "2022-11-08T18:35:19.502Z"
   },
   {
    "duration": 41,
    "start_time": "2022-11-08T18:35:19.510Z"
   },
   {
    "duration": 12,
    "start_time": "2022-11-08T18:35:19.554Z"
   },
   {
    "duration": 20,
    "start_time": "2022-11-08T18:35:19.567Z"
   },
   {
    "duration": 9,
    "start_time": "2022-11-08T18:35:19.589Z"
   },
   {
    "duration": 38,
    "start_time": "2022-11-08T18:35:19.601Z"
   },
   {
    "duration": 94,
    "start_time": "2022-11-08T18:35:19.643Z"
   },
   {
    "duration": 9,
    "start_time": "2022-11-08T18:35:19.739Z"
   },
   {
    "duration": 19,
    "start_time": "2022-11-08T18:35:19.750Z"
   },
   {
    "duration": 16,
    "start_time": "2022-11-08T18:35:19.770Z"
   },
   {
    "duration": 60,
    "start_time": "2022-11-08T18:35:19.790Z"
   },
   {
    "duration": 8,
    "start_time": "2022-11-08T18:35:19.852Z"
   },
   {
    "duration": 11,
    "start_time": "2022-11-08T18:35:19.863Z"
   },
   {
    "duration": 14,
    "start_time": "2022-11-08T18:35:19.876Z"
   },
   {
    "duration": 37,
    "start_time": "2022-11-08T18:35:19.892Z"
   },
   {
    "duration": 12,
    "start_time": "2022-11-08T18:35:19.931Z"
   },
   {
    "duration": 13,
    "start_time": "2022-11-08T18:35:19.944Z"
   },
   {
    "duration": 34,
    "start_time": "2022-11-08T18:35:19.959Z"
   },
   {
    "duration": 855,
    "start_time": "2022-11-08T18:35:19.997Z"
   },
   {
    "duration": 6,
    "start_time": "2022-11-08T18:35:20.854Z"
   },
   {
    "duration": 90,
    "start_time": "2022-11-08T18:35:20.861Z"
   },
   {
    "duration": 401,
    "start_time": "2022-11-08T18:35:20.953Z"
   },
   {
    "duration": 166,
    "start_time": "2022-11-08T18:35:21.355Z"
   },
   {
    "duration": 328,
    "start_time": "2022-11-08T18:35:21.523Z"
   },
   {
    "duration": 6,
    "start_time": "2022-11-08T18:35:21.855Z"
   },
   {
    "duration": 58,
    "start_time": "2022-11-08T18:35:21.862Z"
   },
   {
    "duration": 209,
    "start_time": "2022-11-08T18:35:21.922Z"
   },
   {
    "duration": 3,
    "start_time": "2022-11-08T18:35:22.135Z"
   },
   {
    "duration": 8,
    "start_time": "2022-11-08T18:35:22.140Z"
   },
   {
    "duration": 610,
    "start_time": "2022-11-08T18:35:22.150Z"
   },
   {
    "duration": 598,
    "start_time": "2022-11-08T18:35:22.762Z"
   },
   {
    "duration": 75,
    "start_time": "2022-11-08T18:35:23.362Z"
   },
   {
    "duration": 86,
    "start_time": "2022-11-08T18:35:23.439Z"
   },
   {
    "duration": 15,
    "start_time": "2022-11-08T18:35:23.527Z"
   },
   {
    "duration": 415,
    "start_time": "2022-11-08T18:35:23.546Z"
   },
   {
    "duration": 660,
    "start_time": "2022-11-08T18:35:23.963Z"
   },
   {
    "duration": 198,
    "start_time": "2022-11-08T18:35:24.630Z"
   },
   {
    "duration": 0,
    "start_time": "2022-11-08T18:35:24.832Z"
   },
   {
    "duration": 0,
    "start_time": "2022-11-08T18:35:24.834Z"
   },
   {
    "duration": 0,
    "start_time": "2022-11-08T18:35:24.835Z"
   },
   {
    "duration": 0,
    "start_time": "2022-11-08T18:35:24.836Z"
   },
   {
    "duration": 0,
    "start_time": "2022-11-08T18:35:24.838Z"
   },
   {
    "duration": 704,
    "start_time": "2022-11-08T18:37:22.032Z"
   },
   {
    "duration": 132,
    "start_time": "2022-11-08T18:37:22.741Z"
   },
   {
    "duration": 40,
    "start_time": "2022-11-08T18:37:22.875Z"
   },
   {
    "duration": 31,
    "start_time": "2022-11-08T18:37:22.918Z"
   },
   {
    "duration": 37,
    "start_time": "2022-11-08T18:37:22.951Z"
   },
   {
    "duration": 10,
    "start_time": "2022-11-08T18:37:22.991Z"
   },
   {
    "duration": 28,
    "start_time": "2022-11-08T18:37:23.003Z"
   },
   {
    "duration": 32,
    "start_time": "2022-11-08T18:37:23.038Z"
   },
   {
    "duration": 33,
    "start_time": "2022-11-08T18:37:23.072Z"
   },
   {
    "duration": 93,
    "start_time": "2022-11-08T18:37:23.108Z"
   },
   {
    "duration": 11,
    "start_time": "2022-11-08T18:37:23.203Z"
   },
   {
    "duration": 30,
    "start_time": "2022-11-08T18:37:23.219Z"
   },
   {
    "duration": 33,
    "start_time": "2022-11-08T18:37:23.251Z"
   },
   {
    "duration": 39,
    "start_time": "2022-11-08T18:37:23.286Z"
   },
   {
    "duration": 25,
    "start_time": "2022-11-08T18:37:23.327Z"
   },
   {
    "duration": 23,
    "start_time": "2022-11-08T18:37:23.354Z"
   },
   {
    "duration": 36,
    "start_time": "2022-11-08T18:37:23.378Z"
   },
   {
    "duration": 69,
    "start_time": "2022-11-08T18:37:23.417Z"
   },
   {
    "duration": 16,
    "start_time": "2022-11-08T18:37:23.488Z"
   },
   {
    "duration": 19,
    "start_time": "2022-11-08T18:37:23.506Z"
   },
   {
    "duration": 40,
    "start_time": "2022-11-08T18:37:23.527Z"
   },
   {
    "duration": 380,
    "start_time": "2022-11-08T18:37:23.569Z"
   },
   {
    "duration": 6,
    "start_time": "2022-11-08T18:37:23.951Z"
   },
   {
    "duration": 49,
    "start_time": "2022-11-08T18:37:23.959Z"
   },
   {
    "duration": 164,
    "start_time": "2022-11-08T18:37:24.010Z"
   },
   {
    "duration": 75,
    "start_time": "2022-11-08T18:37:24.176Z"
   },
   {
    "duration": 207,
    "start_time": "2022-11-08T18:37:24.253Z"
   },
   {
    "duration": 4,
    "start_time": "2022-11-08T18:37:24.464Z"
   },
   {
    "duration": 16,
    "start_time": "2022-11-08T18:37:24.470Z"
   },
   {
    "duration": 122,
    "start_time": "2022-11-08T18:37:24.488Z"
   },
   {
    "duration": 3,
    "start_time": "2022-11-08T18:37:24.612Z"
   },
   {
    "duration": 32,
    "start_time": "2022-11-08T18:37:24.616Z"
   },
   {
    "duration": 292,
    "start_time": "2022-11-08T18:37:24.649Z"
   },
   {
    "duration": 214,
    "start_time": "2022-11-08T18:37:24.942Z"
   },
   {
    "duration": 18,
    "start_time": "2022-11-08T18:37:25.158Z"
   },
   {
    "duration": 27,
    "start_time": "2022-11-08T18:37:25.177Z"
   },
   {
    "duration": 29,
    "start_time": "2022-11-08T18:37:25.206Z"
   },
   {
    "duration": 231,
    "start_time": "2022-11-08T18:37:25.238Z"
   },
   {
    "duration": 308,
    "start_time": "2022-11-08T18:37:25.471Z"
   },
   {
    "duration": 112,
    "start_time": "2022-11-08T18:37:25.781Z"
   },
   {
    "duration": 0,
    "start_time": "2022-11-08T18:37:25.895Z"
   },
   {
    "duration": 0,
    "start_time": "2022-11-08T18:37:25.896Z"
   },
   {
    "duration": 0,
    "start_time": "2022-11-08T18:37:25.898Z"
   },
   {
    "duration": 0,
    "start_time": "2022-11-08T18:37:25.899Z"
   },
   {
    "duration": 0,
    "start_time": "2022-11-08T18:37:25.900Z"
   },
   {
    "duration": 158,
    "start_time": "2022-11-08T18:38:39.291Z"
   },
   {
    "duration": 177,
    "start_time": "2022-11-08T18:39:06.656Z"
   },
   {
    "duration": 92,
    "start_time": "2022-11-08T18:39:10.496Z"
   },
   {
    "duration": 133,
    "start_time": "2022-11-08T18:39:10.837Z"
   },
   {
    "duration": 1268,
    "start_time": "2022-11-08T18:39:15.063Z"
   },
   {
    "duration": 304,
    "start_time": "2022-11-08T18:39:16.338Z"
   },
   {
    "duration": 31,
    "start_time": "2022-11-08T18:39:16.644Z"
   },
   {
    "duration": 50,
    "start_time": "2022-11-08T18:39:16.677Z"
   },
   {
    "duration": 102,
    "start_time": "2022-11-08T18:39:16.729Z"
   },
   {
    "duration": 13,
    "start_time": "2022-11-08T18:39:16.839Z"
   },
   {
    "duration": 86,
    "start_time": "2022-11-08T18:39:16.855Z"
   },
   {
    "duration": 12,
    "start_time": "2022-11-08T18:39:16.943Z"
   },
   {
    "duration": 63,
    "start_time": "2022-11-08T18:39:16.957Z"
   },
   {
    "duration": 139,
    "start_time": "2022-11-08T18:39:17.023Z"
   },
   {
    "duration": 60,
    "start_time": "2022-11-08T18:39:17.165Z"
   },
   {
    "duration": 39,
    "start_time": "2022-11-08T18:39:17.230Z"
   },
   {
    "duration": 65,
    "start_time": "2022-11-08T18:39:17.271Z"
   },
   {
    "duration": 101,
    "start_time": "2022-11-08T18:39:17.339Z"
   },
   {
    "duration": 12,
    "start_time": "2022-11-08T18:39:17.443Z"
   },
   {
    "duration": 64,
    "start_time": "2022-11-08T18:39:17.458Z"
   },
   {
    "duration": 30,
    "start_time": "2022-11-08T18:39:17.526Z"
   },
   {
    "duration": 9,
    "start_time": "2022-11-08T18:39:17.559Z"
   },
   {
    "duration": 53,
    "start_time": "2022-11-08T18:39:17.571Z"
   },
   {
    "duration": 13,
    "start_time": "2022-11-08T18:39:17.630Z"
   },
   {
    "duration": 90,
    "start_time": "2022-11-08T18:39:17.647Z"
   },
   {
    "duration": 993,
    "start_time": "2022-11-08T18:39:17.738Z"
   },
   {
    "duration": 7,
    "start_time": "2022-11-08T18:39:18.733Z"
   },
   {
    "duration": 103,
    "start_time": "2022-11-08T18:39:18.743Z"
   },
   {
    "duration": 121,
    "start_time": "2022-11-08T18:39:18.848Z"
   },
   {
    "duration": 402,
    "start_time": "2022-11-08T18:39:19.025Z"
   },
   {
    "duration": 5,
    "start_time": "2022-11-08T18:39:19.429Z"
   },
   {
    "duration": 6,
    "start_time": "2022-11-08T18:39:19.440Z"
   },
   {
    "duration": 303,
    "start_time": "2022-11-08T18:39:19.448Z"
   },
   {
    "duration": 3,
    "start_time": "2022-11-08T18:39:19.755Z"
   },
   {
    "duration": 22,
    "start_time": "2022-11-08T18:39:19.761Z"
   },
   {
    "duration": 283,
    "start_time": "2022-11-08T18:39:19.785Z"
   },
   {
    "duration": 281,
    "start_time": "2022-11-08T18:39:20.070Z"
   },
   {
    "duration": 18,
    "start_time": "2022-11-08T18:39:20.353Z"
   },
   {
    "duration": 51,
    "start_time": "2022-11-08T18:39:20.374Z"
   },
   {
    "duration": 11,
    "start_time": "2022-11-08T18:39:20.430Z"
   },
   {
    "duration": 197,
    "start_time": "2022-11-08T18:39:20.443Z"
   },
   {
    "duration": 297,
    "start_time": "2022-11-08T18:39:20.642Z"
   },
   {
    "duration": 109,
    "start_time": "2022-11-08T18:39:20.941Z"
   },
   {
    "duration": 0,
    "start_time": "2022-11-08T18:39:21.052Z"
   },
   {
    "duration": 0,
    "start_time": "2022-11-08T18:39:21.053Z"
   },
   {
    "duration": 0,
    "start_time": "2022-11-08T18:39:21.054Z"
   },
   {
    "duration": 0,
    "start_time": "2022-11-08T18:39:21.056Z"
   },
   {
    "duration": 0,
    "start_time": "2022-11-08T18:39:21.057Z"
   },
   {
    "duration": 221,
    "start_time": "2022-11-08T18:39:42.523Z"
   },
   {
    "duration": 154,
    "start_time": "2022-11-08T18:39:50.936Z"
   },
   {
    "duration": 198,
    "start_time": "2022-11-08T18:39:53.836Z"
   },
   {
    "duration": 144,
    "start_time": "2022-11-08T18:40:04.210Z"
   },
   {
    "duration": 180,
    "start_time": "2022-11-08T18:40:07.890Z"
   },
   {
    "duration": 185,
    "start_time": "2022-11-08T18:40:45.522Z"
   },
   {
    "duration": 169,
    "start_time": "2022-11-08T18:40:57.038Z"
   },
   {
    "duration": 236,
    "start_time": "2022-11-08T18:43:01.455Z"
   },
   {
    "duration": 184,
    "start_time": "2022-11-08T18:43:08.612Z"
   },
   {
    "duration": 159,
    "start_time": "2022-11-08T18:43:12.932Z"
   },
   {
    "duration": 239,
    "start_time": "2022-11-08T18:43:17.149Z"
   },
   {
    "duration": 145,
    "start_time": "2022-11-08T18:43:21.683Z"
   },
   {
    "duration": 151,
    "start_time": "2022-11-08T18:44:10.863Z"
   },
   {
    "duration": 149,
    "start_time": "2022-11-08T18:45:10.370Z"
   },
   {
    "duration": 131,
    "start_time": "2022-11-08T18:45:26.153Z"
   },
   {
    "duration": 147,
    "start_time": "2022-11-08T18:45:28.389Z"
   },
   {
    "duration": 148,
    "start_time": "2022-11-08T18:45:38.102Z"
   },
   {
    "duration": 196,
    "start_time": "2022-11-08T18:46:00.984Z"
   },
   {
    "duration": 222,
    "start_time": "2022-11-08T18:46:09.945Z"
   },
   {
    "duration": 169,
    "start_time": "2022-11-08T18:46:15.271Z"
   },
   {
    "duration": 176,
    "start_time": "2022-11-08T18:47:58.617Z"
   },
   {
    "duration": 174,
    "start_time": "2022-11-08T18:48:48.038Z"
   },
   {
    "duration": 183,
    "start_time": "2022-11-08T18:48:54.259Z"
   },
   {
    "duration": 157,
    "start_time": "2022-11-08T18:49:14.336Z"
   },
   {
    "duration": 143,
    "start_time": "2022-11-08T18:49:22.231Z"
   },
   {
    "duration": 151,
    "start_time": "2022-11-08T18:49:25.957Z"
   },
   {
    "duration": 161,
    "start_time": "2022-11-08T18:49:28.448Z"
   },
   {
    "duration": 156,
    "start_time": "2022-11-08T18:49:31.897Z"
   },
   {
    "duration": 176,
    "start_time": "2022-11-08T18:49:34.458Z"
   },
   {
    "duration": 284,
    "start_time": "2022-11-08T18:49:36.878Z"
   },
   {
    "duration": 175,
    "start_time": "2022-11-08T18:49:39.441Z"
   },
   {
    "duration": 194,
    "start_time": "2022-11-08T18:50:04.306Z"
   },
   {
    "duration": 241,
    "start_time": "2022-11-08T18:52:42.461Z"
   },
   {
    "duration": 339,
    "start_time": "2022-11-08T18:52:49.811Z"
   },
   {
    "duration": 18,
    "start_time": "2022-11-08T18:53:14.064Z"
   },
   {
    "duration": 25,
    "start_time": "2022-11-08T18:53:47.277Z"
   },
   {
    "duration": 49,
    "start_time": "2022-11-08T18:54:19.546Z"
   },
   {
    "duration": 318,
    "start_time": "2022-11-08T18:56:20.581Z"
   },
   {
    "duration": 15,
    "start_time": "2022-11-08T19:00:34.471Z"
   },
   {
    "duration": 18,
    "start_time": "2022-11-08T19:00:37.984Z"
   },
   {
    "duration": 15,
    "start_time": "2022-11-08T19:00:40.302Z"
   },
   {
    "duration": 597,
    "start_time": "2022-11-08T19:00:46.047Z"
   },
   {
    "duration": 809,
    "start_time": "2022-11-08T19:00:49.007Z"
   },
   {
    "duration": 649,
    "start_time": "2022-11-08T19:00:54.253Z"
   },
   {
    "duration": 68,
    "start_time": "2022-11-08T19:00:59.415Z"
   },
   {
    "duration": 588,
    "start_time": "2022-11-08T19:01:05.746Z"
   },
   {
    "duration": 1033,
    "start_time": "2022-11-08T19:01:15.636Z"
   },
   {
    "duration": 172,
    "start_time": "2022-11-08T19:01:16.672Z"
   },
   {
    "duration": 30,
    "start_time": "2022-11-08T19:01:16.846Z"
   },
   {
    "duration": 8,
    "start_time": "2022-11-08T19:01:16.879Z"
   },
   {
    "duration": 45,
    "start_time": "2022-11-08T19:01:16.890Z"
   },
   {
    "duration": 12,
    "start_time": "2022-11-08T19:01:16.940Z"
   },
   {
    "duration": 25,
    "start_time": "2022-11-08T19:01:16.954Z"
   },
   {
    "duration": 19,
    "start_time": "2022-11-08T19:01:16.981Z"
   },
   {
    "duration": 30,
    "start_time": "2022-11-08T19:01:17.002Z"
   },
   {
    "duration": 101,
    "start_time": "2022-11-08T19:01:17.036Z"
   },
   {
    "duration": 11,
    "start_time": "2022-11-08T19:01:17.139Z"
   },
   {
    "duration": 22,
    "start_time": "2022-11-08T19:01:17.153Z"
   },
   {
    "duration": 17,
    "start_time": "2022-11-08T19:01:17.177Z"
   },
   {
    "duration": 39,
    "start_time": "2022-11-08T19:01:17.197Z"
   },
   {
    "duration": 7,
    "start_time": "2022-11-08T19:01:17.238Z"
   },
   {
    "duration": 12,
    "start_time": "2022-11-08T19:01:17.246Z"
   },
   {
    "duration": 13,
    "start_time": "2022-11-08T19:01:17.260Z"
   },
   {
    "duration": 8,
    "start_time": "2022-11-08T19:01:17.275Z"
   },
   {
    "duration": 13,
    "start_time": "2022-11-08T19:01:17.284Z"
   },
   {
    "duration": 31,
    "start_time": "2022-11-08T19:01:17.298Z"
   },
   {
    "duration": 19,
    "start_time": "2022-11-08T19:01:17.334Z"
   },
   {
    "duration": 128,
    "start_time": "2022-11-08T19:01:17.355Z"
   },
   {
    "duration": 0,
    "start_time": "2022-11-08T19:01:17.485Z"
   },
   {
    "duration": 0,
    "start_time": "2022-11-08T19:01:17.486Z"
   },
   {
    "duration": 0,
    "start_time": "2022-11-08T19:01:17.488Z"
   },
   {
    "duration": 1,
    "start_time": "2022-11-08T19:01:17.488Z"
   },
   {
    "duration": 0,
    "start_time": "2022-11-08T19:01:17.490Z"
   },
   {
    "duration": 1,
    "start_time": "2022-11-08T19:01:17.490Z"
   },
   {
    "duration": 0,
    "start_time": "2022-11-08T19:01:17.491Z"
   },
   {
    "duration": 0,
    "start_time": "2022-11-08T19:01:17.492Z"
   },
   {
    "duration": 0,
    "start_time": "2022-11-08T19:01:17.494Z"
   },
   {
    "duration": 0,
    "start_time": "2022-11-08T19:01:17.495Z"
   },
   {
    "duration": 0,
    "start_time": "2022-11-08T19:01:17.496Z"
   },
   {
    "duration": 0,
    "start_time": "2022-11-08T19:01:17.497Z"
   },
   {
    "duration": 0,
    "start_time": "2022-11-08T19:01:17.520Z"
   },
   {
    "duration": 0,
    "start_time": "2022-11-08T19:01:17.520Z"
   },
   {
    "duration": 0,
    "start_time": "2022-11-08T19:01:17.521Z"
   },
   {
    "duration": 0,
    "start_time": "2022-11-08T19:01:17.522Z"
   },
   {
    "duration": 0,
    "start_time": "2022-11-08T19:01:17.523Z"
   },
   {
    "duration": 0,
    "start_time": "2022-11-08T19:01:17.524Z"
   },
   {
    "duration": 0,
    "start_time": "2022-11-08T19:01:17.524Z"
   },
   {
    "duration": 0,
    "start_time": "2022-11-08T19:01:17.525Z"
   },
   {
    "duration": 0,
    "start_time": "2022-11-08T19:01:17.526Z"
   },
   {
    "duration": 0,
    "start_time": "2022-11-08T19:01:17.527Z"
   },
   {
    "duration": 0,
    "start_time": "2022-11-08T19:01:17.528Z"
   },
   {
    "duration": 0,
    "start_time": "2022-11-08T19:01:17.529Z"
   },
   {
    "duration": 57,
    "start_time": "2022-11-08T19:01:36.890Z"
   },
   {
    "duration": 584,
    "start_time": "2022-11-08T19:01:45.254Z"
   },
   {
    "duration": 693,
    "start_time": "2022-11-08T19:01:56.483Z"
   },
   {
    "duration": 122,
    "start_time": "2022-11-08T19:01:57.178Z"
   },
   {
    "duration": 27,
    "start_time": "2022-11-08T19:01:57.302Z"
   },
   {
    "duration": 12,
    "start_time": "2022-11-08T19:01:57.331Z"
   },
   {
    "duration": 33,
    "start_time": "2022-11-08T19:01:57.345Z"
   },
   {
    "duration": 9,
    "start_time": "2022-11-08T19:01:57.379Z"
   },
   {
    "duration": 43,
    "start_time": "2022-11-08T19:01:57.390Z"
   },
   {
    "duration": 13,
    "start_time": "2022-11-08T19:01:57.436Z"
   },
   {
    "duration": 17,
    "start_time": "2022-11-08T19:01:57.453Z"
   },
   {
    "duration": 96,
    "start_time": "2022-11-08T19:01:57.474Z"
   },
   {
    "duration": 10,
    "start_time": "2022-11-08T19:01:57.572Z"
   },
   {
    "duration": 21,
    "start_time": "2022-11-08T19:01:57.584Z"
   },
   {
    "duration": 36,
    "start_time": "2022-11-08T19:01:57.606Z"
   },
   {
    "duration": 30,
    "start_time": "2022-11-08T19:01:57.644Z"
   },
   {
    "duration": 11,
    "start_time": "2022-11-08T19:01:57.677Z"
   },
   {
    "duration": 32,
    "start_time": "2022-11-08T19:01:57.690Z"
   },
   {
    "duration": 27,
    "start_time": "2022-11-08T19:01:57.724Z"
   },
   {
    "duration": 9,
    "start_time": "2022-11-08T19:01:57.752Z"
   },
   {
    "duration": 12,
    "start_time": "2022-11-08T19:01:57.763Z"
   },
   {
    "duration": 10,
    "start_time": "2022-11-08T19:01:57.777Z"
   },
   {
    "duration": 15,
    "start_time": "2022-11-08T19:01:57.788Z"
   },
   {
    "duration": 428,
    "start_time": "2022-11-08T19:01:57.804Z"
   },
   {
    "duration": 6,
    "start_time": "2022-11-08T19:01:58.238Z"
   },
   {
    "duration": 36,
    "start_time": "2022-11-08T19:01:58.246Z"
   },
   {
    "duration": 78,
    "start_time": "2022-11-08T19:01:58.284Z"
   },
   {
    "duration": 212,
    "start_time": "2022-11-08T19:01:58.364Z"
   },
   {
    "duration": 186,
    "start_time": "2022-11-08T19:01:58.578Z"
   },
   {
    "duration": 174,
    "start_time": "2022-11-08T19:01:58.768Z"
   },
   {
    "duration": 304,
    "start_time": "2022-11-08T19:01:58.944Z"
   },
   {
    "duration": 6,
    "start_time": "2022-11-08T19:01:59.250Z"
   },
   {
    "duration": 7,
    "start_time": "2022-11-08T19:01:59.258Z"
   },
   {
    "duration": 218,
    "start_time": "2022-11-08T19:01:59.319Z"
   },
   {
    "duration": 5,
    "start_time": "2022-11-08T19:01:59.539Z"
   },
   {
    "duration": 500,
    "start_time": "2022-11-08T19:01:59.545Z"
   },
   {
    "duration": 480,
    "start_time": "2022-11-08T19:02:00.048Z"
   },
   {
    "duration": 24,
    "start_time": "2022-11-08T19:02:00.530Z"
   },
   {
    "duration": 86,
    "start_time": "2022-11-08T19:02:00.556Z"
   },
   {
    "duration": 22,
    "start_time": "2022-11-08T19:02:00.646Z"
   },
   {
    "duration": 435,
    "start_time": "2022-11-08T19:02:00.725Z"
   },
   {
    "duration": 516,
    "start_time": "2022-11-08T19:02:01.162Z"
   },
   {
    "duration": 102,
    "start_time": "2022-11-08T19:02:01.680Z"
   },
   {
    "duration": 0,
    "start_time": "2022-11-08T19:02:01.784Z"
   },
   {
    "duration": 0,
    "start_time": "2022-11-08T19:02:01.786Z"
   },
   {
    "duration": 0,
    "start_time": "2022-11-08T19:02:01.788Z"
   },
   {
    "duration": 0,
    "start_time": "2022-11-08T19:02:01.789Z"
   },
   {
    "duration": 0,
    "start_time": "2022-11-08T19:02:01.791Z"
   },
   {
    "duration": 386,
    "start_time": "2022-11-08T19:02:03.564Z"
   },
   {
    "duration": 475,
    "start_time": "2022-11-08T19:02:06.717Z"
   },
   {
    "duration": 102,
    "start_time": "2022-11-08T19:02:38.446Z"
   },
   {
    "duration": 105,
    "start_time": "2022-11-08T19:02:44.370Z"
   },
   {
    "duration": 4,
    "start_time": "2022-11-08T19:06:49.688Z"
   },
   {
    "duration": 73,
    "start_time": "2022-11-08T19:07:01.423Z"
   },
   {
    "duration": 49,
    "start_time": "2022-11-08T19:07:03.417Z"
   },
   {
    "duration": 76,
    "start_time": "2022-11-08T19:07:10.408Z"
   },
   {
    "duration": 9,
    "start_time": "2022-11-08T19:07:30.876Z"
   },
   {
    "duration": 584,
    "start_time": "2022-11-08T19:07:38.591Z"
   },
   {
    "duration": 16,
    "start_time": "2022-11-08T19:07:59.899Z"
   },
   {
    "duration": 17,
    "start_time": "2022-11-08T19:08:08.873Z"
   },
   {
    "duration": 17,
    "start_time": "2022-11-08T19:08:24.930Z"
   },
   {
    "duration": 663,
    "start_time": "2022-11-08T19:08:38.837Z"
   },
   {
    "duration": 358,
    "start_time": "2022-11-08T19:08:39.502Z"
   },
   {
    "duration": 25,
    "start_time": "2022-11-08T19:08:39.863Z"
   },
   {
    "duration": 6,
    "start_time": "2022-11-08T19:08:39.890Z"
   },
   {
    "duration": 39,
    "start_time": "2022-11-08T19:08:39.898Z"
   },
   {
    "duration": 9,
    "start_time": "2022-11-08T19:08:39.938Z"
   },
   {
    "duration": 24,
    "start_time": "2022-11-08T19:08:39.949Z"
   },
   {
    "duration": 9,
    "start_time": "2022-11-08T19:08:39.975Z"
   },
   {
    "duration": 42,
    "start_time": "2022-11-08T19:08:39.985Z"
   },
   {
    "duration": 80,
    "start_time": "2022-11-08T19:08:40.036Z"
   },
   {
    "duration": 10,
    "start_time": "2022-11-08T19:08:40.124Z"
   },
   {
    "duration": 19,
    "start_time": "2022-11-08T19:08:40.136Z"
   },
   {
    "duration": 15,
    "start_time": "2022-11-08T19:08:40.157Z"
   },
   {
    "duration": 18,
    "start_time": "2022-11-08T19:08:40.175Z"
   },
   {
    "duration": 33,
    "start_time": "2022-11-08T19:08:40.194Z"
   },
   {
    "duration": 23,
    "start_time": "2022-11-08T19:08:40.235Z"
   },
   {
    "duration": 15,
    "start_time": "2022-11-08T19:08:40.261Z"
   },
   {
    "duration": 7,
    "start_time": "2022-11-08T19:08:40.279Z"
   },
   {
    "duration": 7,
    "start_time": "2022-11-08T19:08:40.289Z"
   },
   {
    "duration": 35,
    "start_time": "2022-11-08T19:08:40.299Z"
   },
   {
    "duration": 19,
    "start_time": "2022-11-08T19:08:40.336Z"
   },
   {
    "duration": 408,
    "start_time": "2022-11-08T19:08:40.357Z"
   },
   {
    "duration": 7,
    "start_time": "2022-11-08T19:08:40.767Z"
   },
   {
    "duration": 48,
    "start_time": "2022-11-08T19:08:40.777Z"
   },
   {
    "duration": 65,
    "start_time": "2022-11-08T19:08:40.826Z"
   },
   {
    "duration": 216,
    "start_time": "2022-11-08T19:08:40.892Z"
   },
   {
    "duration": 170,
    "start_time": "2022-11-08T19:08:41.110Z"
   },
   {
    "duration": 162,
    "start_time": "2022-11-08T19:08:41.283Z"
   },
   {
    "duration": 247,
    "start_time": "2022-11-08T19:08:41.446Z"
   },
   {
    "duration": 6,
    "start_time": "2022-11-08T19:08:41.695Z"
   },
   {
    "duration": 92,
    "start_time": "2022-11-08T19:08:41.702Z"
   },
   {
    "duration": 98,
    "start_time": "2022-11-08T19:08:41.796Z"
   },
   {
    "duration": 3,
    "start_time": "2022-11-08T19:08:41.896Z"
   },
   {
    "duration": 9,
    "start_time": "2022-11-08T19:08:41.901Z"
   },
   {
    "duration": 235,
    "start_time": "2022-11-08T19:08:41.912Z"
   },
   {
    "duration": 206,
    "start_time": "2022-11-08T19:08:42.149Z"
   },
   {
    "duration": 31,
    "start_time": "2022-11-08T19:08:42.357Z"
   },
   {
    "duration": 47,
    "start_time": "2022-11-08T19:08:42.391Z"
   },
   {
    "duration": 7,
    "start_time": "2022-11-08T19:08:42.442Z"
   },
   {
    "duration": 205,
    "start_time": "2022-11-08T19:08:42.451Z"
   },
   {
    "duration": 301,
    "start_time": "2022-11-08T19:08:42.660Z"
   },
   {
    "duration": 9,
    "start_time": "2022-11-08T19:08:42.963Z"
   },
   {
    "duration": 523,
    "start_time": "2022-11-08T19:08:42.974Z"
   },
   {
    "duration": 25,
    "start_time": "2022-11-08T19:08:43.500Z"
   },
   {
    "duration": 164,
    "start_time": "2022-11-08T19:08:43.528Z"
   },
   {
    "duration": 166,
    "start_time": "2022-11-08T19:08:43.694Z"
   },
   {
    "duration": 14,
    "start_time": "2022-11-08T19:08:43.862Z"
   },
   {
    "duration": 30,
    "start_time": "2022-11-08T19:09:13.055Z"
   },
   {
    "duration": 597,
    "start_time": "2022-11-08T19:10:42.965Z"
   },
   {
    "duration": 577,
    "start_time": "2022-11-08T19:10:56.137Z"
   },
   {
    "duration": 584,
    "start_time": "2022-11-08T19:11:01.545Z"
   },
   {
    "duration": 564,
    "start_time": "2022-11-08T19:11:10.366Z"
   },
   {
    "duration": 515,
    "start_time": "2022-11-08T19:11:55.754Z"
   },
   {
    "duration": 60,
    "start_time": "2022-11-08T19:12:40.477Z"
   },
   {
    "duration": 57,
    "start_time": "2022-11-08T19:12:50.521Z"
   },
   {
    "duration": 653,
    "start_time": "2022-11-08T19:12:58.914Z"
   },
   {
    "duration": 589,
    "start_time": "2022-11-08T19:13:12.784Z"
   },
   {
    "duration": 707,
    "start_time": "2022-11-08T19:14:24.480Z"
   },
   {
    "duration": 129,
    "start_time": "2022-11-08T19:14:25.189Z"
   },
   {
    "duration": 23,
    "start_time": "2022-11-08T19:14:25.329Z"
   },
   {
    "duration": 5,
    "start_time": "2022-11-08T19:14:25.354Z"
   },
   {
    "duration": 35,
    "start_time": "2022-11-08T19:14:25.361Z"
   },
   {
    "duration": 33,
    "start_time": "2022-11-08T19:14:25.398Z"
   },
   {
    "duration": 15,
    "start_time": "2022-11-08T19:14:25.437Z"
   },
   {
    "duration": 15,
    "start_time": "2022-11-08T19:14:25.454Z"
   },
   {
    "duration": 20,
    "start_time": "2022-11-08T19:14:25.471Z"
   },
   {
    "duration": 89,
    "start_time": "2022-11-08T19:14:25.494Z"
   },
   {
    "duration": 8,
    "start_time": "2022-11-08T19:14:25.584Z"
   },
   {
    "duration": 35,
    "start_time": "2022-11-08T19:14:25.594Z"
   },
   {
    "duration": 29,
    "start_time": "2022-11-08T19:14:25.631Z"
   },
   {
    "duration": 19,
    "start_time": "2022-11-08T19:14:25.664Z"
   },
   {
    "duration": 7,
    "start_time": "2022-11-08T19:14:25.685Z"
   },
   {
    "duration": 38,
    "start_time": "2022-11-08T19:14:25.695Z"
   },
   {
    "duration": 15,
    "start_time": "2022-11-08T19:14:25.734Z"
   },
   {
    "duration": 13,
    "start_time": "2022-11-08T19:14:25.751Z"
   },
   {
    "duration": 6,
    "start_time": "2022-11-08T19:14:25.765Z"
   },
   {
    "duration": 10,
    "start_time": "2022-11-08T19:14:25.773Z"
   },
   {
    "duration": 17,
    "start_time": "2022-11-08T19:14:25.785Z"
   },
   {
    "duration": 420,
    "start_time": "2022-11-08T19:14:25.804Z"
   },
   {
    "duration": 16,
    "start_time": "2022-11-08T19:14:26.225Z"
   },
   {
    "duration": 54,
    "start_time": "2022-11-08T19:14:26.242Z"
   },
   {
    "duration": 79,
    "start_time": "2022-11-08T19:14:26.298Z"
   },
   {
    "duration": 252,
    "start_time": "2022-11-08T19:14:26.379Z"
   },
   {
    "duration": 213,
    "start_time": "2022-11-08T19:14:26.632Z"
   },
   {
    "duration": 145,
    "start_time": "2022-11-08T19:14:26.851Z"
   },
   {
    "duration": 262,
    "start_time": "2022-11-08T19:14:26.998Z"
   },
   {
    "duration": 4,
    "start_time": "2022-11-08T19:14:27.262Z"
   },
   {
    "duration": 93,
    "start_time": "2022-11-08T19:14:27.268Z"
   },
   {
    "duration": 87,
    "start_time": "2022-11-08T19:14:27.363Z"
   },
   {
    "duration": 2,
    "start_time": "2022-11-08T19:14:27.452Z"
   },
   {
    "duration": 10,
    "start_time": "2022-11-08T19:14:27.456Z"
   },
   {
    "duration": 236,
    "start_time": "2022-11-08T19:14:27.468Z"
   },
   {
    "duration": 225,
    "start_time": "2022-11-08T19:14:27.706Z"
   },
   {
    "duration": 24,
    "start_time": "2022-11-08T19:14:27.932Z"
   },
   {
    "duration": 40,
    "start_time": "2022-11-08T19:14:27.958Z"
   },
   {
    "duration": 26,
    "start_time": "2022-11-08T19:14:28.001Z"
   },
   {
    "duration": 214,
    "start_time": "2022-11-08T19:14:28.030Z"
   },
   {
    "duration": 303,
    "start_time": "2022-11-08T19:14:28.246Z"
   },
   {
    "duration": 10,
    "start_time": "2022-11-08T19:14:28.551Z"
   },
   {
    "duration": 651,
    "start_time": "2022-11-08T19:14:28.563Z"
   },
   {
    "duration": 23,
    "start_time": "2022-11-08T19:14:29.216Z"
   },
   {
    "duration": 170,
    "start_time": "2022-11-08T19:14:29.241Z"
   },
   {
    "duration": 180,
    "start_time": "2022-11-08T19:14:29.412Z"
   },
   {
    "duration": 14,
    "start_time": "2022-11-08T19:14:29.595Z"
   },
   {
    "duration": 176,
    "start_time": "2022-11-08T19:14:58.730Z"
   },
   {
    "duration": 96,
    "start_time": "2022-11-08T19:15:04.670Z"
   },
   {
    "duration": 114,
    "start_time": "2022-11-08T19:15:25.440Z"
   },
   {
    "duration": 90,
    "start_time": "2022-11-08T19:15:32.800Z"
   },
   {
    "duration": 128,
    "start_time": "2022-11-08T19:15:44.917Z"
   },
   {
    "duration": 83,
    "start_time": "2022-11-08T19:15:52.766Z"
   },
   {
    "duration": 71,
    "start_time": "2022-11-08T19:16:07.040Z"
   },
   {
    "duration": 22,
    "start_time": "2022-11-08T19:16:32.574Z"
   },
   {
    "duration": 8,
    "start_time": "2022-11-08T19:16:57.003Z"
   },
   {
    "duration": 78,
    "start_time": "2022-11-08T19:17:01.134Z"
   },
   {
    "duration": 9,
    "start_time": "2022-11-08T19:17:03.321Z"
   },
   {
    "duration": 12,
    "start_time": "2022-11-08T19:17:07.480Z"
   },
   {
    "duration": 1185,
    "start_time": "2022-11-08T19:17:11.735Z"
   },
   {
    "duration": 185,
    "start_time": "2022-11-08T19:17:13.389Z"
   },
   {
    "duration": 63,
    "start_time": "2022-11-08T19:17:13.577Z"
   },
   {
    "duration": 10,
    "start_time": "2022-11-08T19:17:13.643Z"
   },
   {
    "duration": 95,
    "start_time": "2022-11-08T19:17:13.656Z"
   },
   {
    "duration": 68,
    "start_time": "2022-11-08T19:17:13.753Z"
   },
   {
    "duration": 30,
    "start_time": "2022-11-08T19:17:13.824Z"
   },
   {
    "duration": 13,
    "start_time": "2022-11-08T19:17:13.855Z"
   },
   {
    "duration": 21,
    "start_time": "2022-11-08T19:17:13.920Z"
   },
   {
    "duration": 194,
    "start_time": "2022-11-08T19:17:13.945Z"
   },
   {
    "duration": 8,
    "start_time": "2022-11-08T19:17:14.141Z"
   },
   {
    "duration": 74,
    "start_time": "2022-11-08T19:17:14.151Z"
   },
   {
    "duration": 17,
    "start_time": "2022-11-08T19:17:14.227Z"
   },
   {
    "duration": 23,
    "start_time": "2022-11-08T19:17:14.246Z"
   },
   {
    "duration": 13,
    "start_time": "2022-11-08T19:17:14.324Z"
   },
   {
    "duration": 20,
    "start_time": "2022-11-08T19:17:14.340Z"
   },
   {
    "duration": 65,
    "start_time": "2022-11-08T19:17:14.362Z"
   },
   {
    "duration": 7,
    "start_time": "2022-11-08T19:17:14.429Z"
   },
   {
    "duration": 10,
    "start_time": "2022-11-08T19:17:14.438Z"
   },
   {
    "duration": 9,
    "start_time": "2022-11-08T19:17:14.450Z"
   },
   {
    "duration": 61,
    "start_time": "2022-11-08T19:17:14.461Z"
   },
   {
    "duration": 928,
    "start_time": "2022-11-08T19:17:14.534Z"
   },
   {
    "duration": 72,
    "start_time": "2022-11-08T19:17:15.465Z"
   },
   {
    "duration": 86,
    "start_time": "2022-11-08T19:17:15.539Z"
   },
   {
    "duration": 120,
    "start_time": "2022-11-08T19:17:15.627Z"
   },
   {
    "duration": 239,
    "start_time": "2022-11-08T19:17:15.749Z"
   },
   {
    "duration": 174,
    "start_time": "2022-11-08T19:17:15.990Z"
   },
   {
    "duration": 170,
    "start_time": "2022-11-08T19:17:16.166Z"
   },
   {
    "duration": 297,
    "start_time": "2022-11-08T19:17:16.338Z"
   },
   {
    "duration": 12,
    "start_time": "2022-11-08T19:17:16.636Z"
   },
   {
    "duration": 104,
    "start_time": "2022-11-08T19:17:16.650Z"
   },
   {
    "duration": 144,
    "start_time": "2022-11-08T19:17:16.756Z"
   },
   {
    "duration": 3,
    "start_time": "2022-11-08T19:17:16.903Z"
   },
   {
    "duration": 28,
    "start_time": "2022-11-08T19:17:16.908Z"
   },
   {
    "duration": 228,
    "start_time": "2022-11-08T19:17:16.942Z"
   },
   {
    "duration": 212,
    "start_time": "2022-11-08T19:17:17.172Z"
   },
   {
    "duration": 47,
    "start_time": "2022-11-08T19:17:17.385Z"
   },
   {
    "duration": 23,
    "start_time": "2022-11-08T19:17:17.433Z"
   },
   {
    "duration": 7,
    "start_time": "2022-11-08T19:17:17.457Z"
   },
   {
    "duration": 217,
    "start_time": "2022-11-08T19:17:17.466Z"
   },
   {
    "duration": 366,
    "start_time": "2022-11-08T19:17:17.685Z"
   },
   {
    "duration": 9,
    "start_time": "2022-11-08T19:17:18.055Z"
   },
   {
    "duration": 600,
    "start_time": "2022-11-08T19:17:18.066Z"
   },
   {
    "duration": 17,
    "start_time": "2022-11-08T19:17:18.668Z"
   },
   {
    "duration": 180,
    "start_time": "2022-11-08T19:17:18.687Z"
   },
   {
    "duration": 174,
    "start_time": "2022-11-08T19:17:18.868Z"
   },
   {
    "duration": 16,
    "start_time": "2022-11-08T19:17:19.044Z"
   },
   {
    "duration": 167,
    "start_time": "2022-11-08T19:17:33.372Z"
   },
   {
    "duration": 90,
    "start_time": "2022-11-08T19:17:40.895Z"
   },
   {
    "duration": 634,
    "start_time": "2022-11-08T19:17:50.535Z"
   },
   {
    "duration": 120,
    "start_time": "2022-11-08T19:17:51.171Z"
   },
   {
    "duration": 22,
    "start_time": "2022-11-08T19:17:51.293Z"
   },
   {
    "duration": 10,
    "start_time": "2022-11-08T19:17:51.316Z"
   },
   {
    "duration": 44,
    "start_time": "2022-11-08T19:17:51.330Z"
   },
   {
    "duration": 9,
    "start_time": "2022-11-08T19:17:51.375Z"
   },
   {
    "duration": 15,
    "start_time": "2022-11-08T19:17:51.386Z"
   },
   {
    "duration": 22,
    "start_time": "2022-11-08T19:17:51.402Z"
   },
   {
    "duration": 14,
    "start_time": "2022-11-08T19:17:51.430Z"
   },
   {
    "duration": 100,
    "start_time": "2022-11-08T19:17:51.446Z"
   },
   {
    "duration": 8,
    "start_time": "2022-11-08T19:17:51.548Z"
   },
   {
    "duration": 17,
    "start_time": "2022-11-08T19:17:51.557Z"
   },
   {
    "duration": 16,
    "start_time": "2022-11-08T19:17:51.575Z"
   },
   {
    "duration": 44,
    "start_time": "2022-11-08T19:17:51.594Z"
   },
   {
    "duration": 7,
    "start_time": "2022-11-08T19:17:51.640Z"
   },
   {
    "duration": 8,
    "start_time": "2022-11-08T19:17:51.649Z"
   },
   {
    "duration": 13,
    "start_time": "2022-11-08T19:17:51.659Z"
   },
   {
    "duration": 6,
    "start_time": "2022-11-08T19:17:51.674Z"
   },
   {
    "duration": 5,
    "start_time": "2022-11-08T19:17:51.682Z"
   },
   {
    "duration": 36,
    "start_time": "2022-11-08T19:17:51.688Z"
   },
   {
    "duration": 16,
    "start_time": "2022-11-08T19:17:51.727Z"
   },
   {
    "duration": 394,
    "start_time": "2022-11-08T19:17:51.745Z"
   },
   {
    "duration": 6,
    "start_time": "2022-11-08T19:17:52.141Z"
   },
   {
    "duration": 33,
    "start_time": "2022-11-08T19:17:52.149Z"
   },
   {
    "duration": 75,
    "start_time": "2022-11-08T19:17:52.184Z"
   },
   {
    "duration": 211,
    "start_time": "2022-11-08T19:17:52.261Z"
   },
   {
    "duration": 180,
    "start_time": "2022-11-08T19:17:52.474Z"
   },
   {
    "duration": 186,
    "start_time": "2022-11-08T19:17:52.656Z"
   },
   {
    "duration": 244,
    "start_time": "2022-11-08T19:17:52.844Z"
   },
   {
    "duration": 6,
    "start_time": "2022-11-08T19:17:53.090Z"
   },
   {
    "duration": 90,
    "start_time": "2022-11-08T19:17:53.098Z"
   },
   {
    "duration": 86,
    "start_time": "2022-11-08T19:17:53.190Z"
   },
   {
    "duration": 3,
    "start_time": "2022-11-08T19:17:53.278Z"
   },
   {
    "duration": 12,
    "start_time": "2022-11-08T19:17:53.283Z"
   },
   {
    "duration": 271,
    "start_time": "2022-11-08T19:17:53.297Z"
   },
   {
    "duration": 198,
    "start_time": "2022-11-08T19:17:53.570Z"
   },
   {
    "duration": 21,
    "start_time": "2022-11-08T19:17:53.770Z"
   },
   {
    "duration": 44,
    "start_time": "2022-11-08T19:17:53.793Z"
   },
   {
    "duration": 8,
    "start_time": "2022-11-08T19:17:53.839Z"
   },
   {
    "duration": 210,
    "start_time": "2022-11-08T19:17:53.848Z"
   },
   {
    "duration": 287,
    "start_time": "2022-11-08T19:17:54.064Z"
   },
   {
    "duration": 9,
    "start_time": "2022-11-08T19:17:54.353Z"
   },
   {
    "duration": 572,
    "start_time": "2022-11-08T19:17:54.364Z"
   },
   {
    "duration": 14,
    "start_time": "2022-11-08T19:17:54.939Z"
   },
   {
    "duration": 205,
    "start_time": "2022-11-08T19:17:54.956Z"
   },
   {
    "duration": 177,
    "start_time": "2022-11-08T19:17:55.163Z"
   },
   {
    "duration": 22,
    "start_time": "2022-11-08T19:17:55.342Z"
   },
   {
    "duration": 162,
    "start_time": "2022-11-08T19:18:13.693Z"
   },
   {
    "duration": 651,
    "start_time": "2022-11-08T19:19:12.491Z"
   },
   {
    "duration": 126,
    "start_time": "2022-11-08T19:19:13.143Z"
   },
   {
    "duration": 23,
    "start_time": "2022-11-08T19:19:13.273Z"
   },
   {
    "duration": 8,
    "start_time": "2022-11-08T19:19:13.297Z"
   },
   {
    "duration": 55,
    "start_time": "2022-11-08T19:19:13.307Z"
   },
   {
    "duration": 13,
    "start_time": "2022-11-08T19:19:13.365Z"
   },
   {
    "duration": 43,
    "start_time": "2022-11-08T19:19:13.381Z"
   },
   {
    "duration": 13,
    "start_time": "2022-11-08T19:19:13.429Z"
   },
   {
    "duration": 13,
    "start_time": "2022-11-08T19:19:13.446Z"
   },
   {
    "duration": 93,
    "start_time": "2022-11-08T19:19:13.461Z"
   },
   {
    "duration": 12,
    "start_time": "2022-11-08T19:19:13.556Z"
   },
   {
    "duration": 19,
    "start_time": "2022-11-08T19:19:13.570Z"
   },
   {
    "duration": 41,
    "start_time": "2022-11-08T19:19:13.591Z"
   },
   {
    "duration": 20,
    "start_time": "2022-11-08T19:19:13.634Z"
   },
   {
    "duration": 6,
    "start_time": "2022-11-08T19:19:13.656Z"
   },
   {
    "duration": 15,
    "start_time": "2022-11-08T19:19:13.664Z"
   },
   {
    "duration": 13,
    "start_time": "2022-11-08T19:19:13.681Z"
   },
   {
    "duration": 26,
    "start_time": "2022-11-08T19:19:13.695Z"
   },
   {
    "duration": 8,
    "start_time": "2022-11-08T19:19:13.722Z"
   },
   {
    "duration": 16,
    "start_time": "2022-11-08T19:19:13.732Z"
   },
   {
    "duration": 18,
    "start_time": "2022-11-08T19:19:13.750Z"
   },
   {
    "duration": 406,
    "start_time": "2022-11-08T19:19:13.770Z"
   },
   {
    "duration": 7,
    "start_time": "2022-11-08T19:19:14.178Z"
   },
   {
    "duration": 52,
    "start_time": "2022-11-08T19:19:14.186Z"
   },
   {
    "duration": 58,
    "start_time": "2022-11-08T19:19:14.240Z"
   },
   {
    "duration": 212,
    "start_time": "2022-11-08T19:19:14.300Z"
   },
   {
    "duration": 176,
    "start_time": "2022-11-08T19:19:14.519Z"
   },
   {
    "duration": 161,
    "start_time": "2022-11-08T19:19:14.697Z"
   },
   {
    "duration": 248,
    "start_time": "2022-11-08T19:19:14.860Z"
   },
   {
    "duration": 24,
    "start_time": "2022-11-08T19:19:15.110Z"
   },
   {
    "duration": 76,
    "start_time": "2022-11-08T19:19:15.135Z"
   },
   {
    "duration": 81,
    "start_time": "2022-11-08T19:19:15.213Z"
   },
   {
    "duration": 2,
    "start_time": "2022-11-08T19:19:15.296Z"
   },
   {
    "duration": 13,
    "start_time": "2022-11-08T19:19:15.300Z"
   },
   {
    "duration": 221,
    "start_time": "2022-11-08T19:19:15.315Z"
   },
   {
    "duration": 202,
    "start_time": "2022-11-08T19:19:15.538Z"
   },
   {
    "duration": 33,
    "start_time": "2022-11-08T19:19:15.742Z"
   },
   {
    "duration": 21,
    "start_time": "2022-11-08T19:19:15.778Z"
   },
   {
    "duration": 16,
    "start_time": "2022-11-08T19:19:15.822Z"
   },
   {
    "duration": 204,
    "start_time": "2022-11-08T19:19:15.840Z"
   },
   {
    "duration": 305,
    "start_time": "2022-11-08T19:19:16.047Z"
   },
   {
    "duration": 10,
    "start_time": "2022-11-08T19:19:16.354Z"
   },
   {
    "duration": 701,
    "start_time": "2022-11-08T19:19:16.366Z"
   },
   {
    "duration": 16,
    "start_time": "2022-11-08T19:19:17.069Z"
   },
   {
    "duration": 168,
    "start_time": "2022-11-08T19:19:17.087Z"
   },
   {
    "duration": 181,
    "start_time": "2022-11-08T19:19:17.258Z"
   },
   {
    "duration": 14,
    "start_time": "2022-11-08T19:19:17.446Z"
   },
   {
    "duration": 157,
    "start_time": "2022-11-08T19:20:16.279Z"
   },
   {
    "duration": 642,
    "start_time": "2022-11-08T19:20:21.036Z"
   },
   {
    "duration": 128,
    "start_time": "2022-11-08T19:20:21.680Z"
   },
   {
    "duration": 40,
    "start_time": "2022-11-08T19:20:21.810Z"
   },
   {
    "duration": 10,
    "start_time": "2022-11-08T19:20:21.853Z"
   },
   {
    "duration": 55,
    "start_time": "2022-11-08T19:20:21.867Z"
   },
   {
    "duration": 12,
    "start_time": "2022-11-08T19:20:21.928Z"
   },
   {
    "duration": 18,
    "start_time": "2022-11-08T19:20:21.942Z"
   },
   {
    "duration": 8,
    "start_time": "2022-11-08T19:20:21.962Z"
   },
   {
    "duration": 13,
    "start_time": "2022-11-08T19:20:21.972Z"
   },
   {
    "duration": 108,
    "start_time": "2022-11-08T19:20:21.986Z"
   },
   {
    "duration": 10,
    "start_time": "2022-11-08T19:20:22.096Z"
   },
   {
    "duration": 27,
    "start_time": "2022-11-08T19:20:22.108Z"
   },
   {
    "duration": 16,
    "start_time": "2022-11-08T19:20:22.137Z"
   },
   {
    "duration": 24,
    "start_time": "2022-11-08T19:20:22.156Z"
   },
   {
    "duration": 8,
    "start_time": "2022-11-08T19:20:22.183Z"
   },
   {
    "duration": 42,
    "start_time": "2022-11-08T19:20:22.193Z"
   },
   {
    "duration": 18,
    "start_time": "2022-11-08T19:20:22.238Z"
   },
   {
    "duration": 50,
    "start_time": "2022-11-08T19:20:22.259Z"
   },
   {
    "duration": 10,
    "start_time": "2022-11-08T19:20:22.310Z"
   },
   {
    "duration": 28,
    "start_time": "2022-11-08T19:20:22.321Z"
   },
   {
    "duration": 19,
    "start_time": "2022-11-08T19:20:22.351Z"
   },
   {
    "duration": 398,
    "start_time": "2022-11-08T19:20:22.372Z"
   },
   {
    "duration": 8,
    "start_time": "2022-11-08T19:20:22.772Z"
   },
   {
    "duration": 56,
    "start_time": "2022-11-08T19:20:22.781Z"
   },
   {
    "duration": 58,
    "start_time": "2022-11-08T19:20:22.839Z"
   },
   {
    "duration": 217,
    "start_time": "2022-11-08T19:20:22.899Z"
   },
   {
    "duration": 169,
    "start_time": "2022-11-08T19:20:23.123Z"
   },
   {
    "duration": 177,
    "start_time": "2022-11-08T19:20:23.293Z"
   },
   {
    "duration": 276,
    "start_time": "2022-11-08T19:20:23.474Z"
   },
   {
    "duration": 5,
    "start_time": "2022-11-08T19:20:23.752Z"
   },
   {
    "duration": 86,
    "start_time": "2022-11-08T19:20:23.759Z"
   },
   {
    "duration": 77,
    "start_time": "2022-11-08T19:20:23.848Z"
   },
   {
    "duration": 3,
    "start_time": "2022-11-08T19:20:23.934Z"
   },
   {
    "duration": 7,
    "start_time": "2022-11-08T19:20:23.939Z"
   },
   {
    "duration": 219,
    "start_time": "2022-11-08T19:20:23.948Z"
   },
   {
    "duration": 219,
    "start_time": "2022-11-08T19:20:24.169Z"
   },
   {
    "duration": 34,
    "start_time": "2022-11-08T19:20:24.390Z"
   },
   {
    "duration": 33,
    "start_time": "2022-11-08T19:20:24.426Z"
   },
   {
    "duration": 8,
    "start_time": "2022-11-08T19:20:24.461Z"
   },
   {
    "duration": 217,
    "start_time": "2022-11-08T19:20:24.471Z"
   },
   {
    "duration": 321,
    "start_time": "2022-11-08T19:20:24.692Z"
   },
   {
    "duration": 14,
    "start_time": "2022-11-08T19:20:25.015Z"
   },
   {
    "duration": 592,
    "start_time": "2022-11-08T19:20:25.032Z"
   },
   {
    "duration": 18,
    "start_time": "2022-11-08T19:20:25.632Z"
   },
   {
    "duration": 163,
    "start_time": "2022-11-08T19:20:25.652Z"
   },
   {
    "duration": 170,
    "start_time": "2022-11-08T19:20:25.820Z"
   },
   {
    "duration": 12,
    "start_time": "2022-11-08T19:20:25.992Z"
   },
   {
    "duration": 160,
    "start_time": "2022-11-08T19:20:55.288Z"
   },
   {
    "duration": 675,
    "start_time": "2022-11-08T19:21:27.020Z"
   },
   {
    "duration": 121,
    "start_time": "2022-11-08T19:21:27.697Z"
   },
   {
    "duration": 29,
    "start_time": "2022-11-08T19:21:27.822Z"
   },
   {
    "duration": 5,
    "start_time": "2022-11-08T19:21:27.854Z"
   },
   {
    "duration": 37,
    "start_time": "2022-11-08T19:21:27.861Z"
   },
   {
    "duration": 40,
    "start_time": "2022-11-08T19:21:27.900Z"
   },
   {
    "duration": 33,
    "start_time": "2022-11-08T19:21:27.942Z"
   },
   {
    "duration": 16,
    "start_time": "2022-11-08T19:21:27.977Z"
   },
   {
    "duration": 12,
    "start_time": "2022-11-08T19:21:27.995Z"
   },
   {
    "duration": 76,
    "start_time": "2022-11-08T19:21:28.020Z"
   },
   {
    "duration": 8,
    "start_time": "2022-11-08T19:21:28.098Z"
   },
   {
    "duration": 50,
    "start_time": "2022-11-08T19:21:28.107Z"
   },
   {
    "duration": 14,
    "start_time": "2022-11-08T19:21:28.159Z"
   },
   {
    "duration": 19,
    "start_time": "2022-11-08T19:21:28.175Z"
   },
   {
    "duration": 7,
    "start_time": "2022-11-08T19:21:28.196Z"
   },
   {
    "duration": 24,
    "start_time": "2022-11-08T19:21:28.205Z"
   },
   {
    "duration": 11,
    "start_time": "2022-11-08T19:21:28.236Z"
   },
   {
    "duration": 6,
    "start_time": "2022-11-08T19:21:28.250Z"
   },
   {
    "duration": 5,
    "start_time": "2022-11-08T19:21:28.258Z"
   },
   {
    "duration": 12,
    "start_time": "2022-11-08T19:21:28.264Z"
   },
   {
    "duration": 22,
    "start_time": "2022-11-08T19:21:28.278Z"
   },
   {
    "duration": 440,
    "start_time": "2022-11-08T19:21:28.302Z"
   },
   {
    "duration": 7,
    "start_time": "2022-11-08T19:21:28.745Z"
   },
   {
    "duration": 54,
    "start_time": "2022-11-08T19:21:28.754Z"
   },
   {
    "duration": 63,
    "start_time": "2022-11-08T19:21:28.820Z"
   },
   {
    "duration": 209,
    "start_time": "2022-11-08T19:21:28.884Z"
   },
   {
    "duration": 167,
    "start_time": "2022-11-08T19:21:29.095Z"
   },
   {
    "duration": 201,
    "start_time": "2022-11-08T19:21:29.269Z"
   },
   {
    "duration": 239,
    "start_time": "2022-11-08T19:21:29.472Z"
   },
   {
    "duration": 13,
    "start_time": "2022-11-08T19:21:29.713Z"
   },
   {
    "duration": 76,
    "start_time": "2022-11-08T19:21:29.728Z"
   },
   {
    "duration": 88,
    "start_time": "2022-11-08T19:21:29.806Z"
   },
   {
    "duration": 3,
    "start_time": "2022-11-08T19:21:29.896Z"
   },
   {
    "duration": 16,
    "start_time": "2022-11-08T19:21:29.900Z"
   },
   {
    "duration": 235,
    "start_time": "2022-11-08T19:21:29.917Z"
   },
   {
    "duration": 216,
    "start_time": "2022-11-08T19:21:30.154Z"
   },
   {
    "duration": 20,
    "start_time": "2022-11-08T19:21:30.371Z"
   },
   {
    "duration": 44,
    "start_time": "2022-11-08T19:21:30.392Z"
   },
   {
    "duration": 23,
    "start_time": "2022-11-08T19:21:30.438Z"
   },
   {
    "duration": 241,
    "start_time": "2022-11-08T19:21:30.463Z"
   },
   {
    "duration": 308,
    "start_time": "2022-11-08T19:21:30.706Z"
   },
   {
    "duration": 15,
    "start_time": "2022-11-08T19:21:31.016Z"
   },
   {
    "duration": 622,
    "start_time": "2022-11-08T19:21:31.032Z"
   },
   {
    "duration": 18,
    "start_time": "2022-11-08T19:21:31.656Z"
   },
   {
    "duration": 207,
    "start_time": "2022-11-08T19:21:31.676Z"
   },
   {
    "duration": 203,
    "start_time": "2022-11-08T19:21:31.885Z"
   },
   {
    "duration": 35,
    "start_time": "2022-11-08T19:21:32.090Z"
   },
   {
    "duration": 29,
    "start_time": "2022-11-08T19:22:11.009Z"
   },
   {
    "duration": 19,
    "start_time": "2022-11-08T19:22:19.382Z"
   },
   {
    "duration": 20,
    "start_time": "2022-11-08T19:22:37.535Z"
   },
   {
    "duration": 652,
    "start_time": "2022-11-08T19:23:17.190Z"
   },
   {
    "duration": 165,
    "start_time": "2022-11-08T19:23:40.784Z"
   },
   {
    "duration": 172,
    "start_time": "2022-11-08T19:24:09.010Z"
   },
   {
    "duration": 157,
    "start_time": "2022-11-08T19:24:12.572Z"
   },
   {
    "duration": 177,
    "start_time": "2022-11-08T19:24:29.595Z"
   },
   {
    "duration": 161,
    "start_time": "2022-11-08T19:24:35.591Z"
   },
   {
    "duration": 155,
    "start_time": "2022-11-08T19:24:38.933Z"
   },
   {
    "duration": 145,
    "start_time": "2022-11-08T19:24:45.458Z"
   },
   {
    "duration": 155,
    "start_time": "2022-11-08T19:25:09.616Z"
   },
   {
    "duration": 169,
    "start_time": "2022-11-08T19:25:46.036Z"
   },
   {
    "duration": 248,
    "start_time": "2022-11-08T19:26:23.902Z"
   },
   {
    "duration": 663,
    "start_time": "2022-11-09T11:30:37.332Z"
   },
   {
    "duration": 301,
    "start_time": "2022-11-09T11:30:37.998Z"
   },
   {
    "duration": 29,
    "start_time": "2022-11-09T11:30:38.302Z"
   },
   {
    "duration": 6,
    "start_time": "2022-11-09T11:30:38.334Z"
   },
   {
    "duration": 65,
    "start_time": "2022-11-09T11:30:38.344Z"
   },
   {
    "duration": 9,
    "start_time": "2022-11-09T11:30:38.411Z"
   },
   {
    "duration": 21,
    "start_time": "2022-11-09T11:30:38.422Z"
   },
   {
    "duration": 10,
    "start_time": "2022-11-09T11:30:38.445Z"
   },
   {
    "duration": 41,
    "start_time": "2022-11-09T11:30:38.457Z"
   },
   {
    "duration": 127,
    "start_time": "2022-11-09T11:30:38.500Z"
   },
   {
    "duration": 8,
    "start_time": "2022-11-09T11:30:38.630Z"
   },
   {
    "duration": 22,
    "start_time": "2022-11-09T11:30:38.639Z"
   },
   {
    "duration": 14,
    "start_time": "2022-11-09T11:30:38.663Z"
   },
   {
    "duration": 33,
    "start_time": "2022-11-09T11:30:38.680Z"
   },
   {
    "duration": 6,
    "start_time": "2022-11-09T11:30:38.715Z"
   },
   {
    "duration": 10,
    "start_time": "2022-11-09T11:30:38.723Z"
   },
   {
    "duration": 8,
    "start_time": "2022-11-09T11:30:38.735Z"
   },
   {
    "duration": 21,
    "start_time": "2022-11-09T11:30:38.745Z"
   },
   {
    "duration": 32,
    "start_time": "2022-11-09T11:30:38.767Z"
   },
   {
    "duration": 12,
    "start_time": "2022-11-09T11:30:38.801Z"
   },
   {
    "duration": 27,
    "start_time": "2022-11-09T11:30:38.815Z"
   },
   {
    "duration": 415,
    "start_time": "2022-11-09T11:30:38.844Z"
   },
   {
    "duration": 7,
    "start_time": "2022-11-09T11:30:39.260Z"
   },
   {
    "duration": 46,
    "start_time": "2022-11-09T11:30:39.269Z"
   },
   {
    "duration": 85,
    "start_time": "2022-11-09T11:30:39.316Z"
   },
   {
    "duration": 203,
    "start_time": "2022-11-09T11:30:39.403Z"
   },
   {
    "duration": 172,
    "start_time": "2022-11-09T11:30:39.608Z"
   },
   {
    "duration": 158,
    "start_time": "2022-11-09T11:30:39.782Z"
   },
   {
    "duration": 243,
    "start_time": "2022-11-09T11:30:39.942Z"
   },
   {
    "duration": 10,
    "start_time": "2022-11-09T11:30:40.187Z"
   },
   {
    "duration": 99,
    "start_time": "2022-11-09T11:30:40.199Z"
   },
   {
    "duration": 0,
    "start_time": "2022-11-09T11:30:40.301Z"
   },
   {
    "duration": 0,
    "start_time": "2022-11-09T11:30:40.302Z"
   },
   {
    "duration": 0,
    "start_time": "2022-11-09T11:30:40.303Z"
   },
   {
    "duration": 0,
    "start_time": "2022-11-09T11:30:40.304Z"
   },
   {
    "duration": 0,
    "start_time": "2022-11-09T11:30:40.306Z"
   },
   {
    "duration": 0,
    "start_time": "2022-11-09T11:30:40.307Z"
   },
   {
    "duration": 0,
    "start_time": "2022-11-09T11:30:40.308Z"
   },
   {
    "duration": 0,
    "start_time": "2022-11-09T11:30:40.309Z"
   },
   {
    "duration": 0,
    "start_time": "2022-11-09T11:30:40.311Z"
   },
   {
    "duration": 0,
    "start_time": "2022-11-09T11:30:40.312Z"
   },
   {
    "duration": 0,
    "start_time": "2022-11-09T11:30:40.314Z"
   },
   {
    "duration": 0,
    "start_time": "2022-11-09T11:30:40.317Z"
   },
   {
    "duration": 0,
    "start_time": "2022-11-09T11:30:40.318Z"
   },
   {
    "duration": 0,
    "start_time": "2022-11-09T11:30:40.319Z"
   },
   {
    "duration": 0,
    "start_time": "2022-11-09T11:30:40.320Z"
   },
   {
    "duration": 0,
    "start_time": "2022-11-09T11:30:40.321Z"
   },
   {
    "duration": 0,
    "start_time": "2022-11-09T11:30:40.324Z"
   },
   {
    "duration": 3,
    "start_time": "2022-11-09T11:37:01.604Z"
   },
   {
    "duration": 1204,
    "start_time": "2022-11-09T11:37:17.629Z"
   },
   {
    "duration": 4,
    "start_time": "2022-11-09T11:39:04.136Z"
   },
   {
    "duration": 1368,
    "start_time": "2022-11-09T11:39:10.232Z"
   },
   {
    "duration": 9,
    "start_time": "2022-11-09T11:39:22.072Z"
   },
   {
    "duration": 30,
    "start_time": "2022-11-09T11:39:28.739Z"
   },
   {
    "duration": 7,
    "start_time": "2022-11-09T11:40:07.788Z"
   },
   {
    "duration": 7,
    "start_time": "2022-11-09T11:40:22.658Z"
   },
   {
    "duration": 33,
    "start_time": "2022-11-09T11:40:26.571Z"
   },
   {
    "duration": 104,
    "start_time": "2022-11-09T11:43:15.830Z"
   },
   {
    "duration": 8,
    "start_time": "2022-11-09T11:43:24.527Z"
   },
   {
    "duration": 35,
    "start_time": "2022-11-09T11:43:30.964Z"
   },
   {
    "duration": 97,
    "start_time": "2022-11-09T11:50:05.256Z"
   },
   {
    "duration": 115,
    "start_time": "2022-11-09T11:50:05.911Z"
   },
   {
    "duration": 4,
    "start_time": "2022-11-09T11:50:06.587Z"
   },
   {
    "duration": 5,
    "start_time": "2022-11-09T11:50:06.975Z"
   },
   {
    "duration": 206,
    "start_time": "2022-11-09T11:50:07.875Z"
   },
   {
    "duration": 192,
    "start_time": "2022-11-09T11:50:08.261Z"
   },
   {
    "duration": 27,
    "start_time": "2022-11-09T11:50:09.442Z"
   },
   {
    "duration": 40,
    "start_time": "2022-11-09T11:50:10.670Z"
   },
   {
    "duration": 13,
    "start_time": "2022-11-09T11:50:13.589Z"
   },
   {
    "duration": 308,
    "start_time": "2022-11-09T11:50:13.989Z"
   },
   {
    "duration": 294,
    "start_time": "2022-11-09T11:50:16.556Z"
   },
   {
    "duration": 12,
    "start_time": "2022-11-09T11:53:37.783Z"
   },
   {
    "duration": 594,
    "start_time": "2022-11-09T11:53:38.461Z"
   },
   {
    "duration": 16,
    "start_time": "2022-11-09T11:53:51.429Z"
   },
   {
    "duration": 163,
    "start_time": "2022-11-09T11:53:52.631Z"
   },
   {
    "duration": 167,
    "start_time": "2022-11-09T11:53:55.744Z"
   },
   {
    "duration": 12,
    "start_time": "2022-11-09T11:53:57.431Z"
   },
   {
    "duration": 634,
    "start_time": "2022-11-09T12:08:03.053Z"
   },
   {
    "duration": 103,
    "start_time": "2022-11-09T12:08:03.689Z"
   },
   {
    "duration": 23,
    "start_time": "2022-11-09T12:08:03.794Z"
   },
   {
    "duration": 5,
    "start_time": "2022-11-09T12:08:03.819Z"
   },
   {
    "duration": 50,
    "start_time": "2022-11-09T12:08:03.826Z"
   },
   {
    "duration": 9,
    "start_time": "2022-11-09T12:08:03.897Z"
   },
   {
    "duration": 15,
    "start_time": "2022-11-09T12:08:03.908Z"
   },
   {
    "duration": 9,
    "start_time": "2022-11-09T12:08:03.925Z"
   },
   {
    "duration": 20,
    "start_time": "2022-11-09T12:08:03.935Z"
   },
   {
    "duration": 93,
    "start_time": "2022-11-09T12:08:03.958Z"
   },
   {
    "duration": 8,
    "start_time": "2022-11-09T12:08:04.053Z"
   },
   {
    "duration": 27,
    "start_time": "2022-11-09T12:08:04.063Z"
   },
   {
    "duration": 24,
    "start_time": "2022-11-09T12:08:04.093Z"
   },
   {
    "duration": 27,
    "start_time": "2022-11-09T12:08:04.119Z"
   },
   {
    "duration": 8,
    "start_time": "2022-11-09T12:08:04.148Z"
   },
   {
    "duration": 22,
    "start_time": "2022-11-09T12:08:04.159Z"
   },
   {
    "duration": 45,
    "start_time": "2022-11-09T12:08:04.183Z"
   },
   {
    "duration": 16,
    "start_time": "2022-11-09T12:08:04.230Z"
   },
   {
    "duration": 16,
    "start_time": "2022-11-09T12:08:04.249Z"
   },
   {
    "duration": 31,
    "start_time": "2022-11-09T12:08:04.268Z"
   },
   {
    "duration": 51,
    "start_time": "2022-11-09T12:08:04.301Z"
   },
   {
    "duration": 421,
    "start_time": "2022-11-09T12:08:04.354Z"
   },
   {
    "duration": 6,
    "start_time": "2022-11-09T12:08:04.777Z"
   },
   {
    "duration": 37,
    "start_time": "2022-11-09T12:08:04.784Z"
   },
   {
    "duration": 83,
    "start_time": "2022-11-09T12:08:04.823Z"
   },
   {
    "duration": 195,
    "start_time": "2022-11-09T12:08:04.908Z"
   },
   {
    "duration": 162,
    "start_time": "2022-11-09T12:08:05.106Z"
   },
   {
    "duration": 156,
    "start_time": "2022-11-09T12:08:05.272Z"
   },
   {
    "duration": 231,
    "start_time": "2022-11-09T12:08:05.430Z"
   },
   {
    "duration": 7,
    "start_time": "2022-11-09T12:08:05.663Z"
   },
   {
    "duration": 90,
    "start_time": "2022-11-09T12:08:05.673Z"
   },
   {
    "duration": 84,
    "start_time": "2022-11-09T12:08:05.765Z"
   },
   {
    "duration": 3,
    "start_time": "2022-11-09T12:08:05.851Z"
   },
   {
    "duration": 8,
    "start_time": "2022-11-09T12:08:05.856Z"
   },
   {
    "duration": 234,
    "start_time": "2022-11-09T12:08:05.866Z"
   },
   {
    "duration": 196,
    "start_time": "2022-11-09T12:08:06.102Z"
   },
   {
    "duration": 18,
    "start_time": "2022-11-09T12:08:06.300Z"
   },
   {
    "duration": 22,
    "start_time": "2022-11-09T12:08:06.321Z"
   },
   {
    "duration": 8,
    "start_time": "2022-11-09T12:08:06.345Z"
   },
   {
    "duration": 229,
    "start_time": "2022-11-09T12:08:06.355Z"
   },
   {
    "duration": 308,
    "start_time": "2022-11-09T12:08:06.586Z"
   },
   {
    "duration": 8,
    "start_time": "2022-11-09T12:08:06.897Z"
   },
   {
    "duration": 560,
    "start_time": "2022-11-09T12:08:06.907Z"
   },
   {
    "duration": 14,
    "start_time": "2022-11-09T12:08:07.469Z"
   },
   {
    "duration": 175,
    "start_time": "2022-11-09T12:08:07.498Z"
   },
   {
    "duration": 187,
    "start_time": "2022-11-09T12:08:07.675Z"
   },
   {
    "duration": 12,
    "start_time": "2022-11-09T12:08:07.863Z"
   }
  ],
  "colab": {
   "name": "DA+. Сборный проект 1. Шаблон (1).ipynb",
   "provenance": []
  },
  "kernelspec": {
   "display_name": "Python 3 (ipykernel)",
   "language": "python",
   "name": "python3"
  },
  "language_info": {
   "codemirror_mode": {
    "name": "ipython",
    "version": 3
   },
   "file_extension": ".py",
   "mimetype": "text/x-python",
   "name": "python",
   "nbconvert_exporter": "python",
   "pygments_lexer": "ipython3",
   "version": "3.9.13"
  },
  "toc": {
   "base_numbering": 1,
   "nav_menu": {},
   "number_sections": true,
   "sideBar": true,
   "skip_h1_title": true,
   "title_cell": "Table of Contents",
   "title_sidebar": "Contents",
   "toc_cell": false,
   "toc_position": {
    "height": "calc(100% - 180px)",
    "left": "10px",
    "top": "150px",
    "width": "165px"
   },
   "toc_section_display": true,
   "toc_window_display": true
  }
 },
 "nbformat": 4,
 "nbformat_minor": 1
}
